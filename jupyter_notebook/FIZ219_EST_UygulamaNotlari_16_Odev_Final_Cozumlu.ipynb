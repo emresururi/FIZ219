{
 "cells": [
  {
   "cell_type": "markdown",
   "metadata": {},
   "source": [
    "# FİZ219 - Bilgisayar Programlama I | 12/01/2020\n",
    "# Final Ödevi\n",
    "**Wheatstone Köprüsü**\n",
    "\n",
    "**Son gönderim tarihi: 24 Ocak Pazar, 23:59**"
   ]
  },
  {
   "attachments": {
    "Wheatstonebridge.png": {
     "image/png": "[encoded data removed]"
    }
   },
   "cell_type": "markdown",
   "metadata": {},
   "source": [
    "Elektronik devreler laboratuvarında bize aşağıdaki gibi bir devre verilmiş olsun:\n",
    "\n",
    "![Wheatstonebridge.png](attachment:Wheatstonebridge.png)  \n",
    "Kaynak: [Wikipedia](https://en.wikipedia.org/wiki/Wheatstone_bridge)"
   ]
  },
  {
   "cell_type": "markdown",
   "metadata": {},
   "source": [
    "$R_2$ direnci [_reosta_](https://tr.wikipedia.org/wiki/Reosta) da denilen, değeri ayarlanabilir bir direnç. $R_1$ ve $R_3$ dirençlerini bir kutudan rastgele çekiyoruz, neyse ki onların dirençlerini üzerlerindeki renklere bakıp anlayabiliyoruz. Devremize uygulanan potansiyel farkı ($V_s$) da biliyoruz. $D$ ile $B$ noktalarının arasına bağlı olan bir [galvanometre](https://tr.wikipedia.org/wiki/Galvanometre) (esasen hassas akım ölçerdir; biz ise deneyimizde çok yüksek bir direnç monte edilmiş haliyle, doğrudan hassas potansiyel farkı ölçmekte kullanıyoruz) ile de o iki nokta arasındaki potansiyel farkı ($V_G$) ölçebiliyoruz. Durum böyleyken böyle yani.\n",
    "\n",
    "Bizden istenen, kapalı bir kutu içerisinde verilen $R_x$ direncinin değerini $10^{-5}$ hassasiyetle saptamamız.\n",
    "\n"
   ]
  },
  {
   "cell_type": "markdown",
   "metadata": {},
   "source": [
    "## Hesaplamalara başlamadan önce önemli not\n",
    "Kodunuzda (`clear`, `clc`, vs. tarzı \"sıfırlayıcı\" komutlar kullanarak başlıyorsanız tabii ki onlardan sonra) ilk rastgele hesabı gerçekleştirmeden **evvel** (bir kereliğine) şu satırı yerleştirin:\n",
    "\n",
    "`rand(\"seed\",219)`\n",
    "\n",
    "Bu komut sayesinde sizin kodunuzu bir başkası (\"ben\" 8) çalıştırdığında, sizin bulduğunuz rastgele değerlerin aynısı elde edilebilecektir."
   ]
  },
  {
   "cell_type": "markdown",
   "metadata": {},
   "source": [
    "## Kutudan $R_1$ ve $R_3$'ün rastgele çekimi\n",
    "**Yapılacaklar #1:** `R1` ve `R3` değerlerine $[10,30]\\,\\Omega$ aralığından rastgele tam sayı değerler atayın (kafanızdan değil tabii, bilgisayara _atatın_ 8)."
   ]
  },
  {
   "cell_type": "code",
   "execution_count": 1,
   "metadata": {},
   "outputs": [
    {
     "name": "stdout",
     "output_type": "stream",
     "text": [
      "R1 =  23\n",
      "R3 =  13\n"
     ]
    }
   ],
   "source": [
    "rand(\"seed\",219)\n",
    "R1 = randi([10,30]) # Ohm\n",
    "R3 = randi([10,30]) # Ohm"
   ]
  },
  {
   "cell_type": "markdown",
   "metadata": {},
   "source": [
    "## Bilmediğimiz $R_x$\n",
    "**Yapılacaklar #2:** Bulmaya çalıştığımız `Rx` değerine de yine \n",
    "aralığında rastgele bir sayı atatın (ama buna bakmayın)."
   ]
  },
  {
   "cell_type": "code",
   "execution_count": 2,
   "metadata": {},
   "outputs": [
    {
     "name": "stdout",
     "output_type": "stream",
     "text": [
      "Rx =  14\r\n"
     ]
    }
   ],
   "source": [
    "Rx = randi([10,30]) # Ohm"
   ]
  },
  {
   "cell_type": "markdown",
   "metadata": {},
   "source": [
    "## $R_2$ en son kaçta kaldıysa...\n",
    "**Yapılacaklar #3:** Sizden önce reostayı kullananlar reostanın değerini $[0,50]\\,\\Omega$ aralığında bir değerde bırakmışlar, siz de bu `R2` değerini bu şekilde tanımlayın."
   ]
  },
  {
   "cell_type": "code",
   "execution_count": 3,
   "metadata": {},
   "outputs": [
    {
     "name": "stdout",
     "output_type": "stream",
     "text": [
      "R2 =  29\r\n"
     ]
    }
   ],
   "source": [
    "R2 = randi([0,50]) # Ohm"
   ]
  },
  {
   "cell_type": "markdown",
   "metadata": {},
   "source": [
    "## $V_s$'yi de ayarlayalım\n",
    "**Yapılacaklar #4:** Devreye uygulanan potansiyel fark olan $V_s$ değerini de 30 V'a ayarlayın."
   ]
  },
  {
   "cell_type": "code",
   "execution_count": 4,
   "metadata": {},
   "outputs": [
    {
     "name": "stdout",
     "output_type": "stream",
     "text": [
      "Vs =  30\r\n"
     ]
    }
   ],
   "source": [
    "Vs = 30 # Volt"
   ]
  },
  {
   "attachments": {
    "Wheatstone.png": {
     "image/png": "[encoded data removed]"
    }
   },
   "cell_type": "markdown",
   "metadata": {},
   "source": [
    "## Önce Teori...\n",
    "Devremizi, kabloları uzatıp/kısaltarak yeniden düzenlemek suretiyle elektriksel anlamda hiçbir şey değiştirmeden şu şekile getirebiliriz (unutmayın ki, aradaki galvanometre D ile B noktaları arasındaki potansiyel farkı ölçmek için kullandığımız bir alet, ideal durumda devreye bir etkisi olamaz):\n",
    "\n",
    "\n",
    "![Wheatstone.png](attachment:Wheatstone.png)"
   ]
  },
  {
   "cell_type": "markdown",
   "metadata": {},
   "source": [
    "**ADC** ile **ABC** kolları birbirine paralel olduklarından dolayı, $V_{ADC}=V_{ABC}$, onlar da $V_s$'ye eşit olur (üç kolun da uçları arasındaki potansiyel farkın aslında $V_{AC}$ oluşundan):\n",
    "\n",
    "$$V_s=V_{AC}=V_{ADC}=V_{ABC}$$\n",
    "\n",
    "**ADC** kolu üzerinden geçen akımı $I_1$, **ABC** kolu üzerinden geçen akımı da $I_3$ ile gösterelim: $R_1$ ile $R_2$ seri bağlandıklarından $R_1$'den geçen $I_1$ akımı $R_2$'den de geçer; benzer şekilde, $R_3$'ten geçen $I_3$ akımı, $R_x$'den de geçer.\n",
    "\n",
    "D ile C noktaları arasındaki potansiyel fark, $R_2$ ile üzerinden geçen akımın ($I_1$) çarpımından bulunur:\n",
    "\n",
    "$$V_{DC} = I_1 R_2$$\n",
    "\n",
    "$V_{ADC}$ kolunun uçları arasındaki potansiyel farkın $V_s$'ye eşit olduğunu çıkarmıştık, aynı potansiyel farkı o koldaki toplam (eşdeğer) direnç ($R_1 + R_2$) ile koldan geçen akımı ($I_1$) çarparak da bulabiliriz:\n",
    "\n",
    "$$V_s = I_1 (R_1 + R_2)$$\n",
    "\n",
    "İki denklemi birbirine bölersek:\n",
    "\n",
    "$$\\require{cancel} \\frac{V_{DC}}{V_{s}} = \\frac{\\cancel{I_1} R_2}{\\cancel{I_1}(R_1+R_2)}\\rightarrow\\boxed{V_{DC}=\\frac{R_2}{R_1+R_2}V_s}$$\n",
    "\n",
    "Benzer işlemleri **ABC** kolu üzerinde de yaparsak:\n",
    "\n",
    "$$V_{BC} = I_3 R_x$$\n",
    "\n",
    "$$V_s = I_3 (R_3 + R_x)$$\n",
    "\n",
    "bunları da birbirine bölünce:\n",
    "\n",
    "$$\\frac{V_{BC}}{V_{s}} = \\frac{\\cancel{I_3} R_x}{\\cancel{I_3}(R_3+R_x)}\\rightarrow\\boxed{V_{BC}=\\frac{R_x}{R_3+R_x}V_s}$$\n",
    "\n"
   ]
  },
  {
   "cell_type": "markdown",
   "metadata": {},
   "source": [
    "Galvanometrenin ölçtüğü $V_G=V_{DB}$ potansiyel farkı doğal olarak $V_{DC}$ ile $V_{BC}$ olur:\n",
    "\n",
    "$$V_{G} = V_{DC} - V_{BC}$$\n",
    "\n",
    "eşitliklerden yerlerine koyarsak:\n",
    "\n",
    "$$V_{G} =\\left(\\frac{R_2}{R_1+R_2} - \\frac{R_x}{R_3+R_x}\\right)V_s$$\n",
    "\n",
    "olarak çıkar."
   ]
  },
  {
   "cell_type": "markdown",
   "metadata": {},
   "source": [
    "## Teoriden fonksiyona\n",
    "**Yapılacaklar #5:** Parametre olarak R1, R2, R3, Rx, Vs değerlerini kabul edip, yukarıdaki şekilde işleyip VG döndüren bir `VG(R1,R2,R3,Rx,Vs)` fonksiyonu yazınız.\n",
    "\n",
    "Örneğin:\n",
    "`VG(23,10,13,20,19) ==> -5.7576` vermeli."
   ]
  },
  {
   "cell_type": "code",
   "execution_count": 5,
   "metadata": {},
   "outputs": [
    {
     "name": "stdout",
     "output_type": "stream",
     "text": [
      "ans = -5.7576\r\n"
     ]
    }
   ],
   "source": [
    "function f = VG(R1,R2,R3,Rx,Vs)\n",
    "   f = ((R2 ./ (R1 + R2)) - (Rx / (Rx + R3))) * Vs;\n",
    "endfunction\n",
    "\n",
    "VG(23,10,13,20,19)"
   ]
  },
  {
   "cell_type": "markdown",
   "metadata": {},
   "source": [
    "## Deneye başlıyoruz\n",
    "Elimizde oynayacağımız tek şey $R_2$'nin değeri, ölçebileceğimiz tek şey de $V_G$ olduğundan, biz de biriyle oynayıp, diğerini okuyalım. \n",
    "\n",
    "Burada unutmamamız gereken şey, deneyde bize değerini tespit etmemiz için verilen $R_x$ direncinin biz bilmesek de bir değeri olmasıdır. Böyle yazınca bariz görünüyor ama aslında kodumuzda gömülü bir $R_x$ değeri olması da aynı anlama geliyor (yani kodumuzda tanımlı olması, onu biliyor olduğumuz anlamına gelmemekte). Dahası, deneyde doğrudan $R_x$'i -yüksek hassasiyet ile- ölçemiyoruz ama ona bağlı bir fonksiyon değeri olan $V_G$ potansiyel farkını ölçebiliyoruz.\n",
    "\n",
    "Bu yaptığımız kısmı deneyde yapıyor olduğumuzu varsayacağız:"
   ]
  },
  {
   "cell_type": "markdown",
   "metadata": {},
   "source": [
    "**Yapılacaklar #6:** Reosta değeri $R_2$ ile oynayarak, galvanometrede okuduğumuz $V_G$ değerlerine bakarak, <u>**sistematik**</u> bir şekilde $V_G$'yi sıfır (ya da *neredeyse sıfır*) yapan $R_2$ değerini bulun."
   ]
  },
  {
   "cell_type": "markdown",
   "metadata": {},
   "source": [
    "Bu aşamaya ulaştığımızda (yani $V_G = V_{DB} = 0$ olduğunda), $V_D$ ile $V_B$ aynı değerde demektir. $R_1$ ile $R_3$ yukarıdan $V_A$ potansiyelinde, aşağıdan $V_D = V_B$ potansiyelinde olduklarından, iki uçları arasındaki potansiyel fark eşit hale gelmiş olur, yani:\n",
    "\n",
    "$$V_{AD} = I_1 R_1 = I_3 R_3 = V_{AB}$$\n",
    "\n",
    "Buradan $I_3$'ü çekersek:\n",
    "\n",
    "$$I_3 = \\frac{R_1}{R_3} I_1$$\n",
    "\n",
    "bulunur.\n",
    "\n",
    "$V_D$ ile $V_B$ aynı değerde olduğundan, yine aynı mantıkla, $V_{DC} = V_{BC}$, yani:\n",
    "\n",
    "$$V_{DC} = I_1 R_2 = I_3 R_x = V_{BC}$$\n",
    "\n",
    "($I_3$'ü yukarıda bulduğumuzdan, bu denklemdeki tek bilinmeyen $R_x$ kaldı)\n",
    "\n",
    "$R_x$', yalnız bırakırsak:\n",
    "\n",
    "$$R_x = \\frac{I_1}{I_3}R_2$$ \n",
    "\n",
    "olarak hesaplanmış olur."
   ]
  },
  {
   "cell_type": "code",
   "execution_count": 6,
   "metadata": {
    "scrolled": false
   },
   "outputs": [
    {
     "data": {
      "image/png": "[encoded data removed]",
      "text/plain": [
       "<IPython.core.display.Image object>"
      ]
     },
     "metadata": {},
     "output_type": "display_data"
    }
   ],
   "source": [
    "R2 = linspace(10,30,300);\n",
    "VGler = VG(R1,R2,R3,Rx,Vs);\n",
    "\n",
    "plot(R2,VGler,\"-\",R2,zeros(numel(R2)),\"k-\")\n",
    "grid on\n",
    "xticks(10:30)\n",
    "# Grafikten, aradigimiz degerin [24,25] araliginda oldugunu goruyoruz."
   ]
  },
  {
   "cell_type": "code",
   "execution_count": 7,
   "metadata": {},
   "outputs": [
    {
     "name": "stdout",
     "output_type": "stream",
     "text": [
      " 1: 24.000000    -0.23641 | 24.500000    -0.08187 | 25.000000     0.06944\n",
      " 2: 24.500000    -0.08187 | 24.750000    -0.00582 | 25.000000     0.06944\n",
      " 3: 24.750000    -0.00582 | 24.875000     0.03191 | 25.000000     0.06944\n",
      " 4: 24.750000    -0.00582 | 24.812500     0.01307 | 24.875000     0.03191\n",
      " 5: 24.750000    -0.00582 | 24.781250     0.00363 | 24.812500     0.01307\n",
      " 6: 24.750000    -0.00582 | 24.765625    -0.00109 | 24.781250     0.00363\n",
      " 7: 24.765625    -0.00109 | 24.773438     0.00127 | 24.781250     0.00363\n",
      " 8: 24.765625    -0.00109 | 24.769531     0.00009 | 24.773438     0.00127\n",
      " 9: 24.765625    -0.00109 | 24.767578    -0.00050 | 24.769531     0.00009\n",
      "10: 24.767578    -0.00050 | 24.768555    -0.00020 | 24.769531     0.00009\n",
      "11: 24.768555    -0.00020 | 24.769043    -0.00006 | 24.769531     0.00009\n",
      "12: 24.769043    -0.00006 | 24.769287     0.00002 | 24.769531     0.00009\n",
      "13: 24.769043    -0.00006 | 24.769165    -0.00002 | 24.769287     0.00002\n",
      "14: 24.769165    -0.00002 | 24.769226    -0.00000 | 24.769287     0.00002\n",
      "15: 24.769226    -0.00000 | 24.769257     0.00001 | 24.769287     0.00002\n",
      "16: 24.769226    -0.00000 | 24.769241     0.00000 | 24.769257     0.00001\n",
      "17: 24.769226    -0.00000 | 24.769234     0.00000 | 24.769241     0.00000\n",
      "18: 24.769226    -0.00000 | 24.769230    -0.00000 | 24.769234     0.00000\n",
      "19: 24.769230    -0.00000 | 24.769232     0.00000 | 24.769234     0.00000\n",
      "20: 24.769230    -0.00000 | 24.769231     0.00000 | 24.769232     0.00000\n",
      "R2 =  24.769\n",
      "ans = -0.00000012200\n"
     ]
    }
   ],
   "source": [
    "istenilen_hassasiyet = 1E-6;\n",
    "adim = 1;\n",
    "a = 24;\n",
    "b = 25;\n",
    "f_a = VG(R1,a,R3,Rx,Vs);\n",
    "f_b = VG(R1,b,R3,Rx,Vs);\n",
    "\n",
    "while(abs(a-b)>istenilen_hassasiyet)\n",
    "    % arama araliginin boyu |a-b|, istenilen hassasiyetten\n",
    "    % buyuk oldugu surece, yarilamaya devam ediyoruz\n",
    "    c = (a+b)/2;\n",
    "    f_c = VG(R1,c,R3,Rx,Vs);\n",
    "    printf(\"%2d: %9.6f  %10.5f | %9.6f  %10.5f | %9.6f  %10.5f\\n\",adim,a,f_a,c,f_c,b,f_b);\n",
    "    if(sign(f_c) == sign(f_a))\n",
    "        % c ile a'nın yükseklikleri aynı işaretli, o zaman \n",
    "        % arada kök olmasının garantisi yok, arayışa c ile b \n",
    "        % arasında devam edelim\n",
    "        a = c;\n",
    "        f_a = f_c;\n",
    "    else\n",
    "        % c ile b'nin yükseklikleri aynı işaretli, o zaman \n",
    "        % arada kök olmasının garantisi yok, arayışa a ile c \n",
    "        % arasında devam edelim\n",
    "        b = c;\n",
    "        f_b = f_c;\n",
    "    endif\n",
    "    adim = adim + 1;\n",
    "endwhile\n",
    "kok = (a+b)/2;\n",
    "R2 = kok # Ohm\n",
    "VG(R1,R2,R3,Rx,Vs)"
   ]
  },
  {
   "cell_type": "markdown",
   "metadata": {},
   "source": [
    "$V_G$ potansiyel farkını 0 yapan kritik $R_2 = 24.769\\,\\Omega$ değerini bulduğumuza göre, sorumuzu üç paralel kollu devreye indirgemiş olduk. Bu durumda $I_1$ hesaplayabiliriz:\n",
    "\n",
    "$$I_1 = \\frac{V_s}{R_1 + R_2}$$"
   ]
  },
  {
   "cell_type": "code",
   "execution_count": 8,
   "metadata": {},
   "outputs": [
    {
     "name": "stdout",
     "output_type": "stream",
     "text": [
      "I1 =  0.62802\r\n"
     ]
    }
   ],
   "source": [
    "I1 = Vs/(R1+R2) # Amper"
   ]
  },
  {
   "cell_type": "markdown",
   "metadata": {},
   "source": [
    "$I_1$'i artık bildiğimize göre, $I_3$'ü de hesaplayabiliriz:\n",
    "\n",
    "$$I_3 = \\frac{R_1}{R_3} I_1$$"
   ]
  },
  {
   "cell_type": "code",
   "execution_count": 9,
   "metadata": {},
   "outputs": [
    {
     "name": "stdout",
     "output_type": "stream",
     "text": [
      "I3 =  1.1111\r\n"
     ]
    }
   ],
   "source": [
    "I3 = R1/R3*I1 # Amper"
   ]
  },
  {
   "cell_type": "markdown",
   "metadata": {},
   "source": [
    "**Yapılacaklar #7:** `I3` değerini bulduktan sonra, `Rx` değerini yukarıdaki denklemden hesaplayın, en başta rastgele olarak hesapladığınız değerle kıyaslayın. (Aradaki fark $10^{-5}\\,\\Omega$'dan küçük olmalı)"
   ]
  },
  {
   "cell_type": "code",
   "execution_count": 10,
   "metadata": {},
   "outputs": [
    {
     "name": "stdout",
     "output_type": "stream",
     "text": [
      "Rx_hesaplanan =  14.000\r\n"
     ]
    }
   ],
   "source": [
    "Rx_hesaplanan = I1/I3*R2 # Ohm"
   ]
  },
  {
   "cell_type": "markdown",
   "metadata": {},
   "source": [
    "**Yapılacaklar #8:** `R2`nin değerini 10'dan 30'a kadar değiştirerek elde ettiğiniz `VG` değerlerinin grafiğini çizdirin."
   ]
  },
  {
   "cell_type": "code",
   "execution_count": 11,
   "metadata": {},
   "outputs": [
    {
     "data": {
      "image/png": "[encoded data removed]",
      "text/plain": [
       "<IPython.core.display.Image object>"
      ]
     },
     "metadata": {},
     "output_type": "display_data"
    }
   ],
   "source": [
    "R2 = linspace(10,30,300);\n",
    "VGler = VG(R1,R2,R3,Rx,Vs);\n",
    "\n",
    "plot(R2,VGler,\"-\",R2,zeros(numel(R2)),\"k-\")\n",
    "grid on\n",
    "xticks(10:30)\n",
    "xlabel(\"R_2 (Ohm)\")\n",
    "ylabel(\"V_G (V)\")"
   ]
  },
  {
   "cell_type": "markdown",
   "metadata": {},
   "source": [
    "**Bonus:** $R_1$'in de reosta olduğunu varsayıp, $[10,50]\\,\\Omega$ aralığında farklı `R1` ve `R2` değerlerine karşılık gelen üç boyutlu `VG` grafiğini çizdirin."
   ]
  },
  {
   "cell_type": "code",
   "execution_count": 12,
   "metadata": {
    "scrolled": false
   },
   "outputs": [
    {
     "data": {
      "image/png": "[encoded data removed]",
      "text/plain": [
       "<IPython.core.display.Image object>"
      ]
     },
     "metadata": {},
     "output_type": "display_data"
    }
   ],
   "source": [
    "R1x = linspace(10,50,100);\n",
    "R2y = linspace(10,50,100);\n",
    "[xx,yy] = meshgrid(R1x,R2y);\n",
    "VGz = VG(xx,yy,R3,Rx,Vs);\n",
    "mesh(R1x,R2y,VGz)\n",
    "xlabel (\"R_1\");\n",
    "ylabel (\"R_2\");\n",
    "zlabel (\"V_G\");"
   ]
  },
  {
   "cell_type": "markdown",
   "metadata": {},
   "source": [
    "# Ödev Kuralları\n",
    "* Bu sizin final ödevinizdir.\n",
    "* Her gruptan sadece 1 ödev gönderilecektir, onu da grup sözcüsü gönderecektir.\n",
    "* Ödev, dersin HUZEM sayfasından gönderilecektir, lütfen e-posta ile göndermeyin.\n",
    "* Ödevlerinizi yaparken tabii ki internetten ve diğer indirekt/asenkron/her ne deniyorsa kaynaktan faydalanabilirsiniz ama grup üyeleriniz dışında ödev konusunda dışarıdan birilerine danışmanız yasaktır. Ayrıca sizin Google'da arama ve kopyalayıp/yapıştırma yeteneklerinizi değil, program yazabilme yeteneklerinizi sınadığım gerçeğini de sakın aklınızdan çıkarmayın. Faydalandığınız kaynakları mutlaka belirtin (kodunuzun sonunda yorum olarak belirtebilirsiniz). Aksinin yapıldığı saptandığı/düşünüldüğü takdirde size uyarı gönderilmeden, soruşturma açtırılacaktır.\n",
    "* Ödev için birden fazla dosya kullanılırsa, zip'lenerek tek dosya olarak gönderilecektir. Bu durumda ödev dosyalarının adı `grupadi_finalodevi_1.m`, `grupadi_finalodevi_2.m`, ... şeklinde olacak, zip dosyasının adı ise `FIZ219_FinalOdevi_GrupAdi.zip` biçiminde olacaktır.\n",
    "* Lütfen ödev kodlarınızın başına grubunuzun adını ve -hiçbir katkıda bulunmamış/ulaşılamamış olsa da- grup üyelerinin adlarını yorum satırı olarak yazın.\n",
    "* Ödevlerin son gönderim tarihi 24 Ocak Pazar gecesi (24/01/2021 23:59) olup, gönderim saatinden biraz (~ birkaç saat) sonrasında da gönderim mümkün olsa da, geç ödevlerden puan kırılacaktır. Bu süre de geçince ödev kabul edilmeyecektir.\n",
    "* Son gönderim tarihi geçtikten sonra ödevlerinizin değerlendirilmesi üç aşamadan oluşacaktır:\n",
    "  * Gönderilen ödevlerinizin notlandırılması\n",
    "  * Grup üyelerinin diğer grup üyelerinin katkılarını değerlendirmesi\n",
    "  * Sözlü sınav\n",
    "* Ödevinizi bütün grup elemanlarınızla birlikte, topluca yapın. Hem kapsamlı bir ödevle karşı karşıyasınız, hem de sonrasında değerlendirme formunda takım çalışması konusunda da bilgi istenecektir. Herkesin kendi başına diğerlerinden bağımsız bir kod yazıp, kodlardan birinin / en iyi çalışanın seçilip gönderilmesi yeğlenen bir durum değildir. Öğrenin ve öğretin."
   ]
  }
 ],
 "metadata": {
  "kernelspec": {
   "display_name": "Octave",
   "language": "octave",
   "name": "octave"
  },
  "language_info": {
   "file_extension": ".m",
   "help_links": [
    {
     "text": "GNU Octave",
     "url": "https://www.gnu.org/software/octave/support.html"
    },
    {
     "text": "Octave Kernel",
     "url": "https://github.com/Calysto/octave_kernel"
    },
    {
     "text": "MetaKernel Magics",
     "url": "https://metakernel.readthedocs.io/en/latest/source/README.html"
    }
   ],
   "mimetype": "text/x-octave",
   "name": "octave",
   "version": "5.2.0"
  }
 },
 "nbformat": 4,
 "nbformat_minor": 4
}
