{
 "cells": [
  {
   "cell_type": "markdown",
   "metadata": {},
   "source": [
    "# Uygulama Notları: 15\n",
    "## FİZ219 - Bilgisayar Programlama I | 10/09/2020\n",
    "\n",
    "* Bütünleme Sınavı Soru ve Çözümleri\n",
    "\n",
    "Emre S. Tasci <emre.tasci@hacettepe.edu.tr>\n"
   ]
  },
  {
   "cell_type": "markdown",
   "metadata": {},
   "source": [
    "**1\\. Soru**\n",
    "\n",
    "Belli bir yükseklikten (referans: 0 m) serbest düşüşle bırakılan bir cismin zaman – yükseklik verileri aşağıdaki tablodaki gibi ölçülmüştür.\n",
    "\n",
    "\n",
    "|   Zaman(s)\t| Yükseklik (m) |\n",
    "|---\t|---\t|\n",
    "|0| 0|\n",
    "|0.5|   -1.312|\n",
    "|1| -4.957|\n",
    "|1.5|   -11.834|\n",
    "|2| -16.382|\n",
    "|2.5|   -26.723|\n",
    "|3| -43.17|\n",
    "|3.5|   -48.251|\n",
    "|4| -64.409|\n",
    "|4.5|   -80.289|\n",
    "|5| -112.224|"
   ]
  },
  {
   "cell_type": "code",
   "execution_count": 1,
   "metadata": {},
   "outputs": [
    {
     "name": "stdout",
     "output_type": "stream",
     "text": [
      "     0.00000     0.00000\r\n",
      "     0.50000    -1.31200\r\n",
      "     1.00000    -4.95700\r\n",
      "     1.50000   -11.83400\r\n",
      "     2.00000   -16.38200\r\n",
      "     2.50000   -26.72300\r\n",
      "     3.00000   -43.17000\r\n",
      "     3.50000   -48.25100\r\n",
      "     4.00000   -64.40900\r\n",
      "     4.50000   -80.28900\r\n",
      "     5.00000  -112.22400\r\n"
     ]
    }
   ],
   "source": [
    "clear;\n",
    "t = linspace(0,5,11);\n",
    "y = [0.000, -1.312, -4.957, -11.834, -16.382, -26.723,...\n",
    "-43.170, -48.251, -64.409, -80.289, -112.224];\n",
    "disp([t',y'])"
   ]
  },
  {
   "cell_type": "markdown",
   "metadata": {},
   "source": [
    "a) Eldeki veri ($y$) ile yerçekimi ivmesinin bilindik değerini ($g=9.81\\,m/s^2$) kullanarak kurduğunuz modelden bulduğunuz teorik değerler ($y'$) arasındaki hatanın büyüklüğünü hesaplayın $\\left(e_r = \\sqrt{\\sum_{i=1}^{n}{\\left(y_i-y’_{i}\\right)^2}}\\right)$."
   ]
  },
  {
   "cell_type": "code",
   "execution_count": 2,
   "metadata": {},
   "outputs": [
    {
     "name": "stdout",
     "output_type": "stream",
     "text": [
      "er =  28.917\r\n"
     ]
    }
   ],
   "source": [
    "g = 9.81; # m/s^2\n",
    "\n",
    "yp = -0.5*g*t.^2;\n",
    "\n",
    "y_m_yp = y - yp;\n",
    "y_m_yp2 = y_m_yp.^2;\n",
    "y_m_yp2_s = sum(y_m_yp2);\n",
    "er = sqrt(y_m_yp2_s)"
   ]
  },
  {
   "cell_type": "markdown",
   "metadata": {},
   "source": [
    "b) Fizikten, aralarındaki ilişkinin $y(t) = -\\frac{1}{2}\\,g\\,t^2$ denklemi ile verildiğini bildiğimize göre, tablodaki deney verilerini kullanarak, verilere en uygun olacak şekilde deneysel yerçekimi ivmesinin büyüklüğünü hesaplayın."
   ]
  },
  {
   "cell_type": "markdown",
   "metadata": {},
   "source": [
    "**Çözüm:** Hatanın küçük çıkması için, farkların karelerinin küçük olması gerekmektedir. Aradığımız, verilere en uygun yerçekimi ivmesine $a$ diyelim. Bu durumda onu kullanarak hesaplayacağımız $y'$ değerleri:\n",
    "$$y' = -\\frac{1}{2}\\,a\\,t^2$$\n",
    "formülünden hesaplanacaktır.\n",
    "\n",
    "Her bir veriden gelecek hataya $s_i$ dersek:\n",
    "\n",
    "$$s_i = (y_i - y'_i)^2$$\n",
    "\n",
    "ve toplam hata da bu hataların toplamının bir fonksiyonu olacaktır:\n",
    "\n",
    "$$e_r \\sim \\sum_{i=1}^{n}{s_i}$$\n",
    "\n",
    "(bir şeyin değeri ne kadar küçük olursa, kare kökü de o kadar küçük olacağından: $a\\lt b\\rightarrow \\sqrt{a}\\lt \\sqrt{b}\\;(a,b\\ge 0)$)\n",
    "\n",
    "O halde yapmaya çalıştığımız şey, yukarıdaki toplamı minimize eden $a$ değerini bulmak (bu konunun detayları için bkz. [\"En küçük kareler yöntemi\"ni işlediğimiz dersimiz](https://emresururi.github.io/FIZ219/FIZ219_EST_UygulamaNotlari_05_En_kucuk_kareler.html)).\n",
    "\n",
    "Minimize etmek istediğimiz fonksiyon:\n",
    "$$S=\\sum_{i=1}^{n}{s_i} = \\sum_{i=1}^{n}{(y_i - y'_i)^2}=\\sum_{i=1}^{n}{\\left[y_i - \\left(-\\frac{1}{2}\\,a\\,t_i^2\\right)\\right]^2}$$\n",
    "\n",
    "Bunu minimize eden optimal $a$ değerini bulmak için $a$'ya göre türevini alıp, sıfıra eşitleriz:\n",
    "$$\\frac{d\\, s_i}{d\\, a} = 2\\left(y_i + \\frac{1}{2}a t_i^2\\right)\\left(\\frac{1}{2}t_i^2\\right) =  y_i t_i^2 + \\frac{1}{2}at_i^4$$"
   ]
  },
  {
   "cell_type": "markdown",
   "metadata": {},
   "source": [
    "$$\\frac{d\\, S}{d\\, a}=\\sum_{i=1}^{n}{\\frac{d\\, s_i}{d\\, a}}=0$$\n",
    "$$\\sum_{i=1}^{n}{\\left(y_i t_i^2 + \\frac{1}{2}at_i^4\\right)} = \\sum_{i=1}^{n}{y_i t_i^2} + \\sum_{i=1}^{n}{\\frac{1}{2}at_i^4} =\\sum_{i=1}^{n}{y_i t_i^2} + \\frac{1}{2}a \\sum_{i=1}^{n}{t_i^4} = 0$$"
   ]
  },
  {
   "cell_type": "markdown",
   "metadata": {},
   "source": [
    "Buradan da $a$ değerini çekersek:\n",
    "\n",
    "$$a = -2\\frac{\\sum_{i=1}^{n}{y_i t_i^2}}{\\sum_{i=1}^{n}{t_i^4}}$$\n",
    "\n",
    "olarak bulunur.\n",
    "\n",
    "Pay ve paydanın değerlerini hesaplayalım:"
   ]
  },
  {
   "cell_type": "code",
   "execution_count": 3,
   "metadata": {},
   "outputs": [
    {
     "name": "stdout",
     "output_type": "stream",
     "text": [
      "a =  8.4709\r\n"
     ]
    }
   ],
   "source": [
    "pay = sum(y.*(t.^2));\n",
    "payda = sum(t.^4);\n",
    "\n",
    "a = -2 * pay / payda  # m/s^2"
   ]
  },
  {
   "cell_type": "markdown",
   "metadata": {},
   "source": [
    "c) Hesapladığınız bu yerçekimi ivmesini kullanarak verileri ve modelin grafiğini birlikte çizdirin."
   ]
  },
  {
   "cell_type": "code",
   "execution_count": 4,
   "metadata": {},
   "outputs": [
    {
     "data": {
      "image/png": "[encoded data removed]",
      "text/plain": [
       "<IPython.core.display.Image object>"
      ]
     },
     "metadata": {},
     "output_type": "display_data"
    }
   ],
   "source": [
    "yp = -0.5*a*t.^2;\n",
    "plot(t,y,\"*r\",t,yp,\"-b\");"
   ]
  },
  {
   "cell_type": "markdown",
   "metadata": {},
   "source": [
    "d) Deney - model arasındaki hata hesabını bu sefer veri değerleri ile (b) şıkkında hesapladığınız deneysel yerçekimi ivmesini kullanarak yapın. (yani (a) şıkkında yaptığınızı bu sefer $g=9.81\\,m/s^2$ değil de, sizin (b)’de bulduğunuz değeri ele alarak yapın)."
   ]
  },
  {
   "cell_type": "code",
   "execution_count": 5,
   "metadata": {},
   "outputs": [
    {
     "name": "stdout",
     "output_type": "stream",
     "text": [
      "er =  11.245\r\n"
     ]
    }
   ],
   "source": [
    "yp = -0.5*a*t.^2;\n",
    "\n",
    "y_m_yp = y - yp;\n",
    "y_m_yp2 = y_m_yp.^2;\n",
    "y_m_yp2_s = sum(y_m_yp2);\n",
    "er = sqrt(y_m_yp2_s)"
   ]
  },
  {
   "cell_type": "markdown",
   "metadata": {},
   "source": [
    "**2. Soru**\n",
    "\n",
    "“Fedai” ismindeki arkadaşınıza şaka yapmak maksadı ile, bilgisayarının şifresini adındaki\n",
    "harflerin sırasını karıştırarak, oluşturuyorsunuz. Fakat sonrasında siz de şifreyi unuttuğunuzdan,\n",
    "oturup kırmak da size kalıyor. Her harfin {‘f’,‘e’,‘d’,‘a’,‘i’} sadece 1 kere kullanıldığını ve şifrenin\n",
    "5 harfli olduğunu hatırlıyorsunuz. Bu 5 harfi kullanarak üretilebilecek bütün kombinasyonları\n",
    "oluşturan bir program yazın. (Bonus: Bu kombinasyonların hepsi bir dizide saklansın)"
   ]
  },
  {
   "cell_type": "markdown",
   "metadata": {},
   "source": [
    "**Çözüm:** Burada for döngülerinden ve filtrelemelerden faydalanacağız. Öncelikle elimizdeki 5 harfi alıp bir torbaya (diziye) dolduralım, bu torbaya `dizi` adını verelim.\n",
    "\n",
    "Aramızın harfler yerine sayılarla daha iyi olduğundan, ilk harf (\"f\") 1 indisli olan harf olsun, ikinci harf (\"e\") 2 indisli olan harf olsun, vs.. \n",
    "\n",
    "İlk kelimemizi oluşturalım: ilk harfi için bütün indisleri kullanabiliriz ama bu harf için bir indisi seçtiğimizde, o indise karşılık gelen harfi diğer indislerde kullanamayız, o nedenle onu kullanılabilen indisler listesinden çıkarmamız gerekir. \n",
    "\n",
    "Örneğin, kelimeye başladığımızda kullanabildiğimiz indisler: [1,2,3,4,5] (1:f, 2:e, 3:d, ...). Diyelim ki ilk harf olarak \"d\"yi, ya da bir diğer deyişle indisi 3 olan elemanı seçtik. O zaman ikinci harf için kullanabildiğimiz indisler [1,2,4,5] olur. Buradan da \"i\"yi (yani indisi 5 olan elemanı) alıp kullanalım (kelimemiz \"di...\" şeklinde şu anda) -- eldeki kullanılabilen indisler listesi bir elemanını (5) daha kaybedip [1,2,4] kaldı. Bu şekilde, her seferinde bulunduğumuz $n.$ harf için kullanılabilen indislerden bir tanesini alıp, sonraki harflerde o indis tekrar seçilemesin diye kullanılabilir indisler listesinden çıkartıyoruz. Bunu 4 kere yapınca, kullanılabilir indislerde doğal olarak sadece tek bir indis kalıyor ki, o da 5. harfe ait olan indis oluyor. Böylelikle 5 harfli kelimemizi türetip, oyuna bir daha baştan başlıyoruz (baştan başladığımızda da kullanılabilir indislerimizi [1,2,3,4,5] olarak tekrardan ilk haline getiriyoruz.\n",
    "\n",
    "Bu indis seçme işini rastlantısal yaparsak, aynı kelimeyi birden fazla üretebiliriz ki bu da istediğimiz bir şey değil. onun yerine döngülerden faydalanarak sistematik olarak üreteceğiz. Bu noktada, bilgilerinizi tazelemek maksadıyla, Octave'daki for döngüsünün ille de sıralı bir listeden oluşmak zorunda olmadığını hatırlatalım -- yani çoğu zaman sıralı gitmek isteriz, mesela 2'den 6'ya birer birer saydıralım dersek:"
   ]
  },
  {
   "cell_type": "code",
   "execution_count": 6,
   "metadata": {},
   "outputs": [
    {
     "name": "stdout",
     "output_type": "stream",
     "text": [
      "i =  2\r\n",
      "i =  3\r\n",
      "i =  4\r\n",
      "i =  5\r\n",
      "i =  6\r\n"
     ]
    }
   ],
   "source": [
    "for i = 2:6\n",
    "    i\n",
    "endfor"
   ]
  },
  {
   "cell_type": "markdown",
   "metadata": {},
   "source": [
    "Şeklinde yazarız. Ama 2:6 dediğimiz şey, tam olarak bir diziye karşılık gelmiyor mu? Yani:"
   ]
  },
  {
   "cell_type": "code",
   "execution_count": 7,
   "metadata": {
    "scrolled": true
   },
   "outputs": [
    {
     "name": "stdout",
     "output_type": "stream",
     "text": [
      "ans =\r\n",
      "\r\n",
      "   2   3   4   5   6\r\n",
      "\r\n"
     ]
    }
   ],
   "source": [
    "2:6"
   ]
  },
  {
   "cell_type": "markdown",
   "metadata": {},
   "source": [
    "Doğal olarak bu diziye bir ad da verebiliriz:"
   ]
  },
  {
   "cell_type": "code",
   "execution_count": 8,
   "metadata": {},
   "outputs": [
    {
     "name": "stdout",
     "output_type": "stream",
     "text": [
      "kume =\r\n",
      "\r\n",
      "   2   3   4   5   6\r\n",
      "\r\n"
     ]
    }
   ],
   "source": [
    "kume = 2:6"
   ]
  },
  {
   "cell_type": "markdown",
   "metadata": {},
   "source": [
    "Ad verdiğimize göre for döngüsünde doğrudan bu adla da kullanabiliriz:"
   ]
  },
  {
   "cell_type": "code",
   "execution_count": 9,
   "metadata": {},
   "outputs": [
    {
     "name": "stdout",
     "output_type": "stream",
     "text": [
      "i =  2\r\n",
      "i =  3\r\n",
      "i =  4\r\n",
      "i =  5\r\n",
      "i =  6\r\n"
     ]
    }
   ],
   "source": [
    "for i = kume\n",
    "    i\n",
    "endfor"
   ]
  },
  {
   "cell_type": "markdown",
   "metadata": {},
   "source": [
    "Yani aslında for'un sıralı olması gerekmiyor, yaptığı şey verilen dizinin elemanlarını sıralı olarak çekmesi:"
   ]
  },
  {
   "cell_type": "code",
   "execution_count": 10,
   "metadata": {
    "scrolled": false
   },
   "outputs": [
    {
     "name": "stdout",
     "output_type": "stream",
     "text": [
      "i =  5\r\n",
      "i =  1\r\n",
      "i =  6\r\n",
      "i =  2\r\n",
      "i = -3\r\n",
      "i = -1\r\n",
      "i =  4\r\n"
     ]
    }
   ],
   "source": [
    "for i = [5,1,6,2,-3,-1,4]\n",
    "    i\n",
    "endfor"
   ]
  },
  {
   "cell_type": "markdown",
   "metadata": {},
   "source": [
    "Bizim yaklaşımımızda bir harfin yeri için hangi indisli harfi kullanmışsak, o indisi kullanılabilen indislerden çıkarıp, bir sonraki yerin harfini bu kalanlar içinden çekip duruyoruz. (Döngülerle ilgili detaylı bilgi için bkz. [ders notlarımız](https://emresururi.github.io/FIZ219/FIZ219_EST_UygulamaNotlari_04_for_while_if.html))"
   ]
  },
  {
   "cell_type": "code",
   "execution_count": 11,
   "metadata": {
    "scrolled": true
   },
   "outputs": [
    {
     "name": "stdout",
     "output_type": "stream",
     "text": [
      "fedai\r\n",
      "fedia\r\n",
      "feadi\r\n",
      "feaid\r\n",
      "feida\r\n",
      "feiad\r\n",
      "fdeai\r\n",
      "fdeia\r\n",
      "fdaei\r\n",
      "fdaie\r\n",
      "fdiea\r\n",
      "fdiae\r\n",
      "faedi\r\n",
      "faeid\r\n",
      "fadei\r\n",
      "fadie\r\n",
      "faied\r\n",
      "faide\r\n",
      "fieda\r\n",
      "fiead\r\n",
      "fidea\r\n",
      "fidae\r\n",
      "fiaed\r\n",
      "fiade\r\n",
      "efdai\r\n",
      "efdia\r\n",
      "efadi\r\n",
      "efaid\r\n",
      "efida\r\n",
      "efiad\r\n",
      "edfai\r\n",
      "edfia\r\n",
      "edafi\r\n",
      "edaif\r\n",
      "edifa\r\n",
      "ediaf\r\n",
      "eafdi\r\n",
      "eafid\r\n",
      "eadfi\r\n",
      "eadif\r\n",
      "eaifd\r\n",
      "eaidf\r\n",
      "eifda\r\n",
      "eifad\r\n",
      "eidfa\r\n",
      "eidaf\r\n",
      "eiafd\r\n",
      "eiadf\r\n",
      "dfeai\r\n",
      "dfeia\r\n",
      "dfaei\r\n",
      "dfaie\r\n",
      "dfiea\r\n",
      "dfiae\r\n",
      "defai\r\n",
      "defia\r\n",
      "deafi\r\n",
      "deaif\r\n",
      "deifa\r\n",
      "deiaf\r\n",
      "dafei\r\n",
      "dafie\r\n",
      "daefi\r\n",
      "daeif\r\n",
      "daife\r\n",
      "daief\r\n",
      "difea\r\n",
      "difae\r\n",
      "diefa\r\n",
      "dieaf\r\n",
      "diafe\r\n",
      "diaef\r\n",
      "afedi\r\n",
      "afeid\r\n",
      "afdei\r\n",
      "afdie\r\n",
      "afied\r\n",
      "afide\r\n",
      "aefdi\r\n",
      "aefid\r\n",
      "aedfi\r\n",
      "aedif\r\n",
      "aeifd\r\n",
      "aeidf\r\n",
      "adfei\r\n",
      "adfie\r\n",
      "adefi\r\n",
      "adeif\r\n",
      "adife\r\n",
      "adief\r\n",
      "aifed\r\n",
      "aifde\r\n",
      "aiefd\r\n",
      "aiedf\r\n",
      "aidfe\r\n",
      "aidef\r\n",
      "ifeda\r\n",
      "ifead\r\n",
      "ifdea\r\n",
      "ifdae\r\n",
      "ifaed\r\n",
      "ifade\r\n",
      "iefda\r\n",
      "iefad\r\n",
      "iedfa\r\n",
      "iedaf\r\n",
      "ieafd\r\n",
      "ieadf\r\n",
      "idfea\r\n",
      "idfae\r\n",
      "idefa\r\n",
      "ideaf\r\n",
      "idafe\r\n",
      "idaef\r\n",
      "iafed\r\n",
      "iafde\r\n",
      "iaefd\r\n",
      "iaedf\r\n",
      "iadfe\r\n",
      "iadef\r\n"
     ]
    }
   ],
   "source": [
    "clear;\n",
    "\n",
    "dizi = {\"f\",\"e\",\"d\",\"a\",\"i\"};\n",
    "depo = {}; # sonuclari toplayacagimiz dizi\n",
    "\n",
    "\n",
    "kullanilabilen_indisler = 1:5;\n",
    "\n",
    "for bir = 1:5\n",
    "    # birinci indisi sectik, bunu olabilenler listesinden cikaralim\n",
    "    kalan_indisler = kullanilabilen_indisler(kullanilabilen_indisler != bir);\n",
    "    for iki = kalan_indisler\n",
    "        kalan_indisler3 = kalan_indisler(kalan_indisler != iki);\n",
    "        for uc = kalan_indisler3\n",
    "            kalan_indisler4 = kalan_indisler3(kalan_indisler3 != uc);\n",
    "            for dort = kalan_indisler4\n",
    "                kalan_indisler5 = kalan_indisler4(kalan_indisler4 != dort);\n",
    "                 bes = kalan_indisler5;\n",
    "                    kelime = sprintf(\"%s%s%s%s%s\",dizi{bir},dizi{iki}...\n",
    "                             ,dizi{uc},dizi{dort},dizi{bes});\n",
    "                    disp(kelime)\n",
    "                    depo = {depo{:}, kelime};\n",
    "            endfor\n",
    "        endfor\n",
    "    endfor\n",
    "endfor"
   ]
  },
  {
   "cell_type": "markdown",
   "metadata": {},
   "source": [
    "Basit bir matematiksel hesapla, ilk harf için 5, ikinci harf için 4, üçüncü için 3, dördüncü için 2 ve sonuncu için 1 adet olasılık oluyor, yani toplam üretebileceğimiz kelime sayısı: 5x4x3x2x1 = 120. Bakalım biz de o kadar mı bulmuşuz?"
   ]
  },
  {
   "cell_type": "code",
   "execution_count": 12,
   "metadata": {},
   "outputs": [
    {
     "name": "stdout",
     "output_type": "stream",
     "text": [
      "ans =  120\r\n"
     ]
    }
   ],
   "source": [
    "columns(depo)"
   ]
  },
  {
   "cell_type": "markdown",
   "metadata": {},
   "source": [
    "Bu çözüm, tabii ki, programlama yeteneğimizle ürettiğimiz bir çözüm. Diğer pek çok şeyde olduğu gibi, Octave'da bunu da tek seferde yapan bir komut mevcut: `perms`"
   ]
  },
  {
   "cell_type": "code",
   "execution_count": 13,
   "metadata": {},
   "outputs": [
    {
     "name": "stdout",
     "output_type": "stream",
     "text": [
      "ans =\r\n",
      "\r\n",
      "ifeda\r\n",
      "ifead\r\n",
      "ifdea\r\n",
      "ifdae\r\n",
      "ifaed\r\n",
      "ifade\r\n",
      "iefda\r\n",
      "iefad\r\n",
      "iedfa\r\n",
      "iedaf\r\n",
      "ieafd\r\n",
      "ieadf\r\n",
      "idfea\r\n",
      "idfae\r\n",
      "idefa\r\n",
      "ideaf\r\n",
      "idafe\r\n",
      "idaef\r\n",
      "iafed\r\n",
      "iafde\r\n",
      "iaefd\r\n",
      "iaedf\r\n",
      "iadfe\r\n",
      "iadef\r\n",
      "fieda\r\n",
      "fiead\r\n",
      "fidea\r\n",
      "fidae\r\n",
      "fiaed\r\n",
      "fiade\r\n",
      "feida\r\n",
      "feiad\r\n",
      "fedia\r\n",
      "fedai\r\n",
      "feaid\r\n",
      "feadi\r\n",
      "fdiea\r\n",
      "fdiae\r\n",
      "fdeia\r\n",
      "fdeai\r\n",
      "fdaie\r\n",
      "fdaei\r\n",
      "faied\r\n",
      "faide\r\n",
      "faeid\r\n",
      "faedi\r\n",
      "fadie\r\n",
      "fadei\r\n",
      "eifda\r\n",
      "eifad\r\n",
      "eidfa\r\n",
      "eidaf\r\n",
      "eiafd\r\n",
      "eiadf\r\n",
      "efida\r\n",
      "efiad\r\n",
      "efdia\r\n",
      "efdai\r\n",
      "efaid\r\n",
      "efadi\r\n",
      "edifa\r\n",
      "ediaf\r\n",
      "edfia\r\n",
      "edfai\r\n",
      "edaif\r\n",
      "edafi\r\n",
      "eaifd\r\n",
      "eaidf\r\n",
      "eafid\r\n",
      "eafdi\r\n",
      "eadif\r\n",
      "eadfi\r\n",
      "difea\r\n",
      "difae\r\n",
      "diefa\r\n",
      "dieaf\r\n",
      "diafe\r\n",
      "diaef\r\n",
      "dfiea\r\n",
      "dfiae\r\n",
      "dfeia\r\n",
      "dfeai\r\n",
      "dfaie\r\n",
      "dfaei\r\n",
      "deifa\r\n",
      "deiaf\r\n",
      "defia\r\n",
      "defai\r\n",
      "deaif\r\n",
      "deafi\r\n",
      "daife\r\n",
      "daief\r\n",
      "dafie\r\n",
      "dafei\r\n",
      "daeif\r\n",
      "daefi\r\n",
      "aifed\r\n",
      "aifde\r\n",
      "aiefd\r\n",
      "aiedf\r\n",
      "aidfe\r\n",
      "aidef\r\n",
      "afied\r\n",
      "afide\r\n",
      "afeid\r\n",
      "afedi\r\n",
      "afdie\r\n",
      "afdei\r\n",
      "aeifd\r\n",
      "aeidf\r\n",
      "aefid\r\n",
      "aefdi\r\n",
      "aedif\r\n",
      "aedfi\r\n",
      "adife\r\n",
      "adief\r\n",
      "adfie\r\n",
      "adfei\r\n",
      "adeif\r\n",
      "adefi\r\n",
      "\r\n"
     ]
    }
   ],
   "source": [
    "perms([\"f\",\"e\",\"d\",\"a\",\"i\"])"
   ]
  },
  {
   "cell_type": "markdown",
   "metadata": {},
   "source": [
    "Doğru olmayan bir yaklaşım da, kafamıza göre -yani sistematik olmayan bir biçimde- sırayı rasgele yapıp, o şekilde kelimeleri üretmek olurdu. 3 harfli bir örnekte bunu görelim:"
   ]
  },
  {
   "cell_type": "code",
   "execution_count": 14,
   "metadata": {},
   "outputs": [
    {
     "name": "stdout",
     "output_type": "stream",
     "text": [
      "depo = {}(0x0)\n",
      "depo =\n",
      "{\n",
      "  [1,1] = cba\n",
      "  [1,2] = cba\n",
      "  [1,3] = bca\n",
      "  [1,4] = acb\n",
      "  [1,5] = abc\n",
      "  [1,6] = acb\n",
      "  [1,7] = cba\n",
      "  [1,8] = abc\n",
      "  [1,9] = cba\n",
      "  [1,10] = cba\n",
      "}\n",
      "\n"
     ]
    }
   ],
   "source": [
    "rand('state',219); # Sizin denemenizin de\n",
    "                   # ayni sonuclari vermesi icin\n",
    "\n",
    "harfler = {\"a\",\"b\",\"c\"};\n",
    "# Toplamda 3x2x1 = 6 farklı permutasyon var\n",
    "\n",
    "depo = {}\n",
    "\n",
    "for i = 1:10\n",
    "    kelime = strcat(harfler{randperm(3)}); # nasil urettigimize cok takilmayin 8)\n",
    "    depo = {depo{:} kelime};\n",
    "endfor\n",
    "depo"
   ]
  },
  {
   "cell_type": "markdown",
   "metadata": {},
   "source": [
    "Her seferinde bağımsız olarak rasgele ürettiğimizden dolayı, ille de tekrara giriyoruz (zaten 6 sonucu olan bir örneği 10 kere çalıştırdığımızda \"[Güvercin Deliği İlkesi](https://tr.wikipedia.org/wiki/G%C3%BCvercin_deli%C4%9Fi_ilkesi)\" uyarınca bariz şekilde tekrarlanan kelimeler alacağız. Ama akıldan çıkarmayın ki, bütün olasılıkları elde etme garantimiz yok. Bu şekilde topladığımız tekrarlı bir kümeyi ayıklamak için `unique` (_benzersiz_) komutunu kullanabiliriz:"
   ]
  },
  {
   "cell_type": "code",
   "execution_count": 15,
   "metadata": {},
   "outputs": [
    {
     "name": "stdout",
     "output_type": "stream",
     "text": [
      "ans =\r\n",
      "{\r\n",
      "  [1,1] = abc\r\n",
      "  [1,2] = acb\r\n",
      "  [1,3] = bca\r\n",
      "  [1,4] = cba\r\n",
      "}\r\n",
      "\r\n"
     ]
    }
   ],
   "source": [
    "unique(depo)"
   ]
  },
  {
   "cell_type": "markdown",
   "metadata": {},
   "source": [
    "(Görüldüğü gibi, \"bac\" ile \"cab\" çıkmamış bile -- Aman dikkat! ;)"
   ]
  },
  {
   "cell_type": "markdown",
   "metadata": {},
   "source": [
    "**3. Soru**\n",
    "\n",
    "İki boyutlu bir sistemde, $\\vec{v}_1$ ve $\\vec{v}_2$, sırasıyla, $m_1$  ve $m_2$ kütleli iki cismin hızları olsunlar. Bu hızlar 2 boyutlu vektörlerle tanımlansınlar (örn., $\\vec{v}_1 = 3\\hat{\\imath}+5\\hat{\\jmath}$ vektörü v1 = [3,5] ile gösterilmekte). Parametreleri `(v1, v2, m1, m2)` olan, `inelastik_momentum(v1, v2, m1, m2)` fonksiyonunu yazın. Bu fonksiyon, iki cismin tümüyle inelastik çarpışması sonucunda ortaya çıkan birleşik cismin hızını (iki boyutlu bir vektör olarak) döndürsün."
   ]
  },
  {
   "cell_type": "markdown",
   "metadata": {},
   "source": [
    "**Çözüm:** Momentumun korunumundan x ve y koordinatlarına dair denklemleri ayrı ayrı yazalım. Vektörler de nasıl olsa bileşenleri ile verilmiş:\n",
    "\n",
    "$$m_1 v_{1,x} + m_2 v_{2,x} = (m_1+m_2) v_x$$\n",
    "$$m_1 v_{1,y} + m_2 v_{2,y} = (m_1+m_2) v_y$$\n",
    "\n",
    "Buradan $v_x$ ve $v_y$'yi çekersek:\n",
    "\n",
    "$$v_x = \\frac{m_1 v_{1,x} + m_2 v_{2,x}}{(m_1+m_2)},\\;\n",
    "v_y = \\frac{m_1 v_{1,y} + m_2 v_{2,y}}{(m_1+m_2)}$$\n",
    "\n",
    "olarak bulunur.\n",
    "\n",
    "Bu işlemleri fonksiyonlaştırırsak:"
   ]
  },
  {
   "cell_type": "code",
   "execution_count": 16,
   "metadata": {},
   "outputs": [],
   "source": [
    "function v = inelastik_momentum(v1,v2,m1,m2)\n",
    "    v1x = v1(1);\n",
    "    v1y = v1(2);\n",
    "    v2x = v2(1);\n",
    "    v2y = v2(2);\n",
    "    vx = (m1*v1x + m2*v2x)/(m1+m2);\n",
    "    vy = (m1*v1y + m2*v2y)/(m1+m2);\n",
    "    v = [vx,vy];\n",
    "endfunction"
   ]
  },
  {
   "cell_type": "code",
   "execution_count": 17,
   "metadata": {},
   "outputs": [
    {
     "name": "stdout",
     "output_type": "stream",
     "text": [
      "V =\r\n",
      "\r\n",
      "  -0.25000  -0.50000\r\n",
      "\r\n"
     ]
    }
   ],
   "source": [
    "V = inelastik_momentum ([1,2],[-1,-2],3,5)"
   ]
  }
 ],
 "metadata": {
  "kernelspec": {
   "display_name": "Octave",
   "language": "octave",
   "name": "octave"
  },
  "language_info": {
   "file_extension": ".m",
   "help_links": [
    {
     "text": "GNU Octave",
     "url": "https://www.gnu.org/software/octave/support.html"
    },
    {
     "text": "Octave Kernel",
     "url": "https://github.com/Calysto/octave_kernel"
    },
    {
     "text": "MetaKernel Magics",
     "url": "https://metakernel.readthedocs.io/en/latest/source/README.html"
    }
   ],
   "mimetype": "text/x-octave",
   "name": "octave",
   "version": "5.2.0"
  }
 },
 "nbformat": 4,
 "nbformat_minor": 4
}
