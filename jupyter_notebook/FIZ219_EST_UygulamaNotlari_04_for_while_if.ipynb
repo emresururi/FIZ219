{
 "cells": [
  {
   "cell_type": "markdown",
   "metadata": {},
   "source": [
    "# Uygulama Notları: 4\n",
    "## FİZ219 - Bilgisayar Programlama I | 10/11/2019\n",
    "\n",
    "* Listelere ekleme yapmak\n",
    "* Döngü ve karar prosedürleri\n",
    " * for.. döngüsü\n",
    " * while.. döngüsü\n",
    " * if.. elseif.. else karar mekanizması\n",
    " * break döngü \"kırıcısı\"\n",
    " \n",
    "Emre S. Tasci <emre.tasci@hacettepe.edu.tr>\n"
   ]
  },
  {
   "cell_type": "markdown",
   "metadata": {},
   "source": [
    "## for döngüsü\n",
    "Grafik çizerken, x değerlerimiz için bir liste oluşturmayı görmüştük. Örneğin, x = [-3,3] aralığı için 0.5 artan şekilde bir listeyi:"
   ]
  },
  {
   "cell_type": "code",
   "execution_count": 19,
   "metadata": {
    "scrolled": true
   },
   "outputs": [
    {
     "name": "stdout",
     "output_type": "stream",
     "text": [
      "x =\r\n",
      "\r\n",
      " Columns 1 through 8:\r\n",
      "\r\n",
      "   -3.0000   -2.5000   -2.0000   -1.5000   -1.0000   -0.5000    0.0000    0.5000\r\n",
      "\r\n",
      " Columns 9 through 13:\r\n",
      "\r\n",
      "    1.0000    1.5000    2.0000    2.5000    3.0000\r\n",
      "\r\n"
     ]
    }
   ],
   "source": [
    "x = -3:0.5:3"
   ]
  },
  {
   "cell_type": "markdown",
   "metadata": {},
   "source": [
    "diyerek oluşturabiliyorduk. Aralık büyüklüğü ile uğraşmak istemeyip, doğrudan _\"-3 ile 3 arasında 100 noktayı düzenli şekilde alayım\"_ dediğimizde ise yardımımıza `linspace` komutu yetişiyordu:"
   ]
  },
  {
   "cell_type": "code",
   "execution_count": 20,
   "metadata": {
    "scrolled": true
   },
   "outputs": [
    {
     "name": "stdout",
     "output_type": "stream",
     "text": [
      "x =\r\n",
      "\r\n",
      " Columns 1 through 7:\r\n",
      "\r\n",
      "  -3.000000  -2.939394  -2.878788  -2.818182  -2.757576  -2.696970  -2.636364\r\n",
      "\r\n",
      " Columns 8 through 14:\r\n",
      "\r\n",
      "  -2.575758  -2.515152  -2.454545  -2.393939  -2.333333  -2.272727  -2.212121\r\n",
      "\r\n",
      " Columns 15 through 21:\r\n",
      "\r\n",
      "  -2.151515  -2.090909  -2.030303  -1.969697  -1.909091  -1.848485  -1.787879\r\n",
      "\r\n",
      " Columns 22 through 28:\r\n",
      "\r\n",
      "  -1.727273  -1.666667  -1.606061  -1.545455  -1.484848  -1.424242  -1.363636\r\n",
      "\r\n",
      " Columns 29 through 35:\r\n",
      "\r\n",
      "  -1.303030  -1.242424  -1.181818  -1.121212  -1.060606  -1.000000  -0.939394\r\n",
      "\r\n",
      " Columns 36 through 42:\r\n",
      "\r\n",
      "  -0.878788  -0.818182  -0.757576  -0.696970  -0.636364  -0.575758  -0.515152\r\n",
      "\r\n",
      " Columns 43 through 49:\r\n",
      "\r\n",
      "  -0.454545  -0.393939  -0.333333  -0.272727  -0.212121  -0.151515  -0.090909\r\n",
      "\r\n",
      " Columns 50 through 56:\r\n",
      "\r\n",
      "  -0.030303   0.030303   0.090909   0.151515   0.212121   0.272727   0.333333\r\n",
      "\r\n",
      " Columns 57 through 63:\r\n",
      "\r\n",
      "   0.393939   0.454545   0.515152   0.575758   0.636364   0.696970   0.757576\r\n",
      "\r\n",
      " Columns 64 through 70:\r\n",
      "\r\n",
      "   0.818182   0.878788   0.939394   1.000000   1.060606   1.121212   1.181818\r\n",
      "\r\n",
      " Columns 71 through 77:\r\n",
      "\r\n",
      "   1.242424   1.303030   1.363636   1.424242   1.484848   1.545455   1.606061\r\n",
      "\r\n",
      " Columns 78 through 84:\r\n",
      "\r\n",
      "   1.666667   1.727273   1.787879   1.848485   1.909091   1.969697   2.030303\r\n",
      "\r\n",
      " Columns 85 through 91:\r\n",
      "\r\n",
      "   2.090909   2.151515   2.212121   2.272727   2.333333   2.393939   2.454545\r\n",
      "\r\n",
      " Columns 92 through 98:\r\n",
      "\r\n",
      "   2.515152   2.575758   2.636364   2.696970   2.757576   2.818182   2.878788\r\n",
      "\r\n",
      " Columns 99 and 100:\r\n",
      "\r\n",
      "   2.939394   3.000000\r\n",
      "\r\n"
     ]
    }
   ],
   "source": [
    "x = linspace(-3,3,100)"
   ]
  },
  {
   "cell_type": "markdown",
   "metadata": {},
   "source": [
    "_for..._ döngüsü belirlediğimiz bir listenin elemanlarını **sıra ile** ve **tek tek** işleme sokar.\n",
    "\n",
    "Basit bir örnek olarak 1'den 5'e kadar olan sayıları yazdıralım:"
   ]
  },
  {
   "cell_type": "code",
   "execution_count": 21,
   "metadata": {},
   "outputs": [
    {
     "name": "stdout",
     "output_type": "stream",
     "text": [
      "a =  1\n",
      "a =  2\n",
      "a =  3\n",
      "a =  4\n",
      "a =  5\n"
     ]
    }
   ],
   "source": [
    "a = 1\n",
    "a = 2\n",
    "a = 3\n",
    "a = 4\n",
    "a = 5"
   ]
  },
  {
   "cell_type": "markdown",
   "metadata": {},
   "source": [
    "Görüleceği üzere, hemen hemen aynı satırı 5 kere küçük bir değişiklikle yazıp çalıştırıyoruz, ki bu oldukça sıkıcı ve zahmetli. Satırlardaki tek **_değişen_** şeyin a'yı eşitlediğimiz sayı olduğunu görüyoruz. Demek ki `a = i` diye bir şey düşünsek, ve i'nin değerini 1'den başlayıp, her seferinde 1 arttırarak 5'e kadar getirsek işler hayli kolaylaşacak. \n",
    "\n",
    "i'nin değerinin 1'den 5'e birer birer arttırıldığı halini yapmayı biliyoruz:"
   ]
  },
  {
   "cell_type": "code",
   "execution_count": 22,
   "metadata": {
    "scrolled": true
   },
   "outputs": [
    {
     "name": "stdout",
     "output_type": "stream",
     "text": [
      "n =\r\n",
      "\r\n",
      "   1   2   3   4   5\r\n",
      "\r\n"
     ]
    }
   ],
   "source": [
    "n = 1:5"
   ]
  },
  {
   "cell_type": "markdown",
   "metadata": {},
   "source": [
    "Burada listemize \"i\" yerine \"n\" adını verdik çünkü n, i'nin alacağı bütün değerleri barındıran bir kutu; i ise bu değerlerin her biri. for döngüsünü şu şekilde tanımlıyoruz:\n",
    "\n",
    "`for <değişkenin adı> = <tek tek ve sıra ile alacağı değerlerin tutulduğu liste>\n",
    "    yapılacak iş #1...\n",
    "    yapılacak iş #2...\n",
    "    yapılacak iş #3...\n",
    "         ...\n",
    "endfor`\n",
    "\n",
    "for ... endfor arasında yer alan ve yapılacak işleri tutan kısma **<u>blok</u>** diyoruz.\n",
    "\n",
    "Şu halde, a'nın değerini 1 ile 5 arasında değiştirecek ilk döngü örneğimiz şöyle olur:"
   ]
  },
  {
   "cell_type": "code",
   "execution_count": 23,
   "metadata": {},
   "outputs": [
    {
     "name": "stdout",
     "output_type": "stream",
     "text": [
      "a =  1\r\n",
      "a =  2\r\n",
      "a =  3\r\n",
      "a =  4\r\n",
      "a =  5\r\n"
     ]
    }
   ],
   "source": [
    "for i = 1:5\n",
    "    a = i\n",
    "endfor"
   ]
  },
  {
   "cell_type": "markdown",
   "metadata": {},
   "source": [
    "Açık açık `1:5` yazmak yerine, önceden tanımlamış olduğumuz ve aynı değerleri tutan n'yi de kullanabilirdik:"
   ]
  },
  {
   "cell_type": "code",
   "execution_count": 24,
   "metadata": {},
   "outputs": [
    {
     "name": "stdout",
     "output_type": "stream",
     "text": [
      "a =  1\r\n",
      "a =  2\r\n",
      "a =  3\r\n",
      "a =  4\r\n",
      "a =  5\r\n"
     ]
    }
   ],
   "source": [
    "n = 1:5;\n",
    "for i = n\n",
    "    a = i\n",
    "endfor"
   ]
  },
  {
   "cell_type": "markdown",
   "metadata": {},
   "source": [
    "(unutmayın ki Octave sembolik bir dil değil, yani n gördüğü yere _n neye karşılık geliyorsa_ onu alıp yerleştiriyor: `i = 1:5` yazmakla `i = n` yazmak arasında işlemsel hiçbir fark yok (pratik açıdansa programlarınızı değişkenler üzerinden yazmak yüksek esneklik sağlamakta)."
   ]
  },
  {
   "cell_type": "markdown",
   "metadata": {},
   "source": [
    "Biraz daha ilginç bir örnek yapalım, örneğin x'in değerini -3'den 3'e 0.5'e kadar arttırıp, her bir değerin karesini s diye bir değişkende toplayalım:"
   ]
  },
  {
   "cell_type": "code",
   "execution_count": 25,
   "metadata": {},
   "outputs": [
    {
     "name": "stdout",
     "output_type": "stream",
     "text": [
      "s =  45.500\r\n"
     ]
    }
   ],
   "source": [
    "s = 0; % Değerleri s'de toplayacağımız için ilk olarak s'yi tanımlayıp sıfırlıyoruz.\n",
    "xler = -3:0.5:3; % 'xler' ile 'x' arasındaki farka dikkat edin!\n",
    "for x = xler\n",
    "    s = s + x*x;\n",
    "endfor\n",
    "s"
   ]
  },
  {
   "cell_type": "markdown",
   "metadata": {},
   "source": [
    "Başta da belirttiğimiz üzere, for döngüsündeki değerler bir listeden sıralı ve tek tek olarak alınır. Listenin kendisinin sıralı olmasına gerek yok. Sınıftan 5 kişiye akıllarına gelen bir sayıyı söylemelerini isteyelim ve onlar da 5,-3,19,12,-2 sayılarını söylemiş olsunlar. Bir önceki örneği biraz değiştirerek bu sayıların karelerini toplayan bir program yazalım:"
   ]
  },
  {
   "cell_type": "code",
   "execution_count": 26,
   "metadata": {
    "scrolled": true
   },
   "outputs": [
    {
     "name": "stdout",
     "output_type": "stream",
     "text": [
      "x'in şimdiki değeri:   5\n",
      "x'in şimdiki değeri:  -3\n",
      "x'in şimdiki değeri:  19\n",
      "x'in şimdiki değeri:  12\n",
      "x'in şimdiki değeri:  -2\n",
      "s =  543\n"
     ]
    }
   ],
   "source": [
    "s = 0;\n",
    "xler = [5,-3,19,12,-2];\n",
    "for x = xler\n",
    "    printf(\"x'in şimdiki değeri: %3d\\n\",x) % printf() ekrana düzgün bir şekilde \n",
    "                                           % yazdırmak için kullanılır, yoksayabilirsiniz.\n",
    "    s = s + x*x;\n",
    "endfor\n",
    "s"
   ]
  },
  {
   "cell_type": "markdown",
   "metadata": {},
   "source": [
    "Peki ya verdiğimiz sayıların karelerinin toplamını bulmak yerine, her bir sayının karesini bir listede toplamak istersek? Bunu doğrudan liste üzerinde işlem yaparak bulabileceğimizi görmüştük, örneğin:"
   ]
  },
  {
   "cell_type": "code",
   "execution_count": 27,
   "metadata": {},
   "outputs": [
    {
     "name": "stdout",
     "output_type": "stream",
     "text": [
      "xkareler =\r\n",
      "\r\n",
      "    25     9   361   144     4\r\n",
      "\r\n"
     ]
    }
   ],
   "source": [
    "xler = [5,-3,19,12,-2];\n",
    "xkareler = xler.^2"
   ]
  },
  {
   "cell_type": "markdown",
   "metadata": {},
   "source": [
    "Ama şimdi bunu for döngüsü ile gerçekleştirmek istiyoruz (ileride böyle kolaylıkla aritmetik yoldan yapamayacağımız durumlara hazırlık olarak). \n",
    "\n",
    "Öncesinde, bir listeye değerleri tek tek nasıl toplayacağımızı düşünelim... Mesela, xler listesini tek tek oluşturalım (listenin içine önce 5'i, sonra -3'ü, ardından 19'u, vs. atarak):"
   ]
  },
  {
   "cell_type": "code",
   "execution_count": 28,
   "metadata": {
    "scrolled": false
   },
   "outputs": [
    {
     "name": "stdout",
     "output_type": "stream",
     "text": [
      "xler = [](0x0)\n",
      "xler =  5\n",
      "xler =\n",
      "\n",
      "   5  -3\n",
      "\n",
      "xler =\n",
      "\n",
      "    5   -3   19\n",
      "\n"
     ]
    }
   ],
   "source": [
    "xler = []\n",
    "xler = [5]\n",
    "xler = [5 -3] \n",
    "xler = [5 -3 19]"
   ]
  },
  {
   "cell_type": "markdown",
   "metadata": {},
   "source": [
    "Burada bir duralım zira saçmasapan bir iş yapıyoruz. Tamam, ilk iş olarak, değerleri toplayacağımız kutumuz olan `xler`i boş olarak tanımladık, sonra da ilk eleman 5'i ekledik, bu da tamam, ama daha sonra ikinci eleman -3'ü ve üçüncü eleman 19'u eklerken aslında ekleme yapmayıp, tekrar tekrar öncekileri yazdık (bir başka deyişle sadece `xler = [5 -3 19]` deseydik de yeterdi -- öncekileri yazmaya hiç gerek yoktu)!..\n",
    "\n",
    "Burada yine Octave'ın sembolik bir dil olmayışının nimetlerinden faydalanalım:\n",
    "\n",
    "Üçüncü satırda `xler = [5 -3]` derken biz `<enter>`'a basana kadar (yani o satırı yazdığımız sürece) xler'in değeri [5] -- o halde aynı satırı `xler = [xler -3]` olarak da yazabilirdik. `<enter>`'a basıp, 4. satıra geçtiğimizde xler'in değeri artık [5 -3] olmuş durumda, o halde bu satırı da `xler = [5 -3 19]` yerine `xler = [xler 19]` olarak yazabilirdik. Özetle:"
   ]
  },
  {
   "cell_type": "code",
   "execution_count": 29,
   "metadata": {},
   "outputs": [
    {
     "name": "stdout",
     "output_type": "stream",
     "text": [
      "xler = [](0x0)\n",
      "xler =  5\n",
      "xler =\n",
      "\n",
      "   5  -3\n",
      "\n",
      "xler =\n",
      "\n",
      "    5   -3   19\n",
      "\n",
      "xler =\n",
      "\n",
      "    5   -3   19   12\n",
      "\n",
      "xler =\n",
      "\n",
      "    5   -3   19   12   -2\n",
      "\n"
     ]
    }
   ],
   "source": [
    "xler = []\n",
    "xler = [xler 5]\n",
    "xler = [xler -3]\n",
    "xler = [xler 19]\n",
    "xler = [xler 12]\n",
    "xler = [xler -2]"
   ]
  },
  {
   "cell_type": "markdown",
   "metadata": {},
   "source": [
    "Bu yöntem, döngülerde çok işimize yarayacak. Artık verilmiş bir xler listesindeki x değerlerinin karelerini _tek tek_ bir başka listede toplayacak bilgimiz var:"
   ]
  },
  {
   "cell_type": "code",
   "execution_count": 30,
   "metadata": {},
   "outputs": [
    {
     "name": "stdout",
     "output_type": "stream",
     "text": [
      "xkareler =\r\n",
      "\r\n",
      "    25     9   361   144     4\r\n",
      "\r\n"
     ]
    }
   ],
   "source": [
    "xler = [5,-3,19,12,-2];\n",
    "xkareler = [];\n",
    "for x = xler\n",
    "    xkareler = [xkareler x*x];\n",
    "endfor\n",
    "xkareler"
   ]
  },
  {
   "cell_type": "markdown",
   "metadata": {},
   "source": [
    "## while döngüsü\n",
    "while döngüsü, döngüyü kurarken belirttiğimiz önerme **doğru** (bilgisayar dilinde konuşursak '1') olduğu sürece, döngüyü devam ettirir. Önergenin doğru olması ne anlama geliyor? Birkaç sayısal önerme yazalım:\n",
    "\n",
    "* 3, 1'den büyüktür: 3 > 1\n",
    "* 5, 4'ten küçüktür: 5 < 4\n",
    "* 12, 13'ten küçük veya eşittir: 12 <= 13\n",
    "* 12, 12'den büyük veya eşittir: 12 >= 12\n",
    "* 3, 7'ye eşit değildir: 3 != 7\n",
    "* 7, 7'ye eşittir: 7 == 7\n",
    "* 3, 5'e eşittir: 3 == 5\n",
    "\n",
    "Özellikle son iki önermeye dikkat edin: onlara gelinceye kadar, aşağı yukarı matematikte kullandığımız işaretlerin benzerlerini yazdık ama iş \"eşittir\"e gelince, tek bir \"=\" işareti yerine, \"==\" olarak, iki tane yazdık. Bunun sebebi, \"=\" işaretinin her zaman için <u>**değer atama**</u> anlamına gelmesi. Bu nedenle, \"eşittir\" önermesini \"==\" şeklinde, çift \"=\" işareti ile karşılıyoruz.\n",
    "\n",
    "Bu önermeleri Octave'a soralım, bakalım ne cevap verecek:"
   ]
  },
  {
   "cell_type": "code",
   "execution_count": 51,
   "metadata": {},
   "outputs": [
    {
     "name": "stdout",
     "output_type": "stream",
     "text": [
      "ans = 1\n",
      "ans = 0\n",
      "ans = 1\n",
      "ans = 1\n",
      "ans = 1\n",
      "ans = 1\n",
      "ans = 0\n"
     ]
    }
   ],
   "source": [
    "3 > 1\n",
    "5 < 4\n",
    "12 <= 13\n",
    "12 >= 12\n",
    "3 != 7\n",
    "7 == 7\n",
    "3 == 5\n"
   ]
  },
  {
   "cell_type": "markdown",
   "metadata": {},
   "source": [
    "\"1 : Doğru\" ve \"0 : Yanlış\" olmak üzere yorumlarsak, cevapları anlamış oluruz.\n",
    "\n",
    "O zaman -3'ten 3'e kadar olan sayıların karelerin toplamını bir kez daha, bu sefer while döngüsü ile hesaplayalım:"
   ]
  },
  {
   "cell_type": "code",
   "execution_count": 33,
   "metadata": {},
   "outputs": [
    {
     "name": "stdout",
     "output_type": "stream",
     "text": [
      "kareler_toplami =  28\r\n"
     ]
    }
   ],
   "source": [
    "kareler_toplami = 0;\n",
    "x = -3; % başlangıç değerimiz\n",
    "while (x <= 3)\n",
    "    kareler_toplami = kareler_toplami + x*x;\n",
    "    x = x + 1;\n",
    "endwhile\n",
    "kareler_toplami"
   ]
  },
  {
   "cell_type": "markdown",
   "metadata": {},
   "source": [
    "Bloğumuz, _önermemiz doğru olduğu müddetçe_ çalıştırılıyor. \n",
    "\n",
    "1. while'a ilk gelindiğinde, x'in değeri -3 : `-3 <= 3` doğru olduğundan blok çalışıyor, \n",
    "2. değerler yerlerine yerleştirildiğinde `kareler_toplami = 0 + (-3)*(-3)` işleminden 9 oluyor. \n",
    "3. Sonraki satıra gelindiğinde -3 değerindeki x'in yeni değeri ona 1 eklenerek (-2) yapılıp, döngünün başına gidiliyor. \n",
    "4. `-2 <= 3` de doğru olduğundan, blok yine çalıştırılıyor. \n",
    "5. Bu sefer `kareler_toplami = 9 + (-2)*(-2)` işleminden 13 oluyor. \n",
    "6. Bu şekilde x'in değeri +3'e kadar yükseltiliyor. \n",
    "7. x = +3 için while'a gelindiğinde önerme hala doğru zira 3, 3'ten küçük veya ona eşit. \n",
    "8. Blok çalıştırılıyor, `kareler_toplami = 19 + (3)*(3)` işleminden 28 oldu. \n",
    "9. Bir sonraki satırda x'in değeri 1 eklenerek 4 oluyor, yine while'a gönderiliyor.\n",
    "10. 4 <= 3 mü? Hayır. O halde döngüye girilmeden döngünün sonuna ışınlanılıyor, burada kareler_toplami'nın yazılması var, onu yazıp, bitiriyoruz.\n",
    "\n",
    "İlginç bir detay olarak, x'in döngü bittiğindeki değerini düşünelim... 9. adımda 4 olmuştu, bunu teyit etmek istersek:"
   ]
  },
  {
   "cell_type": "code",
   "execution_count": 34,
   "metadata": {},
   "outputs": [
    {
     "name": "stdout",
     "output_type": "stream",
     "text": [
      "x =  4\r\n"
     ]
    }
   ],
   "source": [
    "x"
   ]
  },
  {
   "cell_type": "markdown",
   "metadata": {},
   "source": [
    "## if.. elseif.. else karar mekanizması\n",
    "Aslında an itibarı ile karar mekanizması hakkında bir bilgimiz var zira while döngüsünü işlerken, önermenin -hâlâ- doğru olup olmadığına bakarken karar mekanizmasını kullandık. Tek başına hallerde ise karar vermek(/verdirmek) için if.. karar mekanizmasını kullanıyoruz."
   ]
  },
  {
   "cell_type": "code",
   "execution_count": 35,
   "metadata": {},
   "outputs": [
    {
     "name": "stdout",
     "output_type": "stream",
     "text": [
      "a =  5\n",
      "a, 5'e eşit\n",
      "a, 9'dan küçük\n"
     ]
    }
   ],
   "source": [
    "a = 5\n",
    "if (a == 5)\n",
    "    disp(\"a, 5'e eşit\")\n",
    "endif\n",
    "\n",
    "if(a > 6)\n",
    "    disp(\"a, 6'dan büyük\")\n",
    "endif\n",
    "\n",
    "if(a < 9)\n",
    "    disp(\"a, 9'dan küçük\")\n",
    "endif"
   ]
  },
  {
   "cell_type": "markdown",
   "metadata": {},
   "source": [
    "Yukarıdaki kodu çalıştırdığımızda, sadece doğru önermelere sahip if bloklarının işleme konduğunu görüyoruz. Bu örnekte a'nın değerine bağlı olarak üç olasılıktan biri olmak zorunda:\n",
    "\n",
    "a:\n",
    "* ya 5'e eşit olacak\n",
    "* ya 5'ten büyük olacak\n",
    "* ya da 5'ten küçük olacak\n",
    "\n",
    "Üç ayrı if bloğu yazmak yerine, bunları tek bir if bloğunda toplayabiliriz:"
   ]
  },
  {
   "cell_type": "code",
   "execution_count": 36,
   "metadata": {},
   "outputs": [
    {
     "name": "stdout",
     "output_type": "stream",
     "text": [
      "a =  5\n",
      "a 5'e eşit\n"
     ]
    }
   ],
   "source": [
    "a = 5\n",
    "if(a == 5)\n",
    "    disp(\"a 5'e eşit\")\n",
    "elseif(a > 5)\n",
    "    disp(\"a 5'ten büyük\")\n",
    "else\n",
    "    disp(\"a 5'ten küçük\")\n",
    "endif"
   ]
  },
  {
   "cell_type": "markdown",
   "metadata": {},
   "source": [
    "a'nın değerinin 5'ten küçük olmasını kontrol ettirmeyip _\"a, 5'e eşit değilse, 5'ten büyük de değilse, o zaman 5'ten küçük olmak zorundadır.\"_ mantığıyla hareket ettiğimize dikkat edin. Tek bir değer üzerinden gittiğimizden kod biraz sıkıcı oldu, o nedenle bir for döngüsü içinde çağıralım:"
   ]
  },
  {
   "cell_type": "code",
   "execution_count": 41,
   "metadata": {},
   "outputs": [
    {
     "name": "stdout",
     "output_type": "stream",
     "text": [
      "alar =\n",
      "\n",
      "   7  -9   3  -7   8   5   6  -2   2   5   0\n",
      "\n",
      "a =  7\n",
      "a 5'ten büyük.\n",
      "---------------------\n",
      "a = -9\n",
      "a 5'ten küçük\n",
      "---------------------\n",
      "a =  3\n",
      "a 5'ten küçük\n",
      "---------------------\n",
      "a = -7\n",
      "a 5'ten küçük\n",
      "---------------------\n",
      "a =  8\n",
      "a 5'ten büyük.\n",
      "---------------------\n",
      "a =  5\n",
      "a 5'e eşit!\n",
      "---------------------\n",
      "a =  6\n",
      "a 5'ten büyük.\n",
      "---------------------\n",
      "a = -2\n",
      "a 5'ten küçük\n",
      "---------------------\n",
      "a =  2\n",
      "a 5'ten küçük\n",
      "---------------------\n",
      "a =  5\n",
      "a 5'e eşit!\n",
      "---------------------\n",
      "a = 0\n",
      "a 5'ten küçük\n",
      "---------------------\n"
     ]
    }
   ],
   "source": [
    "alar = [7   -9    3   -7    8   5    6    -2     2    5    0]\n",
    "for a = alar\n",
    "    a\n",
    "    if(a==5)\n",
    "        disp(\"a 5'e eşit!\")\n",
    "    elseif(a>5)\n",
    "        disp(\"a 5'ten büyük.\")\n",
    "    else\n",
    "        disp(\"a 5'ten küçük\")\n",
    "    endif\n",
    "    disp(\"---------------------\")\n",
    "endfor"
   ]
  },
  {
   "cell_type": "markdown",
   "metadata": {},
   "source": [
    "İşleri biraz geliştirelim. Verilmiş sayıları tek/çift olarak ayıralım:"
   ]
  },
  {
   "cell_type": "code",
   "execution_count": 42,
   "metadata": {},
   "outputs": [
    {
     "name": "stdout",
     "output_type": "stream",
     "text": [
      "alar =\n",
      "\n",
      "   7  -9   3  -7   8   5   6  -2   2   5   0\n",
      "\n",
      "Tek sayılar:\n",
      "tekler =\n",
      "\n",
      "   7  -9   3  -7   5   5\n",
      "\n",
      "Çift sayılar:\n",
      "ciftler =\n",
      "\n",
      "   8   6  -2   2   0\n",
      "\n"
     ]
    }
   ],
   "source": [
    "alar = [7   -9    3   -7    8   5    6    -2     2    5    0]\n",
    "tekler = [];\n",
    "ciftler = [];\n",
    "for a = alar\n",
    "    if(mod(a,2) == 0)\n",
    "        % a, 2 ile bölündüğünde kalanı sıfır oluyor (mod)\n",
    "        % o zaman çift demektir\n",
    "        ciftler = [ciftler a];\n",
    "    else\n",
    "        tekler = [tekler a];\n",
    "    endif\n",
    "endfor\n",
    "disp(\"Tek sayılar:\")\n",
    "tekler\n",
    "\n",
    "disp(\"Çift sayılar:\")\n",
    "ciftler"
   ]
  },
  {
   "cell_type": "markdown",
   "metadata": {},
   "source": [
    "### Örnek: Asal sayıların bulunması:\n",
    "Asal sayılar, tanımları gereği kendileri ve 1 dışında hiçbir sayıya tam olarak bölünemeyen sayılar. 2 ile 10 arasındaki asal sayıları bulmak için biri kötü, diğeri iyi iki yoldan gideceğiz."
   ]
  },
  {
   "cell_type": "markdown",
   "metadata": {},
   "source": [
    "#### Kötü (verimsiz) yaklaşım\n",
    "Kötü olan metot, akla ilk gelen: elimizdeki sayı n olsun. 2'den başlayarak (n-1)'e kadar sayıları tek tek deneyip, n'i tam olarak bölüp bölemediklerine bakacağız, bir yandan da koddaki eksiklikleri tespit edip, adım adım geliştireceğiz:"
   ]
  },
  {
   "cell_type": "code",
   "execution_count": 69,
   "metadata": {
    "scrolled": true
   },
   "outputs": [
    {
     "name": "stdout",
     "output_type": "stream",
     "text": [
      "Asallığını kontrol ettiğimiz sayı:\r\n",
      "sayi =  2\r\n",
      "\r\n",
      "-------------------\r\n",
      "Asallığını kontrol ettiğimiz sayı:\r\n",
      "sayi =  3\r\n",
      "\r\n",
      "bolen =  2\r\n",
      "kalan =  1\r\n",
      "\r\n",
      "-------------------\r\n",
      "Asallığını kontrol ettiğimiz sayı:\r\n",
      "sayi =  4\r\n",
      "\r\n",
      "bolen =  2\r\n",
      "kalan = 0\r\n",
      "Sayı asal değil!\r\n",
      "\r\n",
      "\r\n",
      "bolen =  3\r\n",
      "kalan =  1\r\n",
      "\r\n",
      "-------------------\r\n",
      "Asallığını kontrol ettiğimiz sayı:\r\n",
      "sayi =  5\r\n",
      "\r\n",
      "bolen =  2\r\n",
      "kalan =  1\r\n",
      "\r\n",
      "bolen =  3\r\n",
      "kalan =  2\r\n",
      "\r\n",
      "bolen =  4\r\n",
      "kalan =  1\r\n",
      "\r\n",
      "-------------------\r\n",
      "Asallığını kontrol ettiğimiz sayı:\r\n",
      "sayi =  6\r\n",
      "\r\n",
      "bolen =  2\r\n",
      "kalan = 0\r\n",
      "Sayı asal değil!\r\n",
      "\r\n",
      "\r\n",
      "bolen =  3\r\n",
      "kalan = 0\r\n",
      "Sayı asal değil!\r\n",
      "\r\n",
      "\r\n",
      "bolen =  4\r\n",
      "kalan =  2\r\n",
      "\r\n",
      "bolen =  5\r\n",
      "kalan =  1\r\n",
      "\r\n",
      "-------------------\r\n",
      "Asallığını kontrol ettiğimiz sayı:\r\n",
      "sayi =  7\r\n",
      "\r\n",
      "bolen =  2\r\n",
      "kalan =  1\r\n",
      "\r\n",
      "bolen =  3\r\n",
      "kalan =  1\r\n",
      "\r\n",
      "bolen =  4\r\n",
      "kalan =  3\r\n",
      "\r\n",
      "bolen =  5\r\n",
      "kalan =  2\r\n",
      "\r\n",
      "bolen =  6\r\n",
      "kalan =  1\r\n",
      "\r\n",
      "-------------------\r\n",
      "Asallığını kontrol ettiğimiz sayı:\r\n",
      "sayi =  8\r\n",
      "\r\n",
      "bolen =  2\r\n",
      "kalan = 0\r\n",
      "Sayı asal değil!\r\n",
      "\r\n",
      "\r\n",
      "bolen =  3\r\n",
      "kalan =  2\r\n",
      "\r\n",
      "bolen =  4\r\n",
      "kalan = 0\r\n",
      "Sayı asal değil!\r\n",
      "\r\n",
      "\r\n",
      "bolen =  5\r\n",
      "kalan =  3\r\n",
      "\r\n",
      "bolen =  6\r\n",
      "kalan =  2\r\n",
      "\r\n",
      "bolen =  7\r\n",
      "kalan =  1\r\n",
      "\r\n",
      "-------------------\r\n",
      "Asallığını kontrol ettiğimiz sayı:\r\n",
      "sayi =  9\r\n",
      "\r\n",
      "bolen =  2\r\n",
      "kalan =  1\r\n",
      "\r\n",
      "bolen =  3\r\n",
      "kalan = 0\r\n",
      "Sayı asal değil!\r\n",
      "\r\n",
      "\r\n",
      "bolen =  4\r\n",
      "kalan =  1\r\n",
      "\r\n",
      "bolen =  5\r\n",
      "kalan =  4\r\n",
      "\r\n",
      "bolen =  6\r\n",
      "kalan =  3\r\n",
      "\r\n",
      "bolen =  7\r\n",
      "kalan =  2\r\n",
      "\r\n",
      "bolen =  8\r\n",
      "kalan =  1\r\n",
      "\r\n",
      "-------------------\r\n",
      "Asallığını kontrol ettiğimiz sayı:\r\n",
      "sayi =  10\r\n",
      "\r\n",
      "bolen =  2\r\n",
      "kalan = 0\r\n",
      "Sayı asal değil!\r\n",
      "\r\n",
      "\r\n",
      "bolen =  3\r\n",
      "kalan =  1\r\n",
      "\r\n",
      "bolen =  4\r\n",
      "kalan =  2\r\n",
      "\r\n",
      "bolen =  5\r\n",
      "kalan = 0\r\n",
      "Sayı asal değil!\r\n",
      "\r\n",
      "\r\n",
      "bolen =  6\r\n",
      "kalan =  4\r\n",
      "\r\n",
      "bolen =  7\r\n",
      "kalan =  3\r\n",
      "\r\n",
      "bolen =  8\r\n",
      "kalan =  2\r\n",
      "\r\n",
      "bolen =  9\r\n",
      "kalan =  1\r\n",
      "\r\n",
      "-------------------\r\n"
     ]
    }
   ],
   "source": [
    "asallar = []; % bulduğumuz asalları bu listenin içine koyacağız\n",
    "for sayi = 2:10\n",
    "    % bu bizim asallığını kontrol etmek istediğimiz sayı\n",
    "    disp(\"Asallığını kontrol ettiğimiz sayı:\")\n",
    "    sayi\n",
    "    disp(\"\") % Bir boş satır ekleyelim\n",
    "    for bolen = 2:sayi-1\n",
    "        % bölenlerin döngüsünün bitişini \n",
    "        % sayi'ya bağlı olarak tanımladığımıza dikkat edin!\n",
    "        bolen\n",
    "        kalan = mod(sayi,bolen)\n",
    "        if(kalan == 0)\n",
    "            % Bu sayı asal olamaz.\n",
    "            disp(\"Sayı asal değil!\")\n",
    "            disp(\"\") % Bir boş satır ekleyelim\n",
    "        else\n",
    "            % Buraya sadece asal sayılar mı ulaşabiliyor acaba?\n",
    "            % Hayır! 8)\n",
    "            % Örneğin sayi 9, bolen 2,4,5,6,7,8 olduğunda\n",
    "            % kalan 0 olmayacak ama biliyoruz ki sayı asal değil\n",
    "        endif\n",
    "        disp(\"\") % Bir boş satır ekleyelim\n",
    "    endfor\n",
    "    disp(\"-------------------\")\n",
    "endfor"
   ]
  },
  {
   "cell_type": "markdown",
   "metadata": {},
   "source": [
    "sayi = 2 ve 3 için güzel gitti ama sayi = 4 durumunu inceleyelim:\n",
    "\n",
    "    Asallığını kontrol ettiğimiz sayı:\n",
    "    sayi =  4\n",
    "\n",
    "    bolen =  2\n",
    "    kalan = 0\n",
    "    Sayı asal değil!\n",
    "\n",
    "    bolen =  3\n",
    "    kalan =  1\n",
    "    \n",
    "buradaki sıkıntı, 2'ye bölündüğünü bulduğumuz halde (yani sayının asal olmadığını anladığımız halde) hala kontrole devam ediyor oluşumuz. Bunu engellemek için döngüyü _kırmalıyız_ (`break`)"
   ]
  },
  {
   "cell_type": "code",
   "execution_count": 70,
   "metadata": {
    "scrolled": true
   },
   "outputs": [
    {
     "name": "stdout",
     "output_type": "stream",
     "text": [
      "Asallığını kontrol ettiğimiz sayı:\n",
      "sayi =  2\n",
      "\n",
      "Sayı asal!\n",
      "-------------------\n",
      "Asallığını kontrol ettiğimiz sayı:\n",
      "sayi =  3\n",
      "\n",
      "bolen =  2\n",
      "kalan =  1\n",
      "\n",
      "Sayı asal!\n",
      "-------------------\n",
      "Asallığını kontrol ettiğimiz sayı:\n",
      "sayi =  4\n",
      "\n",
      "bolen =  2\n",
      "kalan = 0\n",
      "Sayı asal değil! - döngüden burada çıkıyorum.\n",
      "\n",
      "-------------------\n",
      "Asallığını kontrol ettiğimiz sayı:\n",
      "sayi =  5\n",
      "\n",
      "bolen =  2\n",
      "kalan =  1\n",
      "\n",
      "bolen =  3\n",
      "kalan =  2\n",
      "\n",
      "bolen =  4\n",
      "kalan =  1\n",
      "\n",
      "Sayı asal!\n",
      "-------------------\n",
      "Asallığını kontrol ettiğimiz sayı:\n",
      "sayi =  6\n",
      "\n",
      "bolen =  2\n",
      "kalan = 0\n",
      "Sayı asal değil! - döngüden burada çıkıyorum.\n",
      "\n",
      "-------------------\n",
      "Asallığını kontrol ettiğimiz sayı:\n",
      "sayi =  7\n",
      "\n",
      "bolen =  2\n",
      "kalan =  1\n",
      "\n",
      "bolen =  3\n",
      "kalan =  1\n",
      "\n",
      "bolen =  4\n",
      "kalan =  3\n",
      "\n",
      "bolen =  5\n",
      "kalan =  2\n",
      "\n",
      "bolen =  6\n",
      "kalan =  1\n",
      "\n",
      "Sayı asal!\n",
      "-------------------\n",
      "Asallığını kontrol ettiğimiz sayı:\n",
      "sayi =  8\n",
      "\n",
      "bolen =  2\n",
      "kalan = 0\n",
      "Sayı asal değil! - döngüden burada çıkıyorum.\n",
      "\n",
      "-------------------\n",
      "Asallığını kontrol ettiğimiz sayı:\n",
      "sayi =  9\n",
      "\n",
      "bolen =  2\n",
      "kalan =  1\n",
      "\n",
      "bolen =  3\n",
      "kalan = 0\n",
      "Sayı asal değil! - döngüden burada çıkıyorum.\n",
      "\n",
      "-------------------\n",
      "Asallığını kontrol ettiğimiz sayı:\n",
      "sayi =  10\n",
      "\n",
      "bolen =  2\n",
      "kalan = 0\n",
      "Sayı asal değil! - döngüden burada çıkıyorum.\n",
      "\n",
      "-------------------\n",
      "asallar =\n",
      "\n",
      "   2   3   5   7\n",
      "\n"
     ]
    }
   ],
   "source": [
    "asallar = []; % bulduğumuz asalları bu listenin içine koyacağız\n",
    "for sayi = 2:10\n",
    "    % bu bizim asallığını kontrol etmek istediğimiz sayı\n",
    "    disp(\"Asallığını kontrol ettiğimiz sayı:\")\n",
    "    sayi\n",
    "    disp(\"\") % Bir boş satır ekleyelim\n",
    "    for bolen = 2:sayi-1\n",
    "        % bölenlerin döngüsünün bitişini \n",
    "        % sayi'ya bağlı olarak tanımladığımıza dikkat edin!\n",
    "        bolen\n",
    "        kalan = mod(sayi,bolen)\n",
    "        if(kalan == 0)\n",
    "            % Bu sayı asal olamaz.\n",
    "            disp(\"Sayı asal değil! - döngüden burada çıkıyorum.\")\n",
    "            disp(\"\") % Bir boş satır ekleyelim\n",
    "            break; % \"bolen = 2:sayi-1\" döngüsünü kırıyoruz\n",
    "        endif\n",
    "        disp(\"\") % Bir boş satır ekleyelim\n",
    "    endfor\n",
    "    \n",
    "    % Buraya iki yoldan gelmiş olabiliriz:\n",
    "    %   ya sayi kalansız bolundu ve döngü break ile kırıldı\n",
    "    %     (bu durumda kalan == 0)\n",
    "    %   ya da hiçbir bolen kalansız bölemedi ve 2:sayi-1 döngüsü\n",
    "    %     normal yoldan sona erdi (bu durumda kalan != 0)\n",
    "    if(kalan != 0)\n",
    "        disp(\"Sayı asal!\")\n",
    "        asallar = [asallar sayi];\n",
    "    endif\n",
    "    disp(\"-------------------\")\n",
    "endfor\n",
    "asallar"
   ]
  },
  {
   "cell_type": "markdown",
   "metadata": {},
   "source": [
    "**`break`** komutu o an içerisinde bulunulan döngüyü sonlandırmakta kullanılır.\n",
    "\n",
    "Örneğin, satır ve sütunu eşit oluncaya kadar (o eleman dahil) değerleri 1 olan bir matris oluşturalım:"
   ]
  },
  {
   "cell_type": "code",
   "execution_count": 59,
   "metadata": {},
   "outputs": [
    {
     "name": "stdout",
     "output_type": "stream",
     "text": [
      "m =\n",
      "\n",
      "   0   0   0   0   0\n",
      "   0   0   0   0   0\n",
      "   0   0   0   0   0\n",
      "   0   0   0   0   0\n",
      "   0   0   0   0   0\n",
      "\n",
      "m =\n",
      "\n",
      "   1   0   0   0   0\n",
      "   1   1   0   0   0\n",
      "   1   1   1   0   0\n",
      "   1   1   1   1   0\n",
      "   1   1   1   1   1\n",
      "\n"
     ]
    }
   ],
   "source": [
    "m = zeros(5,5) % bütün elemanları 0 olan, 5x5 bir matris oluşturur.\n",
    "for satir=1:5\n",
    "    for sutun = 1:5\n",
    "        m(satir,sutun) = 1;\n",
    "        if(satir == sutun)\n",
    "            break;\n",
    "            % şu anda sutun=1:5 döngüsünün içinde olduğumuzdan\n",
    "            % break ile sadece bu bloktan çıkarız.\n",
    "        endif\n",
    "    endfor\n",
    "endfor\n",
    "m"
   ]
  },
  {
   "cell_type": "markdown",
   "metadata": {},
   "source": [
    "#### İyi (verimli) yaklaşım\n",
    "Yukarıdaki yaklaşımda, 7'nin asal olup olmadığını kontrol ederken şu aşamalardan geçtik:\n",
    "    \n",
    "    Asallığını kontrol ettiğimiz sayı:\n",
    "    sayi =  7\n",
    "\n",
    "    bolen =  2\n",
    "    kalan =  1\n",
    "\n",
    "    bolen =  3\n",
    "    kalan =  1\n",
    "\n",
    "    bolen =  4\n",
    "    kalan =  3\n",
    "\n",
    "    bolen =  5\n",
    "    kalan =  2\n",
    "\n",
    "    bolen =  6\n",
    "    kalan =  1\n",
    "\n",
    "    Sayı asal!\n",
    "    \n",
    "Buradaki sıkıntı, 2'ye bölünmeyen bir sayının 4'e ve 6'ya bölünüp bölünmediğini kontrol etmemiz. Halbuki 2'ye bölünmüyorsa, 2'nin katlarına da bölünemez. Benzer şekilde, 3'e bölünmüyorsa, 6'ya ve 9'a da bölünemez, vs.. O halde boşu boşuna kontrol ediyoruz.\n",
    "\n",
    "Asal sayıların tanımını biraz geliştirelim: _kendilerinden ve 1'den başka hiçbir **asal** sayıya kalansız olarak bölünmeyen sayılara asal sayı denir._ diyelim. Sonuçta asal olmayan bir sayıyı her zaman için asal çarpanlarının çarpımı şeklinde yazabiliriz (12 = 2 x 6 = 2 x 2 x 3 = 2^2 x 3 gibi).\n",
    "\n",
    "Tekrar 7'nin asallık kontrolüne geldiğimizi düşünelim. O anda elimizdeki `asallar` listesinde kimler var? 2,3,5 --> o halde 7'nin sadece bu sayılara tam bölünüp bölünmediğini kontrol etmek yeterli. Kodu bu şekilde değiştirmek demek, bölenlerin listesini \"2:sayi-1\" yerine `asallar` listesine eşitlemek demek:"
   ]
  },
  {
   "cell_type": "code",
   "execution_count": 72,
   "metadata": {},
   "outputs": [
    {
     "name": "stdout",
     "output_type": "stream",
     "text": [
      "Asallığını kontrol ettiğimiz sayı:\n",
      "sayi =  3\n",
      "\n",
      "bolen =  2\n",
      "kalan =  1\n",
      "\n",
      "Sayı asal!\n",
      "-------------------\n",
      "Asallığını kontrol ettiğimiz sayı:\n",
      "sayi =  4\n",
      "\n",
      "bolen =  2\n",
      "kalan = 0\n",
      "Sayı asal değil! - döngüden burada çıkıyorum.\n",
      "\n",
      "-------------------\n",
      "Asallığını kontrol ettiğimiz sayı:\n",
      "sayi =  5\n",
      "\n",
      "bolen =  2\n",
      "kalan =  1\n",
      "\n",
      "bolen =  3\n",
      "kalan =  2\n",
      "\n",
      "Sayı asal!\n",
      "-------------------\n",
      "Asallığını kontrol ettiğimiz sayı:\n",
      "sayi =  6\n",
      "\n",
      "bolen =  2\n",
      "kalan = 0\n",
      "Sayı asal değil! - döngüden burada çıkıyorum.\n",
      "\n",
      "-------------------\n",
      "Asallığını kontrol ettiğimiz sayı:\n",
      "sayi =  7\n",
      "\n",
      "bolen =  2\n",
      "kalan =  1\n",
      "\n",
      "bolen =  3\n",
      "kalan =  1\n",
      "\n",
      "bolen =  5\n",
      "kalan =  2\n",
      "\n",
      "Sayı asal!\n",
      "-------------------\n",
      "Asallığını kontrol ettiğimiz sayı:\n",
      "sayi =  8\n",
      "\n",
      "bolen =  2\n",
      "kalan = 0\n",
      "Sayı asal değil! - döngüden burada çıkıyorum.\n",
      "\n",
      "-------------------\n",
      "Asallığını kontrol ettiğimiz sayı:\n",
      "sayi =  9\n",
      "\n",
      "bolen =  2\n",
      "kalan =  1\n",
      "\n",
      "bolen =  3\n",
      "kalan = 0\n",
      "Sayı asal değil! - döngüden burada çıkıyorum.\n",
      "\n",
      "-------------------\n",
      "Asallığını kontrol ettiğimiz sayı:\n",
      "sayi =  10\n",
      "\n",
      "bolen =  2\n",
      "kalan = 0\n",
      "Sayı asal değil! - döngüden burada çıkıyorum.\n",
      "\n",
      "-------------------\n",
      "asallar =\n",
      "\n",
      "   2   3   5   7\n",
      "\n"
     ]
    }
   ],
   "source": [
    "asallar = [2]; % bulduğumuz asalları bu listenin içine koyacağız\n",
    "for sayi = 3:10\n",
    "    % bu bizim asallığını kontrol etmek istediğimiz sayı\n",
    "    disp(\"Asallığını kontrol ettiğimiz sayı:\")\n",
    "    sayi\n",
    "    disp(\"\") % Bir boş satır ekleyelim\n",
    "    for bolen = asallar\n",
    "        % asallar listesinin dinamik bir liste olduğunu\n",
    "        % yani mesela 4'e gelindiğinde [2 3];\n",
    "        % 9'a gelindiğinde [2 3 5 7] olduğuna dikkat edin!\n",
    "        bolen\n",
    "        kalan = mod(sayi,bolen)\n",
    "        if(kalan == 0)\n",
    "            % Bu sayı asal olamaz.\n",
    "            disp(\"Sayı asal değil! - döngüden burada çıkıyorum.\")\n",
    "            disp(\"\") % Bir boş satır ekleyelim\n",
    "            break; % \"bolen = 2:sayi-1\" döngüsünü kırıyoruz\n",
    "        endif\n",
    "        disp(\"\") % Bir boş satır ekleyelim\n",
    "    endfor\n",
    "    \n",
    "    % Buraya iki yoldan gelmiş olabiliriz:\n",
    "    %   ya sayi kalansız bolundu ve döngü break ile kırıldı\n",
    "    %     (bu durumda kalan == 0)\n",
    "    %   ya da hiçbir bolen kalansız bölemedi ve 2:sayi-1 döngüsü\n",
    "    %     normal yoldan sona erdi (bu durumda kalan != 0)\n",
    "    if(kalan != 0)\n",
    "        disp(\"Sayı asal!\")\n",
    "        asallar = [asallar sayi];\n",
    "    endif\n",
    "    disp(\"-------------------\")\n",
    "endfor\n",
    "asallar"
   ]
  },
  {
   "cell_type": "markdown",
   "metadata": {},
   "source": [
    "Dikkat ederseniz, bu sefer asallar listesini en başta 2 olacak şekilde başlattığımızı, sayi döngüsünü de 3'ten başlattığımızı göreceksiniz. Bunun sebebi `for bolen = asallar` döngüsünün asallar listesi boş olduğu zaman çalışmaması ve bu yüzden asal avına daha baştan çıkamamamız. En azından 2'yi koyuyoruz ki, 3'ü kontrol edecek bir bölenimiz olsun."
   ]
  }
 ],
 "metadata": {
  "kernelspec": {
   "display_name": "Octave",
   "language": "octave",
   "name": "octave"
  },
  "language_info": {
   "file_extension": ".m",
   "help_links": [
    {
     "text": "GNU Octave",
     "url": "https://www.gnu.org/software/octave/support.html"
    },
    {
     "text": "Octave Kernel",
     "url": "https://github.com/Calysto/octave_kernel"
    },
    {
     "text": "MetaKernel Magics",
     "url": "https://metakernel.readthedocs.io/en/latest/source/README.html"
    }
   ],
   "mimetype": "text/x-octave",
   "name": "octave",
   "version": "5.1.0"
  }
 },
 "nbformat": 4,
 "nbformat_minor": 2
}
