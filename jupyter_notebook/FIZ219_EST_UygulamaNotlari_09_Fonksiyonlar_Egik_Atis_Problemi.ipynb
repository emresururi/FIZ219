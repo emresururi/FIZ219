{
 "cells": [
  {
   "cell_type": "markdown",
   "metadata": {},
   "source": [
    "# Uygulama Notları: 9\n",
    "## FİZ219 - Bilgisayar Programlama I | 23/12/2019\n",
    "\n",
    "**Fonksiyonlar II: Eğik Atış Problemi**\n",
    "* Problemin Tanımı ve Uçuş Süresinin Hesabı\n",
    "    * Analitik çözüm\n",
    "    * Sayısal çözüm: yarılama metodu (bisection)\n",
    "    * Hazır gelen kök bulma fonksiyonu: roots()\n",
    "* Konumların hesaplanması\n",
    "    * Fonksiyonlaştırmak\n",
    "* Bonus: Güzel grafikler, cici grafikler (Ek bilgi, ilgilenirseniz diye)\n",
    "* \"Meydan okumalar\" (_Challenges_)\n",
    "    * İleri düzey fonksiyonlaştırmak\n",
    "    * Korsan gemisini vuran top\n",
    "\n",
    "Emre S. Tasci <emre.tasci@hacettepe.edu.tr>"
   ]
  },
  {
   "attachments": {
    "egik_atis.png": {
     "image/png": "[encoded data removed]"
    }
   },
   "cell_type": "markdown",
   "metadata": {},
   "source": [
    "# Eğik Atış Problemi\n",
    "## Problemin Tanımı ve Uçuş Süresinin Hesabı\n",
    "$v_0$ ilk hızı ve yatayla $\\theta$ açısı yapacak şekilde atılan $m$ kütleli bir cismin üzerine düşey yönde, -y yönünde $F_g=mg$ yerçekimi kuvveti etki ederken, yatay yönde etki eden herhangi bir kuvvet bulunmamaktadır. \n",
    "\n",
    "![egik_atis.png](attachment:egik_atis.png)\n",
    "\n",
    "Bu durumda, $\\vec{r(t)} = \\vec{r_0} + \\vec{v_0} t + \\frac{1}{2} \\vec{a} t^2$ genel hareket denklemi, _x_ ve _y_ eksenleri yönlerinde bileşenlerine ayrıldığında:\n",
    "\\begin{equation*}\n",
    "v_{0,x} = v_0 \\cos{\\theta}\\\\\n",
    "v_{0,y} = v_0 \\sin{\\theta}\\\\\n",
    "x_0 = y_0 = 0\\\\\n",
    "a_x = 0\\\\\n",
    "a_y = -g\\\\\n",
    "\\end{equation*}\n",
    "\n",
    "\n",
    "\\begin{align}\n",
    "x(t) &= x_0 + v_{0,x} t + {\\tfrac{1}{2}} a_x t^2\\\\\n",
    "\\rightarrow x(t) &= v_{0,x} t = v_0 \\cos{\\theta} t\n",
    "\\end{align}\n",
    "\n",
    "\n",
    "\n",
    "\\begin{align}\n",
    "y(t) &= y_0 + v_{0,y} t + {\\tfrac{1}{2}} a_y t^2\\\\\n",
    "\\rightarrow y(t) &= v_{0,y} t + {\\tfrac{1}{2}} (-g) t^2 = v_0  \\sin{\\theta} t -  {\\tfrac{1}{2}} g t^2 \n",
    "\\end{align}\n",
    "\n",
    "olarak bulunur.\n",
    "\n",
    "Cismin toplam uçuş zamanı $t_d$, atıldıktan sonra _y_ değerinin 0 olduğu andır. Bu anı bulmak için:$$y(t_d) =  v_0  \\sin{\\theta} t_d -  {\\tfrac{1}{2}} g t_d^2 = 0$$ denklemini çözeriz.\n",
    "\n",
    "Problemimizde parametrelerimizi: $v_0 = 30\\, \\text{m/s}$, $\\theta = 60^{o}$, $g = -9.81\\, \\text{m/s}^2$ olarak alalım.\n",
    "\n",
    "\n",
    "### Analitik çözüm:\n",
    "İkinci dereceden $ax^2 + b x + c = 0$ denkleminin çözümü: $$ x_{1,2} = \\frac {-b \\pm \\sqrt{b^2 - 4 a c}}{2a} $$ şeklinde bulunur. Katsayıları elimizdeki $t_d$ için uygularsak:$$a= -  {\\tfrac{1}{2}} g,\\;b= v_0  \\sin{\\theta},\\;c=0\\\\\n",
    "t_{d_{1,2}} = \\frac{-v_0  \\sin{\\theta} \\pm \\sqrt{(v_0  \\sin{\\theta})^2 - 4 (-  {\\tfrac{1}{2}} g) (0)}}{2 (-  {\\tfrac{1}{2}} g)} = \\frac{-v_0 \\sin{\\theta} \\pm v_0 \\sin{\\theta} }{-g}={0, \\frac{2 v_0 \\sin{\\theta}}{g}}$$\n",
    "\n",
    "İlk kök ($t_d = 0$) zaten atış anına geldiğinden bariz; bizi ilgilendiren ikinci, $t_d = \\frac{2 v_0 \\sin{\\theta}}{g}$ kökü. $(x,y)$'nin zamana göre değerlerini hesaplarken aralığımızı sıfırdan bu ana kadar alacağız.\n",
    "\n",
    "Problemimize özel değerleri yerine koyduğumuzda: $$t_d = \\frac{2 v_0 \\sin{\\theta}}{g} = \\frac{2\\cdot 30 \\sin{(60)}}{9.81}\\,\\text{s}$$"
   ]
  },
  {
   "cell_type": "code",
   "execution_count": 1,
   "metadata": {},
   "outputs": [
    {
     "name": "stdout",
     "output_type": "stream",
     "text": [
      "t_d =  5.2968\r\n"
     ]
    }
   ],
   "source": [
    "v0 = 30;\n",
    "theta = 60;\n",
    "g = 9.81;\n",
    "t_d = 2*v0*sind(theta)/g"
   ]
  },
  {
   "cell_type": "markdown",
   "metadata": {},
   "source": [
    "saniye olarak bulunur. Hatta daha da hassas yazdıralım:"
   ]
  },
  {
   "cell_type": "code",
   "execution_count": 2,
   "metadata": {},
   "outputs": [
    {
     "name": "stdout",
     "output_type": "stream",
     "text": [
      "Toplam ucus zamani:  5.296791 s\r\n"
     ]
    }
   ],
   "source": [
    "printf(\"Toplam ucus zamani: %9.6f s\\n\",t_d)"
   ]
  },
  {
   "cell_type": "markdown",
   "metadata": {},
   "source": [
    "### Sayısal çözüm: yarılama metodu (_bisection_)\n",
    "Sürekli bir f(x) fonksiyonun verilen belirli bir [a,b] aralığında işaret değiştirdiğini biliyorsak, o halde fonksiyonun o aralıkta en az bir kere yatay ekseni kestiğinin, yani y'nin en az bir kere sıfır değerini aldığının, _yani_ en az bir tane kökü olduğunun **garantisi vardır**. O halde yapabileceğimiz bir şey, a ile b'nin tam ortasındaki c değerinde fonksiyonun işaretine bakmak, eğer f(a) ile f(c) aynı işaretse bu sefer kökü aramamıza c ile b arasında devam etmek (bu sefer c'ye a deyip, b'yi aynı tutup, yeni c'yi bu yeni a (_eski c_) ile b'nin orta noktası almak); f(a) ile f(c) zıt işaretliyse, arayışımızı a ile c arasına odaklamak suretiyle gerçek köke istediğimiz hassasiyette yaklaşabiliriz.\n",
    "\n",
    "Önce, y yönündeki hareket denklemini fonksiyon olarak tanımlayalım:"
   ]
  },
  {
   "cell_type": "code",
   "execution_count": 3,
   "metadata": {},
   "outputs": [
    {
     "name": "stdout",
     "output_type": "stream",
     "text": [
      "atildiktan  0.010 saniye sonraki yukseklik:    0.25932 m.\n",
      "atildiktan 10.000 saniye sonraki yukseklik: -230.69238 m.\n"
     ]
    }
   ],
   "source": [
    "function f=atis_y(v0,theta,t,g=9.81)\n",
    "f = v0*sind(theta)*t - 0.5*g*t^2;\n",
    "endfunction\n",
    "\n",
    "v0 = 30;\n",
    "theta = 60;\n",
    "\n",
    "% atıldıktan az sonraki (t=0.01s) yüksekliğe bakalım:\n",
    "a = 0.01;\n",
    "printf(\"atildiktan %6.3f saniye sonraki yukseklik: %10.5f m.\\n\",a,atis_y(v0,theta,a))\n",
    "\n",
    "% bir de 10 saniye sonraki yüksekliğe bakalım:\n",
    "b = 10;\n",
    "printf(\"atildiktan %6.3f saniye sonraki yukseklik: %10.5f m.\\n\",b,atis_y(v0,theta,b))"
   ]
  },
  {
   "cell_type": "markdown",
   "metadata": {},
   "source": [
    "Görüldüğü üzere, 10 saniye sonra yükseklik -230.7 olarak verildiğinden, 0 ile 10. saniyeler arasında bir yerde cismimiz yatay eksenden geçmiş. Peki ama nerede? "
   ]
  },
  {
   "cell_type": "code",
   "execution_count": 4,
   "metadata": {},
   "outputs": [
    {
     "name": "stdout",
     "output_type": "stream",
     "text": [
      "atildiktan  5.005 saniye sonraki yukseklik:    7.16334 m.\r\n"
     ]
    }
   ],
   "source": [
    "% 0.01. ile  10 saniyenin tam ortasındaki anda ne yükseklikte idi?\n",
    "c = (a + b) / 2;\n",
    "printf(\"atildiktan %6.3f saniye sonraki yukseklik: %10.5f m.\\n\",c,atis_y(v0,theta,c))"
   ]
  },
  {
   "cell_type": "markdown",
   "metadata": {},
   "source": [
    "Atıldıktan 5.005 saniye sonra yüksekliği pozitif; demek ki cisim hala yer seviyesinin üzerindeymiş. Bu durumda \"yere çarpış\", 5.005 ile 10. saniye arasında bir anda yer alıyor. Bu durumda biraz önce a=0.01s, b=10s için yaptığımız hesabı şimdi a=5.005s ile b=10s için yapacağız.. Bunu sistematiğe bağlarsak:"
   ]
  },
  {
   "cell_type": "code",
   "execution_count": 1,
   "metadata": {},
   "outputs": [
    {
     "name": "stdout",
     "output_type": "stream",
     "text": [
      " 1:  0.010000     0.25932 |  5.005000     7.16334 | 10.000000  -230.69238\r\n",
      " 2:  5.005000     7.16334 |  7.502500   -81.16955 | 10.000000  -230.69238\r\n",
      " 3:  5.005000     7.16334 |  6.253750   -29.35436 |  7.502500   -81.16955\r\n",
      " 4:  5.005000     7.16334 |  5.629375    -9.18332 |  6.253750   -29.35436\r\n",
      " 5:  5.005000     7.16334 |  5.317187    -0.53195 |  5.629375    -9.18332\r\n",
      " 6:  5.005000     7.16334 |  5.161094     3.43521 |  5.317187    -0.53195\r\n",
      " 7:  5.161094     3.43521 |  5.239141     1.48151 |  5.317187    -0.53195\r\n",
      " 8:  5.239141     1.48151 |  5.278164     0.48225 |  5.317187    -0.53195\r\n",
      " 9:  5.278164     0.48225 |  5.297676    -0.02298 |  5.317187    -0.53195\r\n",
      "10:  5.278164     0.48225 |  5.287920     0.23010 |  5.297676    -0.02298\r\n",
      "11:  5.287920     0.23010 |  5.292798     0.10368 |  5.297676    -0.02298\r\n",
      "12:  5.292798     0.10368 |  5.295237     0.04038 |  5.297676    -0.02298\r\n",
      "13:  5.295237     0.04038 |  5.296456     0.00871 |  5.297676    -0.02298\r\n",
      "14:  5.296456     0.00871 |  5.297066    -0.00713 |  5.297676    -0.02298\r\n",
      "15:  5.296456     0.00871 |  5.296761     0.00079 |  5.297066    -0.00713\r\n",
      "16:  5.296761     0.00079 |  5.296914    -0.00317 |  5.297066    -0.00713\r\n",
      "17:  5.296761     0.00079 |  5.296837    -0.00119 |  5.296914    -0.00317\r\n",
      "18:  5.296761     0.00079 |  5.296799    -0.00020 |  5.296837    -0.00119\r\n",
      "19:  5.296761     0.00079 |  5.296780     0.00029 |  5.296799    -0.00020\r\n",
      "20:  5.296780     0.00029 |  5.296790     0.00004 |  5.296799    -0.00020\r\n"
     ]
    }
   ],
   "source": [
    "clear;\n",
    "\n",
    "function f=atis_y(v0,theta,t,g=9.81)\n",
    "f = v0*sind(theta)*t - 0.5*g*t^2;\n",
    "endfunction\n",
    "\n",
    "v0 = 30;\n",
    "theta = 60;\n",
    "\n",
    "istenilen_hassasiyet = 0.00001;\n",
    "\n",
    "a = 0.01;\n",
    "f_a = atis_y(v0,theta,a);\n",
    "\n",
    "b = 10;\n",
    "f_b = atis_y(v0,theta,b);\n",
    "\n",
    "adim = 1;\n",
    "while(abs(a-b)>istenilen_hassasiyet)\n",
    "    % arama araliginin boyu |a-b|, istenilen hassasiyetten\n",
    "    % buyuk oldugu surece, yarilamaya devam ediyoruz\n",
    "    c = (a+b)/2;\n",
    "    f_c = atis_y(v0,theta,c);\n",
    "    printf(\"%2d: %9.6f  %10.5f | %9.6f  %10.5f | %9.6f  %10.5f\\n\",adim,a,f_a,c,f_c,b,f_b);\n",
    "    if(sign(f_c) == sign(f_a))\n",
    "        % c ile a'nın yükseklikleri aynı işaretli, o zaman \n",
    "        % arada kök olmasının garantisi yok, arayışa c ile b \n",
    "        % arasında devam edelim\n",
    "        a = c;\n",
    "        f_a = f_c;\n",
    "    else\n",
    "        % c ile b'nin yükseklikleri aynı işaretli, o zaman \n",
    "        % arada kök olmasının garantisi yok, arayışa a ile c \n",
    "        % arasında devam edelim\n",
    "        b = c;\n",
    "        f_b = f_c;\n",
    "    endif\n",
    "    adim = adim + 1;\n",
    "endwhile"
   ]
  },
  {
   "cell_type": "markdown",
   "metadata": {},
   "source": [
    "Görüldüğü üzere, bu şekilde, gerçek (analitik) değere verilen hassasiyet mertebesinde yaklaşmış olduk."
   ]
  },
  {
   "cell_type": "markdown",
   "metadata": {},
   "source": [
    "### Hazır gelen kök bulma fonksiyonu: roots()\n",
    "Bir polinom denkleminin köklerini `roots()` komutu ile hesaplayabiliriz. Fonksiyonun parametreleri en yüksek dereceli terimin katsayısından başlayarak, sabit katsayıya kadar yazılmış katsayılar vektörüdür. Örneğin: $3x^3 -4x +7 = 0$ denkleminin kökünü bulmak için:"
   ]
  },
  {
   "cell_type": "code",
   "execution_count": 6,
   "metadata": {},
   "outputs": [
    {
     "name": "stdout",
     "output_type": "stream",
     "text": [
      "ans =\r\n",
      "\r\n",
      "  -1.26376\r\n",
      "   1.00000\r\n",
      "   0.26376\r\n",
      "\r\n"
     ]
    }
   ],
   "source": [
    "roots([3 0 -4 1])"
   ]
  },
  {
   "cell_type": "markdown",
   "metadata": {},
   "source": [
    "yazarız (burada $x^2$ olmadığı için, onun katsayısını 0 aldığımıza dikkat edin). \n",
    "\n",
    "Problemimizdeki ikinci dereceden parabol denklemimiz: $$y(t_d) =  v_0  \\sin{\\theta} t_d -  {\\tfrac{1}{2}} g t_d^2 = 0$$ idi. Katsayıları roots() fonksiyonunda yerine koyacak olursak:"
   ]
  },
  {
   "cell_type": "code",
   "execution_count": 7,
   "metadata": {},
   "outputs": [
    {
     "name": "stdout",
     "output_type": "stream",
     "text": [
      "ans =\r\n",
      "\r\n",
      "   5.29679\r\n",
      "   0.00000\r\n",
      "\r\n"
     ]
    }
   ],
   "source": [
    "v0 = 30;\n",
    "theta = 60;\n",
    "g = 9.81;\n",
    "roots([-0.5*g v0*sind(theta) 0])\n"
   ]
  },
  {
   "cell_type": "markdown",
   "metadata": {},
   "source": [
    "şeklinde doğrudan kökü bulmuş oluruz. (Bir de, polinom olsun olmasın, en uygun metotla kök bulan `fzero()` fonksiyonu var ama şimdilik onu bir kenarda bırakıyoruz)"
   ]
  },
  {
   "cell_type": "markdown",
   "metadata": {},
   "source": [
    "## Konumların hesaplanması\n",
    "Artık uçuş süresini bildiğimize göre, bu uçuş süresi boyunca cismimizin koordinatlarını hareket denklemlerinden hesaplayabilir, ardından grafiğini de çizdirebiliriz.\n",
    "\n",
    "Zaman aralığını $[0,t_d]$ arasında, başlangıç için 5 nokta alıp inceleyelim, bunları yaparken, sıfırdan başlayıp, toparlayalım:"
   ]
  },
  {
   "cell_type": "code",
   "execution_count": 8,
   "metadata": {},
   "outputs": [
    {
     "name": "stdout",
     "output_type": "stream",
     "text": [
      "t_d =  5.2968\n",
      "t_ler =\n",
      "\n",
      "   0.00000   1.32420   2.64840   3.97259   5.29679\n",
      "\n",
      "y_konumlari =\n",
      "\n",
      "    0.00000   25.80275   34.40367   25.80275    0.00000\n",
      "\n"
     ]
    },
    {
     "data": {
      "image/png": "[encoded data removed]",
      "text/plain": [
       "<IPython.core.display.Image object>"
      ]
     },
     "metadata": {},
     "output_type": "display_data"
    }
   ],
   "source": [
    "clear;\n",
    "\n",
    "function f=atis_y(v0,theta,t,g=9.81)\n",
    "f = v0*sind(theta)*t - 0.5*g*t^2;\n",
    "endfunction\n",
    "\n",
    "v0 = 30;\n",
    "theta = 60;\n",
    "g = 9.81;\n",
    "\n",
    "t_d = 2*v0*sind(theta)/g\n",
    "\n",
    "N = 5;\n",
    "\n",
    "t_ler = linspace(0,t_d,N)\n",
    "\n",
    "y_konumlari = [];\n",
    "\n",
    "for t = t_ler\n",
    "    y_konumlari = [y_konumlari, atis_y(v0,theta,t)];\n",
    "endfor\n",
    "\n",
    "y_konumlari\n",
    "\n",
    "plot(t_ler,y_konumlari,\"-*\")"
   ]
  },
  {
   "cell_type": "markdown",
   "metadata": {},
   "source": [
    "Pek fena görünmüyor, fakat iki şeyi fark ettiyseniz ne mutlu size: programı yazarken bir önceki uygulama notlarında fonksiyonları yazarken yapmamanızı tavsiye ettiğim iki şeyi bizzat ben yapmış durumdayım. Nedir o iki şey?..\n",
    "\n",
    "1. Fonksiyonu ayrı, kendi dosyasında değil, doğrudan programın içinde tanımladım:  \n",
    "Bunu yapmak biraz mecburiyetten çünkü içeriğini görün istedim.\n",
    "2. Oradaki _for..._ döngüsü:  \n",
    "Elimde linspace ile çıkardığım t değerlerini içeren diziyi/listeyi/vektörü doğrudan fonksiyona beslemek varken, gayet masraflı bir şekilde for döngüsüyle tek tek fonksiyona besledim -- bu affedilecek bir şey değil. Ama fonksiyona bakacak olursanız bu haliyle  çalışamaz (nedenini görebildiniz mi?.. oradaki t^2 işlemi eleman bazlı çalışmalı, bu yüzden t.^2 olarak yazılmalıydı).\n",
    "\n",
    "Haydi kodu bir daha, bu sefer daha verimli yazalım, hazır yazarken hesaplanan nokta sayısını da 100 yapalım (hatta oldu olacak, x'in konumlarını da hesaplayalım):"
   ]
  },
  {
   "cell_type": "code",
   "execution_count": 9,
   "metadata": {},
   "outputs": [
    {
     "data": {
      "image/png": "[encoded data removed]",
      "text/plain": [
       "<IPython.core.display.Image object>"
      ]
     },
     "metadata": {},
     "output_type": "display_data"
    }
   ],
   "source": [
    "clear;\n",
    "\n",
    "function f=atis_y(v0,theta,t,g=9.81)\n",
    "f = v0*sind(theta)*t - 0.5*g*t.^2;\n",
    "endfunction\n",
    "\n",
    "function f=atis_x(v0,theta,t,g=9.81)\n",
    "f = v0*cosd(theta)*t;\n",
    "endfunction\n",
    "\n",
    "v0 = 30;\n",
    "theta = 60;\n",
    "g = 9.81;\n",
    "\n",
    "t_d = 2*v0*sind(theta)/g;\n",
    "\n",
    "N = 100;\n",
    "\n",
    "t_ler = linspace(0,t_d,N);\n",
    "\n",
    "y_konumlari = atis_y(v0,theta,t_ler);\n",
    "x_konumlari = atis_x(v0,theta,t_ler);\n",
    "\n",
    "plot(t_ler,y_konumlari,\"-*\")\n",
    "xlabel(\"t (s)\")\n",
    "ylabel(\"y (m)\")\n",
    "title(\"Zamana Gore Yukseklik Grafigi\")\n"
   ]
  },
  {
   "cell_type": "code",
   "execution_count": 10,
   "metadata": {},
   "outputs": [
    {
     "data": {
      "image/png": "[encoded data removed]",
      "text/plain": [
       "<IPython.core.display.Image object>"
      ]
     },
     "metadata": {},
     "output_type": "display_data"
    }
   ],
   "source": [
    "plot(x_konumlari,y_konumlari,\"r-*\")\n",
    "xlabel(\"x (m)\")\n",
    "ylabel(\"y (m)\")\n",
    "title(\"Parcacigin Yorunge Grafigi\")"
   ]
  },
  {
   "cell_type": "markdown",
   "metadata": {},
   "source": [
    "## Fonksiyonlaştırmak\n",
    "Şimdi öyle bir fonksiyon yazalım ki, ona ilk hızımızı ve atış açımızı (opsiyonel olarak da yerçekimsel ivmeyi) verdiğimizde, bize cismimizin toplamda kaç saniye uçtuğunu, ulaştığı maksimum yüksekliği ve yatay yönde kat ettiği menzili söylesin."
   ]
  },
  {
   "cell_type": "code",
   "execution_count": 11,
   "metadata": {},
   "outputs": [
    {
     "name": "stdout",
     "output_type": "stream",
     "text": [
      "Ucus zamani:  5.2968s | Maksimum Yukseklik: 34.404m | Menzil: 79.452m\r\n"
     ]
    }
   ],
   "source": [
    "clear;\n",
    "\n",
    "function [t_d,h_max,R] = ucus_analiz(v0,theta,g=9.81)\n",
    "v0_y = v0*sind(theta);\n",
    "t_d = 2*v0_y/g;\n",
    "t_d_bolu_2 = t_d /2;\n",
    "h_max = v0_y*t_d_bolu_2 - 0.5*g*t_d_bolu_2^2;\n",
    "R = v0*cosd(theta) * t_d;\n",
    "endfunction\n",
    "\n",
    "ilk_hiz = 30;\n",
    "aci = 60;\n",
    "[ucus_zamani,max_yukseklik,menzil] = ucus_analiz(ilk_hiz,aci);\n",
    "printf(\"Ucus zamani: %7.4fs | Maksimum Yukseklik: %6.3fm | Menzil: %6.3fm\\n\",ucus_zamani,max_yukseklik,menzil)"
   ]
  },
  {
   "cell_type": "markdown",
   "metadata": {},
   "source": [
    "ara vermeden, aynı ilk hız için hangi açıda en uzun menzile ulaşacak bulalım:"
   ]
  },
  {
   "cell_type": "code",
   "execution_count": 12,
   "metadata": {},
   "outputs": [
    {
     "name": "stdout",
     "output_type": "stream",
     "text": [
      "sonuclar =\r\n",
      "\r\n",
      "    1.00000    0.10674    0.01397    3.20179\r\n",
      "    2.00000    0.21345    0.05587    6.39968\r\n",
      "    3.00000    0.32010    0.12564    9.58977\r\n",
      "    4.00000    0.42665    0.22321   12.76817\r\n",
      "    5.00000    0.53306    0.34845   15.93103\r\n",
      "    6.00000    0.63932    0.50120   19.07447\r\n",
      "    7.00000    0.74538    0.68129   22.19467\r\n",
      "    8.00000    0.85121    0.88849   25.28783\r\n",
      "    9.00000    0.95679    1.12256   28.35018\r\n",
      "   10.00000    1.06207    1.38320   31.37799\r\n",
      "   11.00000    1.16703    1.67010   34.36758\r\n",
      "   12.00000    1.27163    1.98290   37.31529\r\n",
      "   13.00000    1.37585    2.32124   40.21754\r\n",
      "   14.00000    1.47964    2.68469   43.07079\r\n",
      "   15.00000    1.58299    3.07281   45.87156\r\n",
      "   16.00000    1.68586    3.48514   48.61645\r\n",
      "   17.00000    1.78821    3.92116   51.30210\r\n",
      "   18.00000    1.89001    4.38034   53.92525\r\n",
      "   19.00000    1.99124    4.86214   56.48270\r\n",
      "   20.00000    2.09187    5.36595   58.97134\r\n",
      "   21.00000    2.19185    5.89117   61.38813\r\n",
      "   22.00000    2.29117    6.43716   63.73013\r\n",
      "   23.00000    2.38979    7.00325   65.99448\r\n",
      "   24.00000    2.48769    7.58875   68.17842\r\n",
      "   25.00000    2.58482    8.19294   70.27931\r\n",
      "   26.00000    2.68117    8.81510   72.29456\r\n",
      "   27.00000    2.77670    9.45447   74.22174\r\n",
      "   28.00000    2.87139   10.11025   76.05849\r\n",
      "   29.00000    2.96520   10.78167   77.80258\r\n",
      "   30.00000    3.05810   11.46789   79.45187\r\n",
      "   31.00000    3.15008   12.16808   81.00437\r\n",
      "   32.00000    3.24110   12.88140   82.45817\r\n",
      "   33.00000    3.33113   13.60696   83.81151\r\n",
      "   34.00000    3.42014   14.34389   85.06274\r\n",
      "   35.00000    3.50811   15.09128   86.21033\r\n",
      "   36.00000    3.59502   15.84823   87.25289\r\n",
      "   37.00000    3.68083   16.61382   88.18915\r\n",
      "   38.00000    3.76551   17.38711   89.01796\r\n",
      "   39.00000    3.84905   18.16716   89.73831\r\n",
      "   40.00000    3.93142   18.95302   90.34934\r\n",
      "   41.00000    4.01259   19.74374   90.85028\r\n",
      "   42.00000    4.09254   20.53834   91.24054\r\n",
      "   43.00000    4.17124   21.33586   91.51964\r\n",
      "   44.00000    4.24868   22.13533   91.68723\r\n",
      "   45.00000    4.32481   22.93578   91.74312\r\n",
      "   46.00000    4.39963   23.73623   91.68723\r\n",
      "   47.00000    4.47311   24.53570   91.51964\r\n",
      "   48.00000    4.54523   25.33322   91.24054\r\n",
      "   49.00000    4.61596   26.12782   90.85028\r\n",
      "   50.00000    4.68529   26.91854   90.34934\r\n",
      "   51.00000    4.75319   27.70440   89.73831\r\n",
      "   52.00000    4.81964   28.48445   89.01796\r\n",
      "   53.00000    4.88462   29.25774   88.18915\r\n",
      "   54.00000    4.94812   30.02333   87.25289\r\n",
      "   55.00000    5.01010   30.78028   86.21033\r\n",
      "   56.00000    5.07057   31.52767   85.06274\r\n",
      "   57.00000    5.12948   32.26460   83.81151\r\n",
      "   58.00000    5.18684   32.99016   82.45817\r\n",
      "   59.00000    5.24261   33.70348   81.00437\r\n",
      "   60.00000    5.29679   34.40367   79.45187\r\n",
      "   61.00000    5.34936   35.08989   77.80258\r\n",
      "   62.00000    5.40029   35.76131   76.05849\r\n",
      "   63.00000    5.44958   36.41709   74.22174\r\n",
      "   64.00000    5.49721   37.05646   72.29456\r\n",
      "   65.00000    5.54317   37.67861   70.27931\r\n",
      "   66.00000    5.58743   38.28281   68.17842\r\n",
      "   67.00000    5.63000   38.86831   65.99448\r\n",
      "   68.00000    5.67085   39.43440   63.73013\r\n",
      "   69.00000    5.70997   39.98039   61.38813\r\n",
      "   70.00000    5.74736   40.50561   58.97134\r\n",
      "   71.00000    5.78299   41.00942   56.48270\r\n",
      "   72.00000    5.81686   41.49122   53.92525\r\n",
      "   73.00000    5.84896   41.95040   51.30210\r\n",
      "   74.00000    5.87928   42.38642   48.61645\r\n",
      "   75.00000    5.90780   42.79875   45.87156\r\n",
      "   76.00000    5.93453   43.18687   43.07079\r\n",
      "   77.00000    5.95945   43.55032   40.21754\r\n",
      "   78.00000    5.98255   43.88866   37.31529\r\n",
      "   79.00000    6.00384   44.20146   34.36758\r\n",
      "   80.00000    6.02329   44.48836   31.37799\r\n",
      "   81.00000    6.04091   44.74900   28.35018\r\n",
      "   82.00000    6.05669   44.98307   25.28783\r\n",
      "   83.00000    6.07062   45.19027   22.19467\r\n",
      "   84.00000    6.08270   45.37036   19.07447\r\n",
      "   85.00000    6.09293   45.52311   15.93103\r\n",
      "   86.00000    6.10131   45.64835   12.76817\r\n",
      "   87.00000    6.10783   45.74592    9.58977\r\n",
      "   88.00000    6.11248   45.81569    6.39968\r\n",
      "   89.00000    6.11528   45.85759    3.20179\r\n",
      "   90.00000    6.11621   45.87156    0.00000\r\n",
      "\r\n"
     ]
    }
   ],
   "source": [
    "ucus_zamanlari = [];\n",
    "max_yukseklikler = [];\n",
    "menziller = [];\n",
    "\n",
    "acilar = 1:90;\n",
    "for aci = acilar\n",
    "    [ucus_zamani,max_yukseklik,menzil] = ucus_analiz(ilk_hiz,aci);\n",
    "    ucus_zamanlari = [ucus_zamanlari, ucus_zamani];\n",
    "    max_yukseklikler = [max_yukseklikler, max_yukseklik];\n",
    "    menziller = [menziller, menzil];\n",
    "endfor\n",
    "\n",
    "sonuclar = [acilar' ucus_zamanlari' max_yukseklikler' menziller']"
   ]
  },
  {
   "cell_type": "markdown",
   "metadata": {},
   "source": [
    "Görüldüğü üzere, en uzun uçuş süresine ve en yükseğe tam tepeye atıldığında, $\\theta=90^{o}$ olduğunda ulaşıyor ($t_d = 6.11621\\text{s}$ ve $h_{max} = 45.87156\\text{m}$ ile) ama en uzağa 91.74312m ile $\\theta=45^{o}$ ile atıldığında ulaşıyor ki, Fizik I dersini düşündüğümüzde bu bir sürpriz olmamalı! ;)\n",
    "\n",
    "Bir de açılara bağlı olarak grafiklerini çizdirip, tamamlayalım:"
   ]
  },
  {
   "cell_type": "code",
   "execution_count": 13,
   "metadata": {},
   "outputs": [
    {
     "data": {
      "image/png": "[encoded data removed]",
      "text/plain": [
       "<IPython.core.display.Image object>"
      ]
     },
     "metadata": {},
     "output_type": "display_data"
    }
   ],
   "source": [
    "plot(acilar,ucus_zamanlari,\"-*\");\n",
    "xlabel(\"Aci (derece)\");\n",
    "ylabel(\"Ucus zamani (s)\");\n",
    "title(\"Acilara gore ucus zamanlari\");"
   ]
  },
  {
   "cell_type": "code",
   "execution_count": 14,
   "metadata": {},
   "outputs": [
    {
     "data": {
      "image/png": "[encoded data removed]",
      "text/plain": [
       "<IPython.core.display.Image object>"
      ]
     },
     "metadata": {},
     "output_type": "display_data"
    }
   ],
   "source": [
    "plot(acilar,max_yukseklikler,\"r-o\");\n",
    "xlabel(\"Aci (derece)\");\n",
    "ylabel(\"Maksimum yukseklik (m)\");\n",
    "title(\"Acilara gore maksimum yukseklikler\");"
   ]
  },
  {
   "cell_type": "code",
   "execution_count": 15,
   "metadata": {},
   "outputs": [
    {
     "data": {
      "image/png": "[encoded data removed]",
      "text/plain": [
       "<IPython.core.display.Image object>"
      ]
     },
     "metadata": {},
     "output_type": "display_data"
    }
   ],
   "source": [
    "plot(acilar,menziller,\"k-^\");\n",
    "xlabel(\"Aci (derece)\");\n",
    "ylabel(\"Menzil (m)\");\n",
    "title(\"Acilara gore menziller\");"
   ]
  },
  {
   "cell_type": "markdown",
   "metadata": {},
   "source": [
    "# Bonus: Güzel grafikler, cici grafikler (Ek bilgi, ilgilenirseniz diye)\n",
    "Şimdiye kadar grafiklerimizi hep bir grafik bir panelin içinde ya da iki veya daha fazla grafiği üst üste bindirip, yine tek bir panel içinde olacak şekilde çizegeldik.\n",
    "\n",
    "Fakat, elimizde birden fazla grafik olduğunda bunları derli toplu yerleştirmek için `subplot()` komutunu kullanıyoruz. Bu komut, panelimizi belirttiğimiz satır ve sütuna bölüyor, sonra soldan sağa, yukarıdan aşağıya giderek bunları numaralandırıyor. Örneğin, subplot(2,3,5) ile kast ettiğimiz panelimizin 2 satır, 3 sütuna bölünüp, alttaki satırın orta sütununu aktif hale getirip, bir sonraki plot() komutumuzun sonucunun oraya çizdirilmesi. 5.'nin orası olduğunu nasıl hesapladım? En üst, en soldakine 1 deyip, soldan sağa, yukarıdan aşağı ilerleyip numaralandırarak:\n",
    "\n",
    "<pre>+-----+-----+-----+\n",
    "|  1  |  2  |  3  |\n",
    "+-----+-----+-----+\n",
    "|  4  |  5  |  6  |\n",
    "+-----+-----+-----+</pre>"
   ]
  },
  {
   "cell_type": "code",
   "execution_count": 16,
   "metadata": {},
   "outputs": [
    {
     "data": {
      "image/png": "[encoded data removed]",
      "text/plain": [
       "<IPython.core.display.Image object>"
      ]
     },
     "metadata": {},
     "output_type": "display_data"
    }
   ],
   "source": [
    "subplot(2,2,1);\n",
    "plot(acilar,ucus_zamanlari,\"-*\");\n",
    "xlabel(\"Aci (derece)\");\n",
    "ylabel(\"Ucus zamani (s)\");\n",
    "title(\"Acilara gore ucus zamanlari\");\n",
    "\n",
    "subplot(2,2,2);\n",
    "plot(acilar,max_yukseklikler,\"r-o\");\n",
    "xlabel(\"Aci (derece)\");\n",
    "ylabel(\"Maksimum yukseklik (m)\");\n",
    "title(\"Acilara gore maksimum yukseklikler\");\n",
    "\n",
    "subplot(2,2,3);\n",
    "plot(acilar,menziller,\"k-^\");\n",
    "xlabel(\"Aci (derece)\");\n",
    "ylabel(\"Menzil (m)\");\n",
    "title(\"Acilara gore menziller\");\n",
    "\n",
    "subplot(2,2,4);\n",
    "plot(menziller/2,max_yukseklikler,\"ms\");\n",
    "xlabel(\"? 8)\");\n",
    "ylabel(\"? ;)\");\n",
    "title(\"Bakalim bunu yorumlayabilecek misiniz?\");"
   ]
  },
  {
   "cell_type": "markdown",
   "metadata": {},
   "source": [
    "# Meydan okumalar (_Challenges_)\n",
    "Kendini zorlamak isteyenlere iki tane meydan okuma. Ödev değildir, kesinlikle sınavınızdan önce ilgilenmenizi tavsiye etmiyorum, örneğin finallerden sonraki ara tatilde canınız sıkılırsa aklınızda olsun. Çözebilirseniz bana e-posta ile gönderebilirsiniz ama ancak bu dönemin notlarını verdikten sonra (ve o zamandan sonra da hatırlatırsanız!) incelerim. (Özetle demek istediğim, ilginizi çekerse yapmaya çalışın fakat yapın ya da yapmayın, ders notunuza doğrudan bir katkısı olmayacak, o nedenle eğer ilk iki denemenizde olmuyorsa, finallerin sonrasına bırakmanızı tavsiye ederim -- her hâlükârda notlar teslim edilene kadar kontrol etmeyeceğim 8)\n",
    "\n",
    "## İleri düzey fonksiyonlaştırmak\n",
    "Yukarıda, \"Fonksiyonlaştırmak\" başlıklı kısımda, cismi en uzağa taşıyacak açıyı bulmaya çalışırken, açılar üzerinden _for..._ döngüsü ile ilerledik. Halbuki bize yakışan:\n",
    "\n",
    "`[ucus_zamanlari,max_yukseklikler,menziller] = ucus_analiz(ilk_hiz,acilar);`\n",
    "\n",
    "şeklinde, çat! diye, tek bir çağırışta, hiçbir _for..._ döngüsü kullanmadan sonuca ulaşabilmek olmalıydı. Fonksiyonu bu şekilde (ve tabii ki fonksiyonun içinde de _for..._ kullanmadan yazabilir misiniz?\n",
    "## Korsan gemisini vuran top\n",
    "Halliday & Resnick'in \"Fiziğin Temelleri\" kitabında değişik bir örnek vardır: Sahildeki bir top $v_0 = 82\\text{m/s}$ ilk hızla gülle atabiliyor. $R=560\\text{m}$ ötedeki bir korsan gemisini vurması için gerekli açıyı sorar. Soru çok ilginç değil ama çözümü sonucunda bir değil, iki doğru açı çıkar.\n",
    "\n",
    "Bu açıları, analitik yoldan değil de, nümerik yoldan tespit edip, iki atışın yörüngesini (yani x-y grafiklerini) aynı grafik üzerinde çizdirebilir misiniz?"
   ]
  }
 ],
 "metadata": {
  "kernelspec": {
   "display_name": "Octave",
   "language": "octave",
   "name": "octave"
  },
  "language_info": {
   "file_extension": ".m",
   "help_links": [
    {
     "text": "GNU Octave",
     "url": "https://www.gnu.org/software/octave/support.html"
    },
    {
     "text": "Octave Kernel",
     "url": "https://github.com/Calysto/octave_kernel"
    },
    {
     "text": "MetaKernel Magics",
     "url": "https://metakernel.readthedocs.io/en/latest/source/README.html"
    }
   ],
   "mimetype": "text/x-octave",
   "name": "octave",
   "version": "4.0.0"
  }
 },
 "nbformat": 4,
 "nbformat_minor": 2
}
