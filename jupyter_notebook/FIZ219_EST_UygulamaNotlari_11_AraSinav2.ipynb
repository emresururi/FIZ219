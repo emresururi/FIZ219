{
 "cells": [
  {
   "cell_type": "markdown",
   "metadata": {},
   "source": [
    "# Uygulama Notları: 11\n",
    "## FİZ219 - Bilgisayar Programlama I | 20/01/2020\n",
    "\n",
    "* 2. Ara Sınav Soru ve Çözümleri\n",
    "\n",
    "Emre S. Tasci <emre.tasci@hacettepe.edu.tr>\n"
   ]
  },
  {
   "cell_type": "markdown",
   "metadata": {},
   "source": [
    "**1\\. Soru**"
   ]
  },
  {
   "cell_type": "code",
   "execution_count": 1,
   "metadata": {},
   "outputs": [],
   "source": [
    "function p = piramit(x)\n",
    "toplam=0;\n",
    "for i=1:x\n",
    "    printf('\\n');\n",
    "    for j=1:i\n",
    "        printf('%d ',j);\n",
    "        toplam = toplam + j;\n",
    "    endfor\n",
    "endfor\n",
    "p=toplam;\n",
    "end"
   ]
  },
  {
   "cell_type": "code",
   "execution_count": 2,
   "metadata": {},
   "outputs": [
    {
     "name": "stdout",
     "output_type": "stream",
     "text": [
      "\r\n",
      "1 \r\n",
      "1 2 \r\n",
      "1 2 3 \r\n",
      "1 2 3 4 \r\n",
      "1 2 3 4 5 ans =  35\r\n"
     ]
    }
   ],
   "source": [
    "piramit(5)"
   ]
  },
  {
   "cell_type": "markdown",
   "metadata": {},
   "source": [
    "**2. Soru**\n",
    "\n",
    "Aşağıdaki satırlarda önce yazım hatalarını işaretleyip, alttaki kutuya düzeltilmiş halini yazın; sonra da düzeltilmiş hali çalıştırdığınızda ekrana gelecek çıktıyı:  \n",
    "`x’=-5;  y=abs[x]; z = 312.23456789\n",
    "printf(x in degeri: 8.4%f - y nin degeri: %2.1f z nin degeri: %6.2./n,x,y`"
   ]
  },
  {
   "cell_type": "code",
   "execution_count": 3,
   "metadata": {},
   "outputs": [
    {
     "name": "stdout",
     "output_type": "stream",
     "text": [
      "x in degeri:  -5.0000 - y nin degeri: 5.0 - z nin degeri: 312.23.\r\n"
     ]
    }
   ],
   "source": [
    "x=-5; y=abs(x); z = 312.23456789;\n",
    "printf(\"x in degeri: %8.4f - y nin degeri: %2.1f - z nin degeri: %6.2f.\\n\",x,y,z)"
   ]
  },
  {
   "cell_type": "markdown",
   "metadata": {},
   "source": [
    "**3. Soru**\n",
    "\n",
    "$\\vec{a} = 6 \\hat{i} -2 \\hat{j}+3\\hat{k}$ ve $\\vec{b} = 3 \\hat{i} +4 \\hat{j}-2\\hat{k}$ vektörleri arasındaki açıyı (derece cinsinden) hesaplayan kod yazın.\n",
    "\n",
    "İpucu: $\\vec{a} \\cdot \\vec{b} = |\\vec{a}|  |\\vec{b}|  \\cos{\\theta}$ ve aynı zamanda $\\vec{a} \\cdot \\vec{b} = \\sum_{i}{a_i . b_i}$"
   ]
  },
  {
   "cell_type": "code",
   "execution_count": 4,
   "metadata": {},
   "outputs": [
    {
     "name": "stdout",
     "output_type": "stream",
     "text": [
      "theta =  83.909\r\n"
     ]
    }
   ],
   "source": [
    "a = [6 -2 3];\n",
    "b = [3 4 -2];\n",
    "boy_a = norm(a);\n",
    "boy_b = norm(b);\n",
    "a_dot_b = dot(a,b);\n",
    "cos_theta = a_dot_b / (boy_a * boy_b);\n",
    "theta = acosd(cos_theta)\n"
   ]
  },
  {
   "cell_type": "code",
   "execution_count": 5,
   "metadata": {},
   "outputs": [
    {
     "name": "stdout",
     "output_type": "stream",
     "text": [
      "theta =  83.909\r\n"
     ]
    }
   ],
   "source": [
    "# Mumkun mertebe her seyi biz yapalim derseniz:\n",
    "a = [6 -2 3];\n",
    "b = [3 4 -2];\n",
    "\n",
    "boy_a = 0;\n",
    "boy_b = 0;\n",
    "a_dot_b = 0;\n",
    "\n",
    "for i = 1:3\n",
    "    boy_a = boy_a + a(i)^2;\n",
    "    boy_b = boy_b + b(i)^2;\n",
    "    a_dot_b = a_dot_b + a(i)*b(i);\n",
    "endfor\n",
    "boy_a = sqrt(boy_a);\n",
    "boy_b = sqrt(boy_b);\n",
    "\n",
    "cos_theta = a_dot_b / (boy_a * boy_b);\n",
    "theta = acosd(cos_theta)"
   ]
  },
  {
   "cell_type": "markdown",
   "metadata": {},
   "source": [
    "**4. Soru**\n",
    "\n",
    "Bir dersin ağırlıklı yıl sonu ortalaması 2 ara sınavın notları ortalamasının %50’si, genel sınav notunun da %50’si alınıp, bunlar toplanarak hesaplanmaktadır. Parametre olarak bir öğrencinin 1. ara sınav, 2. ara sınav ve genel sınav notları verildiğinde, ağırlıklı yıl sonu ortalamasını hesaplayıp döndüren “ortalama” adında bir fonksiyon yazın."
   ]
  },
  {
   "cell_type": "code",
   "execution_count": 6,
   "metadata": {
    "scrolled": true
   },
   "outputs": [
    {
     "name": "stdout",
     "output_type": "stream",
     "text": [
      "ans =  65\r\n"
     ]
    }
   ],
   "source": [
    "# (tercihen) \"ortalama.m\" dosyasına\n",
    "function ort = ortalama(s1,s2,s3)\n",
    "ort = (s1+s2)/4 + s3/2;\n",
    "endfunction\n",
    "\n",
    "# Deneyelim:\n",
    "ortalama(40,60,80)"
   ]
  },
  {
   "cell_type": "markdown",
   "metadata": {},
   "source": [
    "**_Bonus:_** Fonksiyonumuza sadece bir öğrencinin notlarını değil, 150 kişilik bir sınıfın üç sınavının da notlarını içeren (150x3)lük bir “notlar” matrisi beslediğimizde ortalamaları (150x1)lik matris (/sütun vektörü) olarak döndürsün."
   ]
  },
  {
   "cell_type": "code",
   "execution_count": 7,
   "metadata": {},
   "outputs": [
    {
     "name": "stdout",
     "output_type": "stream",
     "text": [
      "ans =\n",
      "\n",
      "   71   94   73\n",
      "   56   33   60\n",
      "   27   62   40\n",
      "   33    9   96\n",
      "   77   65   94\n",
      "\n",
      "ans =\n",
      "\n",
      "   77.750\n",
      "   52.250\n",
      "   42.250\n",
      "   58.500\n",
      "   82.500\n",
      "\n"
     ]
    }
   ],
   "source": [
    "function ort = ortalama2(notlar)\n",
    "ort = (notlar(:,1) + notlar(:,2))/4 + notlar(:,3)/2;\n",
    "endfunction\n",
    "\n",
    "# Deneyelim\n",
    "notlar = randi([0 100],[150 3]);\n",
    "notlar(1:5,:)\n",
    "\n",
    "ortalamalar = ortalama2(notlar);\n",
    "ortalamalar(1:5)"
   ]
  },
  {
   "cell_type": "markdown",
   "metadata": {},
   "source": [
    "**Soru 5**\n",
    "Aşağıdaki adımları yapan bir program yazın. Eğer yapamadığınız adım olursa, diğer adıma geçip, yapamadığınız adımın sonucunun belirtilen değişkende bulunduğunu varsayıp yolunuza o şekilde devam edebilirsiniz (ilk şıkta “m”; ikinci şıkta “k70” & “be70” dizileri).  "
   ]
  },
  {
   "cell_type": "markdown",
   "metadata": {},
   "source": [
    " **i)** [60,80) aralığında (yani ) düzgün olasılık dağılımına uygun 100 tane rastgele ondalıklı sayı üretin, bunları m dizisinde/vektöründe toplayın (İpucu: rand() komutunu bu şekliyle çağırdığınızda [0,1) aralığında, düzgün olasılık dağılımına uygun bir sayı döndürdüğü bilgisiyle işe başlayabilirsiniz)."
   ]
  },
  {
   "cell_type": "code",
   "execution_count": 8,
   "metadata": {
    "scrolled": false
   },
   "outputs": [
    {
     "name": "stdout",
     "output_type": "stream",
     "text": [
      "ans =\n",
      "\n",
      "   71.011   69.698   66.001   61.433   72.091\n",
      "\n",
      "ans =  60.047\n",
      "ans =  79.920\n"
     ]
    }
   ],
   "source": [
    "m = rand([1,100]) * 20 + 60;\n",
    "\n",
    "# ilk 5'ini yazdiralim:\n",
    "m(1:5)\n",
    "# Araligi kontrol edelim:\n",
    "min(m)\n",
    "max(m)"
   ]
  },
  {
   "cell_type": "markdown",
   "metadata": {},
   "source": [
    "**ii)** Sonrasında bunların 70’ten küçük olanlarını k70; 70’e eşit veya ondan büyük olanlarını da be70 adlarındaki iki dizide gruplayın."
   ]
  },
  {
   "cell_type": "code",
   "execution_count": 9,
   "metadata": {
    "scrolled": true
   },
   "outputs": [
    {
     "name": "stdout",
     "output_type": "stream",
     "text": [
      "ans =  60.047\n",
      "ans =  69.985\n",
      "ans =  70.390\n",
      "ans =  79.920\n"
     ]
    }
   ],
   "source": [
    "k70 = m(m<70);\n",
    "be70 = m(m>=70);\n",
    "\n",
    "# Kontrol edelim:\n",
    "min(k70)\n",
    "max(k70)\n",
    "min(be70)\n",
    "max(be70)"
   ]
  },
  {
   "cell_type": "markdown",
   "metadata": {},
   "source": [
    "**iii)** 70’ten küçük olanların kaçının [60,61) aralığında; kaçının [61,62) aralığında; … kaçının [69,70) aralığında olduğunu saydırıp ekrana yazdırın"
   ]
  },
  {
   "cell_type": "code",
   "execution_count": 10,
   "metadata": {},
   "outputs": [
    {
     "name": "stdout",
     "output_type": "stream",
     "text": [
      "[60 - 61) araliginda 8 adet sayi vardir.\n",
      "[61 - 62) araliginda 4 adet sayi vardir.\n",
      "[62 - 63) araliginda 5 adet sayi vardir.\n",
      "[63 - 64) araliginda 6 adet sayi vardir.\n",
      "[64 - 65) araliginda 6 adet sayi vardir.\n",
      "[65 - 66) araliginda 3 adet sayi vardir.\n",
      "[66 - 67) araliginda 6 adet sayi vardir.\n",
      "[67 - 68) araliginda 6 adet sayi vardir.\n",
      "[68 - 69) araliginda 4 adet sayi vardir.\n",
      "[69 - 70) araliginda 9 adet sayi vardir.\n",
      "ans =\n",
      "\n",
      "   68.804   68.552   68.583   68.214\n",
      "\n"
     ]
    }
   ],
   "source": [
    "toplam = length(k70);\n",
    "for ust_sinir=61:70\n",
    "    alt_sinir = ust_sinir -1;\n",
    "    ust_sinir_dan_kucuk_olanlar = sum(k70<ust_sinir);\n",
    "    alt_sinir_dan_buyuk_esit_olanlar = sum(k70>=alt_sinir);\n",
    "    ortak_olanlar = ust_sinir_dan_kucuk_olanlar + alt_sinir_dan_buyuk_esit_olanlar ...\n",
    "    - toplam;\n",
    "    printf(\"[%d - %d) araliginda %d adet sayi vardir.\\n\",alt_sinir,...\n",
    "    ust_sinir,ortak_olanlar)\n",
    "endfor\n",
    "\n",
    "# Bir araligi acip kontrol edelim:\n",
    "k70(k70>=68 & k70<69)"
   ]
  },
  {
   "cell_type": "code",
   "execution_count": 11,
   "metadata": {},
   "outputs": [
    {
     "name": "stdout",
     "output_type": "stream",
     "text": [
      "[60 - 61) araliginda 8 adet sayi vardir.\r\n",
      "[61 - 62) araliginda 4 adet sayi vardir.\r\n",
      "[62 - 63) araliginda 5 adet sayi vardir.\r\n",
      "[63 - 64) araliginda 6 adet sayi vardir.\r\n",
      "[64 - 65) araliginda 6 adet sayi vardir.\r\n",
      "[65 - 66) araliginda 3 adet sayi vardir.\r\n",
      "[66 - 67) araliginda 6 adet sayi vardir.\r\n",
      "[67 - 68) araliginda 6 adet sayi vardir.\r\n",
      "[68 - 69) araliginda 4 adet sayi vardir.\r\n",
      "[69 - 70) araliginda 9 adet sayi vardir.\r\n"
     ]
    }
   ],
   "source": [
    "# Alternatif hesap yontemi\n",
    "for ust_sinir=61:70\n",
    "    alt_sinir = ust_sinir -1;\n",
    "    ust_sinir_dan_kucuk_olanlar = sum(k70<ust_sinir);\n",
    "    alt_sinir_dan_kucuk_olanlar = sum(k70<alt_sinir);\n",
    "    ortak_olanlar = ust_sinir_dan_kucuk_olanlar - alt_sinir_dan_kucuk_olanlar;\n",
    "    printf(\"[%d - %d) araliginda %d adet sayi vardir.\\n\",alt_sinir,...\n",
    "    ust_sinir,ortak_olanlar)\n",
    "endfor"
   ]
  },
  {
   "cell_type": "code",
   "execution_count": 12,
   "metadata": {},
   "outputs": [
    {
     "name": "stdout",
     "output_type": "stream",
     "text": [
      "[60 - 61) araliginda 8 adet sayi vardir.\r\n",
      "[61 - 62) araliginda 4 adet sayi vardir.\r\n",
      "[62 - 63) araliginda 5 adet sayi vardir.\r\n",
      "[63 - 64) araliginda 6 adet sayi vardir.\r\n",
      "[64 - 65) araliginda 6 adet sayi vardir.\r\n",
      "[65 - 66) araliginda 3 adet sayi vardir.\r\n",
      "[66 - 67) araliginda 6 adet sayi vardir.\r\n",
      "[67 - 68) araliginda 6 adet sayi vardir.\r\n",
      "[68 - 69) araliginda 4 adet sayi vardir.\r\n",
      "[69 - 70) araliginda 9 adet sayi vardir.\r\n"
     ]
    }
   ],
   "source": [
    "# Akillica bir yontem! (uzerinde calismanizi oneririm 8)\n",
    "for ust_sinir=61:70\n",
    "    alt_sinir = ust_sinir -1;\n",
    "    ortak_olanlar = (k70<ust_sinir) + (k70>=alt_sinir);\n",
    "    ortak_olanlar = sum (ortak_olanlar==2);\n",
    "    printf(\"[%d - %d) araliginda %d adet sayi vardir.\\n\",alt_sinir,...\n",
    "    ust_sinir,ortak_olanlar)\n",
    "endfor"
   ]
  },
  {
   "cell_type": "code",
   "execution_count": 13,
   "metadata": {},
   "outputs": [
    {
     "name": "stdout",
     "output_type": "stream",
     "text": [
      "[60 - 61) araliginda 8 adet sayi vardir.\r\n",
      "[61 - 62) araliginda 4 adet sayi vardir.\r\n",
      "[62 - 63) araliginda 5 adet sayi vardir.\r\n",
      "[63 - 64) araliginda 6 adet sayi vardir.\r\n",
      "[64 - 65) araliginda 6 adet sayi vardir.\r\n",
      "[65 - 66) araliginda 3 adet sayi vardir.\r\n",
      "[66 - 67) araliginda 6 adet sayi vardir.\r\n",
      "[67 - 68) araliginda 6 adet sayi vardir.\r\n",
      "[68 - 69) araliginda 4 adet sayi vardir.\r\n",
      "[69 - 70) araliginda 9 adet sayi vardir.\r\n"
     ]
    }
   ],
   "source": [
    "# Gormediginiz '&' (\"VE\") operatoru kullanarak:\n",
    "for ust_sinir=61:70\n",
    "    alt_sinir = ust_sinir -1;\n",
    "    ortak_olanlar = sum(k70<ust_sinir & k70>=alt_sinir);\n",
    "    printf(\"[%d - %d) araliginda %d adet sayi vardir.\\n\",alt_sinir,...\n",
    "    ust_sinir,ortak_olanlar)\n",
    "endfor"
   ]
  },
  {
   "cell_type": "markdown",
   "metadata": {},
   "source": [
    "**Bonus Soru**\n",
    "$h_0$ yüksekliğinden serbest düşmeye bırakılan bir top yere her çarpışından sonra bir önceki seferde ulaştığı en yüksek mesafenin yarısına kadar geri çıkabiliyor. \n",
    "\n",
    "Bu topun verilen $h_0$ başlangıç yüksekliği için zamana göre yüksekliğini hesaplayıp çizen bir program yazın.\n",
    "\n",
    "İpucu: $y(t) = y_0 + v_0 \\cdot t + \\frac{1}{2}at^2$ $\\rightarrow y(t) = h_0 - \\frac{1}{2}gt^2$"
   ]
  },
  {
   "cell_type": "code",
   "execution_count": 14,
   "metadata": {},
   "outputs": [],
   "source": [
    "# (tercihen) \"bouncy_y_t.m\" dosyasina\n",
    "function [y,t] = bouncy_y_t(h00,g=9.8,n_t=100)\n",
    "# Calculates the altitude of a free falling object \n",
    "# released from an initial height of h0, under \n",
    "# gravitational acc. g, from t=0 to y=0 with\n",
    "# the n_t time intervals\n",
    "#\n",
    "# Emre S. Tasci <emre.tasci@hacettepe.edu.tr>\n",
    "# 26/12/2019\n",
    "\n",
    "h0 = abs(h00);\n",
    "\n",
    "t_f = sqrt(2*h0/g);\n",
    "t = linspace(0,t_f,n_t);\n",
    "y = h0-0.5*g*t.^2;\n",
    "    \n",
    "if(h00<0)\n",
    "    t = [t t(end)+t];\n",
    "    yl=flip(y);\n",
    "    y = [yl y];\n",
    "endif\n",
    "\n",
    "endfunction"
   ]
  },
  {
   "cell_type": "code",
   "execution_count": 15,
   "metadata": {},
   "outputs": [
    {
     "data": {
      "image/png": "[encoded data removed]",
      "text/plain": [
       "<IPython.core.display.Image object>"
      ]
     },
     "metadata": {},
     "output_type": "display_data"
    }
   ],
   "source": [
    "%clear;\n",
    "\n",
    "y = [];\n",
    "t = [];\n",
    "\n",
    "h0 = 120;\n",
    "h00 = h0;\n",
    "[yp,tp] = bouncy_y_t(h00,9.8,10);\n",
    "[y] = [y yp];\n",
    "[t] = [t tp];\n",
    "\n",
    "for i=1:6\n",
    "h00 /= 2;\n",
    "end_tp = t(end);\n",
    "[yp,tp] = bouncy_y_t(-h00,9.8,10);\n",
    "[y] = [y yp];\n",
    "[t] = [t end_tp+tp];\n",
    "endfor\n",
    "\n",
    "plot(t,y,\"-ok\");\n",
    "yticks(0:10:h0);\n",
    "ylim([0 h0]);\n",
    "xlim([0 t(end)]);\n"
   ]
  }
 ],
 "metadata": {
  "kernelspec": {
   "display_name": "Octave",
   "language": "octave",
   "name": "octave"
  },
  "language_info": {
   "file_extension": ".m",
   "help_links": [
    {
     "text": "GNU Octave",
     "url": "https://www.gnu.org/software/octave/support.html"
    },
    {
     "text": "Octave Kernel",
     "url": "https://github.com/Calysto/octave_kernel"
    },
    {
     "text": "MetaKernel Magics",
     "url": "https://metakernel.readthedocs.io/en/latest/source/README.html"
    }
   ],
   "mimetype": "text/x-octave",
   "name": "octave",
   "version": "5.1.0"
  }
 },
 "nbformat": 4,
 "nbformat_minor": 2
}
