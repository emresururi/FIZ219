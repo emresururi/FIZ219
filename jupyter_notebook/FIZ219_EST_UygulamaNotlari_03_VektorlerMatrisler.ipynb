{
 "cells": [
  {
   "cell_type": "markdown",
   "metadata": {},
   "source": [
    "# Uygulama Notları: 3\n",
    "## FİZ219 - Bilgisayar Programlama I | 23/10/2020\n",
    "\n",
    "* Vektörler\n",
    "  * Vektörlerin elemanlarına erişim\n",
    "  * Vektör bileşenlerine değer atama\n",
    "  * Sütun vektörleri\n",
    "  * Vektörleri devirmek (transpose)\n",
    "* Vektörlerin dahil olduğu çarpımlar\n",
    "  * Bir vektörün bir skalerle çarpımı\n",
    "  * İki vektörün skaler çarpımı\n",
    "  * İki vektörün vektör çarpımı\n",
    "* Matrisler\n",
    "* Aralık operatörü (:)\n",
    "* Matris İşlemleri\n",
    "  * Devrik matrisler\n",
    "  * Matrislerin toplaması, çıkarılması\n",
    "* Özel Matrisler (Sıfır, Bir, Birim)\n",
    "  * Matrislerin çarpılması\n",
    "    * Skaler-matris çarpımı\n",
    "    * Matris-matris çarpımı\n",
    "    * İki matrisin eleman bazında çarpımı\n",
    "  * Matrisin Tersi\n",
    " \n",
    "Emre S. Tasci <emre.tasci@hacettepe.edu.tr>\n"
   ]
  },
  {
   "cell_type": "markdown",
   "metadata": {},
   "source": [
    "## Vektörler\n",
    "Fizikte gördüğümüz vektörlerin skalerlerden ayırt edici özelliği belli bir büyüklüğe **ve** yöne sahip olmalıydı. Yönlerini bileşenlerinin büyüklüğü belirliyordu. Fizikte, yaşadığımız evrene uygun olarak, genel olarak 3 boyutlu vektörlerle ilgilendik (sicim teorisi 10 (M-teoriye giderseniz 11'miş hatta) boyutlu vektörlerle çalışmakta), ama matematikten biliyoruz ki, 3'ten çok, _n_- boyutlu vektörler de mevcut. Hatta bir vektör illaki fiziksel bir niceliğe işaret etmek zorunda da değil. Bir excel çalışma sayfasını açıp, bir sütuna sırası ile yukarıdan aşağıya adınızı, soyadınızı, numaranızı, boyunuzu, derslerden aldığınız notları vs. yazdığınızda bu da bir vektördür (_sütun vektörü_); bu verileri bir sütun boyunca değil de, satır boyunca soldan sağa yazdığınızda ise yine bir vektör elde edersiniz (_satır vektörü_). Yeter ki tek bir derecede (yani ya bir sütunda, ya da bir satırda kalın). Vektörünüzün kaç bileşeni varsa, vektörünüz o boyutlu vektör olur."
   ]
  },
  {
   "cell_type": "markdown",
   "metadata": {},
   "source": [
    "İşe bilgisayar açısından bakarsak, vektör dediğimiz şey, birden fazla değeri yan yana (ve önemli: **sıralı**) tutan kutulardan ibaret. Örneğin, nasıl ki  $\\vec{a} = 3\\hat{\\imath}+4\\hat{\\jmath}$ vektörünü bileşenleri cinsinden $(3,4)$ olarak da temsil edebiliyoruz, bu şekilde düşündüğümüzde, vektörleri sayı dizileri olarak da kafamızda canlandırabiliriz."
   ]
  },
  {
   "cell_type": "markdown",
   "metadata": {},
   "source": [
    "Önce eski dost skaler değişkenleri hatırlayalım:"
   ]
  },
  {
   "cell_type": "code",
   "execution_count": 1,
   "metadata": {},
   "outputs": [
    {
     "name": "stdout",
     "output_type": "stream",
     "text": [
      "a =  5\r\n"
     ]
    }
   ],
   "source": [
    "a = 5"
   ]
  },
  {
   "cell_type": "markdown",
   "metadata": {},
   "source": [
    "`a` bir skaler değişken, sadece bir değeri tutar, diyelim ki, iki değişkeni içinde tutan bir sayı dizisi olarak `A`yı tanımlamak istedik:"
   ]
  },
  {
   "cell_type": "code",
   "execution_count": 2,
   "metadata": {},
   "outputs": [
    {
     "name": "stdout",
     "output_type": "stream",
     "text": [
      "A =\r\n",
      "\r\n",
      "   3   4\r\n",
      "\r\n"
     ]
    }
   ],
   "source": [
    "A = [3, 4]"
   ]
  },
  {
   "cell_type": "markdown",
   "metadata": {},
   "source": [
    "Notasyona dikkat! Sayı dizisini köşeli parantez içinde tanımlayıp, değerleri de virgülle ayırdık. Birinci bileşeni 3, ikinci bileşeni 4 olan, iki elemanlı bir sayı dizimiz oldu. Bunu eşdeğer şekilde: \"x yönündeki bileşeni 3 birim uzunluğunda, y yönündeki bileşeni 4 birim uzunluğunda bir vektör\" olarak da yorumlayabilirdik. Böyle bir vektörün boyutunu gerek Pisagor Teoremi'nden, gerekse de vektörlerin büyüklüğünü veren:\n",
    "$$ \\|\\vec{A}\\| = \\sqrt{\\sum_{i}{a_i^2}}$$\n",
    "\n",
    "formülünden hesaplayabiliriz:"
   ]
  },
  {
   "cell_type": "code",
   "execution_count": 3,
   "metadata": {},
   "outputs": [
    {
     "name": "stdout",
     "output_type": "stream",
     "text": [
      "ans =  5\r\n"
     ]
    }
   ],
   "source": [
    "power(3**2 + 4^2, 0.5)"
   ]
  },
  {
   "cell_type": "markdown",
   "metadata": {},
   "source": [
    "_(burada, üs almak için üç farklı ve eşdeğer yöntemi birlikte kullanmamız, züppelikten başka bir şey değildir!.. 8P 8)_ Ayrıca, bir vektörün boyunu (yani _norm_'unu) hesaplamak için, adı üstünde, `norm` komutunu da kullanabiliriz:"
   ]
  },
  {
   "cell_type": "code",
   "execution_count": 4,
   "metadata": {},
   "outputs": [
    {
     "name": "stdout",
     "output_type": "stream",
     "text": [
      "ans =  5\r\n"
     ]
    }
   ],
   "source": [
    "norm(A)"
   ]
  },
  {
   "cell_type": "markdown",
   "metadata": {},
   "source": [
    "### Vektörlerin elemanlarına erişim\n",
    "Bir vektörün (/sayı dizisinin) elemanlarının bulunduğu konumlara _indis_ adı verilir ve Octave'da sayma işlemi 1'den başlar: A vektörümüzün 1. indisi 3'e, 2. indisi ise 4'e eşittir. İstediğimiz indislere erişmek için parantezleri kullanırız:"
   ]
  },
  {
   "cell_type": "code",
   "execution_count": 5,
   "metadata": {},
   "outputs": [
    {
     "name": "stdout",
     "output_type": "stream",
     "text": [
      "ans =  4\r\n"
     ]
    }
   ],
   "source": [
    "# A'nın 2. indisine erişelim:\n",
    "A(2)"
   ]
  },
  {
   "cell_type": "code",
   "execution_count": 6,
   "metadata": {},
   "outputs": [
    {
     "name": "stdout",
     "output_type": "stream",
     "text": [
      "ans =  3\r\n"
     ]
    }
   ],
   "source": [
    "# A'nın 1. indisine erişelim:\n",
    "A(1)"
   ]
  },
  {
   "cell_type": "code",
   "execution_count": 7,
   "metadata": {},
   "outputs": [
    {
     "name": "stdout",
     "output_type": "stream",
     "text": [
      "i =  2\r\n"
     ]
    }
   ],
   "source": [
    "# i diye bir skaler tanımlayıp, değerini 2 yapalım:\n",
    "i = 2"
   ]
  },
  {
   "cell_type": "code",
   "execution_count": 8,
   "metadata": {},
   "outputs": [
    {
     "name": "stdout",
     "output_type": "stream",
     "text": [
      "ans =  4\r\n"
     ]
    }
   ],
   "source": [
    "# Şimdi de A'nın i. indisli elemanına erişelim:\n",
    "A(i)"
   ]
  },
  {
   "cell_type": "markdown",
   "metadata": {},
   "source": [
    "Hiç şaşırtıcı olmadı. Sonuçta 'A(i)' diye bir komut gönderdiğimizde, yorumlayıcı, 'i' gördüğü yere, değeri olan '2'yi yerleştirdiğinden, ha `A(i)` yazmışız, ha `A(2)`. Peki, ya A'nın 2. ve 1. indisli elemanlarını çağırmak istersek?"
   ]
  },
  {
   "cell_type": "code",
   "execution_count": 9,
   "metadata": {},
   "outputs": [
    {
     "name": "stdout",
     "output_type": "stream",
     "text": [
      "ans =\r\n",
      "\r\n",
      "   4   3\r\n",
      "\r\n"
     ]
    }
   ],
   "source": [
    "A([2,1])"
   ]
  },
  {
   "cell_type": "markdown",
   "metadata": {},
   "source": [
    "Dikkat edin, indis olarak, parantez içine parametre olarak istediğimiz indisleri tutan bir sayı dizisi gönderdik: `[2,1]`. Bunu istediğimiz kadar tekrarlayabiliriz, örneğin, A'nın 2., sonra 1., sonra tekrar 1., sonra tekrar 2. indisli bileşenlerini(/elemanlarını) çağıralım:"
   ]
  },
  {
   "cell_type": "code",
   "execution_count": 10,
   "metadata": {},
   "outputs": [
    {
     "name": "stdout",
     "output_type": "stream",
     "text": [
      "ans =\r\n",
      "\r\n",
      "   4   3   3   4\r\n",
      "\r\n"
     ]
    }
   ],
   "source": [
    "A([2,1,1,2])"
   ]
  },
  {
   "cell_type": "markdown",
   "metadata": {},
   "source": [
    "Değişkenleri parametre olarak kullanmayı `A(i)`den biliyoruz, buraya da uygulayalım:"
   ]
  },
  {
   "cell_type": "code",
   "execution_count": 11,
   "metadata": {},
   "outputs": [
    {
     "name": "stdout",
     "output_type": "stream",
     "text": [
      "n =\n",
      "\n",
      "   2   1   1   2\n",
      "\n",
      "ans =\n",
      "\n",
      "   4   3   3   4\n",
      "\n"
     ]
    }
   ],
   "source": [
    "n = [2,1,1,2]\n",
    "A(n)"
   ]
  },
  {
   "cell_type": "markdown",
   "metadata": {},
   "source": [
    "### Vektör bileşenlerine değer atama\n",
    "Elemanlara ulaşabildiğimiz gibi, hazır ulaşmışken onların değerlerini de atayabiliriz -- tek yapmamız gereken yeni değerlerini tanımlamak:"
   ]
  },
  {
   "cell_type": "code",
   "execution_count": 13,
   "metadata": {},
   "outputs": [
    {
     "name": "stdout",
     "output_type": "stream",
     "text": [
      "ans =  5\n",
      "A =\n",
      "\n",
      "   3.0000  -1.5000\n",
      "\n"
     ]
    }
   ],
   "source": [
    "# A'nın 2 indisli elemanını getir:\n",
    "A(2)\n",
    "\n",
    "# A'nın 2 indisli elemanına -1.5 değerini ata:\n",
    "A(2) = -1.5"
   ]
  },
  {
   "cell_type": "code",
   "execution_count": 14,
   "metadata": {},
   "outputs": [
    {
     "name": "stdout",
     "output_type": "stream",
     "text": [
      "ans =  3.3541\r\n"
     ]
    }
   ],
   "source": [
    "norm(A)"
   ]
  },
  {
   "cell_type": "code",
   "execution_count": 15,
   "metadata": {},
   "outputs": [
    {
     "name": "stdout",
     "output_type": "stream",
     "text": [
      "ans =  3.3541\r\n"
     ]
    }
   ],
   "source": [
    "sqrt(3^2+(-1.5)**2)"
   ]
  },
  {
   "cell_type": "code",
   "execution_count": 16,
   "metadata": {
    "scrolled": true
   },
   "outputs": [
    {
     "name": "stdout",
     "output_type": "stream",
     "text": [
      "A =\n",
      "\n",
      "   1   2   3\n",
      "\n",
      "B =\n",
      "\n",
      "   9   5   7\n",
      "\n"
     ]
    }
   ],
   "source": [
    "A = [1 2 3]\n",
    "B = [9 5 7]"
   ]
  },
  {
   "cell_type": "markdown",
   "metadata": {},
   "source": [
    "### Sütun vektörleri\n",
    "`A` ve `B` vektörlerinin ikisi de satır vektörleri (çünkü satır üzerinde tanımlandılar). Bir de sütun vektörleri var: onları da bileşenlerini alt alta yazarak tanımlayabiliriz:"
   ]
  },
  {
   "cell_type": "code",
   "execution_count": 17,
   "metadata": {},
   "outputs": [
    {
     "name": "stdout",
     "output_type": "stream",
     "text": [
      "C =\r\n",
      "\r\n",
      "   4\r\n",
      "   7\r\n",
      "   2\r\n",
      "\r\n"
     ]
    }
   ],
   "source": [
    "C = [4\n",
    "7\n",
    "2]"
   ]
  },
  {
   "cell_type": "markdown",
   "metadata": {},
   "source": [
    "Bu şekilde tanımlamak, yazarken pratik olsa da, sonrasında gidip düzeltme yapabilme açısından çok pratik değildir (alternatifler için bkz. hemen aşağıdaki alt-başlık)."
   ]
  },
  {
   "cell_type": "markdown",
   "metadata": {},
   "source": [
    "### Virgül & Boşluk | Noktalı virgül & _Enter_\n",
    "Satır vektörleri tanımlarken virgül yerine boşluk; sütun vektörleri tanımlarken ise yeni satıra geçmek (yani \"enter'a basmak\") yerine, noktalı virgül kullanabiliriz. Örneğin:"
   ]
  },
  {
   "cell_type": "code",
   "execution_count": 18,
   "metadata": {},
   "outputs": [
    {
     "name": "stdout",
     "output_type": "stream",
     "text": [
      "A =\n",
      "\n",
      "   1   2   3\n",
      "\n",
      "B =\n",
      "\n",
      "   9   5   7\n",
      "\n"
     ]
    }
   ],
   "source": [
    "A = [1 2 3]\n",
    "# virgül ve boşluğu geçişli olarak da kullanabiliriz.\n",
    "# Ayrıca, kaç boşluk bıraktığınız da önemli değildir.\n",
    "B = [9, 5   7 ]"
   ]
  },
  {
   "cell_type": "code",
   "execution_count": 19,
   "metadata": {},
   "outputs": [
    {
     "name": "stdout",
     "output_type": "stream",
     "text": [
      "C =\r\n",
      "\r\n",
      "   4\r\n",
      "   7\r\n",
      "   2\r\n",
      "\r\n"
     ]
    }
   ],
   "source": [
    "C = [4; 7;  2]"
   ]
  },
  {
   "cell_type": "markdown",
   "metadata": {},
   "source": [
    "### Vektörleri devirmek (_transpose_)\n",
    "Bir satır vektörünü sütun vektörüne, veya bir sütun vektörünü satır vektörüne çevirmek için onu deviririz (yani _transpose_'unu alırız):"
   ]
  },
  {
   "cell_type": "code",
   "execution_count": 20,
   "metadata": {},
   "outputs": [
    {
     "name": "stdout",
     "output_type": "stream",
     "text": [
      "ans =\r\n",
      "\r\n",
      "   1\r\n",
      "   2\r\n",
      "   3\r\n",
      "\r\n"
     ]
    }
   ],
   "source": [
    "transpose(A)"
   ]
  },
  {
   "cell_type": "code",
   "execution_count": 21,
   "metadata": {},
   "outputs": [
    {
     "name": "stdout",
     "output_type": "stream",
     "text": [
      "ans =\r\n",
      "\r\n",
      "   4   7   2\r\n",
      "\r\n"
     ]
    }
   ],
   "source": [
    "transpose(C)"
   ]
  },
  {
   "cell_type": "markdown",
   "metadata": {},
   "source": [
    "Bu işlem sıklıkla yapıldığı için, kolaylık olsun diye kesme işareti (') ile de tanımlanmıştır:"
   ]
  },
  {
   "cell_type": "code",
   "execution_count": 22,
   "metadata": {},
   "outputs": [
    {
     "name": "stdout",
     "output_type": "stream",
     "text": [
      "ans =\n",
      "\n",
      "   1\n",
      "   2\n",
      "   3\n",
      "\n",
      "ans =\n",
      "\n",
      "   4   7   2\n",
      "\n"
     ]
    }
   ],
   "source": [
    "A'\n",
    "C'"
   ]
  },
  {
   "cell_type": "markdown",
   "metadata": {},
   "source": [
    "_(Aslında kesme işareti tam olarak transpose() komutunun eşdeğeri değildir, devirme işlemine ek olarak, kompleks konjugesini de alır ama kompleks sayılar bizim göreceklerimizin dışında olduğundan, dersimizde güvenle kullanabiliriz ;)_"
   ]
  },
  {
   "cell_type": "markdown",
   "metadata": {},
   "source": [
    "## Vektörlerin dahil olduğu çarpımlar\n",
    "Vektörler 3 çeşit çarpıma dahil olurlar:\n",
    "1. Bir vektörün bir skalerle çarpımı\n",
    "2. İki vektörün skaler çarpımı\n",
    "3. İki vektörün vektör çarpımı"
   ]
  },
  {
   "cell_type": "markdown",
   "metadata": {},
   "source": [
    "### Bir vektörün bir skalerle çarpımı\n",
    "Bir vektör bir skalerle çarpıldığında doğrultusu (yani üzerinde bulunduğu doğrunun açısı) değişmez, yalnızca büyüklüğü değişir. Eğer çarptığımız skaler negatif bir sayı ise, o zaman vektör ters yönde, fakat yine aynı doğru üzerinde yer alır. Vektörün boyu ise çarpıldığı skalerin mutlak değeri oranında değişir.\n",
    "\n",
    "**Örnek**  \n",
    "$\\vec{A} = \\hat{\\imath}+4\\hat{\\jmath}+3\\hat{k}$ vektörünü $s=5$ sayısı ile çarpalım:"
   ]
  },
  {
   "cell_type": "code",
   "execution_count": 2,
   "metadata": {},
   "outputs": [
    {
     "name": "stdout",
     "output_type": "stream",
     "text": [
      "A =\n",
      "\n",
      "   1   4   3\n",
      "\n",
      "s =  5\n",
      "ans =\n",
      "\n",
      "    5   20   15\n",
      "\n"
     ]
    }
   ],
   "source": [
    "A = [1,4,3]\n",
    "s = 5\n",
    "s*A"
   ]
  },
  {
   "cell_type": "code",
   "execution_count": 3,
   "metadata": {},
   "outputs": [
    {
     "name": "stdout",
     "output_type": "stream",
     "text": [
      "ans =  5.0990\n",
      "ans =  25.495\n"
     ]
    }
   ],
   "source": [
    "# A'nın boyu:\n",
    "norm(A)\n",
    "\n",
    "# çarpımın boyu:\n",
    "norm(s*A)"
   ]
  },
  {
   "cell_type": "code",
   "execution_count": 4,
   "metadata": {},
   "outputs": [
    {
     "name": "stdout",
     "output_type": "stream",
     "text": [
      "ans =  5\r\n"
     ]
    }
   ],
   "source": [
    "# Boyların oranı\n",
    "25.495 / 5.0990"
   ]
  },
  {
   "cell_type": "markdown",
   "metadata": {},
   "source": [
    "### İki vektörün skaler çarpımı\n",
    "Vektörlerin skaler çarpımının İngilizcesi'ne \"scalar product\" denmekte. _Product_ kelimesi de hem \"çarpım\", hem de \"ürün\" anlamına geldiğinden, \"scalar product\" terimini <u>\"skaler ürün\"</u> olarak da okuyabiliriz: yani, sonucumuz (_ürünümüz_) bir skaler olacak -- işleme iki vektör girip, dışarıya bir skaler çıkacak.\n",
    "\n",
    "Octave'da, iki vektörü skaler çarpmak için kullandığımız komut, işlemin diğer adı olan \"nokta çarpım\"dan (_\"dot product\"_) gelen `dot` komutu (aritmetikte çarpmayı hem nokta, hem de çarpım işaretiyle temsil ettiğimizden, vektörlere dair iki farklı çarpma işleminden birini nokta, diğerini ise çarpım işaretiyle temsil ediyoruz).\n",
    "\n",
    "Matematiksel olarak, $\\vec{A}$ ve $\\vec{B}$ vektörlerinin skaler çarpımı şu şekilde tanımlanır:\n",
    "\n",
    "$$\\vec{A}\\cdot\\vec{B} = \\|\\vec{A}\\|\\,\\|\\vec{B}\\|\\,\\cos\\theta$$\n",
    "\n",
    "(burada $\\theta$, iki vektör arasındaki açı olmakta). Bu formülü kullanarak, birim vektörler arasındaki ilişkiyi çıkartabiliriz:\n",
    "\n",
    "$$\\left. \\begin{array}{c} \\hat\\imath \\perp \\hat\\jmath, \\hat{k} \\\\ \\hat\\jmath \\perp \\hat\\imath, \\hat{k} \\\\ \\hat k \\perp \\hat\\jmath, \\hat{\\imath} \\end{array}\\right\\}\\rightarrow \n",
    "\\begin{array}{c} \\hat\\imath\\cdot\\hat\\imath =   \\hat\\jmath\\cdot\\hat\\jmath = \\hat{k}\\cdot\\hat{k} = 1\\\\ \\hat\\imath\\cdot\\hat\\jmath =   \\hat\\jmath\\cdot\\hat{k} = \\hat{k}\\cdot\\hat\\imath = 0 \\end{array}$$\n",
    "\n",
    "$\\vec{A}$ ve $\\vec{B}$ vektörlerinin skaler çarpımının vektörlerin bileşenler üzerinden tanımı ise şöyledir:\n",
    "\n",
    "$$\\vec{A}\\cdot\\vec{B} = \\sum_{i}{a_i .b_i}$$\n",
    "\n",
    "Bu iki formülü birlikte kullanarak, iki vektör arasındaki açı kolayca hesaplanabilir. Örnek olarak $\\vec{A} = \\hat{\\imath}+4\\hat{\\jmath}+3\\hat{k}$ ile, $\\vec{B} = 9\\hat{\\imath}+5\\hat{\\jmath}+7\\hat{k}$ vektörleri arasındaki açıyı hesaplayalım:"
   ]
  },
  {
   "cell_type": "code",
   "execution_count": 5,
   "metadata": {},
   "outputs": [
    {
     "name": "stdout",
     "output_type": "stream",
     "text": [
      "A =\n",
      "\n",
      "   1   4   3\n",
      "\n",
      "B =\n",
      "\n",
      "   9   5   7\n",
      "\n",
      "AB =  50\n"
     ]
    }
   ],
   "source": [
    "A = [1,4,3]\n",
    "B = [9,5,7]\n",
    "AB = A(1)*B(1) + A(2)*B(2) + A(3)*B(3)"
   ]
  },
  {
   "cell_type": "markdown",
   "metadata": {},
   "source": [
    "Bileşen çarpımlarını uzun uzun elle yapmak yerine, doğrudan `dot` komutunu kullanabiliriz:"
   ]
  },
  {
   "cell_type": "code",
   "execution_count": 6,
   "metadata": {},
   "outputs": [
    {
     "name": "stdout",
     "output_type": "stream",
     "text": [
      "AB =  50\r\n"
     ]
    }
   ],
   "source": [
    "AB = dot(A,B)"
   ]
  },
  {
   "cell_type": "markdown",
   "metadata": {},
   "source": [
    "Çarpım için iki eşitliğimiz olduğundan bir tanesini kullanarak bulduğumuz bu sonucu diğerine eşitleyip, açı terimini yalnız bırakırsak:\n",
    "$$\\cos\\theta = \\frac{\\vec{A}\\cdot\\vec{B}}{\\|\\vec{A}\\|\\|\\vec{B}\\|}$$"
   ]
  },
  {
   "cell_type": "code",
   "execution_count": 7,
   "metadata": {},
   "outputs": [
    {
     "name": "stdout",
     "output_type": "stream",
     "text": [
      "costheta =  0.78762\r\n"
     ]
    }
   ],
   "source": [
    "costheta = dot(A,B)/(norm(A)*norm(B))"
   ]
  },
  {
   "cell_type": "markdown",
   "metadata": {},
   "source": [
    "Buradan da bulduğumuz değerin $\\cos^{-1}$ ($\\arccos$) değerini alırsak açıyı radyan cinsinden elde ederiz:"
   ]
  },
  {
   "cell_type": "code",
   "execution_count": 8,
   "metadata": {},
   "outputs": [
    {
     "name": "stdout",
     "output_type": "stream",
     "text": [
      "theta_radyan =  0.66386\r\n"
     ]
    }
   ],
   "source": [
    "theta_radyan = acos(costheta)"
   ]
  },
  {
   "cell_type": "markdown",
   "metadata": {},
   "source": [
    "Radyan cinsinden verilmiş bir açıyı derece cinsine çevirmek için pi'ye bölüp 180 ile çarparız:"
   ]
  },
  {
   "cell_type": "code",
   "execution_count": 9,
   "metadata": {},
   "outputs": [
    {
     "name": "stdout",
     "output_type": "stream",
     "text": [
      "theta_derece =  38.036\r\n"
     ]
    }
   ],
   "source": [
    "theta_derece = theta_radyan / pi * 180"
   ]
  },
  {
   "cell_type": "markdown",
   "metadata": {},
   "source": [
    "Açıları sıklıkla derece ile temsil ettiğimizden dolayı, trigonometrik fonksiyonların doğrudan derece cinsinden açılarla çalışan versiyonları vardır: `cosd`, `sind`, `tand`, `acosd` gibi, sonlarına derece'nin (_degree_) \"d\"sini alırlar. Bu şekilde, tekrar hesaplarsak:"
   ]
  },
  {
   "cell_type": "code",
   "execution_count": 10,
   "metadata": {},
   "outputs": [
    {
     "name": "stdout",
     "output_type": "stream",
     "text": [
      "costheta =  0.78762\n",
      "theta_derece =  38.036\n"
     ]
    }
   ],
   "source": [
    "costheta = dot(A,B)/(norm(A)*norm(B))\n",
    "theta_derece = acosd(costheta)"
   ]
  },
  {
   "cell_type": "markdown",
   "metadata": {},
   "source": [
    "Çok karmaşık görünmeyecekse, bütün işlemleri tek bir komutta toplayabiliriz:"
   ]
  },
  {
   "cell_type": "code",
   "execution_count": 12,
   "metadata": {},
   "outputs": [
    {
     "name": "stdout",
     "output_type": "stream",
     "text": [
      "aci =  38.036\r\n"
     ]
    }
   ],
   "source": [
    "aci = acosd(dot(A,B)/(norm(A)*norm(B)))"
   ]
  },
  {
   "attachments": {
    "3DVectors_CalcPlot3D.png": {
     "image/png": "[encoded data removed]"
    }
   },
   "cell_type": "markdown",
   "metadata": {},
   "source": [
    "Vektörlerin koordinat sistemindeki görüntüleri şu şekilde; aralarındaki açı bakın bakalım $38^o$'ye benziyor mu? ;)\n",
    "![3DVectors_CalcPlot3D.png](attachment:3DVectors_CalcPlot3D.png)\n",
    "\n",
    "\n",
    "Şekli [CalcPlot3D](https://www.monroecc.edu/faculty/paulseeburger/calcnsf/CalcPlot3D/) yardımıyla çizdim, bu işler için gayet faydalı bir araç, aklınızda bulunsun."
   ]
  },
  {
   "cell_type": "markdown",
   "metadata": {},
   "source": [
    "### İki vektörün vektör çarpımı\n",
    "Vektör çarpım (\"vector product\"), \"adı üzerinde\", sonuç olarak vektör çıkartan bir çarpımdır. Sonucun vektör olmasından ötürü, hem boyu, hem de yönü vardır. Yönü de çarpılan iki vektöre dik yöndedir. Nasıl ki iki nokta bir doğru tanımlıyorsa (bir başka deyişle \"iki noktadan bir doğru geçer\"), iki vektör de bir düzlem tanımlar (yani, rasgele iki vektör aldığınızda, bir dosya kağıdını bükmeden bunların ikisini de içerecek şekilde tutabilirsiniz). Bir düzleme dik iki doğrultu olduğundan, çarpım sırası önemlidir, sonuç vektörünün yönünü [sağ el kuralı](https://tr.wikipedia.org/wiki/Sa%C4%9F_el_kural%C4%B1) ile belirleriz.\n",
    "\n",
    "Birbirine paralel ya da anti-paralel iki vektöre sonsuz sayıda dik doğrultu olduğundan, bu şekilde yönlenmiş iki vektörün vektör çarpımı sıfır olur. Bunu sonuç vektörünün büyüklüğünü veren formüldeki $\\sin\\theta$ çarpanının 0 ve $180^o$ derecelerde otomatikman 0 getirmesinden de anlayabiliriz.\n",
    "\n",
    "Çarpım vektörünün boyu:\n",
    "$$\\vec{A}\\times\\vec{B} = \\|\\vec{A}\\|\\,\\|\\vec{B}\\|\\,\\sin\\theta$$\n",
    "ile tanımlanır. Sinüs fonksiyonunun tek fonksiyon olmasından ötürü $\\left(\\sin{-\\theta} = -\\sin{theta}\\right)$:\n",
    "\n",
    "$$\\vec{A}\\times\\vec{B} = -\\vec{B}\\times\\vec{A}$$ \n",
    "\n",
    "olduğu da açıktır.\n",
    "\n",
    "Yönü ise, yukarıda da belirttiğimiz üzere iki çarpan vektöre de dik olacak şekilde çıkar.\n",
    "\n",
    "Yönünü de içeren çarpım formülü biraz karışık görünse de:\n",
    "$$\\vec{A}\\times\\vec{B} = \n",
    " \\left(a_y b_z - a_z b_y\\right)\\hat{\\imath}\n",
    "+\\left(a_z b_x - a_x b_z\\right)\\hat{\\jmath}\n",
    "+\\left(a_x b_y - a_y b_x\\right)\\hat{k}$$\n",
    "\n",
    "determinant tanımından kolay şekilde yazılabilir:\n",
    "\n",
    "$$\\vec{A}\\times\\vec{B} = \\begin{vmatrix} \\hat\\imath & \\hat\\jmath & \\hat{k}\\\\ a_x & a_y & a_z\\\\ b_x & b_y & b_z \\end{vmatrix}$$\n",
    "\n",
    "Bu formüllerden, birim vektörler arasındaki ilişki ise:\n",
    "\n",
    "$$\\left. \\begin{array}{c} \\hat\\imath \\perp \\hat\\jmath, \\hat{k} \\\\ \\hat\\jmath \\perp \\hat\\imath, \\hat{k} \\\\ \\hat k \\perp \\hat\\jmath, \\hat{\\imath} \\end{array}\\right\\}\\rightarrow \n",
    "\\begin{array}{c} \\hat\\imath\\times\\hat\\imath =   \\hat\\jmath\\times\\hat\\jmath = \\hat{k}\\times\\hat{k} = 0\\\\ \\hat\\imath\\times\\hat\\jmath = \\hat{k};\\;  \\hat\\jmath\\times\\hat{k} = \\hat{\\imath};\\;\\hat{k}\\times\\hat\\imath = \\hat{\\jmath} \\end{array}$$\n",
    "\n",
    "olarak bulunur.\n",
    "\n",
    "Octave'da vektör çarpım işlemi (\"cross product\"), `cross` komutu ile gerçekleştirilir."
   ]
  },
  {
   "cell_type": "markdown",
   "metadata": {},
   "source": [
    "**Örnek #1**  \n",
    "Anlaşılma kolaylığı açısından, örneklerimize x ve y yönlerinde iki vektörün çarpımıyla başlayalım:\n",
    "\n",
    "$$\\vec{Q} = 5\\hat{\\imath}$$\n",
    "$$\\vec{R} = 3\\hat{\\jmath}$$\n",
    "\n",
    "olsun.\n",
    "\n",
    "Çarpım vektörü ikisine de dik olacağından, ya +z, ya da -z yönünde olmalıdır. Sağ el kuralını kullanarak, $\\vec{Q}\\times\\vec{R}$ nin +z yönünde; $\\vec{R}\\times\\vec{Q}$ nun ise -z yönünde olacağını görürüz. Büyüklüğü ise, $\\sin{90^o} = 1$ olduğundan, $5\\times 3=15$ olur.\n",
    "\n",
    "$$\\vec{Q}\\times\\vec{R} = 5\\hat{\\imath} \\times 3\\hat{\\jmath} = \\left(5\\,.\\,3\\right)\\left(\\hat{\\imath} \\times \\hat{\\jmath}\\right) = 15 \\hat{k}$$\n",
    "\n",
    "Bu işlemleri Octave'da yapalım:"
   ]
  },
  {
   "cell_type": "code",
   "execution_count": 14,
   "metadata": {},
   "outputs": [
    {
     "name": "stdout",
     "output_type": "stream",
     "text": [
      "Q =\n",
      "\n",
      "   5   0   0\n",
      "\n",
      "R =\n",
      "\n",
      "   0   3   0\n",
      "\n",
      "S =\n",
      "\n",
      "    0    0   15\n",
      "\n"
     ]
    }
   ],
   "source": [
    "Q = [5 0 0]\n",
    "R = [0 3 0]\n",
    "S = cross(Q,R)"
   ]
  },
  {
   "cell_type": "markdown",
   "metadata": {},
   "source": [
    "Çarpım sonucu ortaya çıkan vektöre `S` adını verdik; bakalım $\\vec{S}$ gerçekten de $\\vec{Q}$ ile $\\vec{R}$ vektörlerine dik mi?"
   ]
  },
  {
   "cell_type": "code",
   "execution_count": 15,
   "metadata": {},
   "outputs": [
    {
     "name": "stdout",
     "output_type": "stream",
     "text": [
      "aci_QS =  90\n",
      "aci_RS =  90\n"
     ]
    }
   ],
   "source": [
    "# Doğrudan skaler çarpımda ürettiğimiz komutu kullanıyoruz:\n",
    "aci_QS = acosd(dot(Q,S)/(norm(Q)*norm(S)))\n",
    "aci_RS = acosd(dot(R,S)/(norm(R)*norm(S)))"
   ]
  },
  {
   "cell_type": "markdown",
   "metadata": {},
   "source": [
    "Tabii, dikliği çok daha kolay bir şekilde de kontrol edebilirdik: birbirine dik iki vektörün skaler çarpımının 0 olacağını biliyoruz, o halde:"
   ]
  },
  {
   "cell_type": "code",
   "execution_count": 16,
   "metadata": {},
   "outputs": [
    {
     "name": "stdout",
     "output_type": "stream",
     "text": [
      "ans = 0\n",
      "ans = 0\n"
     ]
    }
   ],
   "source": [
    "dot(Q,S)\n",
    "dot(Q,R)"
   ]
  },
  {
   "cell_type": "markdown",
   "metadata": {},
   "source": [
    "**Örnek #2**  \n",
    "$\\vec{A} = \\hat{\\imath}+4\\hat{\\jmath}+3\\hat{k}$ ile, $\\vec{B} = 9\\hat{\\imath}+5\\hat{\\jmath}+7\\hat{k}$ vektörlerimizi vektörel çarpımla çarpalım:"
   ]
  },
  {
   "cell_type": "code",
   "execution_count": 19,
   "metadata": {},
   "outputs": [
    {
     "name": "stdout",
     "output_type": "stream",
     "text": [
      "A =\n",
      "\n",
      "   1   4   3\n",
      "\n",
      "B =\n",
      "\n",
      "   9   5   7\n",
      "\n",
      "C =\n",
      "\n",
      "   13   20  -31\n",
      "\n"
     ]
    }
   ],
   "source": [
    "A = [1, 4, 3]\n",
    "B = [9, 5, 7]\n",
    "C = cross(A,B)"
   ]
  },
  {
   "cell_type": "code",
   "execution_count": 20,
   "metadata": {},
   "outputs": [
    {
     "name": "stdout",
     "output_type": "stream",
     "text": [
      "aci =  38.036\r\n"
     ]
    }
   ],
   "source": [
    "# A ile B'nin arasındaki açı:\n",
    "aci = acosd(dot(A,B)/(norm(A)*norm(B)))"
   ]
  },
  {
   "cell_type": "code",
   "execution_count": 21,
   "metadata": {},
   "outputs": [
    {
     "name": "stdout",
     "output_type": "stream",
     "text": [
      "boy_C =  39.115\r\n"
     ]
    }
   ],
   "source": [
    "# Formülden C=AxB'nin boyu:\n",
    "boy_C = norm(A)*norm(B)*sind(aci)\n",
    "# (Dikkat: aci derece cinsinden olduğundan, \"sind\" kullanıyoruz)"
   ]
  },
  {
   "cell_type": "code",
   "execution_count": 22,
   "metadata": {},
   "outputs": [
    {
     "name": "stdout",
     "output_type": "stream",
     "text": [
      "norm_C =  39.115\r\n"
     ]
    }
   ],
   "source": [
    "# C'nin bileşenlerinden hesaplanan boyu:\n",
    "norm_C = norm(C)"
   ]
  },
  {
   "cell_type": "code",
   "execution_count": 23,
   "metadata": {},
   "outputs": [
    {
     "name": "stdout",
     "output_type": "stream",
     "text": [
      "aci_CA =  90\n",
      "aci_CB =  90\n"
     ]
    }
   ],
   "source": [
    "# C ile A ve B arasındaki açı:\n",
    "aci_CA = acosd(dot(C,A)/(norm(C)*norm(A)))\n",
    "aci_CB = acosd(dot(C,B)/(norm(C)*norm(B)))"
   ]
  },
  {
   "cell_type": "markdown",
   "metadata": {},
   "source": [
    "## Matrisler\n",
    "Vektörleri bir excel çalışma sayfasındaki satır veya sütun boyunca sıralanan veriler olarak gözümüzde canlandırmıştık; matrisleri ise bir çalışma sayfasının tamamı olarak görebiliriz. Bir matrisin 1'den fazla satırı ve 1'den fazla sütunu olur (satır veya sütun sayısı 1 olursa, o zaman alt kümesi olan vektörlerden bahsediyoruz demektir). \n",
    "\n",
    "**Matrislerde satırlar önceliklidir, yani her zaman için önce satırı, ardından sütunu kast ederiz.**\n",
    "\n",
    "2 satırlı, 3 sütunlu bir matrisi, vektörleri tanımladığımıza benzer olarak tanımlarız, örneğin:"
   ]
  },
  {
   "cell_type": "code",
   "execution_count": 24,
   "metadata": {},
   "outputs": [
    {
     "name": "stdout",
     "output_type": "stream",
     "text": [
      "M =\r\n",
      "\r\n",
      "   11   12   13\r\n",
      "   21   22   23\r\n",
      "\r\n"
     ]
    }
   ],
   "source": [
    "M = [11 12 13; 21 22 23]"
   ]
  },
  {
   "cell_type": "markdown",
   "metadata": {},
   "source": [
    "(tıpkı vektörlerde olduğu gibi, boşluklarla virgülleri; noktalı virgüllerle de _Enter_ tuşunu geçişli olarak kullanabiliriz)"
   ]
  },
  {
   "cell_type": "markdown",
   "metadata": {},
   "source": [
    "Matrislerin elemanlarına ulaşmak için yine parantezler içinde ulaşmak istediğimiz indisi belirtiriz (<u>her zaman için önce satır, sonra sütun numarası!</u>)"
   ]
  },
  {
   "cell_type": "markdown",
   "metadata": {},
   "source": [
    "**Örnekler**"
   ]
  },
  {
   "cell_type": "code",
   "execution_count": 25,
   "metadata": {},
   "outputs": [
    {
     "name": "stdout",
     "output_type": "stream",
     "text": [
      "ans =  23\r\n"
     ]
    }
   ],
   "source": [
    "# 2. satırın, 3. sütunundaki eleman:\n",
    "M(2,3)"
   ]
  },
  {
   "cell_type": "code",
   "execution_count": 27,
   "metadata": {},
   "outputs": [
    {
     "name": "stdout",
     "output_type": "stream",
     "text": [
      "ans =  12\r\n"
     ]
    }
   ],
   "source": [
    "# 1. satırın, 2. sütunundaki eleman:\n",
    "M(1,2)"
   ]
  },
  {
   "cell_type": "code",
   "execution_count": 28,
   "metadata": {},
   "outputs": [
    {
     "name": "stdout",
     "output_type": "stream",
     "text": [
      "ans =\r\n",
      "\r\n",
      "   22   23\r\n",
      "\r\n"
     ]
    }
   ],
   "source": [
    "# Vektörlerde yaptığımız gibi, birden fazla elemanı seçebiliriz:\n",
    "# 2. satırın, 2. ve 3. sütunlarındaki elemanlar:\n",
    "M(2,[2,3])"
   ]
  },
  {
   "cell_type": "code",
   "execution_count": 29,
   "metadata": {},
   "outputs": [
    {
     "name": "stdout",
     "output_type": "stream",
     "text": [
      "ans =\r\n",
      "\r\n",
      "   13\r\n",
      "   23\r\n",
      "\r\n"
     ]
    }
   ],
   "source": [
    "# 1. ve 2. satırların, 3. sütunundaki elemanlar:\n",
    "M([1,2],3)"
   ]
  },
  {
   "cell_type": "code",
   "execution_count": 30,
   "metadata": {},
   "outputs": [
    {
     "name": "stdout",
     "output_type": "stream",
     "text": [
      "ans =\r\n",
      "\r\n",
      "   11   13\r\n",
      "   21   23\r\n",
      "\r\n"
     ]
    }
   ],
   "source": [
    "# 1. ve 2. satırların, 1. ve 3. sütunlarındaki elemanlar:\n",
    "M([1,2],[1,3])"
   ]
  },
  {
   "cell_type": "code",
   "execution_count": 31,
   "metadata": {},
   "outputs": [
    {
     "name": "stdout",
     "output_type": "stream",
     "text": [
      "ans =\r\n",
      "\r\n",
      "   13   12   11\r\n",
      "   23   22   21\r\n",
      "\r\n"
     ]
    }
   ],
   "source": [
    "# Sütunları ters sırayla çağıralım:\n",
    "M([1,2],[3,2,1])"
   ]
  },
  {
   "cell_type": "code",
   "execution_count": 32,
   "metadata": {},
   "outputs": [
    {
     "name": "stdout",
     "output_type": "stream",
     "text": [
      "ans =\r\n",
      "\r\n",
      "   23   22   21\r\n",
      "   13   12   11\r\n",
      "\r\n"
     ]
    }
   ],
   "source": [
    "# Satırları ve sütunları ters sırayla çağıralım:\n",
    "M([2,1],[3,2,1])"
   ]
  },
  {
   "cell_type": "markdown",
   "metadata": {},
   "source": [
    "**Alıştırma:**  \n",
    "$M$ matrisinin köşelerindeki elemanları çağırabilir misiniz? Yani:\n",
    "$$\\begin{bmatrix}11 & 13\\\\ 21 & 23\\end{bmatrix}$$ olacak şekilde."
   ]
  },
  {
   "cell_type": "markdown",
   "metadata": {},
   "source": [
    "### Aralık operatörü (:)\n",
    "Az sayıda satır/sütunlu matrislerle uğraşırken belki tek tek belirtilebilir ama eninde sonunda boyumuzu aşan boyutlarda matrislerle çalışmamız gerekecek. Bu tür durumlarda ise aralık operatörünü kullanırız.\n",
    "\n",
    "En basit haliyle, iki sayının arasına `:` koyduğumuzda, bu \"ilk sayıdan ikincisine kadar, onu geçmeden, birer birer arttır\" anlamına gelir:"
   ]
  },
  {
   "cell_type": "code",
   "execution_count": 33,
   "metadata": {},
   "outputs": [
    {
     "name": "stdout",
     "output_type": "stream",
     "text": [
      "ans =\r\n",
      "\r\n",
      "   1   2   3   4   5\r\n",
      "\r\n"
     ]
    }
   ],
   "source": [
    "# 1'den 5'e:\n",
    "1:5"
   ]
  },
  {
   "cell_type": "code",
   "execution_count": 36,
   "metadata": {
    "scrolled": true
   },
   "outputs": [
    {
     "name": "stdout",
     "output_type": "stream",
     "text": [
      "ans =\r\n",
      "\r\n",
      "    2.3000    3.3000    4.3000\r\n",
      "\r\n"
     ]
    }
   ],
   "source": [
    "# 2.3'ten 5.2'ye:\n",
    "2.3:5.2"
   ]
  },
  {
   "cell_type": "markdown",
   "metadata": {},
   "source": [
    "Görüldüğü üzere, ondalıklı sayılarda da sorunsuz çalışıyor: 2.3'ten başlayıp, 1 arttırarak gidiyoruz: 2.3, 3.3, 4.3... 5.3'e gelindiğinde ise, bu sayı sınırımız olan 5.2'nin dışında olduğundan içerilmiyor ve sayım orada duruyor."
   ]
  },
  {
   "cell_type": "code",
   "execution_count": 37,
   "metadata": {},
   "outputs": [
    {
     "name": "stdout",
     "output_type": "stream",
     "text": [
      "ans =\r\n",
      "\r\n",
      " Columns 1 through 8:\r\n",
      "\r\n",
      "   -3.1416   -2.1416   -1.1416   -0.1416    0.8584    1.8584    2.8584    3.8584\r\n",
      "\r\n",
      " Columns 9 and 10:\r\n",
      "\r\n",
      "    4.8584    5.8584\r\n",
      "\r\n"
     ]
    }
   ],
   "source": [
    "# -pi'den +2pi'ye:\n",
    "-pi:2*pi"
   ]
  },
  {
   "cell_type": "markdown",
   "metadata": {},
   "source": [
    "Tabii ki birer birer arttırmak yaygın olsa da, genel bir tercih olmamalı. Diyelim ki, 10'dan geriye birer birer saymak istiyoruz, ya da 3.1'den 4.0'a 0.1 adımlarla saymak istiyoruz... Bu durumda devreye, aralık operatörünün 3. parametresi olarak adım parametresi girer. Adım parametresi, başlangıç ve bitiş sınırlarının arasına yazılır:\n",
    "`başlangıç:adım:bitiş` şeklinde:"
   ]
  },
  {
   "cell_type": "code",
   "execution_count": 38,
   "metadata": {},
   "outputs": [
    {
     "name": "stdout",
     "output_type": "stream",
     "text": [
      "ans =\r\n",
      "\r\n",
      "   10    9    8    7    6    5    4    3    2    1    0\r\n",
      "\r\n"
     ]
    }
   ],
   "source": [
    "# 10'dan 0'a geri geri sayalım:\n",
    "10:-1:0"
   ]
  },
  {
   "cell_type": "code",
   "execution_count": 39,
   "metadata": {},
   "outputs": [
    {
     "name": "stdout",
     "output_type": "stream",
     "text": [
      "ans =\r\n",
      "\r\n",
      " Columns 1 through 8:\r\n",
      "\r\n",
      "    3.1000    3.2000    3.3000    3.4000    3.5000    3.6000    3.7000    3.8000\r\n",
      "\r\n",
      " Columns 9 and 10:\r\n",
      "\r\n",
      "    3.9000    4.0000\r\n",
      "\r\n"
     ]
    }
   ],
   "source": [
    "# 3.1'den 4.0'a, 0.1'lik adımlarla sayalım:\n",
    "3.1:0.1:4.0"
   ]
  },
  {
   "cell_type": "markdown",
   "metadata": {},
   "source": [
    "Aralık operatörlerini birbirleriyle köşeli parantezler ([] - yani sayı dizileri içerisinde) birleştirebiliriz:"
   ]
  },
  {
   "cell_type": "code",
   "execution_count": 50,
   "metadata": {
    "scrolled": true
   },
   "outputs": [
    {
     "name": "stdout",
     "output_type": "stream",
     "text": [
      "ans =\r\n",
      "\r\n",
      "  -10   -9   -8   -7    5    3    1    6    7    8    9\r\n",
      "\r\n"
     ]
    }
   ],
   "source": [
    "[-10:-7, 5:-2:1, 6:9]"
   ]
  },
  {
   "cell_type": "markdown",
   "metadata": {},
   "source": [
    "Bu yeni öğrendiğimiz aralık operatörünü kullanarak, elemanları 1'den 42'e olan 7x6'lık (yani 7 satırlı ve 6 sütunlu) bir matris tanımlayalım:"
   ]
  },
  {
   "cell_type": "code",
   "execution_count": 44,
   "metadata": {},
   "outputs": [
    {
     "name": "stdout",
     "output_type": "stream",
     "text": [
      "N =\r\n",
      "\r\n",
      "    1    2    3    4    5    6\r\n",
      "    7    8    9   10   11   12\r\n",
      "   13   14   15   16   17   18\r\n",
      "   19   20   21   22   23   24\r\n",
      "   25   26   27   28   29   30\r\n",
      "   31   32   33   34   35   36\r\n",
      "   37   38   39   40   41   42\r\n",
      "\r\n"
     ]
    }
   ],
   "source": [
    "N = [1:6;7:12;13:18;19:24;25:30;31:36;37:42]"
   ]
  },
  {
   "cell_type": "code",
   "execution_count": 45,
   "metadata": {},
   "outputs": [
    {
     "name": "stdout",
     "output_type": "stream",
     "text": [
      "ans =\r\n",
      "\r\n",
      "    1    2    3    4    5    6\r\n",
      "   13   14   15   16   17   18\r\n",
      "   25   26   27   28   29   30\r\n",
      "\r\n"
     ]
    }
   ],
   "source": [
    "# 1., 3. ve 5. satırlarını çağıralım:\n",
    "N(1:2:5,[1,2,3,4,5,6])"
   ]
  },
  {
   "cell_type": "markdown",
   "metadata": {},
   "source": [
    "satır kısmı tamam da, sütun kısmına öyle tek tek hepsini girmek biraz kabaca oldu, daha iyi şekilde yapamaz mıyız?"
   ]
  },
  {
   "cell_type": "code",
   "execution_count": 46,
   "metadata": {},
   "outputs": [
    {
     "name": "stdout",
     "output_type": "stream",
     "text": [
      "ans =\r\n",
      "\r\n",
      "    1    2    3    4    5    6\r\n",
      "   13   14   15   16   17   18\r\n",
      "   25   26   27   28   29   30\r\n",
      "\r\n"
     ]
    }
   ],
   "source": [
    "# Daha güzel bir şekilde 1., 3. ve 5. satırlarını çağıralım:\n",
    "N(1:2:5,1:6)"
   ]
  },
  {
   "cell_type": "markdown",
   "metadata": {},
   "source": [
    "Bu sefer gayet şık oldu. Buna ek olarak, eğer aralığımız \"hepsi\" ise, o zaman sadece \":\" yazmamız yeterli olur (satır kısmına yazarsak \"tüm satırlar\", sütun kısmına yazarsak da \"tüm sütunlar\" anlamına gelir):"
   ]
  },
  {
   "cell_type": "code",
   "execution_count": 47,
   "metadata": {},
   "outputs": [
    {
     "name": "stdout",
     "output_type": "stream",
     "text": [
      "ans =\r\n",
      "\r\n",
      "    1    2    3    4    5    6\r\n",
      "   13   14   15   16   17   18\r\n",
      "   25   26   27   28   29   30\r\n",
      "\r\n"
     ]
    }
   ],
   "source": [
    "# En şık şekilde 1., 3. ve 5. satırlarını çağıralım:\n",
    "N(1:2:5,:)"
   ]
  },
  {
   "cell_type": "code",
   "execution_count": 48,
   "metadata": {},
   "outputs": [
    {
     "name": "stdout",
     "output_type": "stream",
     "text": [
      "ans =\r\n",
      "\r\n",
      "    2    5    6\r\n",
      "    8   11   12\r\n",
      "   14   17   18\r\n",
      "   20   23   24\r\n",
      "   26   29   30\r\n",
      "   32   35   36\r\n",
      "   38   41   42\r\n",
      "\r\n"
     ]
    }
   ],
   "source": [
    "# (Bütun satırların) 2., 5. ve 6. sütunlarını çağıralım:\n",
    "N(:,[2,5,6])"
   ]
  },
  {
   "cell_type": "markdown",
   "metadata": {},
   "source": [
    "Tıpkı vektörlerde olduğu gibi, matrislerde de çağırdığımız kısma dilersek yeni bir değer atayabiliriz:"
   ]
  },
  {
   "cell_type": "code",
   "execution_count": 49,
   "metadata": {},
   "outputs": [
    {
     "name": "stdout",
     "output_type": "stream",
     "text": [
      "N =\r\n",
      "\r\n",
      "  -999  -999     3     4  -999  -999\r\n",
      "     7     8     9    10    11    12\r\n",
      "    13    14    15    16    17    18\r\n",
      "    19    20    21    22    23    24\r\n",
      "    25    26    27    28    29    30\r\n",
      "    31    32    33    34    35    36\r\n",
      "  -999  -999    39    40  -999  -999\r\n",
      "\r\n"
     ]
    }
   ],
   "source": [
    "N([1,7],[1,2,5,6]) = -999"
   ]
  },
  {
   "cell_type": "markdown",
   "metadata": {},
   "source": [
    "## Matris İşlemleri\n",
    "Matrisin elemanlarına nasıl ulaşıp, nasıl değiştirebileceğimizi gördüğümüze göre, temel matris işlemlerine geçebiliriz.\n",
    "\n",
    "### Devrik matrisler\n",
    "Bir matrisi devirmek (_transpose'unu almak_), tıpkı vektörleri devirmeye benzer:"
   ]
  },
  {
   "cell_type": "code",
   "execution_count": 51,
   "metadata": {},
   "outputs": [
    {
     "name": "stdout",
     "output_type": "stream",
     "text": [
      "M =\r\n",
      "\r\n",
      "   11   12   13\r\n",
      "   21   22   23\r\n",
      "\r\n"
     ]
    }
   ],
   "source": [
    "M = [11 12 13; 21 22 23]"
   ]
  },
  {
   "cell_type": "code",
   "execution_count": 52,
   "metadata": {},
   "outputs": [
    {
     "name": "stdout",
     "output_type": "stream",
     "text": [
      "ans =\r\n",
      "\r\n",
      "   11   21\r\n",
      "   12   22\r\n",
      "   13   23\r\n",
      "\r\n"
     ]
    }
   ],
   "source": [
    "transpose(M)"
   ]
  },
  {
   "cell_type": "code",
   "execution_count": 53,
   "metadata": {},
   "outputs": [
    {
     "name": "stdout",
     "output_type": "stream",
     "text": [
      "ans =\r\n",
      "\r\n",
      "   11   21\r\n",
      "   12   22\r\n",
      "   13   23\r\n",
      "\r\n"
     ]
    }
   ],
   "source": [
    "M'"
   ]
  },
  {
   "cell_type": "markdown",
   "metadata": {},
   "source": [
    "### Matrislerin toplaması, çıkarılması\n",
    "İki matrisin birbiriyle toplanabilmesi / birbirlerinden çıkarılabilmesi için bariz şekilde aynı boyutlarda olmaları gerekmektedir. Toplama ve çıkarma işlemleri birbirine karşılık gelen elemanlar arasında yapılır. Eğer taraflardan biri skaler ise, otomatik olarak matrisin her bir elemanıyla işleme girer."
   ]
  },
  {
   "cell_type": "code",
   "execution_count": 54,
   "metadata": {},
   "outputs": [
    {
     "name": "stdout",
     "output_type": "stream",
     "text": [
      "K =\r\n",
      "\r\n",
      "  -3  -2  -1   0   1   2   3\r\n",
      "  -2  -1   0   1   2   3   4\r\n",
      "  -1   0   1   2   3   4   5\r\n",
      "\r\n"
     ]
    }
   ],
   "source": [
    "K = [-3:3;-2:4;-1:5]"
   ]
  },
  {
   "cell_type": "code",
   "execution_count": 55,
   "metadata": {},
   "outputs": [
    {
     "name": "stdout",
     "output_type": "stream",
     "text": [
      "L =\r\n",
      "\r\n",
      "   1   1   1   1   1   1   1\r\n",
      "   1   1   1   1   1   1   1\r\n",
      "   1   1   1   1   1   1   1\r\n",
      "\r\n"
     ]
    }
   ],
   "source": [
    "L = [1,1,1,1,1,1,1;1,1,1,1,1,1,1;1,1,1,1,1,1,1]"
   ]
  },
  {
   "cell_type": "code",
   "execution_count": 56,
   "metadata": {},
   "outputs": [
    {
     "name": "stdout",
     "output_type": "stream",
     "text": [
      "ans =\r\n",
      "\r\n",
      "  -2  -1   0   1   2   3   4\r\n",
      "  -1   0   1   2   3   4   5\r\n",
      "   0   1   2   3   4   5   6\r\n",
      "\r\n"
     ]
    }
   ],
   "source": [
    "K+L"
   ]
  },
  {
   "cell_type": "code",
   "execution_count": 57,
   "metadata": {},
   "outputs": [
    {
     "name": "stdout",
     "output_type": "stream",
     "text": [
      "ans =\r\n",
      "\r\n",
      "  -4  -3  -2  -1   0   1   2\r\n",
      "  -3  -2  -1   0   1   2   3\r\n",
      "  -2  -1   0   1   2   3   4\r\n",
      "\r\n"
     ]
    }
   ],
   "source": [
    "K-L"
   ]
  },
  {
   "cell_type": "code",
   "execution_count": 58,
   "metadata": {},
   "outputs": [
    {
     "name": "stdout",
     "output_type": "stream",
     "text": [
      "ans =\r\n",
      "\r\n",
      "   0   1   2   3   4   5   6\r\n",
      "   1   2   3   4   5   6   7\r\n",
      "   2   3   4   5   6   7   8\r\n",
      "\r\n"
     ]
    }
   ],
   "source": [
    "3 + K"
   ]
  },
  {
   "cell_type": "code",
   "execution_count": 59,
   "metadata": {},
   "outputs": [
    {
     "name": "stdout",
     "output_type": "stream",
     "text": [
      "ans =\r\n",
      "\r\n",
      "   7   7   7   7   7   7   7\r\n",
      "   7   7   7   7   7   7   7\r\n",
      "   7   7   7   7   7   7   7\r\n",
      "\r\n"
     ]
    }
   ],
   "source": [
    "8 - L"
   ]
  },
  {
   "cell_type": "markdown",
   "metadata": {},
   "source": [
    "## Özel Matrisler  (Sıfır, Bir, Birim)\n",
    "Üstteki L matrisi gibi her seferinde uzun uzadıya yazmayalım diye, birkaç özel matris hazırda tanımlanmıştır. Bunlar:\n",
    "* Sıfırlardan oluşan `zeros` matrisi\n",
    "* Birlerden oluşan `ones` matrisi\n",
    "* Köşegenlerinde birlerin olduğu, `eye` birim matrisi"
   ]
  },
  {
   "cell_type": "code",
   "execution_count": 60,
   "metadata": {},
   "outputs": [
    {
     "name": "stdout",
     "output_type": "stream",
     "text": [
      "Z =\r\n",
      "\r\n",
      "   0   0   0   0   0\r\n",
      "   0   0   0   0   0\r\n",
      "   0   0   0   0   0\r\n",
      "\r\n"
     ]
    }
   ],
   "source": [
    "Z = zeros(3,5)"
   ]
  },
  {
   "cell_type": "code",
   "execution_count": 61,
   "metadata": {},
   "outputs": [
    {
     "name": "stdout",
     "output_type": "stream",
     "text": [
      "M1 =\r\n",
      "\r\n",
      "   1   1   1   1   1\r\n",
      "   1   1   1   1   1\r\n",
      "   1   1   1   1   1\r\n",
      "\r\n"
     ]
    }
   ],
   "source": [
    "M1 = ones(3,5)"
   ]
  },
  {
   "cell_type": "code",
   "execution_count": 63,
   "metadata": {},
   "outputs": [
    {
     "name": "stdout",
     "output_type": "stream",
     "text": [
      "I =\r\n",
      "\r\n",
      "Diagonal Matrix\r\n",
      "\r\n",
      "   1   0   0\r\n",
      "   0   1   0\r\n",
      "   0   0   1\r\n",
      "\r\n"
     ]
    }
   ],
   "source": [
    "I = eye(3,3)"
   ]
  },
  {
   "cell_type": "markdown",
   "metadata": {},
   "source": [
    "### Matrislerin çarpılması\n",
    "Matrisler de, tıpkı vektörler gibi, farklı türden çarpma işlemlerine girerler:\n",
    "* Skaler-matris çarpımı\n",
    "* Matris-matris çarpımı\n",
    "* İki matrisin eleman bazında çarpımı"
   ]
  },
  {
   "cell_type": "markdown",
   "metadata": {},
   "source": [
    "#### Skaler-matris çarpımı\n",
    "Bir matris skalerle çarpıldığında, her bir elemanı o skalerle çarpılır."
   ]
  },
  {
   "cell_type": "code",
   "execution_count": 65,
   "metadata": {},
   "outputs": [
    {
     "name": "stdout",
     "output_type": "stream",
     "text": [
      "M5 =\r\n",
      "\r\n",
      "   5   5   5   5   5   5   5\r\n",
      "   5   5   5   5   5   5   5\r\n",
      "   5   5   5   5   5   5   5\r\n",
      "\r\n"
     ]
    }
   ],
   "source": [
    "# Örneğin, her bir elemanı 5 olan 3x7'lik bir matris tanımlayalım:\n",
    "M5 = 5*ones(3,7)"
   ]
  },
  {
   "cell_type": "markdown",
   "metadata": {},
   "source": [
    "#### Matris-matris çarpımı\n",
    "İki matrisin birbirleri ile çarpılabilmesi için, sol taraftaki matrisin sütun sayısının, sağ taraftaki matrisin satır sayısına eşit olması gerekmektedir. Sonuç matrisinin satır sayısı sol matrisinkine; sütun sayısı da sağ matrisinkine eşit olur:"
   ]
  },
  {
   "cell_type": "markdown",
   "metadata": {},
   "source": [
    "$$A_{(m\\times n)}\\cdot B_{(n\\times k)}=C_{(m\\times k)}$$"
   ]
  },
  {
   "attachments": {
    "Matrix_multiplication_diagram.svg": {
     "image/svg+xml": [
      "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"
     ]
    }
   },
   "cell_type": "markdown",
   "metadata": {},
   "source": [
    "Çarpımda, sol matrisin satırları ile sağ matrisin sütunlarının kesiştiği hücrenin sonuç matrisindeki değeri, karşılıklı elemanların sıralı çarpımlarının toplanmasıyla bulunur (böyle resmi yazınca karmaşık, ciddi bir şey gibi oldu ama aslında gayet basit ve doğrudan, şöyle ki):\n",
    "\n",
    "![Matrix_multiplication_diagram.svg](attachment:Matrix_multiplication_diagram.svg)  \n",
    "[Kaynak: Wikiwand](https://www.wikiwand.com/en/Matrix_multiplication)\n",
    "\n",
    "$$\\overset{4\\times 2 \\text{ matris}}{\\begin{bmatrix}\n",
    "{a_{11}} & {a_{12}} \\\\\n",
    "\\cdot & \\cdot \\\\\n",
    "{a_{31}} & {a_{32}} \\\\\n",
    "\\cdot & \\cdot \\\\\n",
    "\\end{bmatrix}}_{(4\\times 2)}\n",
    "\\overset{2\\times 3\\text{ matris}}{\\begin{bmatrix}\n",
    "\\cdot & {b_{12}} & {b_{13}} \\\\\n",
    "\\cdot & {b_{22}} & {b_{23}} \\\\\n",
    "\\end{bmatrix}}_{(2\\times 3)}= = \\overset{4\\times 3\\text{ matris}}{\\begin{bmatrix}\n",
    "\\cdot & c_{12} & c_{13} \\\\\n",
    "\\cdot & \\cdot & \\cdot \\\\\n",
    "\\cdot & c_{32} & c_{33} \\\\\n",
    "\\cdot & \\cdot & \\cdot \\\\\n",
    "\\end{bmatrix}}_{(4\\times 3)}\n",
    "$$\n",
    "\n",
    "Şekilde daire ile işaretlenmiş $c_{12}$ ve $c_{33}$ elemanlarının değeri: \n",
    "\n",
    "$$\\begin{align}\n",
    "c_{12} & = {{a_{11}}}{{b_{12}}} + {{a_{12}}}{{b_{22}}} \\\\\n",
    "c_{33} & = {{a_{31}}}{{b_{13}}} + {{a_{32}}}{{b_{23}}}\n",
    "\\end{align}$$\n",
    "\n",
    "şeklinde hesaplanır."
   ]
  },
  {
   "cell_type": "markdown",
   "metadata": {},
   "source": [
    "**Örnek:**\n",
    "$$A=\\begin{bmatrix}1 & 2 & 3\\\\4 & 5 & 6\\end{bmatrix}_{(2\\times 3)},\\;B=\\begin{bmatrix}7 & 8\\\\9 & 10\\\\ 11&12\\end{bmatrix}_{(3\\times 2)}\\rightarrow C=A\\cdot B=?$$ "
   ]
  },
  {
   "cell_type": "markdown",
   "metadata": {},
   "source": [
    "Daha hiçbir işlem yapmadan, $C$ sonuç matrisinin $(2\\times 2)$lik bir matris olacağını görebiliriz. Bu $C$ matrisinin üst-sol elemanı, $A$'nın üst satırı ile $B$'nin sol sütununun kesişmesine karşılık geldiğinden:\n",
    "$$\\begin{align*}c_{11} &= a_{11} b_{11} + a_{12} b_{21} + a_{31} b_{13}\\\\\n",
    "&=1\\times7+2\\times9+3\\times11 = 7+18+33\\\\\n",
    "&=58\\end{align*}$$\n",
    "\n",
    "olarak bulunur. Geriye kalan diğer 3 elemanı da benzer şekilde kesişimlerden hesaplarız:\n",
    "* $c_{12}$ (üst-sağ): $A$'nın üst satırı ile $B$'nin sağ sütunu\n",
    "* $c_{21}$ (alt-sol): $A$'nın alt satırı ile $B$'nin sol sütunu\n",
    "* $c_{22}$ (alt-sağ): $A$'nın alt satırı ile $B$'nin sağ sütunu\n",
    "\n",
    "Octave'da ise doğrudan çarpım operatörü ile iki matrisi çarpabiliriz:"
   ]
  },
  {
   "cell_type": "code",
   "execution_count": 67,
   "metadata": {},
   "outputs": [
    {
     "name": "stdout",
     "output_type": "stream",
     "text": [
      "A =\n",
      "\n",
      "   1   2   3\n",
      "   4   5   6\n",
      "\n",
      "B =\n",
      "\n",
      "    7    8\n",
      "    9   10\n",
      "   11   12\n",
      "\n",
      "C =\n",
      "\n",
      "    58    64\n",
      "   139   154\n",
      "\n"
     ]
    }
   ],
   "source": [
    "A = [1:3;4:6]\n",
    "B = [7,8;9,10;11,12]\n",
    "C = A * B"
   ]
  },
  {
   "cell_type": "markdown",
   "metadata": {},
   "source": [
    "#### İki matrisin eleman bazında çarpımı\n",
    "Bazen de, iki matrisi toplamada olduğu gibi, eleman bazında çarpmak isteriz (bunun için tabii ki ikisinin de boyutlarının aynı olması gerekmektedir). İşlemin eleman bazında olacağını belirtmek için, işleme dair operatörün başına nokta (.) koyarız.\n",
    "\n",
    "Bir A matrisini kendisi ile çarpmak istediğimizi düşünelim (yani karesini almak istediğimizi). Bu durumda ya `A*A` yazarız, ya da `A**2`. Örnek üzerinden gidersek:\n",
    "\n",
    "$$ A=\\begin{bmatrix}1 & 2 \\\\ 3& 4\\end{bmatrix}$$\n",
    "\n",
    "şeklinde $(2\\times 2)$lik bir matris olsun. Bu durumda:  \n",
    "$$A^2 = A\\cdot A = \\begin{bmatrix}1 & 2 \\\\ 3& 4\\end{bmatrix}\\cdot \\begin{bmatrix}1 & 2 \\\\ 3& 4\\end{bmatrix}$$\n",
    "olarak yazılır, bu da, bir önceki bölümde gördüğümüz üzere:"
   ]
  },
  {
   "cell_type": "code",
   "execution_count": 70,
   "metadata": {},
   "outputs": [
    {
     "name": "stdout",
     "output_type": "stream",
     "text": [
      "ans =\n",
      "\n",
      "    7   10\n",
      "   15   22\n",
      "\n",
      "ans =\n",
      "\n",
      "    7   10\n",
      "   15   22\n",
      "\n"
     ]
    }
   ],
   "source": [
    "A = [1 2; 3 4];\n",
    "A*A\n",
    "A**2"
   ]
  },
  {
   "cell_type": "markdown",
   "metadata": {},
   "source": [
    "olarak bulunur. Bazı durumlarda biz eleman bazlı çarpım yapmak istiyoruz (yani 1'leri birbirleriyle, 2'leri birbirleriyle, kısaca her elemanın karesini almak istiyoruz). Bu derdimizi, işlem operatöründen önce \".\" koyarak Octave'a iletiriz:"
   ]
  },
  {
   "cell_type": "code",
   "execution_count": 71,
   "metadata": {},
   "outputs": [
    {
     "name": "stdout",
     "output_type": "stream",
     "text": [
      "ans =\r\n",
      "\r\n",
      "    1    4\r\n",
      "    9   16\r\n",
      "\r\n"
     ]
    }
   ],
   "source": [
    "A.*A"
   ]
  },
  {
   "cell_type": "code",
   "execution_count": 72,
   "metadata": {},
   "outputs": [
    {
     "name": "stdout",
     "output_type": "stream",
     "text": [
      "ans =\r\n",
      "\r\n",
      "    1    4\r\n",
      "    9   16\r\n",
      "\r\n"
     ]
    }
   ],
   "source": [
    "A.**2"
   ]
  },
  {
   "cell_type": "markdown",
   "metadata": {},
   "source": [
    "... gibi. 8)"
   ]
  },
  {
   "cell_type": "markdown",
   "metadata": {},
   "source": [
    "### Matrisin Tersi\n",
    "Matrislerde bölme işlemi bulunmadığından, sadeleştirme işlemleri \"bölerek\" yapılamaz. Onun yerine, bir matrisle çarpıldığında, sonucun çarpmaya göre etkisiz eleman olan _birim matris_ olduğu özel matrisleri kullanırız. Bu matrislere ilgili matrisin ters matrisi denir. Normalde hesaplaması biraz (epey) karışık olabilir ama neyse ki Octave'da bunun için `inv` komutu vardır."
   ]
  },
  {
   "cell_type": "markdown",
   "metadata": {},
   "source": [
    "$$A^{-1}\\cdot A = A\\cdot A^{-1} = \\mathbb{1}$$"
   ]
  },
  {
   "cell_type": "code",
   "execution_count": 73,
   "metadata": {},
   "outputs": [
    {
     "name": "stdout",
     "output_type": "stream",
     "text": [
      "A =\r\n",
      "\r\n",
      "   1   2\r\n",
      "   3   4\r\n",
      "\r\n"
     ]
    }
   ],
   "source": [
    "A"
   ]
  },
  {
   "cell_type": "code",
   "execution_count": 75,
   "metadata": {},
   "outputs": [
    {
     "name": "stdout",
     "output_type": "stream",
     "text": [
      "Ai =\r\n",
      "\r\n",
      "  -2.00000   1.00000\r\n",
      "   1.50000  -0.50000\r\n",
      "\r\n"
     ]
    }
   ],
   "source": [
    "Ai = inv(A)"
   ]
  },
  {
   "cell_type": "code",
   "execution_count": 76,
   "metadata": {},
   "outputs": [
    {
     "name": "stdout",
     "output_type": "stream",
     "text": [
      "ans =\r\n",
      "\r\n",
      "   1.00000   0.00000\r\n",
      "   0.00000   1.00000\r\n",
      "\r\n"
     ]
    }
   ],
   "source": [
    "A * Ai"
   ]
  },
  {
   "cell_type": "code",
   "execution_count": 77,
   "metadata": {
    "scrolled": true
   },
   "outputs": [
    {
     "name": "stdout",
     "output_type": "stream",
     "text": [
      "ans =\r\n",
      "\r\n",
      "   1.00000   0.00000\r\n",
      "   0.00000   1.00000\r\n",
      "\r\n"
     ]
    }
   ],
   "source": [
    "Ai * A"
   ]
  },
  {
   "cell_type": "markdown",
   "metadata": {},
   "source": [
    "%%\\usepackage{cancel}"
   ]
  },
  {
   "cell_type": "markdown",
   "metadata": {},
   "source": [
    "#### Uygulama: Denklem çözümü\n",
    "Elimizde şöyle bir denklem olsun:\n",
    "$$\\begin{gather*}3x+5y = 1\\\\\n",
    "x-y=3\\end{gather*}$$\n",
    "\n",
    "(evet, bildiğimiz 2 bilinmeyenli, iki denklem ;)\n",
    "\n",
    "Normalde bunun 1 bilinmeyenli hali olsaydı, mesela:\n",
    "\n",
    "$$ 5z = 20$$\n",
    "\n",
    "gibi bir denklem, yapacağımız iş basitti: iki tarafı da 5'e bölerdik, sol tarafta 5'ler sadeleşir, 1 olur, sağ tarafta da 4 kalırdı, böylelikle çat diye $\\boxed{z=4}$ yazardık:  \n",
    "$\\require{cancel}$\n",
    "$$\\frac{\\cancel{5}z}{\\cancel{5}} = \\frac{\\cancelto{4}{20}}{\\cancel{5}}$$\n",
    "\n",
    "Ama aslında yaptığımız şey bambaşka (ortaokula giden biri görse aynı şey olduğunu iddia edecek olsa da... 8): eşitliğin iki tarafını da, soldan, 5'in çarpmaya göre tersi olan $\\frac{1}{5}$ ile çarpıyoruz.\n",
    "\n",
    "$$\\frac{1}{\\cancel{5}}.\\cancel{5}z = \\frac{1}{\\cancel{5}}.\\cancelto{4}{20}$$\n",
    "\n",
    "(Elimizde skalerler olduğundan) matematiksel açıdan birbirine tamamıyla eşdeğer iki sadeleştirmenin \"yorum\" açısından farkını anlamaya çalışın, benim vaktim var, beklerim... \n",
    "\n",
    "<hr>\n",
    "Düşünüp kavradıysanız, devam edelim: bu bölümün başındaki iki bilinmeyenli iki denklemimizi bir daha yazalım:\n",
    "\n",
    "$$\\begin{gather*}3x+5y = 1\\\\\n",
    "x-y=3\\end{gather*}$$\n",
    "\n",
    "Bunu matris çarpımı şeklinde yazabiliriz (çarpan matris $(2\\times 2)$lik, çarpılan ve sonuç matrisleri $(2\\times 1)$lik, yani aslında sütun vektörleri:\n",
    "\n",
    "$$\\begin{pmatrix}3&5\\\\1 &-1\\end{pmatrix}_{(2\\times 2)}\\cdot\\begin{pmatrix}x\\\\y\\end{pmatrix}_{(2\\times 1)} = \\begin{pmatrix}1\\\\3\\end{pmatrix}_{(2\\times 1)}$$\n",
    "\n",
    "Çarpmayı yapıp, gerçekten de iki denklemi elde ediyor olduğumuzu doğrulamanızı çok tavsiye ederim."
   ]
  },
  {
   "cell_type": "markdown",
   "metadata": {},
   "source": [
    "Gördüğümüz şey, tam olarak $$A\\cdot x = b$$ şeklinde bir eşitlik: $x$ ve $b$ iki boyutlu sütun vektörler, $A$ da $(2\\times 2)$lik bir matris. O halde bu eşitliğin iki tarafını da soldan, $A^{-1}$ ile çarparsak, sol tarafta $\\begin{pmatrix}x\\\\y\\end{pmatrix}$ vektörü, sağ tarafta da $A^{-1}\\cdot b$ vektörü kalır, yani şöyle bir şey:"
   ]
  },
  {
   "cell_type": "markdown",
   "metadata": {},
   "source": [
    "$$\\begin{gather*}A\\cdot x = b\\\\\n",
    "\\underbrace{A^{-1}\\cdot A}_{\\mathbb{1}} \\cdot x = A^{-1}\\cdot b\\\\\n",
    "\\boxed{x = A^{-1}\\cdot b}\n",
    "\\end{gather*}$$"
   ]
  },
  {
   "cell_type": "markdown",
   "metadata": {},
   "source": [
    "Bu kadar laf salatası gözünüzü korkutmasın, Octave'da iki adımlık iş, haydi yapalım!"
   ]
  },
  {
   "cell_type": "code",
   "execution_count": 1,
   "metadata": {},
   "outputs": [
    {
     "name": "stdout",
     "output_type": "stream",
     "text": [
      "A =\n",
      "\n",
      "   3   5\n",
      "   1  -1\n",
      "\n",
      "b =\n",
      "\n",
      "   1\n",
      "   3\n",
      "\n",
      "Ai =\n",
      "\n",
      "   0.12500   0.62500\n",
      "   0.12500  -0.37500\n",
      "\n",
      "xy =\n",
      "\n",
      "   2\n",
      "  -1\n",
      "\n"
     ]
    }
   ],
   "source": [
    "A = [3 5; 1 -1]\n",
    "b = [1; 3]\n",
    "Ai = inv(A)\n",
    "xy = inv(A)*b"
   ]
  },
  {
   "cell_type": "markdown",
   "metadata": {},
   "source": [
    "Demek ki $x=2$, $y=-1$ imiş, kontrol edelim bakalım:"
   ]
  },
  {
   "cell_type": "code",
   "execution_count": 2,
   "metadata": {},
   "outputs": [
    {
     "name": "stdout",
     "output_type": "stream",
     "text": [
      "ans =  1\n",
      "ans =  3\n"
     ]
    }
   ],
   "source": [
    "x=2;y=-1;\n",
    "3*x+5*y\n",
    "x-y"
   ]
  },
  {
   "cell_type": "markdown",
   "metadata": {},
   "source": [
    "... işlem tamamdır! 8)"
   ]
  }
 ],
 "metadata": {
  "kernelspec": {
   "display_name": "Octave",
   "language": "octave",
   "name": "octave"
  },
  "language_info": {
   "file_extension": ".m",
   "help_links": [
    {
     "text": "GNU Octave",
     "url": "https://www.gnu.org/software/octave/support.html"
    },
    {
     "text": "Octave Kernel",
     "url": "https://github.com/Calysto/octave_kernel"
    },
    {
     "text": "MetaKernel Magics",
     "url": "https://metakernel.readthedocs.io/en/latest/source/README.html"
    }
   ],
   "mimetype": "text/x-octave",
   "name": "octave",
   "version": "5.2.0"
  }
 },
 "nbformat": 4,
 "nbformat_minor": 2
}
