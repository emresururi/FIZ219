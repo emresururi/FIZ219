{
 "cells": [
  {
   "cell_type": "markdown",
   "metadata": {},
   "source": [
    "# Uygulama Notları: 8\n",
    "## FİZ219 - Bilgisayar Programlama I | 23/12/2019\n",
    "\n",
    "**Fonksiyonlar I: Giriş ve basit uygulamalar**\n",
    "* Giriş\n",
    "* Ortalama fonksiyonu\n",
    "    * Fonksiyonumuzu geliştirelim\n",
    "    * Çok işlevli fonksiyonlar\n",
    "    * Fonksiyonlar hakkında yardım\n",
    "* Fonksiyon çağıran fonksiyonlar\n",
    "    * Fibonacci fonksiyonu (tekrarlı)\n",
    "* Fonksiyon yazarken dikkat edilecek birkaç şey\n",
    "\n",
    "Emre S. Tasci <emre.tasci@hacettepe.edu.tr>"
   ]
  },
  {
   "cell_type": "markdown",
   "metadata": {},
   "source": [
    "# Fonksiyonlar\n",
    "## Giriş\n",
    "Fonksiyonlar, kendilerine verilen değerleri (hiç değer verilmiyor da olabilir) alıp, onları kullanarak birtakım işler yapan özel betiklerdir (betik: _script_). O kadar özeldirler ki, GNU Octave'da, fonksiyon yazarken, normal bir betik yazarkenkinden daha fazla şeye dikkat etmemiz gerekir.\n",
    "\n",
    "Bir fonksiyonu yazmak için öncelikle üç bileşenine karar vermeliyiz:\n",
    "* Fonksiyonun adı\n",
    "* Fonksiyonun girdi değerleri\n",
    "* Fonksiyonun çıktı değeri (/değerleri)\n",
    "\n",
    "Fonksiyonlar, kendisi ile aynı addaki bir dosyaya yazılır: örneğin, fonksiyonumuzun adı `ortalama` ise, saklayacağımız dosyanın adı da `ortalama.m` olacaktır."
   ]
  },
  {
   "cell_type": "markdown",
   "metadata": {},
   "source": [
    "## Ortalama fonksiyonu\n",
    "Verilen iki sayının aritmetik ortalamasını hesaplayan bir fonksiyon yazalım. Bunun için öncelikle `ortalama.m` adında bir dosya açıyoruz (Windows kullanıcısı iseniz, ve Octave-GUI kullanmıyorsanız dikkat! Dosyanızı kaydederken türünü \"txt dosyası\" olarak kaydederseniz, siz adını `ortalama.m` olarak yazsanız bile Windows onu aslında `ortalama.m.txt` şeklinde \"txt\" uzantılı kaydedecek, Octave da tanımayacaktır. Bu nedenle, tür olarak \"tüm dosya türleri\"ni seçip, öyle kaydedin).\n",
    "\n",
    "Dosyamızın içeriği şu şekilde olabilir:\n",
    "\n",
    "<code>function f=ortalama(a,b)\n",
    "f = (a + b) / 2;\n",
    "endfunction</code>\n",
    "\n",
    "daha ilk satırda, fonksiyonumuza dair pek çok şey belirtmiş olduk: fonksiyonumuzun adını (\"ortalama\") belirledik, iki tane girdi parametresi (a,b) olduğunu ve cevabın (fonksiyondan döndürülecek değerin) f değişkeninde tutulduğunu.\n",
    "\n",
    "Fonksiyonun bitişini işaret eden `endfunction` satırına gelindiğinde, fonksiyon, ilk satırda fonksiyonun adının solundaki (bizim örneğimizde \"f\" değişkeni) değişkenin dönüş değeri olduğunu bildiğinden, o değişkendeki değer neyse onu çağıran tarafa geri döndürür.\n",
    "\n",
    "Fonksiyon dosyamızı bu şekilde tanımlayıp, Octave'ın gördüğü bir klasöre \"ortalama.m\" adıyla kayıt ettikten sonra fonksiyonu çağıralım:"
   ]
  },
  {
   "cell_type": "code",
   "execution_count": 1,
   "metadata": {
    "scrolled": false
   },
   "outputs": [
    {
     "name": "stdout",
     "output_type": "stream",
     "text": [
      "ans =  3\r\n"
     ]
    }
   ],
   "source": [
    "ortalama(3,9)"
   ]
  },
  {
   "cell_type": "markdown",
   "metadata": {},
   "source": [
    "Dikkat edecek olursanız, fonksiyonu, dosya adına istinaden \"ortalama.m\" olarak değil, doğrudan adıyla çağırdık. Dahası, fonksiyonumuzu parametreleri ile çağırdık (girdisi olmayan bir fonksiyonu bile çağırsak, mutlaka fonksiyon olduğunu belirtmek için parantez kullanırız). Aslında işin başından beri türlü türlü fonksiyonu çağırmaktayız (`plot(), sin(), sum(), ...`), bizimkinin hazırda gelenlerden yapı olarak hiçbir farkı yok. Nasıl ki `sin` demek tek başına bir şey ifade etmiyorsa, `ortalama` yazıp enter'a basmak da hatadan başka bir şeye sebep olmaz."
   ]
  },
  {
   "cell_type": "markdown",
   "metadata": {},
   "source": [
    "### Fonksiyonumuzu geliştirelim\n",
    "Peki ya 2 değil de, 3 sayının ortalamasını almak istersek? Ya da 5?.. Fonksiyonumuz mevcut haliyle sadece 2 sayının ortalamasını alıyor maalesef. Bunu nasıl geliştirebiliriz peki? \n",
    "\n",
    "Bir çözüm, sayıları tek tek girmek yerine, bir listeyle kabul etmek olabilir. Örneğin 5 sayılık bir listeyi `x = [4 2 9 -3 4]` olarak tanımlayıp, fonksiyonumuza o şekilde verebiliriz. Fonksiyonumuz şu anda bunu yapamıyor, o halde tekrardan içine girip düzenleyip, geliştirelim:\n",
    "\n",
    "<code>function f=ortalama(x)\n",
    "eleman_sayisi = length(x);\n",
    "toplam = sum(x);\n",
    "f = toplam / eleman_sayisi;\n",
    "endfunction</code>"
   ]
  },
  {
   "cell_type": "code",
   "execution_count": 2,
   "metadata": {},
   "outputs": [
    {
     "name": "stdout",
     "output_type": "stream",
     "text": [
      "ans =  3.2000\r\n"
     ]
    }
   ],
   "source": [
    "x = [4 2 9 -3 4];\n",
    "ortalama(x)"
   ]
  },
  {
   "cell_type": "markdown",
   "metadata": {},
   "source": [
    "### Çok işlevli fonksiyonlar\n",
    "Bu haliyle fonksiyonumuz aritmetik ortalama (${\\sum_{i=1}^{N}{x_i}}\\over{N}$) alıyor, peki bunun yanında geometrik ortalama ($\\sqrt[N]{\\prod_{i=1}^{N}{x_i}}$) almasını da isteyebiliriz.\n",
    "\n",
    "Bahsettiğimiz şey şu: verilen _N_ boyutlu bir $\\vec{x}$ girdisine karşılık, iki farklı işlemin sonucunu istiyoruz. Birçok dilin aksine, Octave'da birden fazla dönüş değeri üreten fonksiyon tanımlamak mümkün, tek yapmamız gereken, fonksiyonumuzu tanımlarken, dönüş değerlerini dizi olarak tanıtmak:\n",
    "\n",
    "<code>function [a,g] = ortalama(x)\n",
    "eleman_sayisi = length(x);\n",
    "toplam = sum(x);\n",
    "carpim = prod(x);\n",
    "a = toplam / eleman_sayisi;\n",
    "g = carpim^(1/eleman_sayisi); % benzer şekilde nthroot(carpim,N) \n",
    "                              % de kullanilabilir..\n",
    "endfunction</code>\n",
    "\n",
    "Fonksiyon çalışırken, `endfunction` yönergesine geldiğinde, ilk satırda tanımla dönüş değişkenlerinin değerlerini döndürdüğünü unutmayın."
   ]
  },
  {
   "cell_type": "code",
   "execution_count": 3,
   "metadata": {},
   "outputs": [
    {
     "name": "stdout",
     "output_type": "stream",
     "text": [
      "ans =  2\r\n"
     ]
    }
   ],
   "source": [
    "dizi = [1 2 3];\n",
    "ortalama(dizi)"
   ]
  },
  {
   "cell_type": "markdown",
   "metadata": {},
   "source": [
    "Yukarıda gördüğünüz üzere, fonksiyon hem aritmetik, hem de geometrik ortalamayı hesaplamasına rağmen, bize sadece aritmetik ortalamayı verdi!\n",
    "\n",
    "Bunun sebebi, bizim ondan ikinci dönüş değişkenini istemediğimizi sanmış olmasıdır. Eğer ilk dönüş değerinden başka, diğer değişkenleri de istiyorsak, fonksiyonumuzu çağırırken, bunu özellikle belirtmeliyiz:"
   ]
  },
  {
   "cell_type": "code",
   "execution_count": 4,
   "metadata": {},
   "outputs": [
    {
     "name": "stdout",
     "output_type": "stream",
     "text": [
      "a_ort =  2\r\n",
      "g_ort =  1.8171\r\n"
     ]
    }
   ],
   "source": [
    "[a_ort g_ort] = ortalama(dizi)"
   ]
  },
  {
   "cell_type": "markdown",
   "metadata": {},
   "source": [
    "### Fonksiyonlar hakkında yardım\n",
    "Bildiğiniz üzere, bir fonksiyon hakkındaki yardımı, o fonksiyonun adının başına `help` yazarak alabiliyoruz. Örneğin:\n",
    "\n",
    "<pre>octave:2> help sind\n",
    "'sind' is a function from the file /snap/octave/current/usr/share/octave/5.1.0/m/elfun/sind.m\n",
    "\n",
    " -- sind (X)\n",
    "     Compute the sine for each element of X in degrees.\n",
    "\n",
    "     Returns zero for elements where 'X/180' is an integer.\n",
    "\n",
    "     See also: asind, sin.\n",
    "\n",
    "Additional help for built-in functions and operators is\n",
    "available in the online version of the manual.  Use the command\n",
    "'doc <topic>' to search the manual index.\n",
    "\n",
    "Help and information about Octave is also available on the WWW\n",
    "at https://www.octave.org and via the help@octave.org\n",
    "mailing list.\n",
    "</pre>\n",
    "\n",
    "Açıklamanın ilk satırında komutun ait olduğu fonksiyon dosyasının yerini söylüyor (benim durumumda: /snap/octave/current/usr/share/octave/5.1.0/m/elfun/sind.m klasörü imiş). Sonrasında da fonksiyonun ne yaptığını ve ilgili fonksiyonları.\n",
    "\n",
    "Kendi elimizle yazdığımız fonksiyonlara da bu türden yardımcı bilgiler koyabiliriz - fonksiyon tanımından sonra yorum olarak yazacağımız her satır, `help` komutu ile bilgi istendiğinde yazdırılır:\n",
    "\n",
    "<code>function [a,g] = ortalama(x)\n",
    "% [a,g] = ortalama(x) fonksiyonu\n",
    "%\n",
    "% verilen x dizisinin elemanlarının\n",
    "% aritmetik ve geometrik ortalamalarını\n",
    "% hesaplar.\n",
    "%\n",
    "% ilk dönüş değeri olarak aritmetik ortalamayı,\n",
    "% ikinci dönüş değeri olarak da geometrik ortalamayı\n",
    "% döndürür.\n",
    "%\n",
    "% ayrıca bkz. mean(x,\"a\"), mean(x,\"g\")\n",
    "eleman_sayisi = length(x);\n",
    "toplam = sum(x);\n",
    "carpim = prod(x);\n",
    "a = toplam / eleman_sayisi;\n",
    "g = carpim^(1/eleman_sayisi); % benzer şekilde nthroot(carpim,N) \n",
    "                              % de kullanilabilir..\n",
    "endfunction</code>"
   ]
  },
  {
   "cell_type": "code",
   "execution_count": 5,
   "metadata": {},
   "outputs": [
    {
     "name": "stdout",
     "output_type": "stream",
     "text": [
      "'ortalama' is a function from the file /home/sururi/ownCloud/Jupyter_notebooks/FIZ219/ortalama.m\r\n",
      "\r\n",
      " [a,g] = ortalama(x) fonksiyonu\r\n",
      "\r\n",
      " verilen x dizisinin elemanlarının\r\n",
      " aritmetik ve geometrik ortalamalarını\r\n",
      " hesaplar.\r\n",
      "\r\n",
      " ilk dönüş değeri olarak aritmetik ortalamayı,\r\n",
      " ikinci dönüş değeri olarak da geometrik ortalamayı\r\n",
      " döndürür.\r\n",
      "\r\n",
      " ayrıca bkz. mean(x,\"a\"), mean(x,\"g\")\r\n",
      "\r\n",
      "\r\n",
      "Additional help for built-in functions and operators is\r\n",
      "available in the online version of the manual.  Use the command\r\n",
      "'doc <topic>' to search the manual index.\r\n",
      "\r\n",
      "Help and information about Octave is also available on the WWW\r\n",
      "at https://www.octave.org and via the help@octave.org\r\n",
      "mailing list.\r\n"
     ]
    }
   ],
   "source": [
    "help ortalama"
   ]
  },
  {
   "cell_type": "markdown",
   "metadata": {},
   "source": [
    "## Fonksiyon çağıran fonksiyonlar\n",
    "Bir fonksiyon, kendi tanımı içinde bir başka fonksiyonu çağırabilir. Örneğin, tanjant hesaplayan bir fonksiyonu şu şekilde yazabiliriz:\n",
    "\n",
    "<code>function t=tanjant(x)\n",
    "t = sin(x)/cos(x);\n",
    "endfunction</code>\n",
    "\n",
    "Bir fonksiyon iyi tanımlandığı takdirde, kendisini bile çağırabilir!!! Bu tür fonksiyonlara \"tekrarlı\" (_rekürsif / recursive_) fonksiyonlar denir. Bir örnek olarak Fibonacci Sayılarını bu yoldan hesaplayan bir fonksiyon yazalım."
   ]
  },
  {
   "cell_type": "markdown",
   "metadata": {},
   "source": [
    "### Fibonacci fonksiyonu (tekrarlı)\n",
    "İlk iki Fibonacci sayısı: $F_0 = 0,\\, F_1=1$ şeklinde tanımlanıp, sonraki herhangi bir Fibonacci sayısı ise $F_{i+1} = F_{i} + F_{i-1}$ formülünden hesaplanır. Biz bu seriyi hesaplayan bir betiği 1. ara sınavın bonus sorusu olarak şu şekilde yazmıştık:"
   ]
  },
  {
   "cell_type": "code",
   "execution_count": 6,
   "metadata": {},
   "outputs": [
    {
     "name": "stdout",
     "output_type": "stream",
     "text": [
      "ans =\n",
      "\n",
      "    0    1    1    2    3    5    8   13   21   34\n",
      "\n",
      "ans =\n",
      "\n",
      "   8.3621e+19   1.3530e+20   2.1892e+20\n",
      "\n"
     ]
    }
   ],
   "source": [
    "fibonacci = [0 1];\n",
    "for i=3:100\n",
    "    fibonacci(i) = fibonacci(i-2) + fibonacci(i-1);\n",
    "endfor\n",
    "fibonacci(1:10) % ilk 10 terim\n",
    "fibonacci(98:100) % son 3 terim"
   ]
  },
  {
   "cell_type": "markdown",
   "metadata": {},
   "source": [
    "Şimdi de, biraz (epey! 8) daha yavaş çalışan ama tekrarlı özelliğinden ötürü hayli şık, biraz da üzerinde düşününce ufuk açan bir şekilde, fonksiyon olarak yazalım:\n",
    "\n",
    "<code>function f=fibo(n)\n",
    "if(n<2)\n",
    "    f = n;\n",
    "else\n",
    "    f = fibo(n-1) + fibo(n-2);\n",
    "endif\n",
    "endfunction\n",
    "        </code>"
   ]
  },
  {
   "cell_type": "code",
   "execution_count": 7,
   "metadata": {},
   "outputs": [
    {
     "name": "stdout",
     "output_type": "stream",
     "text": [
      "F_0:   0\r\n",
      "F_1:   1\r\n",
      "F_2:   1\r\n",
      "F_3:   2\r\n",
      "F_4:   3\r\n",
      "F_5:   5\r\n",
      "F_6:   8\r\n",
      "F_7:  13\r\n",
      "F_8:  21\r\n",
      "F_9:  34\r\n"
     ]
    }
   ],
   "source": [
    "for n=0:9\n",
    "    printf(\"F_%d: %3d\\n\",n,fibo(n))\n",
    "endfor"
   ]
  },
  {
   "cell_type": "markdown",
   "metadata": {},
   "source": [
    "## Fonksiyon yazarken dikkat edilecek birkaç şey\n",
    "### Varsayılan değerler\n",
    "Eğer fonksiyonunuzda kullandığınız bir parametre belirtilmemişse varsayılan bir değer atamak istiyorsanız, fonksiyonunuzda tanımlarken \"=\" işareti ile bu değeri belirtin. Kullanıcı yazmadığı takdirde bu değer alınacaktır.\n",
    "\n",
    "Örneğin:"
   ]
  },
  {
   "cell_type": "code",
   "execution_count": 8,
   "metadata": {},
   "outputs": [
    {
     "name": "stdout",
     "output_type": "stream",
     "text": [
      "ans =  12\n",
      "ans =  7\n"
     ]
    }
   ],
   "source": [
    "function g=arttir(a,b=4)\n",
    "% ikinci parametre girilmediği takdirde, birinciyi 4 arttırır, \n",
    "% girildiği takdirde ikinci kadar arttırır\n",
    "g = a + b;\n",
    "endfunction\n",
    "\n",
    "arttir(3,9)\n",
    "arttir(3)"
   ]
  },
  {
   "cell_type": "markdown",
   "metadata": {},
   "source": [
    "### Tekeri tekrardan icat etmeyin\n",
    "(Sizler şu anda öğrenme aşamasında olduğunuz için aslında şimdilik bu kuraldan muafsınız 8)\n",
    "\n",
    "Eğer yapmak istediğiniz bir işi yapan bir fonksiyon yazmak üzereyseniz, öncesinde bir durup, böyle bir fonksiyonun halihazırda mevcut olup olmadığını araştırın. Hazırtanımlı olarak gelen, veya geliştirici gruplar tarafından çıkartılmış ek kütüphanelerdeki fonksiyonlar sizin yazacağınız fonksiyonlardan genellikle daha hızlı çalışıp, daha hassas sonuçlar verir.\n",
    "\n",
    "### Fonksiyonlar kendi dünyalarında yaşarlar\n",
    "Fonksiyon tanım bloğunda tanımladığınız her değişken, fonksiyon çalıştığı sürece vardırlar ve fonksiyon `endfunction` yönergesine gelip de değerini döndürdüğü anda yok olurlar. Fonksiyonların kendi evrenleri vardır ve bu evrendeki bir değişkenin ismi sizin programınızdaki bir başka değişkenle aynı olsa bile ikisi de birbirinden etkilenmeyecektir (`global` yönergesiyle istisnalar yapılabilse de, kesinlikle tavsiye edilmez). Örneğin:"
   ]
  },
  {
   "cell_type": "code",
   "execution_count": 9,
   "metadata": {},
   "outputs": [
    {
     "name": "stdout",
     "output_type": "stream",
     "text": [
      "a =  5\n",
      "b =  7\n",
      "ans =  9\n",
      "a =  5\n",
      "b =  7\n"
     ]
    }
   ],
   "source": [
    "% a ve b'ye kodumuzda değer atayalım\n",
    "a = 5\n",
    "b = 7\n",
    "\n",
    "function a=topla(x,y)\n",
    "% fonksiyon içinde de a ve b geçiyor,\n",
    "% hatta a, dönüş değerinin ta kendisi olarak tanımlı!\n",
    "a = x + y; \n",
    "% b = 3;\n",
    "endfunction\n",
    "\n",
    "topla(3,6) \n",
    "% Fonksiyonu çalıştırdık\n",
    "% bakalım a'nın değeri ne oldu?\n",
    "a\n",
    "% b ne oldu peki?\n",
    "b"
   ]
  },
  {
   "cell_type": "markdown",
   "metadata": {},
   "source": [
    "### Fonksiyonlarınıza anlamlı adlar verin\n",
    "Bu adlar, fonksiyonun yaptığı işi tanımlar şeyler olsun. Tek bir karakterden ibaret isimler vermeyin; \"ı,ğ,İ,...\" gibi Türkçe harfler içeren fonksiyon isimleri hem dosya isminden ötürü, hem de çalıştırılırken standard olmayan karakter setinizden dolayı sorun çıkarma potansiyeli yüksek seçimlerdir.\n",
    "\n",
    "### Fonksiyonlarınızı her zaman kendilerine ait dosyalarda tanımlayın\n",
    "İki yukarıdaki `topla` örneğinde dikkat ettiyseniz fonksiyonumuzu doğrudan betiğimizin içinde tanımlayıp, sorunsuzca kullandık. Yanlış: sorun çıkacak çünkü fonksiyonda bir değişiklik yapamıyoruz, fonksiyonların en önemli özelliklerinden olan taşınabilirlik (yani başka programlarca da kullanılma, ki bu taşınabilirlik özelliğinin nimetlerinden gelecek dönemde Python'da nesne tabanlı (_object oriented_) kodlar yazarken çokça faydalanacağız) özelliğini kullanamıyoruz. Özetle, her zaman için fonksiyonunuzu ona ait bir dosyada tanımlayın.\n",
    "\n",
    "### Fonksiyonunuz farklı türlere kucak açsın\n",
    "Verilen sayının karesini alan bir fonksiyon yazdığımızı varsayalım. İlk aklımıza gelen, doğal olarak:\n",
    "\n",
    "<code>function k = kare_al(x)\n",
    "k = x^2;\n",
    "endfunction</code>\n",
    "\n",
    "ama bu, diyelim ki 3'ün karesini alabilmekle beraber, [3 4 5] şeklinde verilen bir girdinin karesini alamaz. Hazır elimiz değmişken fonksiyonumuzu farklı türlere de -tabii ki yaptığı işlem onlarda da mana taşıyorsa- işlem yapacak şekilde yazalım, yani:\n",
    "\n",
    "<code>function k = kare_al(x)\n",
    "k = x.^2;\n",
    "endfunction</code>\n",
    "\n",
    "Unutmayın: Octave öncelikli ve tercihen sayısal bir programlama dilidir, sembolik değil. Bunun nimetlerinden sonuna kadar faydalanın, yazacağınız fonksiyonlarda da faydalandırın. Fonksiyonlarınız vektörleri de (hatta oluyorsa matrisleri de) skalerleri desteklediği kadar desteklesin, çağrıldıkları zaman tek satırda yüz binlerce elemanlı bir vektörün elemanlarını tek tek işleyebilsinler.\n",
    "\n",
    "### Aklınızda kalmasın: Girdisiz, çıktısız, girdisiz-çıktısız fonksiyonlar\n",
    "Girdisi veya çıktısı ya da her ikisi de olmayan fonksiyonlar da yazmak mümkün, örneğin çağrıldığında, o andaki saati gösteren bir fonksiyon:"
   ]
  },
  {
   "cell_type": "code",
   "execution_count": 10,
   "metadata": {},
   "outputs": [
    {
     "name": "stdout",
     "output_type": "stream",
     "text": [
      "Saat: 21:08\r\n"
     ]
    }
   ],
   "source": [
    "function f=tarih_saat()\n",
    "su_an = localtime(time);\n",
    "printf(\"Saat: %02d:%02d\\n\",su_an.hour(),su_an.min());\n",
    "endfunction\n",
    "\n",
    "tarih_saat()"
   ]
  },
  {
   "cell_type": "markdown",
   "metadata": {},
   "source": [
    "## (Bilerek) bahsetmediğimiz şeyler\n",
    "Derste bahsetmedik ama ilginizi çekerse, bilginizi geliştirmek için fonksiyonlarla ilgili bakabileceğiniz birkaç başlık:\n",
    "* `global` yönergesi\n",
    "* tek satırlık (_inline_) fonksiyonlar\n"
   ]
  }
 ],
 "metadata": {
  "kernelspec": {
   "display_name": "Octave",
   "language": "octave",
   "name": "octave"
  },
  "language_info": {
   "file_extension": ".m",
   "help_links": [
    {
     "text": "GNU Octave",
     "url": "https://www.gnu.org/software/octave/support.html"
    },
    {
     "text": "Octave Kernel",
     "url": "https://github.com/Calysto/octave_kernel"
    },
    {
     "text": "MetaKernel Magics",
     "url": "https://metakernel.readthedocs.io/en/latest/source/README.html"
    }
   ],
   "mimetype": "text/x-octave",
   "name": "octave",
   "version": "5.1.0"
  }
 },
 "nbformat": 4,
 "nbformat_minor": 2
}
