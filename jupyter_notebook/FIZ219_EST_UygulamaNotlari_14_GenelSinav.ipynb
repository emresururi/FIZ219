{
 "cells": [
  {
   "cell_type": "markdown",
   "metadata": {},
   "source": [
    "# Uygulama Notları: 14\n",
    "## FİZ219 - Bilgisayar Programlama I | 30/01/2020\n",
    "\n",
    "* Genel Sınav Soru ve Çözümleri\n",
    "\n",
    "Emre S. Tasci <emre.tasci@hacettepe.edu.tr>\n"
   ]
  },
  {
   "cell_type": "markdown",
   "metadata": {},
   "source": [
    "**1\\. Soru**\n",
    "\n",
    "Verilen üç girdinin ($a_1$, $a_2$, $N$) ilk ikisinden Fibonacci serisini ($a_n = a_{n-1}+a_{n-2}$) üretip, üçüncü girdi olan $N.$ terimi döndüren `fibo_n(a1, a2, N)` fonksiyonunu yazınız. ( örnek sonuç: `fibo_n(2,5,4) => 12` )"
   ]
  },
  {
   "cell_type": "code",
   "execution_count": 1,
   "metadata": {},
   "outputs": [],
   "source": [
    "# Tercihen fibo_n.m dosyasi olarak\n",
    "function f = fibo_n(a1,a2,N)\n",
    "for i=3:N\n",
    "    f = a1 + a2;\n",
    "    a1 = a2;\n",
    "    a2 = f;\n",
    "endfor\n",
    "endfunction"
   ]
  },
  {
   "cell_type": "code",
   "execution_count": 2,
   "metadata": {},
   "outputs": [
    {
     "name": "stdout",
     "output_type": "stream",
     "text": [
      "ans =  12\r\n"
     ]
    }
   ],
   "source": [
    "fibo_n(2,5,4)"
   ]
  },
  {
   "cell_type": "markdown",
   "metadata": {},
   "source": [
    "**2\\. Soru**\n",
    "\n",
    "$f(x) = x^2 + 2.2x - 15$ fonksiyonunun köklerinin [-6,3] aralığında olduğu bilinmektedir.\n",
    "\n",
    "a) Fonksiyonu tanımlayın.  \n",
    "b) Bu fonksiyonun ilgili aralıkta grafiğini çizdiren komutu yazın.  \n",
    "c) $\\epsilon = 10^{-6}$ yakınsaklıkla kökleri bulan kod yazın."
   ]
  },
  {
   "cell_type": "code",
   "execution_count": 3,
   "metadata": {},
   "outputs": [],
   "source": [
    "# a)\n",
    "function f=fonk(x)\n",
    "    f = x.^2 + 2.2*x - 15;\n",
    "endfunction"
   ]
  },
  {
   "cell_type": "code",
   "execution_count": 4,
   "metadata": {},
   "outputs": [
    {
     "data": {
      "image/png": "[encoded data removed]",
      "text/plain": [
       "<IPython.core.display.Image object>"
      ]
     },
     "metadata": {},
     "output_type": "display_data"
    }
   ],
   "source": [
    "# b)\n",
    "x = linspace(-6,3,100);\n",
    "plot(x,fonk(x));"
   ]
  },
  {
   "cell_type": "code",
   "execution_count": 5,
   "metadata": {
    "scrolled": false
   },
   "outputs": [
    {
     "name": "stdout",
     "output_type": "stream",
     "text": [
      "0001. -6.0000000 | -1.5000000 |  3.0000000 \t-16.05000\n",
      "0002. -6.0000000 | -3.7500000 | -1.5000000 \t -9.18750\n",
      "0003. -6.0000000 | -4.8750000 | -3.7500000 \t -1.95938\n",
      "0004. -6.0000000 | -5.4375000 | -4.8750000 \t  2.60391\n",
      "0005. -5.4375000 | -5.1562500 | -4.8750000 \t  0.24316\n",
      "0006. -5.1562500 | -5.0156250 | -4.8750000 \t -0.87788\n",
      "0007. -5.1562500 | -5.0859375 | -5.0156250 \t -0.32230\n",
      "0008. -5.1562500 | -5.1210938 | -5.0859375 \t -0.04081\n",
      "0009. -5.1562500 | -5.1386719 | -5.1210938 \t  0.10087\n",
      "0010. -5.1386719 | -5.1298828 | -5.1210938 \t  0.02996\n",
      "0011. -5.1298828 | -5.1254883 | -5.1210938 \t -0.00544\n",
      "0012. -5.1298828 | -5.1276855 | -5.1254883 \t  0.01225\n",
      "0013. -5.1276855 | -5.1265869 | -5.1254883 \t  0.00340\n",
      "0014. -5.1265869 | -5.1260376 | -5.1254883 \t -0.00102\n",
      "0015. -5.1265869 | -5.1263123 | -5.1260376 \t  0.00119\n",
      "0016. -5.1263123 | -5.1261749 | -5.1260376 \t  0.00008\n",
      "0017. -5.1261749 | -5.1261063 | -5.1260376 \t -0.00047\n",
      "0018. -5.1261749 | -5.1261406 | -5.1261063 \t -0.00019\n",
      "0019. -5.1261749 | -5.1261578 | -5.1261406 \t -0.00005\n",
      "0020. -5.1261749 | -5.1261663 | -5.1261578 \t  0.00002\n",
      "0021. -5.1261663 | -5.1261621 | -5.1261578 \t -0.00002\n",
      "0022. -5.1261663 | -5.1261642 | -5.1261621 \t -0.00000\n",
      "0023. -5.1261663 | -5.1261653 | -5.1261642 \t  0.00001\n",
      "1. Kok: -5.126164734\n",
      "\n",
      "--------------------------\n",
      "0001. -5.1261637 | -1.0630819 |  3.0000000 \t-16.20864\n",
      "0002. -1.0630819 |  0.9684591 |  3.0000000 \t-11.93148\n",
      "0003.  0.9684591 |  1.9842295 |  3.0000000 \t -6.69753\n",
      "0004.  1.9842295 |  2.4921148 |  3.0000000 \t -3.30671\n",
      "0005.  2.4921148 |  2.7460574 |  3.0000000 \t -1.41784\n",
      "0006.  2.7460574 |  2.8730287 |  3.0000000 \t -0.42504\n",
      "0007.  2.8730287 |  2.9365143 |  3.0000000 \t  0.08345\n",
      "0008.  2.8730287 |  2.9047715 |  2.9365143 \t -0.17181\n",
      "0009.  2.9047715 |  2.9206429 |  2.9365143 \t -0.04443\n",
      "0010.  2.9206429 |  2.9285786 |  2.9365143 \t  0.01945\n",
      "0011.  2.9206429 |  2.9246108 |  2.9285786 \t -0.01251\n",
      "0012.  2.9246108 |  2.9265947 |  2.9285786 \t  0.00346\n",
      "0013.  2.9246108 |  2.9256027 |  2.9265947 \t -0.00452\n",
      "0014.  2.9256027 |  2.9260987 |  2.9265947 \t -0.00053\n",
      "0015.  2.9260987 |  2.9263467 |  2.9265947 \t  0.00147\n",
      "0016.  2.9260987 |  2.9262227 |  2.9263467 \t  0.00047\n",
      "0017.  2.9260987 |  2.9261607 |  2.9262227 \t -0.00003\n",
      "0018.  2.9261607 |  2.9261917 |  2.9262227 \t  0.00022\n",
      "0019.  2.9261607 |  2.9261762 |  2.9261917 \t  0.00010\n",
      "0020.  2.9261607 |  2.9261685 |  2.9261762 \t  0.00003\n",
      "0021.  2.9261607 |  2.9261646 |  2.9261685 \t  0.00000\n",
      "0022.  2.9261607 |  2.9261627 |  2.9261646 \t -0.00001\n",
      "2. Kok: 2.926163635\n",
      "\n",
      "roots() fonksiyonu ile bulunan kökler:\n",
      "-5.126164428\t2.926164428\n"
     ]
    }
   ],
   "source": [
    "# c)\n",
    "epsilon = 10^-6;\n",
    "\n",
    "# 1. kok:\n",
    "a = -6;\n",
    "b = 3;\n",
    "f_a = fonk(a);\n",
    "f_b = fonk(b);\n",
    "kok1 = (a + b)/2;\n",
    "kok_onceki = -100;\n",
    "i = 0;\n",
    "while (abs(kok1-kok_onceki)>epsilon)\n",
    "    f_kok = fonk(kok1);\n",
    "    i++;\n",
    "    printf(\"%04d. %10.7f | %10.7f | %10.7f \\t%9.5f\\n\",i,a,kok1,b,f_kok);\n",
    "    if(sign(f_a) == sign(f_kok))\n",
    "        a = kok1;\n",
    "        f_a = f_kok;\n",
    "    else\n",
    "        b = kok1;\n",
    "        f_b = f_kok;\n",
    "    endif\n",
    "    kok_onceki = kok1;\n",
    "    kok1 = (a + b)/2;\n",
    "endwhile\n",
    "printf(\"1. Kok: %.9f\\n\",kok1);\n",
    "\n",
    "printf(\"\\n--------------------------\\n\")\n",
    "\n",
    "# 2. kok:\n",
    "a = kok1+epsilon;\n",
    "b = 3;\n",
    "f_a = fonk(a);\n",
    "f_b = fonk(b);\n",
    "kok2 = (a + b)/2;\n",
    "kok_onceki = -100;\n",
    "i = 0;\n",
    "while (abs(kok2-kok_onceki)>epsilon)\n",
    "    f_kok = fonk(kok2);\n",
    "    i++;\n",
    "    printf(\"%04d. %10.7f | %10.7f | %10.7f \\t%9.5f\\n\",i,a,kok2,b,f_kok);\n",
    "    if(sign(f_a) == sign(f_kok))\n",
    "        a = kok2;\n",
    "        f_a = f_kok;\n",
    "    else\n",
    "        b = kok2;\n",
    "        f_b = f_kok;\n",
    "    endif\n",
    "    kok_onceki = kok2;\n",
    "    kok2 = (a + b)/2;\n",
    "endwhile\n",
    "printf(\"2. Kok: %.9f\\n\",kok2);\n",
    "\n",
    "\n",
    "# Kontrol edelim:\n",
    "printf(\"\\nroots() fonksiyonu ile bulunan kökler:\\n%.9f\\t%.9f\\n\",roots([1 2.2 -15]))"
   ]
  },
  {
   "cell_type": "markdown",
   "metadata": {},
   "source": [
    "Alternatif olarak, kök bulma kısmını fonksiyonlaştırsaydık, gereksiz tekrarlardan da kurtulmuş olurduk:"
   ]
  },
  {
   "cell_type": "code",
   "execution_count": 6,
   "metadata": {},
   "outputs": [
    {
     "name": "stdout",
     "output_type": "stream",
     "text": [
      "1. Kok: -5.1261647\r\n",
      "2. Kok:  2.9261636\r\n"
     ]
    }
   ],
   "source": [
    "function kok=kok_bul_fonk(a,b,epsilon)\n",
    "# 'fonk' fonksiyonun [a,b] araliginda \n",
    "# yarilama (bisection) yontemi ile \n",
    "# epsilon yaklasiklikla kokunu bulur.\n",
    "\n",
    "if(a>b)\n",
    "    # Eger a, b degerinden buyukse,\n",
    "    # yerlerini degistiriyoruz\n",
    "    c = a;\n",
    "    a = b;\n",
    "    b = c;\n",
    "endif\n",
    "\n",
    "f_a = fonk(a);\n",
    "f_b = fonk(b);\n",
    "kok = (a + b) / 2;\n",
    "kok_onceki = a - 1;\n",
    "\n",
    "while(abs(kok-kok_onceki)>epsilon)\n",
    "    f_kok = fonk(kok);\n",
    "    if(sign(f_a) == sign(f_kok))\n",
    "        a = kok;\n",
    "        f_a = f_kok;\n",
    "    else\n",
    "        b = kok;\n",
    "        f_b = f_kok;\n",
    "    endif\n",
    "    kok_onceki = kok;\n",
    "    kok = (a + b) / 2;\n",
    "endwhile\n",
    "endfunction\n",
    "\n",
    "a = -6;\n",
    "b = 3;\n",
    "epsilon = 1E-6;\n",
    "kok1 = kok_bul_fonk(a,b,epsilon);\n",
    "kok2 = kok_bul_fonk(kok1+epsilon,b,epsilon);\n",
    "printf(\"1. Kok: %10.7f\\n2. Kok: %10.7f\\n\",kok1,kok2)"
   ]
  },
  {
   "cell_type": "markdown",
   "metadata": {},
   "source": [
    "**3\\. Soru**\n",
    "\n",
    "Bir sınıftaki _n_ öğrencinin 2 ara sınav ve bir genel sınav notları $(n\\times3)$  boyutundaki bir `notlar` matrisinde tutulmaktadır (`notlar` matrisinin tanımlanmış olarak elinizde bulunduğunu varsayın).\n",
    "\n",
    "a) `notlar` matrisine 4. sütun olarak ağırlıklı not ortalamalarını hesaplayın (ara sınavların ortalamalarının %50’si + genel sınavın %50’si)  \n",
    "b) Ortalamaları 50’ye eşit veya 50’den büyük olan öğrenciler dersten geçeceklerdir. Bu öğrencilerin sayısını hesaplayın.  \n",
    "c) Dersi geçen öğrencilerin ortalamalarının ortalamasını hesaplayın."
   ]
  },
  {
   "cell_type": "code",
   "execution_count": 7,
   "metadata": {},
   "outputs": [
    {
     "name": "stdout",
     "output_type": "stream",
     "text": [
      "ans =\r\n",
      "\r\n",
      "   35   85   60\r\n",
      "   58    7   67\r\n",
      "   40    1   62\r\n",
      "   90   80   37\r\n",
      "   26    9   19\r\n",
      "\r\n"
     ]
    }
   ],
   "source": [
    "# Ogrenci sayisini [50,300] arasinda rasgele olarak belirleyip, \n",
    "# rasgele olarak notlar matrisini olusturalim:\n",
    "n = randi([50,300]);\n",
    "notlar = randi([0 100],[n 3]);\n",
    "notlar(1:5,:)"
   ]
  },
  {
   "cell_type": "code",
   "execution_count": 8,
   "metadata": {
    "scrolled": true
   },
   "outputs": [
    {
     "name": "stdout",
     "output_type": "stream",
     "text": [
      "ans =\r\n",
      "\r\n",
      "   35.0000   85.0000   60.0000   60.0000\r\n",
      "   58.0000    7.0000   67.0000   49.7500\r\n",
      "   40.0000    1.0000   62.0000   41.2500\r\n",
      "   90.0000   80.0000   37.0000   61.0000\r\n",
      "   26.0000    9.0000   19.0000   18.2500\r\n",
      "\r\n"
     ]
    }
   ],
   "source": [
    "# a)\n",
    "notlar(:,4) = (notlar(:,1) + notlar(:,2))/4 + notlar(:,3)/2;\n",
    "notlar(1:5,:)"
   ]
  },
  {
   "cell_type": "code",
   "execution_count": 9,
   "metadata": {},
   "outputs": [
    {
     "name": "stdout",
     "output_type": "stream",
     "text": [
      "ans =\n",
      "\n",
      "   60.000\n",
      "   61.000\n",
      "   71.250\n",
      "   50.000\n",
      "   71.750\n",
      "\n",
      "ans =  59\n"
     ]
    }
   ],
   "source": [
    "# b)\n",
    "gecenler_ort = notlar(notlar(:,4)>=50,4);\n",
    "gecenler_ort(1:5)\n",
    "\n",
    "rows(gecenler_ort)"
   ]
  },
  {
   "cell_type": "code",
   "execution_count": 10,
   "metadata": {},
   "outputs": [
    {
     "name": "stdout",
     "output_type": "stream",
     "text": [
      "gecenler_ort_ort =  64.750\n",
      "gecenler_ort_ort =  64.750\n"
     ]
    }
   ],
   "source": [
    "# c)\n",
    "gecenler_ort_ort = mean(gecenler_ort)\n",
    "\n",
    "# veya:\n",
    "gecenler_ort_ort = sum(gecenler_ort) / rows(gecenler_ort)"
   ]
  },
  {
   "cell_type": "markdown",
   "metadata": {},
   "source": [
    "**4\\. Soru**\n",
    "\n",
    "Elinizde 10 m uzunluğunda bir ip var. Bu ipten $(a,b)$ kenar uzunluklarına sahip bir dikdörtgen yapıp, maksimum büyüklükte alanı kapatmanız isteniyor. Bu durumda, biliyoruz ki, maksimum alanı verecek olan şekil $a=b=2.5$m olan bir kare olacaktır.\n",
    "\n",
    "$$a+b=5\\rightarrow S = a\\cdot b = a(5-a) \\\\\n",
    "\\rightarrow \\frac{\\partial S}{\\partial a} = 5 - 2a = 0\\\\\\Rightarrow a = 2.5 \\rightarrow b = 5 - a = 2.5$$\n",
    "\n",
    "Bu sonucu $a$’yı 0.1 aralıklarla 0’dan 5’e kadar arttırıp, karşılık gelen $b$ değerlerini bulup, alanı hesaplatıp, en büyük alanın $a=b=2.5$m olduğunu ispatlayan bir programla doğrulayınız.  \n",
    "\n",
    "**Bonus:** $a$’nın değerlerine karşılık gelen alan değerlerinin grafiğini çizdirin – 5 puan"
   ]
  },
  {
   "cell_type": "code",
   "execution_count": 11,
   "metadata": {},
   "outputs": [
    {
     "name": "stdout",
     "output_type": "stream",
     "text": [
      "Maksimum alani veren a: 2.50 m\n",
      "Bu degere karsilik bulunan alan:  6.250 m^2\n"
     ]
    },
    {
     "data": {
      "image/png": "[encoded data removed]",
      "text/plain": [
       "<IPython.core.display.Image object>"
      ]
     },
     "metadata": {},
     "output_type": "display_data"
    }
   ],
   "source": [
    "alar=0:0.1:5;\n",
    "Alanlar=[];\n",
    "a_max = 0;\n",
    "Alan_max = 0;\n",
    "for a=alar\n",
    "    b = 5 - a;\n",
    "    Alan = a * b;\n",
    "    if(Alan > Alan_max)\n",
    "        a_max = a;\n",
    "        Alan_max = Alan;\n",
    "    endif\n",
    "    Alanlar = [Alanlar Alan];\n",
    "endfor\n",
    "\n",
    "printf(\"Maksimum alani veren a: %4.2f m\\n\",a_max);\n",
    "printf(\"Bu degere karsilik bulunan alan: %6.3f m^2\\n\",Alan_max);\n",
    "\n",
    "plot(alar,Alanlar);\n",
    "xlabel(\"a (m)\");\n",
    "ylabel(\"Alan (m^2)\");"
   ]
  },
  {
   "cell_type": "markdown",
   "metadata": {},
   "source": [
    "**5\\. Soru**\n",
    "\n",
    "**2-boyutlu sarhoş yürüyüş problemi:** Fizikte, matematikte ve istatistikte modellemeler için sıklıkla kullanılan bir ilerleme metodu bu adla anılmaktadır. 2-boyutlu uygulaması için orijinde $(x,y)=(0,0)$ duran birini düşünün, tamamıyla tesadüfi olarak eşit ihtimalle (%25) doğuya, batıya, kuzeye veya güneye bir adım atar (adım uzunluğunu 1 birim alın). Bu şekilde (yani her adımı attıktan sonra bir sonraki adımının dört temel yönden biri olma ihtimalinin eşit olduğu şekilde) $N$ adım attıktan sonra, başlangıç noktasından uzaklaşma mesafesini hesaplayan bir kod yazınız. "
   ]
  },
  {
   "cell_type": "code",
   "execution_count": 12,
   "metadata": {},
   "outputs": [
    {
     "name": "stdout",
     "output_type": "stream",
     "text": [
      "mesafe =  45.695\n",
      "Elapsed time is 0.0923409 seconds.\n"
     ]
    }
   ],
   "source": [
    "# En acik haliyle\n",
    "\n",
    "N = randi([10,200]);\n",
    "N=1000; # Hiz karsilastirmasi yapmak icin ayni N degeri\n",
    "konum = [0,0];\n",
    "\n",
    "tic();\n",
    "for i=1:N\n",
    "    yon = randi([1,4]);\n",
    "    if(yon == 1)\n",
    "        # Dogu\n",
    "        konum = konum + [1 0];\n",
    "    elseif(yon == 2)\n",
    "        # Bati\n",
    "        konum = konum + [-1 0];\n",
    "    elseif(yon == 3)\n",
    "        # Kuzey\n",
    "        konum = konum + [0 1];\n",
    "    elseif(yon == 4)\n",
    "        # Guney\n",
    "        konum = konum + [0 -1];\n",
    "    endif\n",
    "endfor\n",
    "\n",
    "mesafe = sqrt(konum(1)^2 + konum(2)^2)\n",
    "toc()"
   ]
  },
  {
   "cell_type": "code",
   "execution_count": 13,
   "metadata": {},
   "outputs": [
    {
     "name": "stdout",
     "output_type": "stream",
     "text": [
      "mesafe =  1.4142\n",
      "Elapsed time is 0.017318 seconds.\n"
     ]
    }
   ],
   "source": [
    "# Daha ustaca bir yaklasim\n",
    "\n",
    "N = randi([10,200]);\n",
    "N=1000; # Hiz karsilastirmasi yapmak icin ayni N degeri\n",
    "konum = [0,0];\n",
    "\n",
    "tic();\n",
    "yon = [1 0\n",
    "-1 0\n",
    "0 1\n",
    "0 -1];\n",
    "yonler = randi([1,4],[1,N]);\n",
    "for i=1:N\n",
    "    konum = konum + yon(yonler(i));\n",
    "endfor\n",
    "\n",
    "mesafe = norm(konum)\n",
    "toc()"
   ]
  },
  {
   "cell_type": "code",
   "execution_count": 14,
   "metadata": {},
   "outputs": [
    {
     "name": "stdout",
     "output_type": "stream",
     "text": [
      "mesafe =  29.967\n",
      "Elapsed time is 0.00631499 seconds.\n"
     ]
    }
   ],
   "source": [
    "# Daha da ustaca bir yaklasim\n",
    "\n",
    "N = randi([10,200]);\n",
    "N=1000; # Hiz karsilastirmasi yapmak icin ayni N degeri\n",
    "konum = [0,0];\n",
    "\n",
    "tic();\n",
    "\n",
    "konumlar =  randi([1,4],[1,N]);\n",
    "xler_net = sum(konumlar==1) - sum(konumlar==2);\n",
    "yler_net = sum(konumlar==3) - sum(konumlar==4);\n",
    "\n",
    "mesafe = norm([xler_net yler_net])\n",
    "toc()"
   ]
  },
  {
   "cell_type": "code",
   "execution_count": 15,
   "metadata": {
    "scrolled": false
   },
   "outputs": [
    {
     "name": "stdout",
     "output_type": "stream",
     "text": [
      "mesafe =  52.154\n",
      "Elapsed time is 0.00525904 seconds.\n"
     ]
    }
   ],
   "source": [
    "# En super yaklasim \n",
    "# (ama 4 ana yonden baska, capraz yonlere de izin olsaydi)\n",
    "\n",
    "N = randi([10,200]);\n",
    "N=1000; # Hiz karsilastirmasi yapmak icin ayni N degeri\n",
    "konum = [0,0];\n",
    "\n",
    "tic();\n",
    "\n",
    "konumlar = randi([0,1],[N,2]);\n",
    "konumlar(konumlar(:,:)==0) = -1;\n",
    "\n",
    "mesafe = norm(sum(konumlar))\n",
    "toc()"
   ]
  },
  {
   "cell_type": "markdown",
   "metadata": {},
   "source": [
    "**Bonus:** daha önce ziyaret ettiği bir noktaya gelirse bu noktaya gitmek yerine başka bir yöne gitsin (10 puan); eğer 4 yöne de daha önce gidilmişse pes etsin (10 puan daha)"
   ]
  },
  {
   "cell_type": "code",
   "execution_count": 16,
   "metadata": {
    "scrolled": false
   },
   "outputs": [
    {
     "name": "stdout",
     "output_type": "stream",
     "text": [
      "61. adimda (-8,8) cikmaza dustuk!\n",
      "mesafe =  11.314\n",
      "ans =\n",
      "\n",
      "    0    0    0    0    0    0    0    0    0    0    0    0    0    0    0\n",
      "    0    0    0    0    0    0    0    0    0    0    0   51   52    0    0\n",
      "    0    0    0    0    0    0    0    0    0    0   49   50   53   54    0\n",
      "    0    0    0    0    0    0    0    0    0   47   48   57   56   55    0\n",
      "    0    0    0    0    0    0    0    0   45   46   59   58    0    0    0\n",
      "    0   15   16    0    0    0   42   43   44   61   60    0    0    0    0\n",
      "    0   14   17   18    0    0   41   40   39   38    0    0    0    0    0\n",
      "    0   13   12   19   20   21   34   35   36   37    0    0    0    0    0\n",
      "    0    0   11   10   23   22   33   32    0    0    0    0    0    0    0\n",
      "    0    0    0    9   24   25    0   31    0    0    0    0    0    0    0\n",
      "    0    0    7    8    0   26   29   30    0    0    0    0    0    0    0\n",
      "    0    0    6    5    0   27   28    0    0    0    0    0    0    0    0\n",
      "    0    2    3    4    0    0    0    0    0    0    0    0    0    0    0\n",
      "    0    1    0    0    0    0    0    0    0    0    0    0    0    0    0\n",
      "    0    0    0    0    0    0    0    0    0    0    0    0    0    0    0\n",
      "\n"
     ]
    },
    {
     "data": {
      "image/png": "[encoded data removed]",
      "text/plain": [
       "<IPython.core.display.Image object>"
      ]
     },
     "metadata": {},
     "output_type": "display_data"
    }
   ],
   "source": [
    "% 2 Boyutlu, 4 ana yone sarhos yuruyus problemi\n",
    "% Daha once gidilen yere gidilmez.\n",
    "% Gidecek yon kalmayinca programdan cikilir.\n",
    "%\n",
    "% FIZ219 - Bilgisayar Programlama I dersi\n",
    "% Dr. Emre S. Tasci <emre.tasci@hacettepe.edu.tr>\n",
    "\n",
    "clear;\n",
    "\n",
    "N = randi([10,200]);\n",
    "N=1000;\n",
    "\n",
    "konum = [0,0];\n",
    "konumlar = [];\n",
    "konumlar = [konumlar; konum];\n",
    "\n",
    "olasi_yonler = [1 0;-1 0;0 1;0 -1];\n",
    "\n",
    "\n",
    "% (0,0)'dan baslayip, 4 yone de gidebildigimiz\n",
    "% icin konumumuz negatif degerler de alabilir.\n",
    "% Halbuki, konumlari isaretleyecegimiz 'Harita'\n",
    "% matrisimizin indisleri sadece pozitif degerler\n",
    "% olmak zorunda. Bu yuzden bir numara yapip,\n",
    "% orijinimizi matrisimizin ortasina tasiyoruz.\n",
    "Harita = zeros(2*N+1,2*N+1);\n",
    "knp1 = konum+N+1;\n",
    "Harita(knp1(1),knp1(2)) = 1;\n",
    "\n",
    "for i=1:N\n",
    "    % Konumu kontrol et:\n",
    "    pes_etsin_mi = 1;\n",
    "    konum2harita = konum+N+1;\n",
    "    for j = 1:4\n",
    "            knp1 = konum2harita+olasi_yonler(j,:);\n",
    "            if(Harita(knp1(1),knp1(2)) == 0)\n",
    "                pes_etsin_mi = 0;\n",
    "                break;\n",
    "            endif\n",
    "    endfor\n",
    "    if(pes_etsin_mi == 1)\n",
    "        printf(\"%d. adimda (%d,%d) cikmaza dustuk!\\n\",i,konum(1),konum(2));\n",
    "        break;\n",
    "    endif\n",
    "\n",
    "    % Bu noktada biliyoruz ki en az bir tane gidilebilecek yer var\n",
    "    olasi_konum = konum; \n",
    "    knp1 = olasi_konum+N+1;\n",
    "    while(Harita(knp1(1),knp1(2)) != 0)\n",
    "        yon = randi([1,4]);\n",
    "        if(yon == 1)\n",
    "            % Dogu\n",
    "            olasi_konum = konum + [1 0];\n",
    "        elseif(yon == 2)\n",
    "            % Bati\n",
    "            olasi_konum = konum + [-1 0];\n",
    "        elseif(yon == 3)\n",
    "            % Kuzey\n",
    "            olasi_konum = konum + [0 1];\n",
    "        elseif(yon == 4)\n",
    "            % Guney\n",
    "            olasi_konum = konum + [0 -1];\n",
    "        endif\n",
    "        knp1 = olasi_konum+N+1;\n",
    "    endwhile\n",
    "    konum = olasi_konum;\n",
    "    konumlar = [konumlar; konum];\n",
    "    knp1 = konum+N+1;\n",
    "    Harita(knp1(1),knp1(2)) = i+1;\n",
    "endfor\n",
    "\n",
    "mesafe = sqrt(konum(1)^2 + konum(2)^2)\n",
    "\n",
    "#konumlar\n",
    "\n",
    "% Bundan sonrasi gorsellestirme ile ilgili\n",
    "\n",
    "% Haritanin tutuldugu buyuk matriste, sadece ilgili\n",
    "% bolgeye zoom'layalim:\n",
    "min_max_x = [1:2*N+1](any(Harita,2));\n",
    "min_max_y = [1:2*N+1](any(Harita,1));\n",
    "min_x = min(min_max_x)-1;\n",
    "max_x = max(min_max_x)+1;\n",
    "min_y = min(min_max_y)-1;\n",
    "max_y = max(min_max_y)+1;\n",
    "Harita(min_x:max_x,min_y:max_y)\n",
    "\n",
    "% Bu da harita ile uyumlu olarak konumlarin gosterilisi\n",
    "plot(konumlar(1,2),-konumlar(1,1),\"bo\",\"markersize\",10,'LineWidth',6,...\n",
    "     konumlar(:,2),-konumlar(:,1),\"-o\",...\n",
    "     konumlar(end,2),-konumlar(end,1),\"rx\",\"markersize\",10,'LineWidth',6)\n",
    "axis([min(konumlar(:,2))-1,max(konumlar(:,2))+1,...\n",
    "     -1-max(konumlar(:,1)),1-min(konumlar(:,1))])"
   ]
  }
 ],
 "metadata": {
  "kernelspec": {
   "display_name": "Octave",
   "language": "octave",
   "name": "octave"
  },
  "language_info": {
   "file_extension": ".m",
   "help_links": [
    {
     "text": "GNU Octave",
     "url": "https://www.gnu.org/software/octave/support.html"
    },
    {
     "text": "Octave Kernel",
     "url": "https://github.com/Calysto/octave_kernel"
    },
    {
     "text": "MetaKernel Magics",
     "url": "https://metakernel.readthedocs.io/en/latest/source/README.html"
    }
   ],
   "mimetype": "text/x-octave",
   "name": "octave",
   "version": "4.2.2"
  }
 },
 "nbformat": 4,
 "nbformat_minor": 2
}
