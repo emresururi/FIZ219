{
 "cells": [
  {
   "cell_type": "markdown",
   "metadata": {},
   "source": [
    "# Uygulama Notları: 7\n",
    "## FİZ219 - Bilgisayar Programlama I | 23/11/2019\n",
    "\n",
    "**Monte Carlo yöntemi ile Pi sayısının kestirimi**\n",
    "* Rastgele sayılar (`rand`)\n",
    "* Filtreleme\n",
    "* Grafiklerde eksen aralıkları (`axis`)\n",
    "* Vektörlerin boyunu hesaplamak (`norm`)\n",
    "\n",
    "Emre S. Tasci <emre.tasci@hacettepe.edu.tr>"
   ]
  },
  {
   "cell_type": "markdown",
   "metadata": {},
   "source": [
    "# Monte Carlo Yöntemleri\n",
    "Analitik çözümü olmayan ya da olsa da zor olan problemlerin çözümünde rastgele sayıların kullanıldığı yöntemlere _Monte Carlo_ yöntemleri denir. Yöntem ismini, Fransa ile İtalya sınırının arasında yer alan Monaco Krallığı'nın kumarhaneleri ile ünlü Monte Carlo kentinden almaktadır. Bu uygulamada rastgele sayılar kullanarak $\\pi$ sayısını kestirmeye çalışacağız."
   ]
  },
  {
   "cell_type": "markdown",
   "metadata": {},
   "source": [
    "### Rastgele sayılar\n",
    "Octave'da rastgele sayılar İngilizce'de _rastgele_ anlamına gelen \"random\" kelimesinden `rand` olarak türetilen komutla çağrılır. `rand` komutu her çağrılışında 0 ile 1 arasında \"düzgün olasılık dağılımına\" (_uniform distribution_) uygun bir sayı döndürür."
   ]
  },
  {
   "cell_type": "code",
   "execution_count": 1,
   "metadata": {},
   "outputs": [
    {
     "name": "stdout",
     "output_type": "stream",
     "text": [
      "ans =  0.55072\r\n"
     ]
    }
   ],
   "source": [
    "rand % Bir kere çağıralım"
   ]
  },
  {
   "cell_type": "code",
   "execution_count": 2,
   "metadata": {},
   "outputs": [
    {
     "name": "stdout",
     "output_type": "stream",
     "text": [
      "ans =  0.96052\r\n",
      "ans =  0.23647\r\n",
      "ans =  0.82555\r\n",
      "ans =  0.46225\r\n",
      "ans =  0.50250\r\n",
      "ans =  0.91474\r\n",
      "ans =  0.13897\r\n",
      "ans =  0.45764\r\n",
      "ans =  0.61583\r\n",
      "ans =  0.81164\r\n"
     ]
    }
   ],
   "source": [
    "% 10 kere çağıralım:\n",
    "for i=1:10\n",
    "    rand\n",
    "endfor"
   ]
  },
  {
   "cell_type": "markdown",
   "metadata": {},
   "source": [
    "`rand` komutuna parametre olarak satır ve sütun sayısını verip, o boyutta bir matrisin rastgele değerlerle doldurulmasını sağlayabiliriz:"
   ]
  },
  {
   "cell_type": "code",
   "execution_count": 3,
   "metadata": {
    "scrolled": false
   },
   "outputs": [
    {
     "name": "stdout",
     "output_type": "stream",
     "text": [
      "m =\r\n",
      "\r\n",
      "   0.921103   0.326028   0.250862   0.899456\r\n",
      "   0.155260   0.667749   0.969621   0.259840\r\n",
      "   0.571137   0.205044   0.203361   0.191396\r\n",
      "   0.600883   0.533503   0.139066   0.585742\r\n",
      "   0.728163   0.975689   0.069948   0.886183\r\n",
      "\r\n"
     ]
    }
   ],
   "source": [
    "% 5x4'lük bir matrisi rastgele sayılarla dolduralım:\n",
    "m = rand([5,4])"
   ]
  },
  {
   "cell_type": "markdown",
   "metadata": {},
   "source": [
    "### \"Aynı\" rastgele sayılar\n",
    "Bilgisayarda ürettiğimiz rastgele sayılar, belirli fonksiyonların sonucu olduklarından, aslında hiçbir zaman ideal olarak rastgele olamazlar. Rastgele sayıların üretiminde bilgisayarlar o sıradaki işlemci ısısı, günün saati, besleme voltajinın dalgalanma değeri gibi anlık ve değişken parametreleri bir arada yoğurup, bu değeri rastgele sayı üreticinde \"tohum\" (_seed_) olarak kullanır. Rastgele sayı üreteç fonksiyonunun özelliği, birbirine çok yakın iki değerden çok farklı iki sonuç üretmesidir.\n",
    "\n",
    "Bazı durumlarda, ürettiğimiz rastgele sayıları aynı şekilde tekrarlanabilmesini isteriz (örn., Monte Carlo yöntemleri içeren bir çalışmanın bir başka kişi tarafından kontrol edilebilmesi, veya sınıfta/dökümanlarda verdiğiniz örneklerin sonrasında öğrenciler tarafından aynen yapılabilmesi maksadı ile). Bu gibi durumlarda, üretecin kullanacağı tohumu biz gireriz, bunu da, \"seed\" parametresi ile yaparız."
   ]
  },
  {
   "cell_type": "code",
   "execution_count": 4,
   "metadata": {
    "scrolled": true
   },
   "outputs": [
    {
     "name": "stdout",
     "output_type": "stream",
     "text": [
      "mevcut_tohum =   8.7002e-311\r\n"
     ]
    }
   ],
   "source": [
    "% An itibarı ile üretecin tohumu rastgele bir sayı, \n",
    "% dilersek bunu öğrenebiliriz:\n",
    "mevcut_tohum = rand(\"seed\")"
   ]
  },
  {
   "cell_type": "code",
   "execution_count": 5,
   "metadata": {},
   "outputs": [
    {
     "name": "stdout",
     "output_type": "stream",
     "text": [
      "ans =  0.65708\r\n",
      "ans =  0.014786\r\n",
      "ans =  0.15056\r\n",
      "ans =  0.51622\r\n",
      "ans =  0.22114\r\n",
      "ans =  0.44253\r\n",
      "ans =  0.57650\r\n",
      "ans =  0.43923\r\n",
      "ans =  0.64676\r\n",
      "ans =  0.30993\r\n"
     ]
    }
   ],
   "source": [
    "% Şimdi elimizle bir tohum değeri (219 olsun) girip,\n",
    "% 10 tane rastlantısal sayı üretelim:\n",
    "rand(\"seed\",219)\n",
    "for i=1:10\n",
    "    rand\n",
    "endfor"
   ]
  },
  {
   "cell_type": "code",
   "execution_count": 6,
   "metadata": {
    "scrolled": true
   },
   "outputs": [
    {
     "name": "stdout",
     "output_type": "stream",
     "text": [
      "m =\r\n",
      "\r\n",
      "   0.50165   0.75778   0.84164   0.18015   0.22673\r\n",
      "   0.72982   0.80006   0.53716   0.51835   0.39345\r\n",
      "\r\n"
     ]
    }
   ],
   "source": [
    "% Herhangi bir başka zamanda, hatta bir başka bilgisayarda, \n",
    "% tohuma aynı değere atayıp, yine aynı sayıları elde edebiliriz:\n",
    "rand(\"seed\",rand) % Önce rastgele bir tohum atayalım\n",
    "m = rand([2 5])"
   ]
  },
  {
   "cell_type": "code",
   "execution_count": 7,
   "metadata": {
    "scrolled": true
   },
   "outputs": [
    {
     "name": "stdout",
     "output_type": "stream",
     "text": [
      "m =\r\n",
      "\r\n",
      "   0.657083   0.442527\r\n",
      "   0.014786   0.576504\r\n",
      "   0.150560   0.439225\r\n",
      "   0.516222   0.646758\r\n",
      "   0.221140   0.309934\r\n",
      "\r\n"
     ]
    }
   ],
   "source": [
    "% Şimdi ise tekrardan bir önce atadığımız değeri yazıp,\n",
    "% yine çalıştıralım:\n",
    "rand(\"seed\",219)\n",
    "m = rand([5 2])"
   ]
  },
  {
   "cell_type": "markdown",
   "metadata": {},
   "source": [
    "Görüldüğü üzere, tekrardan geçen seferki tohum değeri atandığında üretilen rastgele sayılar gelmektedir."
   ]
  },
  {
   "attachments": {
    "daire.png": {
     "image/png": "[encoded data removed]"
    },
    "kare.png": {
     "image/png": "[encoded data removed]"
    }
   },
   "cell_type": "markdown",
   "metadata": {},
   "source": [
    "## Pi sayısının olasılıktan bulunması\n",
    "Kare şeklindeki bir kutuyu şekildeki gibi dört eşit parçaya böldüğümüzü düşünelim:\n",
    "![kare.png](attachment:kare.png)\n",
    "\n",
    "Bu karenin içine rastgele şekilde bir taş attığımızda, taşın kareli bölgeye düşme ihtimali: 1/4'tür (yani 0.25, yani %25). Eğer karenin üst yarısı taralı olsaydı, bu durumda attığımız taşın bu taralı bölgeye düşme ihtimali %50 olacaktı. İlgilendiğimiz <u>bölgenin alanı</u> ne kadar büyükse, taşın oraya düşme ihtimali de bölgenin alanı ile doğru orantılı olduğundan o oranda yüksek olur.\n",
    "\n",
    "Bu sefer, bir karenin içine, ona kenarlarından teğet bir daire yerleştirelim:\n",
    "![daire.png](attachment:daire.png)\n",
    "\n",
    "Dairenin yarıçapı R ise, karenin bir kenarı 2R olacaktır. Sistemimizi kare şeklindeki bir tepsinin içine yerleştirilmiş dairesel bir tabak olarak düşünelim. Sonrasında tümüyle ince bir kum tabakası ile kaplayıp, dışarıya, tek-tük çizeleyen yağmurun altına koyalım - böylelikle her düşen yağmur damlası, sayılabilir bir iz bırakacaktır. Biraz önceki yorumlamamızdan, dairenin içine denk gelecek yağmur damlaları sayısının karenin içine denk gelen (yani toplam) yağmur damlaları sayısına oranı, dairenin alanının karenin alanına oranı olur: \\begin{equation*}\\frac{n_{daire}}{n_{kare}}=\\frac{S_{daire}}{S_{kare}} = \\frac{\\pi R^2}{(2R)^2} = \\frac{\\pi}{4}\\end{equation*}\n",
    "\n",
    "Bu denklemden $\\pi\\$'yi çektiğimizde: \n",
    "\n",
    "\\begin{equation*}\\pi = 4 \\frac{n_{daire}}{n_{kare}} \\end{equation*} \n",
    "\n",
    "eşitliğine ulaşırız."
   ]
  },
  {
   "cell_type": "markdown",
   "metadata": {},
   "source": [
    "## Rastgele atışlar (_Yağmur damlası üreteci_ 8)\n",
    "Kare tepsimizin kenar uzunluğunu 1 birim olarak düşünelim, merkezini de orijine oturttuğumuzu. Bu durumda karenin içine düşen bir yağmur damlasının koordinatları $-0.5\\le x\\le 0.5; -0.5\\le y\\le0.5$ (ya da kısa gösterimle: $-0.5\\le \\{x,y\\}\\le 0.5$) olacaktır.\n",
    "\n",
    "10 tane yağmur damlasını rastgele düşürelim. Her birinin düştüğü noktanın koordinatının bir x, bir de y bileşeni olacağına göre 10 adet sayı çiftinden bahsediyoruz:"
   ]
  },
  {
   "cell_type": "code",
   "execution_count": 8,
   "metadata": {},
   "outputs": [
    {
     "name": "stdout",
     "output_type": "stream",
     "text": [
      "xy =\r\n",
      "\r\n",
      "   0.657083   0.452629\r\n",
      "   0.014786   0.964740\r\n",
      "   0.150560   0.310487\r\n",
      "   0.516222   0.423140\r\n",
      "   0.221140   0.742505\r\n",
      "   0.442527   0.492505\r\n",
      "   0.576504   0.140481\r\n",
      "   0.439225   0.157931\r\n",
      "   0.646758   0.746182\r\n",
      "   0.309934   0.588177\r\n",
      "\r\n"
     ]
    }
   ],
   "source": [
    "rand(\"seed\",219) % böyle başlayalım ki, sizde de, burada da aynı\n",
    "                   % sayılar üretilsin.\n",
    "xy = rand([10,2])"
   ]
  },
  {
   "cell_type": "markdown",
   "metadata": {},
   "source": [
    "Fark edeceğiniz üzere, koordinatlar planladığımız gibi [-0.5,0.5] aralığında değil de, rand'ın yapısı gereği [0,1] arasında. Sorun değil, zira bütün değerlerden 0.5 çıkartırsak, istediğimiz aralığa erişmiş oluruz:\n",
    "\\begin{equation*} 0\\le rand \\le 1\\\\\n",
    "-0.5\\le rand - 0.5 \\le 0.5 \\end{equation*}"
   ]
  },
  {
   "cell_type": "code",
   "execution_count": 9,
   "metadata": {},
   "outputs": [
    {
     "name": "stdout",
     "output_type": "stream",
     "text": [
      "xy =\r\n",
      "\r\n",
      "   0.1570832  -0.0473714\r\n",
      "  -0.4852144   0.4647396\r\n",
      "  -0.3494398  -0.1895126\r\n",
      "   0.0162219  -0.0768603\r\n",
      "  -0.2788600   0.2425045\r\n",
      "  -0.0574735  -0.0074946\r\n",
      "   0.0765038  -0.3595189\r\n",
      "  -0.0607748  -0.3420686\r\n",
      "   0.1467575   0.2461822\r\n",
      "  -0.1900656   0.0881769\r\n",
      "\r\n"
     ]
    }
   ],
   "source": [
    "xy = xy - 0.5"
   ]
  },
  {
   "cell_type": "markdown",
   "metadata": {},
   "source": [
    "Bu noktaları çizdirmek istersek, x değerlerini xy matrisinin ilk sütunundan; y değerlerini ise xy matrisinin ikinci sütunundan alarak:"
   ]
  },
  {
   "cell_type": "code",
   "execution_count": 10,
   "metadata": {},
   "outputs": [
    {
     "data": {
      "image/png": "[encoded data removed]",
      "text/plain": [
       "<IPython.core.display.Image object>"
      ]
     },
     "metadata": {},
     "output_type": "display_data"
    }
   ],
   "source": [
    "plot(xy(:,1),xy(:,2),\"xb\")"
   ]
  },
  {
   "cell_type": "markdown",
   "metadata": {},
   "source": [
    "Biz aksini belirtmediğimiz sürece, Octave grafiğin eksen aralıklarını, eldeki verileri mümkün mertebe en iyi şekilde gösterecek şekilde seçer (örneğimizde seçmiş olduğu $-0.5 \\le x \\le0.2$ ve $-0.4 \\le y \\le 0.8$ gibi). Tercih ettiğimiz aralığı `axis` komutu ile belirtiyoruz:"
   ]
  },
  {
   "cell_type": "code",
   "execution_count": 11,
   "metadata": {},
   "outputs": [
    {
     "data": {
      "image/png": "[encoded data removed]",
      "text/plain": [
       "<IPython.core.display.Image object>"
      ]
     },
     "metadata": {},
     "output_type": "display_data"
    }
   ],
   "source": [
    "plot(xy(:,1),xy(:,2),\"xb\")\n",
    "axis([-0.5 0.5 -0.5 0.5])"
   ]
  },
  {
   "cell_type": "markdown",
   "metadata": {},
   "source": [
    "`axis` komutu parametre olarak -en genel haliyle- 4 elemanlı bir listeyi kabul eder:\n",
    "`axis([x_min x_max y_min y_max])`\n",
    "\n",
    "Örneğin `axis([-4.1 5.6 0.2 7.2])` komutu, mevcut grafiğin x eksenini -4.1'den 5.6'ya; y eksenini de 0.2'den 7.2'ye kadar olacak şekilde çizdirir."
   ]
  },
  {
   "cell_type": "markdown",
   "metadata": {},
   "source": [
    "## Dairenin içine düşen yağmur damlalarının saptanması\n",
    "Bir önceki bölümde ürettiğimiz 10 yağmur damlası ile devam edelim: bunların kaçı dairenin içinde? İpucu olması açısından, damlalarımızı bu sefer, orijin ile beraber çizelim:"
   ]
  },
  {
   "cell_type": "code",
   "execution_count": 12,
   "metadata": {
    "scrolled": false
   },
   "outputs": [
    {
     "data": {
      "image/png": "[encoded data removed]",
      "text/plain": [
       "<IPython.core.display.Image object>"
      ]
     },
     "metadata": {},
     "output_type": "display_data"
    }
   ],
   "source": [
    "plot(xy(:,1),xy(:,2),\"xb\",0,0,\"r.\")\n",
    "axis([-0.5 0.5 -0.5 0.5])"
   ]
  },
  {
   "cell_type": "markdown",
   "metadata": {},
   "source": [
    "Orijini çizmek için, küçük bir hile yapıp, onu (0,0) şeklinde tek bir elemanı olan bir veri olarak tanımlayıp, kırmızı bir nokta şeklinde çizdirdik! 8)\n",
    "\n",
    "Peki hangi noktalar daire içinde kalıyor? \n",
    "\n",
    "Çok pratik olmasa da, grafiksel olarak bakalım diye, 0.5 yarıçapında bir daire çizip, öyle kontrol edebiliriz (bunun için parametrik takılıp, x'i $0.5Cos(t)$, y'yi de $0.5Sin(t)$ olarak tanımlayacağız):"
   ]
  },
  {
   "cell_type": "code",
   "execution_count": 13,
   "metadata": {},
   "outputs": [
    {
     "data": {
      "image/png": "[encoded data removed]",
      "text/plain": [
       "<IPython.core.display.Image object>"
      ]
     },
     "metadata": {},
     "output_type": "display_data"
    }
   ],
   "source": [
    "t = linspace(0,360,1000);\n",
    "xx = 0.5*cosd(t);\n",
    "yy = 0.5*sind(t);\n",
    "plot(xy(:,1),xy(:,2),\"xb\",0,0,\"r.\",xx,yy,\"k.\")\n",
    "axis([-0.5 0.5 -0.5 0.5])"
   ]
  },
  {
   "cell_type": "markdown",
   "metadata": {},
   "source": [
    "Görünüşe göre, sol üstteki nokta hariç, 9 yağmur damlası dairemizin  içine düşmüş. Bu durumda: $pi = 4 \\cdot \\frac{9}{10} = 3.6$ -- bildiğimiz $\\pi$ değerine pek yakın değil, ama olsun, başlangıç için idare eder.\n",
    "\n",
    "Gelelim hangi noktaların dairenin içine düştüğünün _analitik_ olarak tespitine: dairenin yarıçapı 0.5 ve merkezi orijinde olduğuna göre, dairenin içinde kalan bütün noktaların orijine uzaklığı (_d_): $d\\le0.5$ olmalı.\n",
    "\n",
    "`xy` noktalar setimizin ilk elemanını ele alalım (bu noktaya a diyelim):"
   ]
  },
  {
   "cell_type": "code",
   "execution_count": 14,
   "metadata": {},
   "outputs": [
    {
     "name": "stdout",
     "output_type": "stream",
     "text": [
      "a =\r\n",
      "\r\n",
      "   0.157083  -0.047371\r\n",
      "\r\n"
     ]
    }
   ],
   "source": [
    "a = xy(1,:)"
   ]
  },
  {
   "attachments": {
    "pospos.png": {
     "image/png": "[encoded data removed]"
    }
   },
   "cell_type": "markdown",
   "metadata": {},
   "source": [
    "Bu noktayı şu şekilde bileşenleri cinsinden gösterebiliriz:\n",
    "![pospos.png](attachment:pospos.png)"
   ]
  },
  {
   "cell_type": "markdown",
   "metadata": {},
   "source": [
    "Orijine olan _d_ mesafesi de Pisagor teoreminden kolaylıkla hesaplanır:"
   ]
  },
  {
   "cell_type": "code",
   "execution_count": 15,
   "metadata": {},
   "outputs": [
    {
     "name": "stdout",
     "output_type": "stream",
     "text": [
      "d =  0.16407\r\n"
     ]
    }
   ],
   "source": [
    "d = sqrt(a(1).^2 + a(2)^2)"
   ]
  },
  {
   "cell_type": "markdown",
   "metadata": {},
   "source": [
    "## Bir vektörün boyunu hesaplamak \n",
    "İki boyutlu bir $\\vec{a}$ vektörümüz olsun. Bu vektörü bildiğimiz üzere, bileşenleri cinsinden yazarsak: $\\vec{a} = a_x \\widehat{\\textbf{i}} + a_y \\widehat{\\textbf{j}}$. Vektörün boyu -yukarıda da gördüğümüz üzere- Pisagor teoremi uyarınca, bileşenlerinin karelerinin toplamının kökü olarak verilir. Yukarıdaki örneğimizden devam edersek:"
   ]
  },
  {
   "cell_type": "code",
   "execution_count": 16,
   "metadata": {},
   "outputs": [
    {
     "name": "stdout",
     "output_type": "stream",
     "text": [
      "a =\r\n",
      "\r\n",
      "   0.157083  -0.047371\r\n",
      "\r\n"
     ]
    }
   ],
   "source": [
    "a % a, 2 boyutlu bir vektör: ilk bileşen x, ikincisi y bileşeni"
   ]
  },
  {
   "cell_type": "markdown",
   "metadata": {},
   "source": [
    "Pisagor'dan hesaplarsak:"
   ]
  },
  {
   "cell_type": "code",
   "execution_count": 17,
   "metadata": {},
   "outputs": [
    {
     "name": "stdout",
     "output_type": "stream",
     "text": [
      "d =  0.16407\n",
      "d =  0.16407\n"
     ]
    }
   ],
   "source": [
    "d = (a(1).^2 + a(2).^2).^(1/2)  % Kök işleminin sayının 1/2. kuvveti olduğunu unutmayın!\n",
    "d = (a(1).^2 + a(2).^2).^(0.5)  % Burada da 1/2 yerine 0.5'i doğrudan yazdık"
   ]
  },
  {
   "cell_type": "markdown",
   "metadata": {},
   "source": [
    "iki işlem arasında bizim açımızdan hiçbir fark yok -- ha (1/2). kuvveti aldırmışız, ha (0.5). kuvvetini... Halbuki, bilgisayar açısından epey bir fark var: kuvvet olarak (1/2) yazdığımızda, kuvvet işlemine gitmeden önce, ek bir işlem olarak 1/2 hesaplanıyor, 0.5 bulunuyor ve ondan sonra kuvvet işlemi uygulanıyor. 1 tane vektörde bu pek bir şey fark ettirmese de, bir milyon vektörün boyunu hesaplatırken boş yere fazladan bir milyon işlemi yaptırmış oluyoruz. \n",
    "\n",
    "Bir de hazır tanımlı olarak gelen `sqrt` karekök bulma fonksiyonu ile hesaplatalım:"
   ]
  },
  {
   "cell_type": "code",
   "execution_count": 18,
   "metadata": {},
   "outputs": [
    {
     "name": "stdout",
     "output_type": "stream",
     "text": [
      "d =  0.16407\r\n"
     ]
    }
   ],
   "source": [
    "d = sqrt(a(1).^2 + a(2).^2)"
   ]
  },
  {
   "cell_type": "markdown",
   "metadata": {},
   "source": [
    "Sonuç şaşırtıcı değil ama emin olun ki, özelleştirilmiş bir durumu (bizim durumumuzda üs almanın üssün 0.5'e özelleştirilmiş durumu) karşılayan fonksiyonlar her zaman için daha hızlı çalışır, zira sıklıkla kullanıldıkları için kendilerine özel bir fonksiyon tanımlanmış ve mümkün mertebe işlemleri bu özel koşullar altında optimize edilmiştir. O yüzden her zaman için özel bir iş için tanımlı komutlar varsa, onlardan faydalanmalıyız."
   ]
  },
  {
   "cell_type": "markdown",
   "metadata": {},
   "source": [
    "Vektör boylarını hesaplamak konusunda biraz daha düşünelim. Yukarıda Pisagor teoremi doğrultusunda bu işi yaptık (3-boyutta Pisagor teoremi: $d=\\sqrt{a_x^2 + a_y^2 + a_z^2}$ ile verilir). Vektörlerdeki skaler çarpımdan biliyoruz ki: $\\vec{a} \\cdot \\vec{b} = a_x b_x + a_y b_y + a_z b_z$. $\\vec{a}$, kendisi ile skaler çarpıldığında ise bir önceki açık çarpım ifadesi şu hale gelir: $\\vec{a} \\cdot \\vec{a} = a_x^2 + a_y^2 + a_z^2$, o halde: $ d = \\sqrt{\\vec{a} \\cdot \\vec{a}} = \\sqrt{\\vec{a}^2}$.\n",
    "\n",
    "Octave'da skaler vektörü çarpımının `dot` komutu ile yapıldığını görmüştük, o zaman:"
   ]
  },
  {
   "cell_type": "code",
   "execution_count": 19,
   "metadata": {},
   "outputs": [
    {
     "name": "stdout",
     "output_type": "stream",
     "text": [
      "d =  0.16407\r\n"
     ]
    }
   ],
   "source": [
    "d = sqrt(dot(a,a))"
   ]
  },
  {
   "cell_type": "markdown",
   "metadata": {},
   "source": [
    "Vektörlerle uğraştığımız için, tek amacı vektörlerin boyunu bulmak olan, bu konuda optimize edilmiş, hazır bir komut var: `norm`"
   ]
  },
  {
   "cell_type": "code",
   "execution_count": 20,
   "metadata": {},
   "outputs": [
    {
     "name": "stdout",
     "output_type": "stream",
     "text": [
      "d =  0.16407\r\n"
     ]
    }
   ],
   "source": [
    "d = norm(a)"
   ]
  },
  {
   "cell_type": "markdown",
   "metadata": {},
   "source": [
    "<u>**Özet olarak:**</u> Vektörlerin boyunu hesaplamak için `norm` kullanmamız en verimli yöntem olmaktadır."
   ]
  },
  {
   "cell_type": "markdown",
   "metadata": {},
   "source": [
    "## Noktalarımızın orijine uzaklıkları <br>(_ya içindesindir çemberin, ya da dışında yer alacaksın..._)\n",
    "Noktalarımızı bir hatırlayalım:"
   ]
  },
  {
   "cell_type": "code",
   "execution_count": 21,
   "metadata": {},
   "outputs": [
    {
     "name": "stdout",
     "output_type": "stream",
     "text": [
      "xy =\r\n",
      "\r\n",
      "   0.1570832  -0.0473714\r\n",
      "  -0.4852144   0.4647396\r\n",
      "  -0.3494398  -0.1895126\r\n",
      "   0.0162219  -0.0768603\r\n",
      "  -0.2788600   0.2425045\r\n",
      "  -0.0574735  -0.0074946\r\n",
      "   0.0765038  -0.3595189\r\n",
      "  -0.0607748  -0.3420686\r\n",
      "   0.1467575   0.2461822\r\n",
      "  -0.1900656   0.0881769\r\n",
      "\r\n"
     ]
    }
   ],
   "source": [
    "xy"
   ]
  },
  {
   "cell_type": "markdown",
   "metadata": {},
   "source": [
    "Matrise körlemesine `norm` çektiğimizde beklemediğimiz bir sonuçla karşılaşıyoruz:"
   ]
  },
  {
   "cell_type": "code",
   "execution_count": 22,
   "metadata": {},
   "outputs": [
    {
     "name": "stdout",
     "output_type": "stream",
     "text": [
      "ans =  0.90029\r\n"
     ]
    }
   ],
   "source": [
    "norm(xy)"
   ]
  },
  {
   "cell_type": "markdown",
   "metadata": {},
   "source": [
    "Halbuki bizim aklımızdan, şuna benzer bir etki geçiyordu:"
   ]
  },
  {
   "cell_type": "code",
   "execution_count": 23,
   "metadata": {
    "scrolled": true
   },
   "outputs": [
    {
     "name": "stdout",
     "output_type": "stream",
     "text": [
      "ans =  0.16407\r\n",
      "ans =  0.67187\r\n",
      "ans =  0.39752\r\n",
      "ans =  0.078554\r\n",
      "ans =  0.36956\r\n",
      "ans =  0.057960\r\n",
      "ans =  0.36757\r\n",
      "ans =  0.34743\r\n",
      "ans =  0.28661\r\n",
      "ans =  0.20952\r\n"
     ]
    }
   ],
   "source": [
    "for i = 1:10\n",
    "    norm(xy(i,:))\n",
    "endfor"
   ]
  },
  {
   "cell_type": "markdown",
   "metadata": {},
   "source": [
    "Benzer bir sonucu, xy matrisimizin sütun bileşenlerinin karelerini toplayıp kökünü alarak da bulabilirdik (bu yol çok verimli olmasa da):"
   ]
  },
  {
   "cell_type": "code",
   "execution_count": 24,
   "metadata": {},
   "outputs": [
    {
     "name": "stdout",
     "output_type": "stream",
     "text": [
      "ans =\r\n",
      "\r\n",
      "   0.164071\r\n",
      "   0.671875\r\n",
      "   0.397521\r\n",
      "   0.078554\r\n",
      "   0.369556\r\n",
      "   0.057960\r\n",
      "   0.367569\r\n",
      "   0.347426\r\n",
      "   0.286607\r\n",
      "   0.209523\r\n",
      "\r\n"
     ]
    }
   ],
   "source": [
    "sqrt(xy(:,1).^2 + xy(:,2).^2)"
   ]
  },
  {
   "cell_type": "markdown",
   "metadata": {},
   "source": [
    "`norm(xy)` dediğimizde bize verdiği `0.90029` da neyin nesi? (şimdilik bir kenara bırakmak kaydıyla: matrisin kompleks eşlenik transposesi ile çarpıldığında ortaya çıkan sonucun en büyük özdeğerinin kökü, bir başka deyişle (ve gördükten hemen sonra unutmak şartıyla):"
   ]
  },
  {
   "cell_type": "code",
   "execution_count": 25,
   "metadata": {},
   "outputs": [
    {
     "name": "stdout",
     "output_type": "stream",
     "text": [
      "xyxy =\n",
      "\n",
      "   0.53075  -0.22250\n",
      "  -0.22250   0.63356\n",
      "\n",
      "lambdalar =\n",
      "\n",
      "   0.35379\n",
      "   0.81052\n",
      "\n",
      "ans =\n",
      "\n",
      "   0.59481\n",
      "   0.90029\n",
      "\n",
      "ans =  0.90029\n",
      "--------------------\n",
      "ans =  0.90029\n"
     ]
    }
   ],
   "source": [
    "xyxy = (xy'*xy)\n",
    "lambdalar = eig(xyxy)\n",
    "sqrt(lambdalar)\n",
    "max(sqrt(lambdalar))\n",
    "\n",
    "disp(\"--------------------\")\n",
    "\n",
    "% ya da tek satirda hepsini toplarsak:\n",
    "max(sqrt(eig(xy'*xy)))  % bir matrisin 2. dereceden norm'u"
   ]
  },
  {
   "cell_type": "markdown",
   "metadata": {},
   "source": [
    "Dediğimiz gibi, bu kısmı şimdilik hiç bilmiyormuş gibi yapacağız (kuantum mekaniğinde kullanmak üzere özdeğerleri ve özvektörleri öğreninceye kadar! 8).\n",
    "\n",
    "Başkaları da `norm` komutunu bizim kafamızdaki amaç gibi kullanmak istemişler ki, bizim gibiler için özel bir parametre ile çağrılınca o şekilde çalışmasına karar verilmiş:"
   ]
  },
  {
   "cell_type": "code",
   "execution_count": 26,
   "metadata": {},
   "outputs": [
    {
     "name": "stdout",
     "output_type": "stream",
     "text": [
      "mesafeler =\r\n",
      "\r\n",
      "   0.164071\r\n",
      "   0.671875\r\n",
      "   0.397521\r\n",
      "   0.078554\r\n",
      "   0.369556\r\n",
      "   0.057960\r\n",
      "   0.367569\r\n",
      "   0.347426\r\n",
      "   0.286607\r\n",
      "   0.209523\r\n",
      "\r\n"
     ]
    }
   ],
   "source": [
    "mesafeler = norm(xy,\"rows\")"
   ]
  },
  {
   "cell_type": "markdown",
   "metadata": {},
   "source": [
    "Bu değerlerin az yukarıda `for` döngüsü ile satır satır ilerleyerek hesaplattığımız sonuçlarla aynı olduğunu teyit edin. _(...ve, tahmin edeceğiniz üzere, `norm` komutunu \"columns\" parametresi ile çağırsaydık, bu sefer de satır satır değil, sütun sütun ilerleyip, 10 boyutlu iki adet sütun vektörün boylarını hesaplayacaktı)._"
   ]
  },
  {
   "cell_type": "markdown",
   "metadata": {},
   "source": [
    "## Filtreleme (Eleme)\n",
    "Artık elimizde her bir noktanın orijine olan mesafesi var, o mesafeleri de `xy` matrisimize üçüncü sütun ekleyip, kısa bir süreliğine bir kenara kaldıralım:"
   ]
  },
  {
   "cell_type": "code",
   "execution_count": 27,
   "metadata": {},
   "outputs": [
    {
     "name": "stdout",
     "output_type": "stream",
     "text": [
      "xy =\r\n",
      "\r\n",
      "   0.1570832  -0.0473714   0.1640706\r\n",
      "  -0.4852144   0.4647396   0.6718749\r\n",
      "  -0.3494398  -0.1895126   0.3975213\r\n",
      "   0.0162219  -0.0768603   0.0785536\r\n",
      "  -0.2788600   0.2425045   0.3695556\r\n",
      "  -0.0574735  -0.0074946   0.0579600\r\n",
      "   0.0765038  -0.3595189   0.3675686\r\n",
      "  -0.0607748  -0.3420686   0.3474256\r\n",
      "   0.1467575   0.2461822   0.2866068\r\n",
      "  -0.1900656   0.0881769   0.2095235\r\n",
      "\r\n"
     ]
    }
   ],
   "source": [
    "xy = [xy mesafeler]"
   ]
  },
  {
   "cell_type": "markdown",
   "metadata": {},
   "source": [
    "Bu uygulama notlarının 4.sünde, `while` komutunu incelerken, kriter olarak kullanmak üzere, bilgisayara birtakım önermelerde bulunup, doğruluğunu sormuştuk, doğrudan oradan alıntılarsak:\n",
    "\n",
    "* 3, 1'den büyüktür: 3 > 1\n",
    "* 5, 4'ten küçüktür: 5 < 4\n",
    "* 12, 13'ten küçük veya eşittir: 12 <= 13\n",
    "* 12, 12'den büyük veya eşittir: 12 >= 12\n",
    "* 3, 7'ye eşit değildir: 3 != 7\n",
    "* 7, 7'ye eşittir: 7 == 7\n",
    "* 3, 5'e eşittir: 3 == 5"
   ]
  },
  {
   "cell_type": "code",
   "execution_count": 28,
   "metadata": {},
   "outputs": [
    {
     "name": "stdout",
     "output_type": "stream",
     "text": [
      "ans =  1\n",
      "ans = 0\n",
      "ans =  1\n",
      "ans =  1\n",
      "ans =  1\n",
      "ans =  1\n",
      "ans = 0\n"
     ]
    }
   ],
   "source": [
    "3 > 1\n",
    "5 < 4\n",
    "12 <= 13\n",
    "12 >= 12\n",
    "3 != 7\n",
    "7 == 7\n",
    "3 == 5"
   ]
  },
  {
   "cell_type": "markdown",
   "metadata": {},
   "source": [
    "Octave'ın bize verdiği yanıtlar **Doğru** (True, 1) ya da **Yanlış** (False, 0) olmakta idi. Bu kısımda bu önermeleri her seferinde bir tane olmaktan kurtarıp, topluca matrislere uygulayacağız."
   ]
  },
  {
   "cell_type": "markdown",
   "metadata": {},
   "source": [
    "Elimizde 20 ile 70 arasındaki rastgele tam sayılardan oluşan 10 elemanlı bir küme olsun. Bu kümeyi `rand` komutunu kullanıp, 1x5'lik bir küme oluşturup, 50 ile çarpıp, ona da 20 ekleyip sonrasında da tam sayılara yuvarlayarak (yani: `round(rand([1 10]) * 50 + 20)`) elde edebiliriz ama yorulmayalım diye bu iş için özel bir fonksiyon tanımlamışlar: `randi`"
   ]
  },
  {
   "cell_type": "code",
   "execution_count": 29,
   "metadata": {},
   "outputs": [
    {
     "name": "stdout",
     "output_type": "stream",
     "text": [
      "sayilar =\r\n",
      "\r\n",
      "   53   20   27   46   31   42   49   42   52   35\r\n",
      "\r\n"
     ]
    }
   ],
   "source": [
    "rand(\"seed\",219) % Başlamadan biz yine tohumu ayarlayalım her ihtimale karşı ki,\n",
    "                 % sizin üreteceğiniz sayılar buradakilerle aynı olsunlar.\n",
    "sayilar = randi([20 70],[1 10]) % 20 ile 70 arasında (onlar da dahil), 1x10'luk matris doldur"
   ]
  },
  {
   "cell_type": "markdown",
   "metadata": {},
   "source": [
    "Şimdi önermelerimizi hazırlayalım:\n",
    "* `sayilar` kümesindeki sayılardan hangileri 46'ya eşit?\n",
    "* `sayilar` matrisindeki sayılardan hangileri 46'dan küçük veya ona eşit?"
   ]
  },
  {
   "cell_type": "code",
   "execution_count": 30,
   "metadata": {},
   "outputs": [
    {
     "name": "stdout",
     "output_type": "stream",
     "text": [
      "ans =\r\n",
      "\r\n",
      "   0   0   0   1   0   0   0   0   0   0\r\n",
      "\r\n"
     ]
    }
   ],
   "source": [
    "sayilar == 46"
   ]
  },
  {
   "cell_type": "code",
   "execution_count": 31,
   "metadata": {},
   "outputs": [
    {
     "name": "stdout",
     "output_type": "stream",
     "text": [
      "ans =\r\n",
      "\r\n",
      "   0   1   1   1   1   1   0   1   0   1\r\n",
      "\r\n"
     ]
    }
   ],
   "source": [
    "sayilar <= 46"
   ]
  },
  {
   "cell_type": "markdown",
   "metadata": {},
   "source": [
    "Gördüğümüz üzere, önermemizce doğru olan sayıların yerleri, sonuç matrisinde \"doğru\"yu temsil eden \"1\" ile dolduruluyor.\n",
    "\n",
    "Peki, `sayılar` matrisinde 46'dan küçük veya ona eşit sayı olduğunu nasıl buluruz? Çok kolay, \"1\"leri toplarız:"
   ]
  },
  {
   "cell_type": "code",
   "execution_count": 32,
   "metadata": {},
   "outputs": [
    {
     "name": "stdout",
     "output_type": "stream",
     "text": [
      "ans =  7\r\n"
     ]
    }
   ],
   "source": [
    "sum(sayilar<=46)"
   ]
  },
  {
   "cell_type": "markdown",
   "metadata": {},
   "source": [
    "Bir önermenin sonucu olarak döndürülen 1/0 (Doğru/Yanlış) listesi Octave tarafından özel olarak ele alınır (yani bizim oluşturacağımız, tamamıyla aynı görünen [0  1  1  1  1  1  0  1  0  1] listesinden işlevsel olarak farklıdır. Bunu hem tanım tipinden, hem de işlevinden ayırt edebiliriz:"
   ]
  },
  {
   "cell_type": "code",
   "execution_count": 33,
   "metadata": {},
   "outputs": [
    {
     "name": "stdout",
     "output_type": "stream",
     "text": [
      "onerme_sonucu_gelen =\n",
      "\n",
      "   0   1   1   1   1   1   0   1   0   1\n",
      "\n",
      "bizim_tanimladigimiz =\n",
      "\n",
      "   0   1   1   1   1   1   0   1   0   1\n",
      "\n"
     ]
    }
   ],
   "source": [
    "onerme_sonucu_gelen  = sayilar<=46\n",
    "bizim_tanimladigimiz = [0 1 1 1 1 1 0 1 0 1]"
   ]
  },
  {
   "cell_type": "markdown",
   "metadata": {},
   "source": [
    "Aralarındaki boşlukları bir kenara bırakırsak, epey benzer görünüyorlar ama bir de şöyle inceleyelim:"
   ]
  },
  {
   "cell_type": "code",
   "execution_count": 34,
   "metadata": {},
   "outputs": [
    {
     "name": "stdout",
     "output_type": "stream",
     "text": [
      "ans = bool matrix\n",
      "ans = matrix\n"
     ]
    }
   ],
   "source": [
    "typeinfo(onerme_sonucu_gelen)\n",
    "typeinfo(bizim_tanimladigimiz)"
   ]
  },
  {
   "cell_type": "markdown",
   "metadata": {},
   "source": [
    "`bool matrix` terimi, önermenin sonucu olarak gelen değerlerin, doğru/yanlış şeklinde, _mantıksal_ değer olarak tanımlandığını bildiriyor, yani alalade bir matris değil, öyle de davranıyor:"
   ]
  },
  {
   "cell_type": "code",
   "execution_count": 35,
   "metadata": {},
   "outputs": [
    {
     "name": "stdout",
     "output_type": "stream",
     "text": [
      "ans =\r\n",
      "\r\n",
      "   46   31   42   49   52\r\n",
      "\r\n"
     ]
    }
   ],
   "source": [
    "sayilar([4:7 9]) % sayilar'in 4.,5.,6.,7. ve 9. elemanı"
   ]
  },
  {
   "cell_type": "markdown",
   "metadata": {},
   "source": [
    "Bu eleman çağrılmasında sürpriz yok, bir de şuna bakalım:"
   ]
  },
  {
   "cell_type": "code",
   "execution_count": 36,
   "metadata": {},
   "outputs": [
    {
     "name": "stdout",
     "output_type": "stream",
     "text": [
      "ans =\r\n",
      "\r\n",
      "   20   27   46   31   42   42   35\r\n",
      "\r\n"
     ]
    }
   ],
   "source": [
    "sayilar(onerme_sonucu_gelen)"
   ]
  },
  {
   "cell_type": "markdown",
   "metadata": {},
   "source": [
    "**!!!**\n",
    "\n",
    "Az evvel ilk filtrelememizi yapmış bulunmaktayız. Hatırlarsanız, `onerme_sonucu_gelen` listesini, `sayilar` listesinin _46'ya eşit veya ondan küçük_ elemanlarını sorunca verdiği cevap olarak atamıştık. `sayilar` listesinin elemanlarını bu **filtre** ile çağırdığımızda da sadece o filtreyle uyumlu elemanlar döndürüldü!\n",
    "\n",
    "Octave, işlemlerden önce, değişkenlerin değerlerini yerleştirdiği için üstteki komutla, açık yazıldığı aşağıdaki şekli arasında işlem açısından hiçbir fark yok:"
   ]
  },
  {
   "cell_type": "code",
   "execution_count": 37,
   "metadata": {},
   "outputs": [
    {
     "name": "stdout",
     "output_type": "stream",
     "text": [
      "ans =\r\n",
      "\r\n",
      "   20   27   46   31   42   42   35\r\n",
      "\r\n"
     ]
    }
   ],
   "source": [
    "sayilar(sayilar<=46)"
   ]
  },
  {
   "cell_type": "markdown",
   "metadata": {},
   "source": [
    "Hazır başlamışken, birkaç örnek daha yapalım:"
   ]
  },
  {
   "cell_type": "code",
   "execution_count": 38,
   "metadata": {},
   "outputs": [
    {
     "name": "stdout",
     "output_type": "stream",
     "text": [
      "ciftler =\n",
      "\n",
      "   20   46   42   42   52\n",
      "\n",
      "ucun_katlari =\n",
      "\n",
      "   27   42   42\n",
      "\n",
      "ortalamanin_altindakiler =\n",
      "\n",
      "   20   27   31   35\n",
      "\n",
      "tam_kareler =  49\n"
     ]
    }
   ],
   "source": [
    "ciftler = sayilar(mod(sayilar,2)==0) % sayilar listesinin çift elemanları\n",
    "ucun_katlari = sayilar(mod(sayilar,3)==0) % sayilar listesinin üçe tam bölünebilen elemanları\n",
    "ortalamanin_altindakiler = sayilar(sayilar< sum(sayilar)/columns(sayilar)) % sayilar listesinin\n",
    "                                                             % ortalamasının altındaki elemanları\n",
    "tam_kareler = sayilar(sqrt(sayilar)-floor(sqrt(sayilar))  == 0) % sayilar listesinin tam kare elemanları"
   ]
  },
  {
   "cell_type": "markdown",
   "metadata": {},
   "source": [
    "(Bir listenin ortalamasını: listenin toplamını, listenin eleman sayısına uzun uzun bölmek yerine, doğrudan `mean` komutu ile de elde edebiliriz. Bir de, tam karelerin hesabı biraz karışık gelebilir ama orada da sayının karekökünü alıp, `floor` komutu ile ona alttan yakın en büyük tam sayı değerine yuvarladığımız halinden çıkarıp, onun sıfıra eşit olup olmadığına baktık: örneğin sayı 27 ise kökü: 5.1962, onun yuvarlandığı ona alttan yakın en büyük tam sayı değeri: 5 olup, aralarındaki fark: 0.1962 oluyor ki, demek ki tam kare değilmiş. Halbuki 49'un kökü: 7.0000, onun yuvarlandığı ona alttan yakın en büyük tam sayı da 7 olunca, fark: 0 oluyor, yani hesap ilk başta karışık gelse de, basit aslında. (`floor`, `ceil` ve `round`u ileride daha sık göreceğiz))"
   ]
  },
  {
   "cell_type": "markdown",
   "metadata": {},
   "source": [
    "Bu işlemlerde göz önünde bulundurmamız gereken asıl liste, her önermenin bir **filtre** döndürdüğüdür. Bu filtreleri de illaki ilgili listede kullanmak gibi bir zorunluluğumuz yok. Filtreleri elek gibi düşünürsek, örneğin çiftleri bulmak için ürettiğimiz filtre şu şekilde:"
   ]
  },
  {
   "cell_type": "code",
   "execution_count": 39,
   "metadata": {},
   "outputs": [
    {
     "name": "stdout",
     "output_type": "stream",
     "text": [
      "ans =\r\n",
      "\r\n",
      "   0   1   0   1   0   1   0   1   1   0\r\n",
      "\r\n"
     ]
    }
   ],
   "source": [
    "mod(sayilar,2)==0"
   ]
  },
  {
   "cell_type": "markdown",
   "metadata": {},
   "source": [
    "Bu filtreyi `sayilar` kümesine uyguladığımızda, şuna benzer bir şey yapıyoruz: bir tahta alıp, 0'a karşılık gelen yerlerini kapalı tutup ('`--`'), 1'e karşılık gelen yerlerini açıyoruz ('`|  |`'), sonrasında da bunu `sayilar` kümesinin altına tutuyoruz:\n",
    "\n",
    "`53  20   27   46   31   42   49   42   52   35\n",
    "--  |  |  --  |  |  --  |  |  --  |  | |  |  --\n",
    "     20        46        42        42   52`\n",
    "        \n",
    "yani, bir başka deyişle filtreleri bir \"maske\", \"şablon\" ya da \"elek\" gibi düşünebiliriz. Elimizdeki bu eleği, bambaşka bir listenin de altına tutabiliriz, örneğin 1'den 10'a kadar olan sayılar listesinin altına tutalım:\n",
    "\n",
    "`1    2    3    4    5    6    7    8    9   10\n",
    "--  |  |  --  |  |  --  |  |  --  |  | |  |  --\n",
    "      2         4         6         8    9`"
   ]
  },
  {
   "cell_type": "code",
   "execution_count": 40,
   "metadata": {},
   "outputs": [
    {
     "name": "stdout",
     "output_type": "stream",
     "text": [
      "filtre =\n",
      "\n",
      "   0   1   0   1   0   1   0   1   1   0\n",
      "\n",
      "ans =\n",
      "\n",
      "   20   46   42   42   52\n",
      "\n",
      "ans =\n",
      "\n",
      "   2   4   6   8   9\n",
      "\n"
     ]
    }
   ],
   "source": [
    "filtre = (mod(sayilar,2) == 0)\n",
    "sayilar(filtre)\n",
    "[1:10](filtre)"
   ]
  },
  {
   "cell_type": "markdown",
   "metadata": {},
   "source": [
    "Fark ettirmeden, çok önemli bir iş yaptık: `sayilar` listesinin _kaçıncı elemanlarının_ çift olduğunu böylelikle bulmuş olduk (2., 4., 6., 8., 9. elemanları!). \n",
    "\n",
    "Bu vesileyle: elimizdeki filtreyi _tersine çevirmek_ (yani doğruları yanlış (1 -> 0), yanlışları doğru (0 -> 1) yapmak) için `not` komutunu kullanırız:"
   ]
  },
  {
   "cell_type": "code",
   "execution_count": 41,
   "metadata": {},
   "outputs": [
    {
     "name": "stdout",
     "output_type": "stream",
     "text": [
      "cift_sayilar_filtresi =\n",
      "\n",
      "   0   1   0   1   0   1   0   1   1   0\n",
      "\n",
      "tek_sayilar_filtresi =\n",
      "\n",
      "   1   0   1   0   1   0   1   0   0   1\n",
      "\n",
      "ans =\n",
      "\n",
      "   53   27   31   49   35\n",
      "\n"
     ]
    }
   ],
   "source": [
    "cift_sayilar_filtresi = (mod(sayilar,2) == 0)\n",
    "tek_sayilar_filtresi  =  not(cift_sayilar_filtresi)\n",
    "sayilar(tek_sayilar_filtresi)"
   ]
  },
  {
   "cell_type": "markdown",
   "metadata": {},
   "source": [
    "Rastgele ürettiğimiz noktalarımızın koordinatlarını ve onların orijine olan mesafelerini tuttuğumuz xy matrisimizi hatırlayıp, sonrasında bu metotu kullanalım:"
   ]
  },
  {
   "cell_type": "code",
   "execution_count": 42,
   "metadata": {},
   "outputs": [
    {
     "name": "stdout",
     "output_type": "stream",
     "text": [
      "xy =\r\n",
      "\r\n",
      "   0.1570832  -0.0473714   0.1640706\r\n",
      "  -0.4852144   0.4647396   0.6718749\r\n",
      "  -0.3494398  -0.1895126   0.3975213\r\n",
      "   0.0162219  -0.0768603   0.0785536\r\n",
      "  -0.2788600   0.2425045   0.3695556\r\n",
      "  -0.0574735  -0.0074946   0.0579600\r\n",
      "   0.0765038  -0.3595189   0.3675686\r\n",
      "  -0.0607748  -0.3420686   0.3474256\r\n",
      "   0.1467575   0.2461822   0.2866068\r\n",
      "  -0.1900656   0.0881769   0.2095235\r\n",
      "\r\n"
     ]
    }
   ],
   "source": [
    "xy"
   ]
  },
  {
   "cell_type": "code",
   "execution_count": 43,
   "metadata": {},
   "outputs": [
    {
     "name": "stdout",
     "output_type": "stream",
     "text": [
      "hangileri =\r\n",
      "\r\n",
      "   1\r\n",
      "   0\r\n",
      "   1\r\n",
      "   1\r\n",
      "   1\r\n",
      "   1\r\n",
      "   1\r\n",
      "   1\r\n",
      "   1\r\n",
      "   1\r\n",
      "\r\n"
     ]
    }
   ],
   "source": [
    "hangileri = xy(:,3) <= 0.5 % xy'nin üçüncü sütunu olan mesafelerden hangileri\n",
    "               % 0.5'ten küçük veya ona eşit"
   ]
  },
  {
   "cell_type": "code",
   "execution_count": 44,
   "metadata": {},
   "outputs": [
    {
     "name": "stdout",
     "output_type": "stream",
     "text": [
      "hangi_satirlar =\r\n",
      "\r\n",
      "    1    3    4    5    6    7    8    9   10\r\n",
      "\r\n"
     ]
    }
   ],
   "source": [
    "hangi_satirlar = [1:10](hangileri) % Bu kıstası karşılayan satırlar \n",
    "                                   % hangi satırlara karşılık geliyor"
   ]
  },
  {
   "cell_type": "code",
   "execution_count": 45,
   "metadata": {},
   "outputs": [
    {
     "name": "stdout",
     "output_type": "stream",
     "text": [
      "dairenin_icindekiler =\r\n",
      "\r\n",
      "   0.1570832  -0.0473714   0.1640706\r\n",
      "  -0.3494398  -0.1895126   0.3975213\r\n",
      "   0.0162219  -0.0768603   0.0785536\r\n",
      "  -0.2788600   0.2425045   0.3695556\r\n",
      "  -0.0574735  -0.0074946   0.0579600\r\n",
      "   0.0765038  -0.3595189   0.3675686\r\n",
      "  -0.0607748  -0.3420686   0.3474256\r\n",
      "   0.1467575   0.2461822   0.2866068\r\n",
      "  -0.1900656   0.0881769   0.2095235\r\n",
      "\r\n"
     ]
    }
   ],
   "source": [
    "dairenin_icindekiler = xy(hangi_satirlar,:) % Bu satırları getir"
   ]
  },
  {
   "cell_type": "markdown",
   "metadata": {},
   "source": [
    "Şu son üç aşamada tek tek yaptığımız işlemleri tek bir satırda birleştirelim (karmaşık görünecek ama nasıl elde ettiğimiz yukarıda -- sadece hepsini birleştirip yazıyoruz):"
   ]
  },
  {
   "cell_type": "code",
   "execution_count": 46,
   "metadata": {
    "scrolled": false
   },
   "outputs": [
    {
     "name": "stdout",
     "output_type": "stream",
     "text": [
      "dairenin_icindekiler =\r\n",
      "\r\n",
      "   0.1570832  -0.0473714   0.1640706\r\n",
      "  -0.3494398  -0.1895126   0.3975213\r\n",
      "   0.0162219  -0.0768603   0.0785536\r\n",
      "  -0.2788600   0.2425045   0.3695556\r\n",
      "  -0.0574735  -0.0074946   0.0579600\r\n",
      "   0.0765038  -0.3595189   0.3675686\r\n",
      "  -0.0607748  -0.3420686   0.3474256\r\n",
      "   0.1467575   0.2461822   0.2866068\r\n",
      "  -0.1900656   0.0881769   0.2095235\r\n",
      "\r\n"
     ]
    }
   ],
   "source": [
    "dairenin_icindekiler = xy([1:10](xy(:,3)<=0.5),:)"
   ]
  },
  {
   "cell_type": "markdown",
   "metadata": {},
   "source": [
    "Dairenin dışındaki noktalarımızı da `not` komutunu kullanıp, şıp! diye saptarız:"
   ]
  },
  {
   "cell_type": "code",
   "execution_count": 47,
   "metadata": {},
   "outputs": [
    {
     "name": "stdout",
     "output_type": "stream",
     "text": [
      "dairenin_disindakiler =\r\n",
      "\r\n",
      "  -0.48521   0.46474   0.67187\r\n",
      "\r\n"
     ]
    }
   ],
   "source": [
    "dairenin_disindakiler = xy([1:10](not(hangileri)),:)"
   ]
  },
  {
   "cell_type": "markdown",
   "metadata": {},
   "source": [
    "## iç, dış, daire, orijin... her şeyi bir grafikte çizdirmek\n",
    "Artık elimizde bütün değerler var: dairenin içerisindeki noktaları kırmızı dairelerle, dışarıda kalan noktaları mavi karelerle çizdirelim (orijini ve daireyi çizdirmeyi yukarıda yapmıştık zaten):"
   ]
  },
  {
   "cell_type": "code",
   "execution_count": 48,
   "metadata": {},
   "outputs": [
    {
     "data": {
      "image/png": "[encoded data removed]",
      "text/plain": [
       "<IPython.core.display.Image object>"
      ]
     },
     "metadata": {},
     "output_type": "display_data"
    }
   ],
   "source": [
    "plot(0,0,\".r\",... % orijin\n",
    "xx,yy,\"k.\",... % daire\n",
    "dairenin_icindekiler(:,1),dairenin_icindekiler(:,2),\"or\",... % dairenin içindeki noktalar\n",
    "dairenin_disindakiler(:,1),dairenin_disindakiler(:,2),\"sb\") % dairenin dışındaki noktalar\n",
    "\n",
    "axis([-0.5 0.5 -0.5 0.5])"
   ]
  },
  {
   "cell_type": "markdown",
   "metadata": {},
   "source": [
    "Uzun satırları üç nokta (`...`) kullanarak bölebildiğimize dikkat edin.\n",
    "\n",
    "Çizim kısmı güzel olsa da, asıl amacımız olan $\\pi$'nin hesabı açısından çok önemli değil, asıl hesabımızı da yapalım: \\begin{equation*}\\pi = 4 \\frac{n_{daire}}{n_{kare}} \\end{equation*} "
   ]
  },
  {
   "cell_type": "code",
   "execution_count": 49,
   "metadata": {},
   "outputs": [
    {
     "name": "stdout",
     "output_type": "stream",
     "text": [
      "pi_yaklasik =  3.6000\r\n"
     ]
    }
   ],
   "source": [
    "pi_yaklasik = 4 * rows(dairenin_icindekiler) / rows(xy)"
   ]
  },
  {
   "cell_type": "markdown",
   "metadata": {},
   "source": [
    "# Sonuç\n",
    "\n",
    "Her şeyi toparlarsak, $\\pi$'yi hesaplamak için yaptığımız işlemler, sırasıyla:\n",
    "1. _n_ adet rasgele nokta üretip, koordinatlarını nx2'lik `xy` matrisinde depoladık. `xy`nin 1. sütununda noktaların x koordinatı; 2. sütununda y koordinatını sakladık.\n",
    "2. bu noktaların orijine olan uzaklıklarını hesaplayıp, `xy`nin 3. sütununda da o değeri tuttuk\n",
    "3. orijine olan uzaklığı 0.5'ten küçük (veya ona eşit) olan noktaları `dairenin_icindekiler` listesine; 0.5'ten büyük olan noktaları ise `dairenin_disindakiler` listesine koyduk.\n",
    "4. $\\pi$ değeri olarak `dairenin_disindakiler` listesindeki nokta sayısının, toplam nokta sayısına olan oranını bulup, 4 ile çarparak bulduğumuz sonucu atadık.\n",
    "5. Grafiksel olarak inceleyebilmek için de, ilgili listeleri çizdirdik.\n",
    "\n",
    "Bu adımları kod olarak uygularsak:"
   ]
  },
  {
   "cell_type": "code",
   "execution_count": 50,
   "metadata": {},
   "outputs": [
    {
     "name": "stdout",
     "output_type": "stream",
     "text": [
      "icerideki_nokta_sayisi =  784\n",
      "disaridaki_nokta_sayisi =  216\n",
      "toplam_nokta_sayisi =  1000\n",
      "------------------------------\n",
      "pi_yaklasik =  3.1360\n"
     ]
    },
    {
     "data": {
      "image/png": "[encoded data removed]",
      "text/plain": [
       "<IPython.core.display.Image object>"
      ]
     },
     "metadata": {},
     "output_type": "display_data"
    }
   ],
   "source": [
    "% Uygulama Notları: 7\n",
    "% FİZ219 - Bilgisayar Programlama I | 23/11/2019\n",
    "% Monte Carlo yöntemi ile Pi sayısının kestirimi\n",
    "%\n",
    "% Emre S. Tasci emre.tasci@hacettepe.edu.tr\n",
    "\n",
    "% Şu ana kadar yaptığımız her şeyi silelim\n",
    "% (Octave'ı yeni açmış gibi olalım):\n",
    "clear;\n",
    "\n",
    "% Sonuçların buradakilerle birebir uyuşması açısından:\n",
    "rand(\"seed\",219) \n",
    "\n",
    "% Toplam üretilen rastgele nokta sayısı -- bunu ne kadar\n",
    "% yüksek yaparsanız, sonuç pi'ye o kadar yakınsayacaktır\n",
    "n = 1000;\n",
    "\n",
    "% Noktaları üretelim:\n",
    "xy = rand([n 2]) - 0.5;\n",
    "\n",
    "% Orijine olan mesafelerini hesaplatalım:\n",
    "mesafeler = norm(xy,\"rows\");\n",
    "\n",
    "% mesafeler'i xy'ye 3. sütun olarak ekleyelim:\n",
    "xy = [xy mesafeler];\n",
    "\n",
    "% mesafelerin 0.5'e eşit veya ondan küçük olduğu satırları bulalım:\n",
    "dairenin_icindekiler_satirlar_filtresi = xy(:,3)<=0.5;\n",
    "dairenin_icindekiler_satirlar = [1:n](dairenin_icindekiler_satirlar_filtresi);\n",
    "dairenin_icindekiler = xy(dairenin_icindekiler_satirlar,:);\n",
    "\n",
    "dairenin_disindakiler = xy([1:n](not(dairenin_icindekiler_satirlar_filtresi)),:);\n",
    "\n",
    "% pi'yi hesaplayalım:\n",
    "icerideki_nokta_sayisi = rows(dairenin_icindekiler)\n",
    "disaridaki_nokta_sayisi = rows(dairenin_disindakiler)\n",
    "toplam_nokta_sayisi = n\n",
    "disp(\"------------------------------\")\n",
    "pi_yaklasik = 4 * icerideki_nokta_sayisi / n\n",
    "\n",
    "% Grafiği çizdirelim:\n",
    "\n",
    "% Dairemiz:\n",
    "t = linspace(0,360,1000);\n",
    "xx = 0.5 * cosd(t);\n",
    "yy = 0.5 * sind(t);\n",
    "\n",
    "plot(0,0,\".r\",... % orijin\n",
    "xx,yy,\"k.\",... % daire\n",
    "dairenin_icindekiler(:,1),dairenin_icindekiler(:,2),\"or\",... % dairenin içindeki noktalar\n",
    "dairenin_disindakiler(:,1),dairenin_disindakiler(:,2),\"sb\") % dairenin dışındaki noktalar\n",
    "\n",
    "axis([-0.5 0.5 -0.5 0.5])\n",
    "\n",
    "\n",
    "% -------------------------------------------------------\n",
    "% rastgele tohumu : 219 için sonuçlar özet:\n",
    "%       n    #iç      #dış       #pi\n",
    "%      10      9         1       3.6000000\n",
    "%     100     80        20       3.2000000\n",
    "%    1000    784       216       3.1360000\n",
    "%   10000   7863      2137       3.1452000\n",
    "%  100000  78649     21351       3.1459600\n",
    "% 1000000 785546    214454       3.1421840\n"
   ]
  }
 ],
 "metadata": {
  "kernelspec": {
   "display_name": "Octave",
   "language": "octave",
   "name": "octave"
  },
  "language_info": {
   "file_extension": ".m",
   "help_links": [
    {
     "text": "GNU Octave",
     "url": "https://www.gnu.org/software/octave/support.html"
    },
    {
     "text": "Octave Kernel",
     "url": "https://github.com/Calysto/octave_kernel"
    },
    {
     "text": "MetaKernel Magics",
     "url": "https://metakernel.readthedocs.io/en/latest/source/README.html"
    }
   ],
   "mimetype": "text/x-octave",
   "name": "octave",
   "version": "4.0.0"
  }
 },
 "nbformat": 4,
 "nbformat_minor": 2
}
