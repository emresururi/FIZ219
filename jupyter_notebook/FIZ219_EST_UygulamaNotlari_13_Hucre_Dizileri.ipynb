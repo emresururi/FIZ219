{
 "cells": [
  {
   "cell_type": "markdown",
   "metadata": {},
   "source": [
    "# Uygulama Notları: 13\n",
    "## FİZ219 - Bilgisayar Programlama I | 26/01/2020\n",
    "**Hücre Dizileri**\n",
    "* Giriş\n",
    "* Performans ölçümü: tic() ve toc()\n",
    "   * Fazladan -biraz da ağır- bilgi (isterseniz atlayabilirsiniz)\n",
    "* Hücre Dizileri\n",
    "    * Tanımlama\n",
    "    * Elemanlarına erişim\n",
    "    * Hücre dizilerine tekrarlı (recursive) ekleme yapmak\n",
    "* Sonuç\n",
    "\n",
    "Emre S. Tasci emre.tasci@hacettepe.edu.tr"
   ]
  },
  {
   "cell_type": "markdown",
   "metadata": {},
   "source": [
    "# Giriş\n",
    "Derste de defalarca belirttiğimiz üzere, Octave temel olarak, sembolik değil, sayısal bir dildir.\n",
    "\n",
    "Örneğin, \"Sin(x) fonksiyonunun x'e göre türevini al\" şeklinde bir istekte bulunamayız. Onun yerine, belirli bir değer aralığında bu fonksiyonu hesaplatır, sonra artış değerlerini bir başka dizide toplayıp kıyaslayabiliriz:"
   ]
  },
  {
   "cell_type": "code",
   "execution_count": 1,
   "metadata": {
    "scrolled": false
   },
   "outputs": [
    {
     "data": {
      "image/png": "[encoded data removed]",
      "text/plain": [
       "<IPython.core.display.Image object>"
      ]
     },
     "metadata": {},
     "output_type": "display_data"
    }
   ],
   "source": [
    "x = linspace(0,2*pi,1000);\n",
    "\n",
    "% x'deki artis miktari\n",
    "dx = x(2) - x(1);\n",
    "\n",
    "sinus = sin(x);\n",
    "\n",
    "% sinus'deki artis miktarlarini hesaplatip, x'deki artis\n",
    "% miktarina (yani dx'e) bolelim \n",
    "% (dx ne kadar kucukse, turev degerine de o kadar\n",
    "% yaklasmis oluruz!)\n",
    "dsinus_dx = (sinus(2:end) - sinus(1:end-1)) / dx;\n",
    "\n",
    "% Kiyaslama icin bildigimiz turev sonucu ile birlikte cizdirelim:\n",
    "plot(x,sinus,x(1:end-1),dsinus_dx,\"r-\",x,cos(x),\"g-.\")\n",
    "legend(\"sin(x)\",\"d(sin(x))/dx\",\"cos(x)\")"
   ]
  },
  {
   "cell_type": "markdown",
   "metadata": {},
   "source": [
    "**Özetle:** Sayısal metotlarla verilen bir fonksiyonun istediğimiz aralıktaki türevini, integralini, vs. hesaplayabiliriz ama sembolik hesap kullanmadığımız için, -varsa- bunun karşılık geldiği fonksiyonu bilemeyebiliriz. \n",
    "\n",
    "Yukarıdaki kodda bir şeye daha dikkat edelim: x aralığını `linspace` fonksiyonu yardımı ile elde ettikten sonra, sinüs değerlerimizi teker teker bu aralık üzerinden döngü kullanarak bulmadık; onun yerine bu işi tek satırda, doğrudan `sin()` fonksiyonuna x değerlerini besleyerek bulduk. Yani:"
   ]
  },
  {
   "cell_type": "code",
   "execution_count": 2,
   "metadata": {},
   "outputs": [],
   "source": [
    "x = linspace(0,2*pi,1000);\n",
    "sinus = [];\n",
    "for i = x\n",
    "    sinus = [sinus sin(i)];\n",
    "endfor"
   ]
  },
  {
   "cell_type": "markdown",
   "metadata": {},
   "source": [
    "şeklinde _sol kulağımızı sağ elimizle tutmak_ gibi gereksiz bir yükle değil, doğrudan:"
   ]
  },
  {
   "cell_type": "code",
   "execution_count": 3,
   "metadata": {},
   "outputs": [],
   "source": [
    "x = linspace(0,2*pi,1000);\n",
    "sinus = sin(x);"
   ]
  },
  {
   "cell_type": "markdown",
   "metadata": {},
   "source": [
    "şeklinde, _yapılması gerektiği gibi_ yaptık. Dönemin başında -ve sonra tekrar tekrar- Octave'ın gücünün bu vektör ve matris işlemlerinin topluca ve tek seferde yapılabiliniyor olduğundan geldiğini belirtmiştik. "
   ]
  },
  {
   "cell_type": "markdown",
   "metadata": {},
   "source": [
    "## Performans ölçümü: tic() ve toc()\n",
    "Bu vesileyle, iki yaklaşım arasındaki performans farkını da hesaplayalım. Bunun için iki ölçüm arasında geçen zamanı veren `tic()` ve `toc()` fonksiyonlarını kullanabiliriz: `tic` dediğimizde saymaya başlar, her `toc` dediğimizde de tic'ten beri kaç saniye geçmiş, onun bilgisini verir (parantezsiz şekilde kullanırsak yazılı verir, diğer türlü, yani fonksiyon olarak çağırırsak saniye değerini döndürür)."
   ]
  },
  {
   "cell_type": "code",
   "execution_count": 4,
   "metadata": {
    "scrolled": true
   },
   "outputs": [
    {
     "name": "stdout",
     "output_type": "stream",
     "text": [
      "Elapsed time is 0.0386651 seconds.\n",
      "Elapsed time is 0.00715017 seconds.\n"
     ]
    }
   ],
   "source": [
    "% Once for dongusu ile yapilan islemi olcelim:\n",
    "tic\n",
    "x = linspace(0,2*pi,1000);\n",
    "sinus = [];\n",
    "for i = x\n",
    "    sinus = [sinus sin(i)];\n",
    "endfor\n",
    "toc\n",
    "\n",
    "% Simdi de dogrudan vektor uzerinden:\n",
    "tic\n",
    "x = linspace(0,2*pi,1000);\n",
    "sinus = sin(x);\n",
    "toc"
   ]
  },
  {
   "cell_type": "markdown",
   "metadata": {},
   "source": [
    "Gördüğünüz üzere, 1000 elemanlı, sözü bile edilmeyecek bir hesapta bile 4 katı hızlı çalışıyor, bu da kulaklarımıza küpe olsun!\n",
    "\n",
    "8\\. Uygulama Notları'nın (_Fonksiyonlar I: Giriş ve basit uygulamalar_) sonunda, \"Fonksiyon yazarken dikkat edilecek birkaç şey\" başlığı altında, \"Fonksiyonunuz farklı türlere kucak açsın\" altbaşlığında demiştik ki:\n",
    "\n",
    "_Unutmayın: Octave öncelikli ve tercihen sayısal bir programlama dilidir, sembolik değil. Bunun nimetlerinden sonuna kadar faydalanın, yazacağınız fonksiyonlarda da faydalandırın. Fonksiyonlarınız vektörleri de (hatta oluyorsa matrisleri de) skalerleri desteklediği kadar desteklesin, çağrıldıkları zaman tek satırda yüz binlerce elemanlı bir vektörün elemanlarını tek tek işleyebilsinler._\n",
    "\n",
    "burada da bir kez daha bu önemli noktayı anmış olalım!.."
   ]
  },
  {
   "cell_type": "markdown",
   "metadata": {},
   "source": [
    "Bu şekilde, yani bir seferde işlemi bütün elemanlara uygulamak güzel ama her güzel şeyin olduğu gibi, bunun da bir kusuru var: dizimizin bütün elemanları aynı cinsten olmak zorunda. Sayılarla takıldığımız sürece bu pek sıkıntı çıkarmıyor, örneğin:"
   ]
  },
  {
   "cell_type": "code",
   "execution_count": 5,
   "metadata": {},
   "outputs": [
    {
     "name": "stdout",
     "output_type": "stream",
     "text": [
      "dizi_tamsayilar =\n",
      "\n",
      "   -5    6    0    2  -33\n",
      "\n",
      "dizi_ondalikli =\n",
      "\n",
      "   1.2000   6.0000   3.4000  -7.5000\n",
      "\n",
      "dizi_karmasik =\n",
      "\n",
      "   1 + 3i   6 + 0i  -2 - 5i\n",
      "\n"
     ]
    }
   ],
   "source": [
    "dizi_tamsayilar = [-5 6 0 2 -33]\n",
    "dizi_ondalikli  = [1.2 6 3.4 -7.5]\n",
    "dizi_karmasik   = [1+3*j 6 -2-5*j]"
   ]
  },
  {
   "cell_type": "markdown",
   "metadata": {},
   "source": [
    "Yukarıda farklı cins sayılardan oluşan üç tane dizi tanımladık, hepsinde de \"ortak\" olan bir eleman var: 6. Bu 6 sayısının tam sayılar dizisinde, ondalıklı sayılar ve karmaşık (kompleks) sayılar dizilerinde nasıl kılıktan kılığa büründüğüne dikkat edin! (bu vesileyle, kompleks sayıları bu dönem derste hiç kullanmadık ama $\\sqrt{-1}$'in temel bilimlerde <em>i</em> , mühendislik bilimlerinde ise genelde _j_ ile gösterildiği aklınızın bir köşesinde dursun 8).\n",
    "\n",
    "Şimdi biraz deneysel takılalım: tam sayılar dizisine ondalıklı bir sayı; ondalıklı sayılar dizisine de karmaşık bir sayı ekleyip, ne olacağına göz atalım:"
   ]
  },
  {
   "cell_type": "code",
   "execution_count": 6,
   "metadata": {
    "scrolled": true
   },
   "outputs": [
    {
     "name": "stdout",
     "output_type": "stream",
     "text": [
      "dizi_tamsayilar =\n",
      "\n",
      "   -5.00000    6.00000    0.00000    2.00000  -33.00000    3.40000\n",
      "\n",
      "dizi_ondalikli =\n",
      "\n",
      " Columns 1 through 4:\n",
      "\n",
      "   1.2000 + 0.0000i   6.0000 + 0.0000i   3.4000 + 0.0000i  -7.5000 + 0.0000i\n",
      "\n",
      " Column 5:\n",
      "\n",
      "   1.0000 + 3.0000i\n",
      "\n"
     ]
    }
   ],
   "source": [
    "dizi_tamsayilar = [dizi_tamsayilar 3.4]\n",
    "dizi_ondalikli  = [dizi_ondalikli 1+3*j]"
   ]
  },
  {
   "cell_type": "markdown",
   "metadata": {},
   "source": [
    "Sanki bir \"virüs\" bulaşmış gibi, daha biraz öncesine kadar tam sayılardan mürekkep dizimiz ondalıklı sayılara; ondalıklı sayılardan oluşan dizimiz ise karmaşık sayılara dönüştü! (bu hiyerarşinin merkezinde de tam sayıların ondalıklı sayıların; ondalıklı sayıların da karmaşık sayılar kümesinin alt grubu olmasında buluyoruz: $\\mathbb{Z}\\subset\\mathbb{Q}\\subset\\mathbb{C}$)"
   ]
  },
  {
   "cell_type": "markdown",
   "metadata": {},
   "source": [
    "### Fazladan -biraz da ağır- bilgi (isterseniz atlayabilirsiniz)\n",
    "Bu davranışın sebebi, tam da yukarıda bahsettiğimiz işlemlerin dizilerin bütün elemanlarına tek seferde uygulanabilme kolaylığı. Hikayesi de şu: bilgiler hafızada bir adresten başlayarak çeşitli boyutlarda kutularda tutulurlar. Her bir kutunun boyutu, onun içinde kaç tane 0/1 den oluşan kutucuklardan olduğuna bakar (bu kutucukların her birine \"bit\" denir). Örneğin 3-bitlik bir kutuda 3 tane 0/1 değerini alabilen kutucuk vardır, bu da saklayabileceği $2^3 = 8$ farklı bilgi olacağını gösterir, şöyle ki:\n",
    "\n",
    "|A|B|C|10'luk sistemdeki karşılığı\n",
    "|---|---|---|:---|\n",
    "|0|0|0|0|\n",
    "|0|0|1|1|\n",
    "|0|1|0|2|\n",
    "|0|1|1|3|\n",
    "|1|0|0|4|\n",
    "|1|0|1|5|\n",
    "|1|1|0|6|\n",
    "|1|1|1|7|\n",
    "\n",
    "(10'luk sistemdeki karşılığı çok da önemli değil, tam sayı yerine harf de tutuyor olabilirdi)\n",
    "\n",
    "Biz bir dizi oluşturduğumuz zaman, o diziye verdiğimiz ada karşılık olarak aslında bir adres (hafızada o dizinin başlangıç adresi) atanıyor. Diziyi oluşturan bütün elemanların cinsi aynı olduğundan dolayı, biz de (Octave da) o cinsin boyutunu bildiğinden, örneğin `dizi(4)` deyince, dizinin başladığı adrese gidip, 3 eleman atlayıp, 4.'nün başladığı yere geliyor (yani bir nevi o elemanın yaşadığı kutunun başına ışınlanıyor), bu yüzden de hızlıca işlemleri yapabiliyoruz."
   ]
  },
  {
   "cell_type": "markdown",
   "metadata": {},
   "source": [
    "Ama bazen biz bir matrisin 1. sütununa öğrenci numaralarını; 2. sütununa öğrenci adlarını; 3. ve 4. sütunlara ara sınav notlarını; 5. sütuna genel sınav notunu; 6. sütuna ortalamasını; 7. sütuna da e-posta adresini yazmak isteyebiliriz. Fakat dizinin bütün elemanlarının cinslerinin aynı olması zorunluluğundan ötürü, haydi numarayı, sınav notlarını ortalama ile birlikte ondalıklı olarak temsil ettik diyelim, isim ile e-posta adreslerini ne yapacağız? Tam sayı -> Ondalıklı sayı -> Karmaşık sayı yükseltmesinden ilhamla, \"Sayıları da karakter/yazı/string olarak temsil edelim!\" fikri aklınızdan geçebilir ama $2+4.5$ veya $4.5 + (3-2j)$ işlemlerinin sayılarda karşılığı olsa da, $4 + \\text{sururi}$ işleminin pek de işimize yarar bir karşılığı yok. Bu nedenle sayılara yapabildiğimiz işlemlerle, stringlere yapabildiğimiz işlemler kati şekilde ayrı durmakta."
   ]
  },
  {
   "attachments": {
    "cdrack_nationalfurnituresupplycom_drawers_stylebyemilyhendersoncom.jpg": {
     "image/jpeg": "[encoded data removed]"
    }
   },
   "cell_type": "markdown",
   "metadata": {},
   "source": [
    "## Hücre Dizileri\n",
    "### Tanımlama\n",
    "Bu kadar girişten sonra, asıl konumuza geçelim, yani: **Hücre Dizileri**ne (_Cell Arrays_). Hücre dizileri farklı türden değişkenleri bir arada tutan dizilerdir. Şimdiye kadar kullanageldiğimiz dizileri CD dolaplarına benzetirsek, hücre dizileri de farklı boylarda gözleri olan farklı boylardaki çekmeceleri içeren bir dolaba da benzetilebilir.\n",
    "\n",
    "![cdrack_nationalfurnituresupplycom_drawers_stylebyemilyhendersoncom.jpg](attachment:cdrack_nationalfurnituresupplycom_drawers_stylebyemilyhendersoncom.jpg)  \n",
    "Resimleri aldığım yerler: [CD Dolabı: National Furniture Supply](https://www.nationalfurnituresupply.com/10-shelf-cd-cabinet-1002-3.html) | [Mutfak çekmeceleri: Emily Henderson](https://stylebyemilyhenderson.com/blog/kitchen-organization-hacks)\n",
    "\n",
    "Nasıl ki tamamıyla ya da kısmen dolu olsun, bir CD dolabında maksimum kaç tane CD kutusu olabileceğini, ilgilendiğimiz bir CD'nin hangi rafta soldan kaçıncı CD olduğunu net bir şekilde tarif edebiliriz; içindeki bütün elemanlara aynı işlemi yapabileceğimizi (örneğin mp3'e çevirmek) biliriz, normal dizilerde de bütün bu lükse sahibiz. Tıpkı bizim sayı dizilerimizde olduğu gibi \"ben ikinci rafa sadece 10 tane CD koyacağım, o zaman onun genişliği de diğerlerinden o ölçüde kısa olsun\" diyemeyiz: o rafa 1 tane de CD koysak, 10 tane de CD koysak, o rafın genişliği değişmez, bu da şuna karşılık geliyor demek:\n"
   ]
  },
  {
   "cell_type": "code",
   "execution_count": 7,
   "metadata": {},
   "outputs": [
    {
     "name": "stdout",
     "output_type": "stream",
     "text": [
      "sayi_dizisi =\n",
      "\n",
      "   1   2   3\n",
      "   4   5   6\n",
      "\n",
      "sayi_dizisi =\n",
      "\n",
      "   1   2   3\n",
      "   4   5   6\n",
      "   0   7   0\n",
      "\n"
     ]
    }
   ],
   "source": [
    "sayi_dizisi = [1 2 3; 4 5 6]\n",
    "sayi_dizisi(3,2) = 7"
   ]
  },
  {
   "cell_type": "markdown",
   "metadata": {},
   "source": [
    "Sonuçta biz 3. rafın sadece ortasını kullanıyoruz _(3,2)_ ama yok öyle bir şey: sayı dizilerinin nimetlerinden faydalanacaksak, standard genişlik ve standard türü peşinen kabul etmişiz demektir -- biz istesek de istemesek de, raftaki diğer pozisyonların da hesaba katılması gerekmektedir."
   ]
  },
  {
   "cell_type": "markdown",
   "metadata": {},
   "source": [
    "Hücre dizileri ise bu konuda alabildiğine özgürdürler, şu örneğe bir bakalım:"
   ]
  },
  {
   "cell_type": "code",
   "execution_count": 8,
   "metadata": {},
   "outputs": [
    {
     "name": "stdout",
     "output_type": "stream",
     "text": [
      "hucre_dizisi =\r\n",
      "{\r\n",
      "  [1,1] =  1\r\n",
      "  [1,2] = FİZ219\r\n",
      "  [1,3] =  1.2300\r\n",
      "}\r\n",
      "\r\n"
     ]
    }
   ],
   "source": [
    "hucre_dizisi = {1,\"FİZ219\",1.23}"
   ]
  },
  {
   "cell_type": "markdown",
   "metadata": {},
   "source": [
    "### Elemanlarına erişim\n",
    "Hücre dizilerini sayı dizilerinden ayırmak için işlemlerinde köşeli parantezler ([] -- _square brackets_) yerine süslü parantezler ({} -- _braces_) kullanırız. Elemanlara erişirken de aynı yolu takip ederiz:"
   ]
  },
  {
   "cell_type": "code",
   "execution_count": 9,
   "metadata": {},
   "outputs": [
    {
     "name": "stdout",
     "output_type": "stream",
     "text": [
      "ans = FİZ219\r\n"
     ]
    }
   ],
   "source": [
    "hucre_dizisi{2}"
   ]
  },
  {
   "cell_type": "markdown",
   "metadata": {},
   "source": [
    "Elimizdeki hücre dizisi an itibarı ile (1x3)lük bir dizi, o halde gelin \"2. katı çıkalım\":"
   ]
  },
  {
   "cell_type": "code",
   "execution_count": 10,
   "metadata": {},
   "outputs": [
    {
     "name": "stdout",
     "output_type": "stream",
     "text": [
      "hucre_dizisi =\r\n",
      "{\r\n",
      "  [1,1] =  1\r\n",
      "  [2,1] = [](0x0)\r\n",
      "  [1,2] = FİZ219\r\n",
      "  [2,2] = [](0x0)\r\n",
      "  [1,3] =  1.2300\r\n",
      "  [2,3] = [](0x0)\r\n",
      "  [1,4] = [](0x0)\r\n",
      "  [2,4] = FİZ371\r\n",
      "}\r\n",
      "\r\n"
     ]
    }
   ],
   "source": [
    "hucre_dizisi{2,4} = \"FİZ371\""
   ]
  },
  {
   "cell_type": "markdown",
   "metadata": {},
   "source": [
    "Gösterim sayı dizilerinden biraz farklı olsa da (sayı dizilerinde bir satırın sütunları sıralanıp, bitince diğer satıra geçiliyordu; burada ise sütun sütun listelenmekte), 2. satırın 4. sütununu tanımlayınca boy yine eşitlendi (1x3)lük bir matristen (2x4)lük bir matrise geçildi, eksik hücreler de boş olarak tanımlandı. Bu konuda çok da büyük bir değişiklik yok.\n",
    "\n",
    "Bir de şöyle bir şey tanımladığımızı varsayalım:"
   ]
  },
  {
   "cell_type": "code",
   "execution_count": 11,
   "metadata": {},
   "outputs": [
    {
     "name": "stdout",
     "output_type": "stream",
     "text": [
      "hucre_dizisi =\r\n",
      "{\r\n",
      "  [1,1] =  1\r\n",
      "  [2,1] = [](0x0)\r\n",
      "  [1,2] = FİZ219\r\n",
      "  [2,2] = [](0x0)\r\n",
      "  [1,3] =  1.2300\r\n",
      "  [2,3] =\r\n",
      "\r\n",
      "     5   4   3\r\n",
      "     2   1   0\r\n",
      "\r\n",
      "  [1,4] = [](0x0)\r\n",
      "  [2,4] = FİZ371\r\n",
      "}\r\n",
      "\r\n"
     ]
    }
   ],
   "source": [
    "hucre_dizisi{2,3} = [5 4 3; 2 1 0]"
   ]
  },
  {
   "cell_type": "markdown",
   "metadata": {},
   "source": [
    "Hatta ve hatta:"
   ]
  },
  {
   "cell_type": "code",
   "execution_count": 12,
   "metadata": {},
   "outputs": [
    {
     "name": "stdout",
     "output_type": "stream",
     "text": [
      "hucre_dizisi =\r\n",
      "{\r\n",
      "  [1,1] =  1\r\n",
      "  [2,1] = [](0x0)\r\n",
      "  [1,2] = FİZ219\r\n",
      "  [2,2] = [](0x0)\r\n",
      "  [1,3] =  1.2300\r\n",
      "  [2,3] =\r\n",
      "\r\n",
      "     5   4   3\r\n",
      "     2   1   0\r\n",
      "\r\n",
      "  [1,4] =\r\n",
      "  {\r\n",
      "    [1,1] =  5\r\n",
      "    [1,2] = Bilgisayar Programlama I\r\n",
      "    [1,3] = Emre S. Tasci\r\n",
      "  }\r\n",
      "\r\n",
      "  [2,4] = FİZ371\r\n",
      "}\r\n",
      "\r\n"
     ]
    }
   ],
   "source": [
    "hucre_dizisi{1,4} = {5,\"Bilgisayar Programlama I\", \"Emre S. Tasci\"}"
   ]
  },
  {
   "cell_type": "markdown",
   "metadata": {},
   "source": [
    "Bu nasıl bir büyücülüktür böyle!!! Farklı türden değerleri bir arada tuttuğu yetmiyormuş gibi, farklı türden değerleri içeren dizileri de eleman olarak kabul ediyor -- yani bir çeşit _dizilerin dizisi_ (aslında \"dizi dizisi\" daha doğru oluyor ama kulağa pek hoş gelmiyor)."
   ]
  },
  {
   "cell_type": "markdown",
   "metadata": {},
   "source": [
    "**Soru 1:** Yukarıdaki `hucre_dizisi`nin (1,4). elemanı olan hücre dizisinin 2. elemanı olan \"Bilgisayar Programlama I\"e nasıl ulaşırız?"
   ]
  },
  {
   "cell_type": "code",
   "execution_count": 13,
   "metadata": {},
   "outputs": [
    {
     "name": "stdout",
     "output_type": "stream",
     "text": [
      "ans = Bilgisayar Programlama I\r\n"
     ]
    }
   ],
   "source": [
    "# Cevap:\n",
    "hucre_dizisi{1,4}{2}"
   ]
  },
  {
   "cell_type": "markdown",
   "metadata": {},
   "source": [
    "**Soru 2:** Peki, `hucre_dizisi`nin (2,3). elemanı olan sayı dizisinin (2,1). elemanı olan 2 değerine nasıl ulaşırız?"
   ]
  },
  {
   "cell_type": "code",
   "execution_count": 14,
   "metadata": {},
   "outputs": [
    {
     "name": "stdout",
     "output_type": "stream",
     "text": [
      "ans =  2\r\n"
     ]
    }
   ],
   "source": [
    "# Cevap:\n",
    "hucre_dizisi{2,3}(2,1)"
   ]
  },
  {
   "cell_type": "markdown",
   "metadata": {},
   "source": [
    "İki durumda da yaptığımız aynı şey aslında: ilk olarak hücre dizisinin ilgili elemanının kapısına gidiyoruz (1. soruda bu ev bir başka hücre dizisi; 2. soruda bir sayı dizisi - ama ikisinde de hücre dizisinin sokağında, bu yüzden o adreste ({1,4} veya {2,3}) barındırdığı eleman hücre dizisi de olsa, sayı dizisi de olsa, hücrenin elemanı). Kapıya vardıktan sonra eğer önümüzdeki bir mutfak dolabı (/hücre dizisi) ise onun ilgili çekmecesini {2} açıyoruz; eğer CD rafı (/sayı dizisi) ise bu sefer onun ilgili satır/sütununa gidiyoruz (2,1) <-- sayı dizisi olduğundan, biz de sayı dizisi standardını kullanıyoruz."
   ]
  },
  {
   "cell_type": "markdown",
   "metadata": {},
   "source": [
    " ### Hücre dizilerine tekrarlı (_recursive_) ekleme yapmak\n",
    "\n",
    "Sayı dizilerimize tekrarlı eklemeleri dizinin kendisine referans vererek yapabiliyorduk, örneğin:"
   ]
  },
  {
   "cell_type": "code",
   "execution_count": 15,
   "metadata": {},
   "outputs": [
    {
     "name": "stdout",
     "output_type": "stream",
     "text": [
      "sonuc = [](0x0)\n",
      "sonuc =\n",
      "\n",
      "    2    4    6    8   10\n",
      "\n"
     ]
    }
   ],
   "source": [
    "# Cift sayilari ayiralim:\n",
    "sonuc = [] # sonuclari toplayacagimiz -simdilik- bos kume\n",
    "for i=1:10\n",
    "    if (mod(i,2)==0)\n",
    "        sonuc = [sonuc i]; # sonuc'un dibine secili i'yi ekliyoruz\n",
    "    endif\n",
    "endfor\n",
    "\n",
    "sonuc"
   ]
  },
  {
   "cell_type": "markdown",
   "metadata": {},
   "source": [
    "Hücre dizilerinde ise bu _tıpatıp_ aynı değil. Farkı görmek için, önce _düşündüğümüz şekliyle_, sayı dizilerinden ilham alarak yapmaya çalışalım:"
   ]
  },
  {
   "cell_type": "code",
   "execution_count": 16,
   "metadata": {},
   "outputs": [
    {
     "name": "stdout",
     "output_type": "stream",
     "text": [
      "sonuc = {}(0x0)\n",
      "sonuc =\n",
      "{\n",
      "  [1,1] =\n",
      "  {\n",
      "    [1,1] =\n",
      "    {\n",
      "      [1,1] =\n",
      "      {\n",
      "        [1,1] =\n",
      "        {\n",
      "          [1,1] = {}(0x0)\n",
      "          [1,2] =  2\n",
      "        }\n",
      "\n",
      "        [1,2] =  4\n",
      "      }\n",
      "\n",
      "      [1,2] =  6\n",
      "    }\n",
      "\n",
      "    [1,2] =  8\n",
      "  }\n",
      "\n",
      "  [1,2] =  10\n",
      "}\n",
      "\n"
     ]
    }
   ],
   "source": [
    "# Cift sayilari bu sefer hucre dizisi icine ayiralim:\n",
    "sonuc = {} # sonuclari toplayacagimiz -simdilik- bos kume\n",
    "for i=1:10\n",
    "    if (mod(i,2)==0)\n",
    "        sonuc = {sonuc i}; # sonuc'un dibine secili i'yi ekliyoruz\n",
    "    endif\n",
    "endfor\n",
    "\n",
    "sonuc"
   ]
  },
  {
   "cell_type": "markdown",
   "metadata": {},
   "source": [
    "Sonuç hiç de beklediğimiz gibi olmadı, tekrarın dibine vurduk (zira dikkat ederseniz, içten dışa doğru dallanıp budaklanıyor). Bunun teknik sebebi, hücre dizilerinin elemanlarının kendilerini değil, aslında onların saklandığı hafıza adreslerini tutmalarından kaynaklanıyor.\n",
    "\n",
    "Tekrarlı eklemelerde hücre dizisinin kendisine referans verirken yapmamız gereken, onun tüm elemanlarını (`hucre_dizisi{:}`) içerttirmek:"
   ]
  },
  {
   "cell_type": "code",
   "execution_count": 17,
   "metadata": {},
   "outputs": [
    {
     "name": "stdout",
     "output_type": "stream",
     "text": [
      "sonuc = {}(0x0)\n",
      "sonuc =\n",
      "{\n",
      "  [1,1] =  2\n",
      "  [1,2] =  4\n",
      "  [1,3] =  6\n",
      "  [1,4] =  8\n",
      "  [1,5] =  10\n",
      "}\n",
      "\n"
     ]
    }
   ],
   "source": [
    "# Cift sayilari bu sefer hucre dizisi icine ayiralim:\n",
    "# - 2. deneme...-\n",
    "\n",
    "sonuc = {} # sonuclari toplayacagimiz -simdilik- bos kume\n",
    "for i=1:10\n",
    "    if (mod(i,2)==0)\n",
    "        sonuc = {sonuc{:} i}; # sonuc'un dibine secili i'yi ekliyoruz\n",
    "    endif\n",
    "endfor\n",
    "\n",
    "sonuc"
   ]
  },
  {
   "cell_type": "markdown",
   "metadata": {},
   "source": [
    "## Sonuç\n",
    "Sonuç itibarı ile, hücre dizileri depolamak, sayı dizileri ise elemanları üzerinde hızlıca işlem yapmak için kullanılırlar. Hücre dizilerinden sonuçlarımızı kategorize etmek için veya ara işlemler sırasında elimize geçen değerlerden saklamak istediklerimizi bir kenara koymak için faydalanabiliriz ama unutmamalıyız ki (bkz. yukarıdaki \"Performans ölçümü: tic() ve toc()\" bölümü), GNU Octave'ın gücü vektörel işlemlerin seriliğinden gelir ki, bu özellik de karma elementlere (tam sayı, ondalık sayı, string, dizi, hücre dizisi, ne ararsanız) olan desteğinden dolayı hücre dizilerinde bulunmamaktadır."
   ]
  }
 ],
 "metadata": {
  "kernelspec": {
   "display_name": "Octave",
   "language": "octave",
   "name": "octave"
  },
  "language_info": {
   "file_extension": ".m",
   "help_links": [
    {
     "text": "GNU Octave",
     "url": "https://www.gnu.org/software/octave/support.html"
    },
    {
     "text": "Octave Kernel",
     "url": "https://github.com/Calysto/octave_kernel"
    },
    {
     "text": "MetaKernel Magics",
     "url": "https://metakernel.readthedocs.io/en/latest/source/README.html"
    }
   ],
   "mimetype": "text/x-octave",
   "name": "octave",
   "version": "5.1.0"
  }
 },
 "nbformat": 4,
 "nbformat_minor": 2
}
