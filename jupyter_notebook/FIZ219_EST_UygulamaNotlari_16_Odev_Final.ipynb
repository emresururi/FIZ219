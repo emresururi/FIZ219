{
 "cells": [
  {
   "cell_type": "markdown",
   "metadata": {},
   "source": [
    "# FİZ219 - Bilgisayar Programlama I | 12/01/2020\n",
    "# Final Ödevi\n",
    "\n",
    "**Wheatstone Köprüsü**\n",
    "\n",
    "**Son gönderim tarihi: 24 Ocak Pazar, 23:59**"
   ]
  },
  {
   "attachments": {
    "Wheatstonebridge.png": {
     "image/png": "[encoded data removed]"
    }
   },
   "cell_type": "markdown",
   "metadata": {},
   "source": [
    "Elektronik devreler laboratuvarında bize aşağıdaki gibi bir devre verilmiş olsun:\n",
    "\n",
    "![Wheatstonebridge.png](attachment:Wheatstonebridge.png)"
   ]
  },
  {
   "cell_type": "markdown",
   "metadata": {},
   "source": [
    "$R_2$ direnci [_reosta_](https://tr.wikipedia.org/wiki/Reosta) da denilen, değeri ayarlanabilir bir direnç. $R_1$ ve $R_3$ dirençlerini bir kutudan rastgele çekiyoruz, neyse ki onların dirençlerini üzerlerindeki renklere bakıp anlayabiliyoruz. Devremize uygulanan potansiyel farkı ($V_s$) da biliyoruz. $D$ ile $B$ noktalarının arasına bağlı olan bir [galvanometre](https://tr.wikipedia.org/wiki/Galvanometre) (esasen hassas akım ölçerdir; biz ise deneyimizde çok yüksek bir direnç monte edilmiş haliyle, doğrudan hassas potansiyel farkı ölçmekte kullanıyoruz) ile de o iki nokta arasındaki potansiyel farkı ($V_G$) ölçebiliyoruz. Durum böyleyken böyle yani.\n",
    "\n",
    "Bizden istenen, kapalı bir kutu içerisinde verilen $R_x$ direncinin değerini $10^{-5}$ hassasiyetle saptamamız.\n",
    "\n"
   ]
  },
  {
   "cell_type": "markdown",
   "metadata": {},
   "source": [
    "## Hesaplamalara başlamadan önce önemli not\n",
    "Kodunuzda (`clear`, `clc`, vs. tarzı \"sıfırlayıcı\" komutlar kullanarak başlıyorsanız tabii ki onlardan sonra) ilk rastgele hesabı gerçekleştirmeden **evvel** (bir kereliğine) şu satırı yerleştirin:\n",
    "\n",
    "`rand(\"seed\",219)`\n",
    "\n",
    "Bu komut sayesinde sizin kodunuzu bir başkası (\"ben\" 8) çalıştırdığında, sizin bulduğunuz rastgele değerlerin aynısı elde edilebilecektir."
   ]
  },
  {
   "cell_type": "markdown",
   "metadata": {},
   "source": [
    "## Kutudan $R_1$ ve $R_3$'ün rastgele çekimi\n",
    "**Yapılacaklar #1:** `R1` ve `R3` değerlerine $[10,30]\\,\\Omega$ aralığından rastgele tam sayı değerler atayın (kafanızdan değil tabii, bilgisayara _atatın_ 8)."
   ]
  },
  {
   "cell_type": "markdown",
   "metadata": {},
   "source": [
    "## Bilmediğimiz $R_x$\n",
    "**Yapılacaklar #2:** Bulmaya çalıştığımız `Rx` değerine de yine \n",
    "aralığında rastgele bir sayı atatın (ama buna bakmayın)."
   ]
  },
  {
   "cell_type": "markdown",
   "metadata": {},
   "source": [
    "## $R_2$ en son kaçta kaldıysa...\n",
    "**Yapılacaklar #3:** Sizden önce reostayı kullananlar reostanın değerini $[0,50]\\,\\Omega$ aralığında bir değerde bırakmışlar, siz de bu `R2` değerini bu şekilde tanımlayın."
   ]
  },
  {
   "cell_type": "markdown",
   "metadata": {},
   "source": [
    "## $V_s$'yi de ayarlayalım\n",
    "**Yapılacaklar #4:** Devreye uygulanan potansiyel fark olan $V_s$ değerini de 30 V'a ayarlayın."
   ]
  },
  {
   "attachments": {
    "Wheatstone.png": {
     "image/png": "[encoded data removed]"
    }
   },
   "cell_type": "markdown",
   "metadata": {},
   "source": [
    "## Önce Teori...\n",
    "Devremizi, kabloları uzatıp/kısaltarak yeniden düzenlemek suretiyle elektriksel anlamda hiçbir şey değiştirmeden şu şekile getirebiliriz (unutmayın ki, aradaki galvanometre D ile B noktaları arasındaki potansiyel farkı ölçmek için kullandığımız bir alet, ideal durumda devreye bir etkisi olamaz):\n",
    "\n",
    "\n",
    "![Wheatstone.png](attachment:Wheatstone.png)  \n",
    "Kaynak: [Wikipedia](https://en.wikipedia.org/wiki/Wheatstone_bridge)"
   ]
  },
  {
   "cell_type": "markdown",
   "metadata": {},
   "source": [
    "**ADC** ile **ABC** kolları birbirine paralel olduklarından dolayı, $V_{ADC}=V_{ABC}$, onlar da $V_s$'ye eşit olur (üç kolun da uçları arasındaki potansiyel farkın aslında $V_{AC}$ oluşundan):\n",
    "\n",
    "$$V_s=V_{AC}=V_{ADC}=V_{ABC}$$\n",
    "\n",
    "**ADC** kolu üzerinden geçen akımı $I_1$, **ABC** kolu üzerinden geçen akımı da $I_3$ ile gösterelim: $R_1$ ile $R_2$ seri bağlandıklarından $R_1$'den geçen $I_1$ akımı $R_2$'den de geçer; benzer şekilde, $R_3$'ten geçen $I_3$ akımı, $R_x$'den de geçer.\n",
    "\n",
    "D ile C noktaları arasındaki potansiyel fark, $R_2$ ile üzerinden geçen akımın ($I_1$) çarpımından bulunur:\n",
    "\n",
    "$$V_{DC} = I_1 R_2$$\n",
    "\n",
    "$V_{ADC}$ kolunun uçları arasındaki potansiyel farkın $V_s$'ye eşit olduğunu çıkarmıştık, aynı potansiyel farkı o koldaki toplam (eşdeğer) direnç ($R_1 + R_2$) ile koldan geçen akımı ($I_1$) çarparak da bulabiliriz:\n",
    "\n",
    "$$V_s = I_1 (R_1 + R_2)$$\n",
    "\n",
    "İki denklemi birbirine bölersek:\n",
    "\n",
    "$$\\require{cancel} \\frac{V_{DC}}{V_{s}} = \\frac{\\cancel{I_1} R_2}{\\cancel{I_1}(R_1+R_2)}\\rightarrow\\boxed{V_{DC}=\\frac{R_2}{R_1+R_2}V_s}$$\n",
    "\n",
    "Benzer işlemleri **ABC** kolu üzerinde de yaparsak:\n",
    "\n",
    "$$V_{BC} = I_3 R_x$$\n",
    "\n",
    "$$V_s = I_3 (R_3 + R_x)$$\n",
    "\n",
    "bunları da birbirine bölünce:\n",
    "\n",
    "$$\\frac{V_{BC}}{V_{s}} = \\frac{\\cancel{I_3} R_x}{\\cancel{I_3}(R_3+R_x)}\\rightarrow\\boxed{V_{BC}=\\frac{R_x}{R_3+R_x}V_s}$$\n",
    "\n"
   ]
  },
  {
   "cell_type": "markdown",
   "metadata": {},
   "source": [
    "Galvanometrenin ölçtüğü $V_G=V_{DB}$ potansiyel farkı doğal olarak $V_{DC}$ ile $V_{BC}$ olur:\n",
    "\n",
    "$$V_{G} = V_{DC} - V_{BC}$$\n",
    "\n",
    "eşitliklerden yerlerine koyarsak:\n",
    "\n",
    "$$V_{G} =\\left(\\frac{R_2}{R_1+R_2} - \\frac{R_x}{R_3+R_x}\\right)V_s$$\n",
    "\n",
    "olarak çıkar."
   ]
  },
  {
   "cell_type": "markdown",
   "metadata": {},
   "source": [
    "## Teoriden fonksiyona\n",
    "**Yapılacaklar #5:** Parametre olarak R1, R2, R3, Rx, Vs değerlerini kabul edip, yukarıdaki şekilde işleyip VG döndüren bir `VG(R1,R2,R3,Rx,Vs)` fonksiyonu yazınız.\n",
    "\n",
    "Örneğin:\n",
    "`VG(23,10,13,20,19) ==> -5.7576` vermeli."
   ]
  },
  {
   "cell_type": "markdown",
   "metadata": {},
   "source": [
    "## Deneye başlıyoruz\n",
    "Elimizde oynayacağımız tek şey $R_2$'nin değeri, ölçebileceğimiz tek şey de $V_G$ olduğundan, biz de biriyle oynayıp, diğerini okuyalım. \n",
    "\n",
    "Burada unutmamamız gereken şey, deneyde bize değerini tespit etmemiz için verilen $R_x$ direncinin biz bilmesek de bir değeri olmasıdır. Böyle yazınca bariz görünüyor ama aslında kodumuzda gömülü bir $R_x$ değeri olması da aynı anlama geliyor (yani kodumuzda tanımlı olması, onu biliyor olduğumuz anlamına gelmemekte). Dahası, deneyde doğrudan $R_x$'i -yüksek hassasiyet ile- ölçemiyoruz ama ona bağlı bir fonksiyon değeri olan $V_G$ potansiyel farkını ölçebiliyoruz.\n",
    "\n",
    "Bu yaptığımız kısmı deneyde yapıyor olduğumuzu varsayacağız:"
   ]
  },
  {
   "cell_type": "markdown",
   "metadata": {},
   "source": [
    "**Yapılacaklar #6:** Reosta değeri $R_2$ ile oynayarak, galvanometrede okuduğumuz $V_G$ değerlerine bakarak, <u>**sistematik**</u> bir şekilde $V_G$'yi sıfır (ya da *neredeyse sıfır*) yapan $R_2$ değerini bulun."
   ]
  },
  {
   "attachments": {},
   "cell_type": "markdown",
   "metadata": {},
   "source": [
    "Bu aşamaya ulaştığımızda (yani $V_G = V_{DB} = 0$ olduğunda), $V_D$ ile $V_B$ aynı değerde demektir. $R_1$ ile $R_3$ yukarıdan $V_A$ potansiyelinde, aşağıdan $V_D = V_B$ potansiyelinde olduklarından, iki uçları arasındaki potansiyel fark eşit hale gelmiş olur, yani:\n",
    "\n",
    "$$V_{AD} = I_1 R_1 = I_3 R_3 = V_{AB}$$\n",
    "\n",
    "Buradan $I_3$'ü çekersek:\n",
    "\n",
    "$$I_3 = \\frac{R_1}{R_3} I_1$$\n",
    "\n",
    "bulunur.\n",
    "\n",
    "$V_D$ ile $V_B$ aynı değerde olduğundan, yine aynı mantıkla, $V_{DC} = V_{BC}$, yani:\n",
    "\n",
    "$$V_{DC} = I_1 R_2 = I_3 R_x = V_{BC}$$\n",
    "\n",
    "($I_3$'ü yukarıda bulduğumuzdan, bu denklemdeki tek bilinmeyen $R_x$ kaldı)\n",
    "\n",
    "$R_x$', yalnız bırakırsak:\n",
    "\n",
    "$$R_x = \\frac{I_1}{I_3}R_2$$ \n",
    "\n",
    "olarak hesaplanmış olur."
   ]
  },
  {
   "cell_type": "markdown",
   "metadata": {},
   "source": [
    "**Yapılacaklar #7:** `I3` değerini bulduktan sonra, `Rx` değerini yukarıdaki denklemden hesaplayın, en başta rastgele olarak hesapladığınız değerle kıyaslayın. (Aradaki fark $10^{-5}\\,\\Omega$'dan küçük olmalı)"
   ]
  },
  {
   "cell_type": "markdown",
   "metadata": {},
   "source": [
    "**Yapılacaklar #8:** `R2`nin değerini 10'dan 30'a kadar değiştirerek elde ettiğiniz `VG` değerlerinin grafiğini çizdirin.\n",
    "\n",
    "**Bonus:** $R_1$'in de reosta olduğunu varsayıp, $[10,50]\\,\\Omega$ aralığında farklı `R1` ve `R2` değerlerine karşılık gelen üç boyutlu `VG` grafiğini çizdirin."
   ]
  },
  {
   "cell_type": "markdown",
   "metadata": {},
   "source": [
    "# Ödev Kuralları\n",
    "* Bu sizin final ödevinizdir.\n",
    "* Her gruptan sadece 1 ödev gönderilecektir, onu da grup sözcüsü gönderecektir.\n",
    "* Ödev, dersin HUZEM sayfasından gönderilecektir, lütfen e-posta ile göndermeyin.\n",
    "* Ödevlerinizi yaparken tabii ki internetten ve diğer indirekt/asenkron/her ne deniyorsa kaynaktan faydalanabilirsiniz ama grup üyeleriniz dışında ödev konusunda dışarıdan birilerine danışmanız yasaktır. Ayrıca sizin Google'da arama ve kopyalayıp/yapıştırma yeteneklerinizi değil, program yazabilme yeteneklerinizi sınadığım gerçeğini de sakın aklınızdan çıkarmayın. Faydalandığınız kaynakları mutlaka belirtin (kodunuzun sonunda yorum olarak belirtebilirsiniz). Aksinin yapıldığı saptandığı/düşünüldüğü takdirde size uyarı gönderilmeden, soruşturma açtırılacaktır.\n",
    "* Ödev için birden fazla dosya kullanılırsa, zip'lenerek tek dosya olarak gönderilecektir. Bu durumda ödev dosyalarının adı `grupadi_finalodevi_1.m`, `grupadi_finalodevi_2.m`, ... şeklinde olacak, zip dosyasının adı ise `FIZ219_FinalOdevi_GrupAdi.zip` biçiminde olacaktır.\n",
    "* Lütfen ödev kodlarınızın başına grubunuzun adını ve -hiçbir katkıda bulunmamış/ulaşılamamış olsa da- grup üyelerinin adlarını yorum satırı olarak yazın.\n",
    "* Ödevlerin son gönderim tarihi 24 Ocak Pazar gecesi (24/01/2021 23:59) olup, gönderim saatinden biraz (~ birkaç saat) sonrasında da gönderim mümkün olsa da, geç ödevlerden puan kırılacaktır. Bu süre de geçince ödev kabul edilmeyecektir.\n",
    "* Son gönderim tarihi geçtikten sonra ödevlerinizin değerlendirilmesi üç aşamadan oluşacaktır:\n",
    "  * Gönderilen ödevlerinizin notlandırılması\n",
    "  * Grup üyelerinin diğer grup üyelerinin katkılarını değerlendirmesi\n",
    "  * Sözlü sınav\n",
    "* Ödevinizi bütün grup elemanlarınızla birlikte, topluca yapın. Hem kapsamlı bir ödevle karşı karşıyasınız, hem de sonrasında değerlendirme formunda takım çalışması konusunda da bilgi istenecektir. Herkesin kendi başına diğerlerinden bağımsız bir kod yazıp, kodlardan birinin / en iyi çalışanın seçilip gönderilmesi yeğlenen bir durum değildir. Öğrenin ve öğretin."
   ]
  }
 ],
 "metadata": {
  "kernelspec": {
   "display_name": "Octave",
   "language": "octave",
   "name": "octave"
  },
  "language_info": {
   "file_extension": ".m",
   "help_links": [
    {
     "text": "GNU Octave",
     "url": "https://www.gnu.org/software/octave/support.html"
    },
    {
     "text": "Octave Kernel",
     "url": "https://github.com/Calysto/octave_kernel"
    },
    {
     "text": "MetaKernel Magics",
     "url": "https://metakernel.readthedocs.io/en/latest/source/README.html"
    }
   ],
   "mimetype": "text/x-octave",
   "name": "octave",
   "version": "5.2.0"
  }
 },
 "nbformat": 4,
 "nbformat_minor": 4
}
