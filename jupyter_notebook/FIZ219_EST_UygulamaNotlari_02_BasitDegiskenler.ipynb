{
 "cells": [
  {
   "cell_type": "markdown",
   "metadata": {},
   "source": [
    "# Uygulama Notları:2\n",
    "## FİZ219 - Bilgisayar Programlama I | 16/10/2020\n",
    "\n",
    "* Değişken Türleri\n",
    "* Değişken Tanımlama\n",
    "* İşlem Türleri\n",
    "* İşlem Öncelikleri\n",
    "* Algoritmalar & Sanki-kod ('pseudo-code')\n",
    " \n",
    "Emre S. Tasci <emre.tasci@hacettepe.edu.tr>\n"
   ]
  },
  {
   "cell_type": "markdown",
   "metadata": {},
   "source": [
    "## Değişken Türleri\n",
    "GNU Octave'da değişkenler belli başlı iki ana sınıfa ayrılabilir:\n",
    "* Sayısal Değişkenler\n",
    "* String ('sözcük') Değişkenleri\n",
    "\n",
    "Mühendislik hesaplarında yoğun olarak sayılarla işlem yapacağımızdan, dönem sonuna kadar string değişkenlerini bir kenara koyuyoruz (yine de çıktılarımızı güzelleştirmek için, çok gerekli olmasa da, aralarda kaçamak yapacağız 8).\n",
    "\n",
    "Sayısal değişkenler, pozitif, negatif, kompleks, rasyonel, çok büyük, çok küçük değerler olabilir.\n",
    "\n",
    "Değişkenlerin alabileceğin minimum ve maksimum değerler hakkında şu şekilde bilgi alabiliriz:"
   ]
  },
  {
   "cell_type": "code",
   "execution_count": 1,
   "metadata": {},
   "outputs": [
    {
     "name": "stdout",
     "output_type": "stream",
     "text": [
      "ans =   2.2251e-308\r\n",
      "ans =   1.7977e+308\r\n"
     ]
    }
   ],
   "source": [
    "realmin, realmax"
   ]
  },
  {
   "cell_type": "code",
   "execution_count": 2,
   "metadata": {},
   "outputs": [
    {
     "name": "stdout",
     "output_type": "stream",
     "text": [
      "ans = -2147483648\r\n",
      "ans = 2147483647\r\n"
     ]
    }
   ],
   "source": [
    "intmin, intmax"
   ]
  },
  {
   "cell_type": "code",
   "execution_count": 3,
   "metadata": {},
   "outputs": [
    {
     "name": "stdout",
     "output_type": "stream",
     "text": [
      "ans =    2.2204e-16\r\n"
     ]
    }
   ],
   "source": [
    "eps"
   ]
  },
  {
   "cell_type": "markdown",
   "metadata": {},
   "source": [
    "Daha emeklemeden koşmaya başladık, yukarıdakiler karışık geldiyse, sıkıntı yok, sâfi teknik bilgidir rahatlıkla geçebilirsiniz. Herhangi bir komut hakkında bilgi almak içinse `help` yazıp, komutu girin, örneğin:"
   ]
  },
  {
   "cell_type": "code",
   "execution_count": 4,
   "metadata": {},
   "outputs": [
    {
     "name": "stdout",
     "output_type": "stream",
     "text": [
      "'eps' is a built-in function from the file libinterp/corefcn/data.cc\r\n",
      "\r\n",
      " -- eps\r\n",
      " -- eps (X)\r\n",
      " -- eps (N, M)\r\n",
      " -- eps (N, M, K, ...)\r\n",
      " -- eps (..., CLASS)\r\n",
      "     Return a scalar, matrix or N-dimensional array whose elements are\r\n",
      "     all eps, the machine precision.\r\n",
      "\r\n",
      "     More precisely, 'eps' is the relative spacing between any two\r\n",
      "     adjacent numbers in the machine's floating point system.  This\r\n",
      "     number is obviously system dependent.  On machines that support\r\n",
      "     IEEE floating point arithmetic, 'eps' is approximately 2.2204e-16\r\n",
      "     for double precision and 1.1921e-07 for single precision.\r\n",
      "\r\n",
      "     When called with no arguments, return a scalar with the value 'eps\r\n",
      "     (1.0)'.\r\n",
      "\r\n",
      "     Given a single argument X, return the distance between X and the\r\n",
      "     next largest value.\r\n",
      "\r\n",
      "     When called with more than one argument the first two arguments are\r\n",
      "     taken as the number of rows and columns and any further arguments\r\n",
      "     specify additional matrix dimensions.  The optional argument CLASS\r\n",
      "     specifies the return type and may be either \"double\" or \"single\".\r\n",
      "\r\n",
      "     See also: realmax, realmin, intmax, flintmax.\r\n",
      "\r\n",
      "Additional help for built-in functions and operators is\r\n",
      "available in the online version of the manual.  Use the command\r\n",
      "'doc <topic>' to search the manual index.\r\n",
      "\r\n",
      "Help and information about Octave is also available on the WWW\r\n",
      "at https://www.octave.org and via the help@octave.org\r\n",
      "mailing list.\r\n"
     ]
    }
   ],
   "source": [
    "help eps"
   ]
  },
  {
   "cell_type": "markdown",
   "metadata": {},
   "source": [
    "... demek ki `eps` komutu bize makinemizin hassasiyetini veriyormuş."
   ]
  },
  {
   "cell_type": "markdown",
   "metadata": {},
   "source": [
    "## Değişken Tanımla (Atama)\n",
    "Değişkenleri tanımlamak, ya da programlama diliyle söylersek, onlara \"değer atamak\" için `=` operatörünü kullanırız:"
   ]
  },
  {
   "cell_type": "code",
   "execution_count": 5,
   "metadata": {},
   "outputs": [
    {
     "name": "stdout",
     "output_type": "stream",
     "text": [
      "a =  5\r\n"
     ]
    }
   ],
   "source": [
    "a = 5"
   ]
  },
  {
   "cell_type": "code",
   "execution_count": 6,
   "metadata": {
    "scrolled": true
   },
   "outputs": [
    {
     "name": "stdout",
     "output_type": "stream",
     "text": [
      "b =  3.1400\r\n"
     ]
    }
   ],
   "source": [
    "b = 3.14"
   ]
  },
  {
   "cell_type": "markdown",
   "metadata": {},
   "source": [
    "bir de şuna bakalım:"
   ]
  },
  {
   "cell_type": "code",
   "execution_count": 7,
   "metadata": {
    "scrolled": true
   },
   "outputs": [
    {
     "name": "stdout",
     "output_type": "stream",
     "text": [
      "c =  5\r\n"
     ]
    }
   ],
   "source": [
    "c = 5.0"
   ]
  },
  {
   "cell_type": "markdown",
   "metadata": {},
   "source": [
    "Yukarıda `a`'yı tam sayı olarak tanımladık, `b`'yi ise ondalıklı sayı, Octave da o şekilde kabul etti. Ama `c`'yi tam sayı olarak değil de, ondalıklı sayı olarak tanımlamaya kalkınca, hiç oralı olmadı. Dahası:"
   ]
  },
  {
   "cell_type": "code",
   "execution_count": 8,
   "metadata": {
    "scrolled": true
   },
   "outputs": [
    {
     "name": "stdout",
     "output_type": "stream",
     "text": [
      "ans =  2\r\n"
     ]
    }
   ],
   "source": [
    "3.4 - 1.4"
   ]
  },
  {
   "cell_type": "markdown",
   "metadata": {},
   "source": [
    "şeklinde iki ondalıklı sayıyı çıkarınca da, sonucu ondalıklı cinsten değil de, tam sayı cinsinden verdi. Bir sayının tam sayı mı, yoksa ondalıklı sayı mı olduğunun kararını neye göre veriyor? (cevap: aslında biz özellikle belirtmediğimiz sürece, hepsini ondalıklı olarak tutuyor, nasıl belirteceğimizi de ileride göreceğiz ama şimdilik hiç sorun yok 8)"
   ]
  },
  {
   "cell_type": "markdown",
   "metadata": {},
   "source": [
    "Peki ya bu nasıl bir şey?"
   ]
  },
  {
   "cell_type": "code",
   "execution_count": 9,
   "metadata": {},
   "outputs": [
    {
     "name": "stdout",
     "output_type": "stream",
     "text": [
      "d =  3.1416\r\n"
     ]
    }
   ],
   "source": [
    "d = pi"
   ]
  },
  {
   "cell_type": "markdown",
   "metadata": {},
   "source": [
    "`pi`yi halihazırda biliyormuş! Peki hassasiyet az değil mi? Değil. Aslında sayıyı kendinde tuttuğu hassasiyet, bize gösterdiği hassasiyetle aynı değil (çok karmaşık şeylerle ekran dolmasın diye bize azını gösteriyor). Eğer daha hassas görmek isterseniz `format` komutu size göre:"
   ]
  },
  {
   "cell_type": "code",
   "execution_count": 10,
   "metadata": {},
   "outputs": [],
   "source": [
    "format long"
   ]
  },
  {
   "cell_type": "code",
   "execution_count": 11,
   "metadata": {},
   "outputs": [
    {
     "name": "stdout",
     "output_type": "stream",
     "text": [
      "d =  3.141592653589793\r\n"
     ]
    }
   ],
   "source": [
    "d"
   ]
  },
  {
   "cell_type": "markdown",
   "metadata": {},
   "source": [
    "\"normal\" duruma `format short` ile dönebiliriz."
   ]
  },
  {
   "cell_type": "code",
   "execution_count": 12,
   "metadata": {},
   "outputs": [
    {
     "name": "stdout",
     "output_type": "stream",
     "text": [
      "d =  3.1416\r\n"
     ]
    }
   ],
   "source": [
    "format short\n",
    "d"
   ]
  },
  {
   "cell_type": "markdown",
   "metadata": {},
   "source": [
    "Daha da hassas gösterimi mümkün ama bize şimdilik bu kadarı da yeter. Aklınızda tutmanız gereken, sayının değerinin ille de size sunulduğu hassasiyette olmadığı...\n",
    "\n",
    "Hazır `pi`yi görmüşken, birkaç tane daha özel matematik sabit tanımlı olarak geliyor, bunlar: Euler'in sayısı (`e`), sonsuz (`inf`), -1'in kökü (`I`), ama daha onlara da var (sabır!.. ;)"
   ]
  },
  {
   "cell_type": "markdown",
   "metadata": {},
   "source": [
    "`a`'yı tanımladık, peki `x`'i `a` cinsinden tanımlayıp, sonra `a`'nın değerini tekrar tanımlayalım: bakalım `x`'in değeri değişecek mi?"
   ]
  },
  {
   "cell_type": "code",
   "execution_count": 13,
   "metadata": {},
   "outputs": [
    {
     "name": "stdout",
     "output_type": "stream",
     "text": [
      "a =  5\r\n"
     ]
    }
   ],
   "source": [
    "a = 5"
   ]
  },
  {
   "cell_type": "code",
   "execution_count": 14,
   "metadata": {},
   "outputs": [
    {
     "name": "stdout",
     "output_type": "stream",
     "text": [
      "x =  5\r\n"
     ]
    }
   ],
   "source": [
    "x = a"
   ]
  },
  {
   "cell_type": "code",
   "execution_count": 15,
   "metadata": {},
   "outputs": [
    {
     "name": "stdout",
     "output_type": "stream",
     "text": [
      "a =  3\r\n"
     ]
    }
   ],
   "source": [
    "a = 3"
   ]
  },
  {
   "cell_type": "code",
   "execution_count": 16,
   "metadata": {},
   "outputs": [
    {
     "name": "stdout",
     "output_type": "stream",
     "text": [
      "x =  5\r\n"
     ]
    }
   ],
   "source": [
    "x"
   ]
  },
  {
   "cell_type": "markdown",
   "metadata": {},
   "source": [
    "(bir değişkenin sadece adını yazıp çalıştırdığımızda, o değişkenin değeri yazılır)."
   ]
  },
  {
   "cell_type": "markdown",
   "metadata": {},
   "source": [
    "## İşlem Türleri\n",
    "Octave'da pek çok çeşit işlem türü vardır, bunlardan atamayı, çıkartmayı ve hatta fonksiyonu gördük bile (hangi fonksiyonu gördük acaba?). Aritmetik işlemleri çoklukla kullanacağız, fonksiyonları da önümüzdeki haftadan itibaren yavaş yavaş kullanmaya başlayacağız."
   ]
  },
  {
   "cell_type": "code",
   "execution_count": 17,
   "metadata": {},
   "outputs": [
    {
     "name": "stdout",
     "output_type": "stream",
     "text": [
      "ans =  7\r\n"
     ]
    }
   ],
   "source": [
    "3 + 4"
   ]
  },
  {
   "cell_type": "code",
   "execution_count": 18,
   "metadata": {},
   "outputs": [
    {
     "name": "stdout",
     "output_type": "stream",
     "text": [
      "a =  3\r\n"
     ]
    }
   ],
   "source": [
    "a"
   ]
  },
  {
   "cell_type": "code",
   "execution_count": 19,
   "metadata": {},
   "outputs": [
    {
     "name": "stdout",
     "output_type": "stream",
     "text": [
      "ans =  7\r\n"
     ]
    }
   ],
   "source": [
    "a + 4"
   ]
  },
  {
   "cell_type": "code",
   "execution_count": 20,
   "metadata": {},
   "outputs": [
    {
     "name": "stdout",
     "output_type": "stream",
     "text": [
      "b =  4\r\n"
     ]
    }
   ],
   "source": [
    "b = 4"
   ]
  },
  {
   "cell_type": "code",
   "execution_count": 21,
   "metadata": {},
   "outputs": [
    {
     "name": "stdout",
     "output_type": "stream",
     "text": [
      "ans =  7\r\n"
     ]
    }
   ],
   "source": [
    "a + b"
   ]
  },
  {
   "cell_type": "markdown",
   "metadata": {},
   "source": [
    "Görüldüğü üzere, değişken olsun, değer olsun, iki çeşit birbirleriyle güzelce harmanlanabiliyor, işleme girebiliyor. Çıkarma ve toplamadan başka çokça kullanacağımız diğer başlıca işlemler:\n",
    "* Çarpma operatörü: `*`\n",
    "* Bölme operatörü: `/`\n",
    "* Üs alma operatörü: `**` (`^` de kullanılır)"
   ]
  },
  {
   "cell_type": "code",
   "execution_count": 22,
   "metadata": {},
   "outputs": [
    {
     "name": "stdout",
     "output_type": "stream",
     "text": [
      "ans =  15\r\n"
     ]
    }
   ],
   "source": [
    "3 * 5"
   ]
  },
  {
   "cell_type": "code",
   "execution_count": 23,
   "metadata": {},
   "outputs": [
    {
     "name": "stdout",
     "output_type": "stream",
     "text": [
      "ans =  0.60000\r\n"
     ]
    }
   ],
   "source": [
    "3 / 5"
   ]
  },
  {
   "cell_type": "code",
   "execution_count": 24,
   "metadata": {},
   "outputs": [
    {
     "name": "stdout",
     "output_type": "stream",
     "text": [
      "ans =  125\r\n"
     ]
    }
   ],
   "source": [
    "5**3"
   ]
  },
  {
   "cell_type": "code",
   "execution_count": 25,
   "metadata": {},
   "outputs": [
    {
     "name": "stdout",
     "output_type": "stream",
     "text": [
      "ans =  125\r\n"
     ]
    }
   ],
   "source": [
    "5^3"
   ]
  },
  {
   "cell_type": "markdown",
   "metadata": {},
   "source": [
    "Skaler işlemlerde nasıl çıkarmayı toplama, bölmeyi çarpma cinsinden yazabiliyorsak, kök almayı da üs alma cinsinden yazabiliriz. Demek istediğim:"
   ]
  },
  {
   "cell_type": "code",
   "execution_count": 26,
   "metadata": {},
   "outputs": [
    {
     "name": "stdout",
     "output_type": "stream",
     "text": [
      "ans =  2\r\n"
     ]
    }
   ],
   "source": [
    "5 + (-3)"
   ]
  },
  {
   "cell_type": "code",
   "execution_count": 27,
   "metadata": {},
   "outputs": [
    {
     "name": "stdout",
     "output_type": "stream",
     "text": [
      "ans =  0.60000\r\n"
     ]
    }
   ],
   "source": [
    "3 * (1/5)"
   ]
  },
  {
   "cell_type": "code",
   "execution_count": 28,
   "metadata": {},
   "outputs": [
    {
     "name": "stdout",
     "output_type": "stream",
     "text": [
      "ans =  5.0000\r\n"
     ]
    }
   ],
   "source": [
    "125 ^ (1/3)"
   ]
  },
  {
   "cell_type": "markdown",
   "metadata": {},
   "source": [
    "İşlemleri hızlandırmak adına, üs ve özelde karekök alma işlemlerine ayrı komutlar atanmıştır:"
   ]
  },
  {
   "cell_type": "code",
   "execution_count": 29,
   "metadata": {},
   "outputs": [
    {
     "name": "stdout",
     "output_type": "stream",
     "text": [
      "ans =  125\r\n"
     ]
    }
   ],
   "source": [
    "power(5,3)"
   ]
  },
  {
   "cell_type": "code",
   "execution_count": 30,
   "metadata": {},
   "outputs": [
    {
     "name": "stdout",
     "output_type": "stream",
     "text": [
      "ans =  5\r\n"
     ]
    }
   ],
   "source": [
    "sqrt(25)"
   ]
  },
  {
   "cell_type": "code",
   "execution_count": 31,
   "metadata": {},
   "outputs": [
    {
     "name": "stdout",
     "output_type": "stream",
     "text": [
      "ans =  5\r\n"
     ]
    }
   ],
   "source": [
    "nthroot(125,3)"
   ]
  },
  {
   "cell_type": "markdown",
   "metadata": {},
   "source": [
    "Bu türden \"yeniden/fazladan\" tanımlamaların sebebi, sıklıkla kullanıldığı için, \"optimize\" edilmiş olmalarıdır (bu, 5'in karesini hesaplamak için `power(5,2)` yazmak yerine, hatta `5^2` yazmak yerine kısaca `5*5` yazmaya benzer 8)"
   ]
  },
  {
   "cell_type": "markdown",
   "metadata": {},
   "source": [
    "## İşlem Öncelikleri\n",
    "**Örnek:**\\\n",
    "$$a+\\frac{b+c}{{(d+e)}^2}$$\n",
    "işlemini elde ve Octave'da yapın -- birbirini tutuyor mu? ;)"
   ]
  },
  {
   "cell_type": "code",
   "execution_count": 32,
   "metadata": {},
   "outputs": [],
   "source": [
    "a = 5; b = 3; c = -4; d = 6; e = 1;"
   ]
  },
  {
   "cell_type": "markdown",
   "metadata": {},
   "source": [
    "(Bir satırda birden fazla işlem yaptırmak istediğimizde, işlemleri `;` ile ayırabildiğimiz gibi, bunu aynı zamanda çıktıyı \"bastırmak\" (_suppress_) için de kullanıyoruz)."
   ]
  },
  {
   "cell_type": "markdown",
   "metadata": {},
   "source": [
    "<hr>"
   ]
  },
  {
   "cell_type": "code",
   "execution_count": 33,
   "metadata": {},
   "outputs": [
    {
     "name": "stdout",
     "output_type": "stream",
     "text": [
      "ans =  4.9796\r\n"
     ]
    }
   ],
   "source": [
    "a + (b+c) / (d+e)^2"
   ]
  },
  {
   "cell_type": "markdown",
   "metadata": {},
   "source": [
    "Ama yine de işleri garantiye ve (grupları paranteze) almak her zaman iyidir:"
   ]
  },
  {
   "cell_type": "code",
   "execution_count": 34,
   "metadata": {},
   "outputs": [
    {
     "name": "stdout",
     "output_type": "stream",
     "text": [
      "ans =  4.9796\r\n"
     ]
    }
   ],
   "source": [
    "a + ((b+c) / (d+e)^2)"
   ]
  },
  {
   "cell_type": "markdown",
   "metadata": {},
   "source": [
    "### Resmi işlem öncelik sırası\n",
    "1. ‘()’ ‘{}’ ‘.’\n",
    "2. ‘++’ ‘--’\n",
    "3. ‘'’ ‘.'’ ‘^’ ‘**’ ‘.^’ ‘.**’\n",
    "4. ‘+’ ‘-’ ‘++’ ‘--’ ‘~’ ‘!’\n",
    "5. ‘*’ ‘/’ ‘\\’ ‘.\\’ ‘.*’ ‘./’\n",
    "6. ‘+’ ‘-’\n",
    "\n",
    "...\n",
    "\n",
    "‘=’\n",
    "\n",
    "[Kaynak](https://octave.org/doc/v4.2.1/Operator-Precedence.html#:~:text=Operator%20precedence%20determines%20how%20operators,(b%20*%20c)%20).)"
   ]
  },
  {
   "cell_type": "markdown",
   "metadata": {},
   "source": [
    "## Algoritmalar & Sanki-kod ('pseudo-code')\n",
    "### Ortalama sanki-kod'u\n",
    "1. a'nın değerini tanımla.\n",
    "2. b'nin değerini tanımla.\n",
    "3. c'nin değerini a ve b'nin toplamı olarak ata.\n",
    "4. c'nin değerini ikiye böl."
   ]
  },
  {
   "cell_type": "code",
   "execution_count": 35,
   "metadata": {},
   "outputs": [
    {
     "name": "stdout",
     "output_type": "stream",
     "text": [
      "a =  5\n",
      "b =  3\n",
      "c =  8\n",
      "ans =  4\n"
     ]
    }
   ],
   "source": [
    "# 1\n",
    "a = 5\n",
    "\n",
    "# 2\n",
    "b = 3\n",
    "\n",
    "# 3\n",
    "c = a + b\n",
    "\n",
    "# 4\n",
    "c / 2"
   ]
  }
 ],
 "metadata": {
  "kernelspec": {
   "display_name": "Octave",
   "language": "octave",
   "name": "octave"
  },
  "language_info": {
   "file_extension": ".m",
   "help_links": [
    {
     "text": "GNU Octave",
     "url": "https://www.gnu.org/software/octave/support.html"
    },
    {
     "text": "Octave Kernel",
     "url": "https://github.com/Calysto/octave_kernel"
    },
    {
     "text": "MetaKernel Magics",
     "url": "https://metakernel.readthedocs.io/en/latest/source/README.html"
    }
   ],
   "mimetype": "text/x-octave",
   "name": "octave",
   "version": "5.2.0"
  }
 },
 "nbformat": 4,
 "nbformat_minor": 2
}
