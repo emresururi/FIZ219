{
 "cells": [
  {
   "cell_type": "markdown",
   "metadata": {},
   "source": [
    "# FİZ219 - Bilgisayar Programlama I | 08/11/2020\n",
    "# Ödev: 1\n",
    "**Döngü ve Karar Cümleleri (I)**\n",
    "\n",
    "**Son gönderim tarihi: 15 Kasım Pazar, 23:59**"
   ]
  },
  {
   "cell_type": "markdown",
   "metadata": {},
   "source": [
    "## Asal sayı bulucu\n",
    "1 ile 300 arasındaki asal sayıları bulan program yazınız. (Derste de belirttiğim üzere: burada marifet hazır kod kullanmak değil, `for` ve `if` yeteneklerinizi sergilemek. Kodunuzun doğruluğunu `primes(300)` komutunun sonucuyla kıyaslayarak kontrol edebilirsiniz). "
   ]
  },
  {
   "cell_type": "markdown",
   "metadata": {},
   "source": [
    "# Çözüm\n",
    "Asal sayıları bulurken tekrardan kaçınmak için asal sayı buldukça bunları `asallar` dizisinin içinde topluyor, kontrol edeceğimiz sayıyı bu dizimizdeki (\"heybemizdeki\") mevcut asal sayılara bölünüyor mu diye bakıyoruz. Yani örneğin 35'in asallığını kontrol etmek için 2'ye bölünüyor mu, 3'e bölünüyor mu diye sırayla bakıyoruz ama 4'e bölünüyor mu diye bakmıyoruz. O ana kadar bulduğumuz elimizdeki asal sayılardan birine bölündüğünü gördüğümüz anda da `break` ile kesip daha fazla kontrol etmiyoruz (örneğin 35'in 5'e bölündüğünü görünce, 7'ye, 11'e de, ... bölünüyor mu diye bakmıyoruz).\n",
    "\n",
    "Programın detaylı anlatımı ve adım adım gelişimi için [geçen senenin ilgili ders notlarına](https://emresururi.github.io/FIZ219/FIZ219_EST_UygulamaNotlari_04_for_while_if.html) bakabilirsiniz."
   ]
  },
  {
   "cell_type": "code",
   "execution_count": 3,
   "metadata": {
    "scrolled": false
   },
   "outputs": [
    {
     "name": "stdout",
     "output_type": "stream",
     "text": [
      "asallar =\r\n",
      "\r\n",
      " Columns 1 through 13:\r\n",
      "\r\n",
      "     2     3     5     7    11    13    17    19    23    29    31    37    41\r\n",
      "\r\n",
      " Columns 14 through 26:\r\n",
      "\r\n",
      "    43    47    53    59    61    67    71    73    79    83    89    97   101\r\n",
      "\r\n",
      " Columns 27 through 39:\r\n",
      "\r\n",
      "   103   107   109   113   127   131   137   139   149   151   157   163   167\r\n",
      "\r\n",
      " Columns 40 through 52:\r\n",
      "\r\n",
      "   173   179   181   191   193   197   199   211   223   227   229   233   239\r\n",
      "\r\n",
      " Columns 53 through 62:\r\n",
      "\r\n",
      "   241   251   257   263   269   271   277   281   283   293\r\n",
      "\r\n"
     ]
    }
   ],
   "source": [
    "asallar = [2]; % bulduğumuz asalları bu listenin içine koyacağız\n",
    "for sayi = 3:300\n",
    "    % bu bizim asallığını kontrol etmek istediğimiz sayı\n",
    "    #disp(\"Asallığını kontrol ettiğimiz sayı:\")\n",
    "    #sayi\n",
    "    #disp(\"\") % Bir boş satır ekleyelim\n",
    "    for bolen = asallar\n",
    "        % asallar listesinin dinamik bir liste olduğunu\n",
    "        % yani mesela 4'e gelindiğinde [2 3];\n",
    "        % 9'a gelindiğinde [2 3 5 7] olduğuna dikkat edin!\n",
    "        #bolen\n",
    "        kalan = mod(sayi,bolen);\n",
    "        if(kalan == 0)\n",
    "            % Bu sayı asal olamaz.\n",
    "            #disp(\"Sayı asal değil! - döngüden burada çıkıyorum.\")\n",
    "            #disp(\"\") % Bir boş satır ekleyelim\n",
    "            break; % \"bolen = 2:sayi-1\" döngüsünü kırıyoruz\n",
    "        endif\n",
    "        #disp(\"\") % Bir boş satır ekleyelim\n",
    "    endfor\n",
    "    \n",
    "    % Buraya iki yoldan gelmiş olabiliriz:\n",
    "    %   ya sayi kalansız bolundu ve döngü break ile kırıldı\n",
    "    %     (bu durumda kalan == 0)\n",
    "    %   ya da hiçbir bolen kalansız bölemedi ve 2:sayi-1 döngüsü\n",
    "    %     normal yoldan sona erdi (bu durumda kalan != 0)\n",
    "    if(kalan != 0)\n",
    "        #disp(\"Sayı asal!\")\n",
    "        asallar = [asallar sayi];\n",
    "    endif\n",
    "    #disp(\"-------------------\")\n",
    "endfor\n",
    "asallar"
   ]
  },
  {
   "cell_type": "markdown",
   "metadata": {},
   "source": [
    "## Kök söktürücü\n",
    "Dersin başında incelediğimiz ve hazır formülle köklerini bulduğumuz  $3x^2-7x+4=0$ denklemini tekrardan ele alalım. Kök bulmak için kullanılan metotların biri, kökün, tanım itibarı ile, fonksiyonun 0 değerini aldığı $x$ değeri olduğu gerçeğidir. Eğer fonksiyon kök değerinde 0'a eşitse, bu, fonksiyonun kök değerinde x-eksenini ya yukarıdan aşağıya, ya da aşağıdan yukarıya kesmesi anlamına gelir (\"çoğu zaman\" ;). O halde belli bir $x_0$ değerinden başlayıp, ufak ufak ilerleyerek şu şekilde (ve istenen hassasiyette) kökü bulacak bir algoritma kurabiliriz:\n",
    "\n",
    "1. x0 = 0, adim_boyu = 1E-4 olarak tanımla.\n",
    "2. a = 3*x0^2-7*x0+4 olarak hesaplayıp tanımla.\n",
    "3. x1 = x0 + adim_boyu olarak tanımla.\n",
    "4. b = 3*x1^2-7*x1+4 olarak hesaplayıp tanımla.\n",
    "5. (a): a ile b'nin işaretleri birbirinden farklı ise aralarında kök var demektir.  \n",
    "   <strike>kok = (a+b)/2</strike> kok = (x0 + x1)/2 olarak yazdırıp programı bitir.  \n",
    "   (b): a ile b'nin işareti aynı ise, arasında kök olmadığını varsayıp,  \n",
    "   x0'a x1'in, a'ya b'nin değerini atayıp, 3. adıma git.\n",
    "\n",
    "Bu algoritmayı anlayıp, program haline getirin.\n",
    "\n",
    "(Bu vesileyle, bu algoritma işimizi görse de aslında epey hantal bir algoritma; ileride çok daha etkin metotlar göreceğiz kök bulma için)"
   ]
  },
  {
   "cell_type": "code",
   "execution_count": 16,
   "metadata": {},
   "outputs": [
    {
     "name": "stdout",
     "output_type": "stream",
     "text": [
      "kok =  1.0000\n",
      "---------------\n",
      "kok =  1.3333\n"
     ]
    }
   ],
   "source": [
    "x0 = 0;\n",
    "adim_boyu = 1E-4;\n",
    "a = 3*x0^2 - 7*x0 + 4;\n",
    "for i=1:1000000\n",
    "    x1 = x0 + adim_boyu;\n",
    "    b = 3*x1^2 - 7*x1 + 4;\n",
    "    if((a/b) < 0)\n",
    "        # ikisinin birbirine bölümü negatifse \n",
    "        # işaretleri farklı demektir, yani\n",
    "        # [x0,x1] aralığında kök var!\n",
    "        kok = (x0 + x1) /2\n",
    "        break;\n",
    "    endif\n",
    "    x0 = x1;\n",
    "    a = b;\n",
    "endfor\n",
    "\n",
    "disp(\"---------------\")\n",
    "\n",
    "# Diğer kökü bulmak için aynı prosedürü tekrarlayalım\n",
    "# ama bu sefer başlangıç adımını bulduğumuz kök alalım:\n",
    "x0 = kok;\n",
    "a = 3*x0^2 - 7*x0 + 4;\n",
    "for i=1:1000000\n",
    "    x1 = x0 + adim_boyu;\n",
    "    b = 3*x1^2 - 7*x1 + 4;\n",
    "    if((a/b) < 0)\n",
    "        # ikisinin birbirine bölümü negatifse \n",
    "        # işaretleri farklı demektir, yani\n",
    "        # [x0,x1] aralığında kök var!\n",
    "        kok = (x0 + x1) /2\n",
    "        break;\n",
    "    endif\n",
    "    x0 = x1;\n",
    "    a = b;\n",
    "endfor"
   ]
  },
  {
   "cell_type": "markdown",
   "metadata": {},
   "source": [
    "**Bonuslar**\n",
    "1. Katsayıları verilen herhangi bir ikinci dereceden polinomun köklerini bulsun, bulamıyorsa da bir süre sonra farkına varıp, pes etsin (örneğin $3x^2-7x+4=0$ için aramaya 2'den başlasaydık, sonsuza kadar gidecektik).\n",
    "2. Tek (/dejenere) kökü olan 2. dereceden polinomun kökünü bulabilsin (örn. $x^2-4x+4=0$ denkleminin).\n",
    "3. Gerçek kökü olmayan polinomun kökünün olmadığını anlasın (/pes etsin) (örn. $x^2-4x+5=0$)\n",
    "\n",
    "Bonusları çözerken de yukarıdaki algoritmayı geliştireceksiniz: `if(b^2-4*a*c == 0) => \"tek kök var\"`, `if(b^2-4*a*c < 0) => \"gerçek kök yok\"` gibisinden cinlikler yapmaya izin yok. ;)"
   ]
  },
  {
   "cell_type": "markdown",
   "metadata": {},
   "source": [
    "# Ödev Kuralları\n",
    "* Bu sizin 1. ödevinizdir.\n",
    "* Her gruptan sadece 1 ödev gönderilecektir, onu da grup sözcüsü gönderecektir.\n",
    "* Ödev, dersin HUZEM sayfasından gönderilecektir, lütfen e-posta ile göndermeyin.\n",
    "* Grup ödevi dışında bireysel ödev kabul edilmeyecektir.\n",
    "* Ödevlerinizi yaparken tabii ki internetten ve diğer indirekt/asenkron/her ne deniyorsa kaynaktan faydalanabilirsiniz ama grup üyeleriniz dışında ödev konusunda dışarıdan birilerine danışmanız yasaktır. Ayrıca sizin Google'da arama ve kopyalayıp/yapıştırma yeteneklerinizi değil, program yazabilme yeteneklerinizi sınadığım gerçeğini de sakın aklınızdan çıkarmayın. Faydalandığınız kaynakları mutlaka belirtin (kodunuzun sonunda yorum olarak belirtebilirsiniz).\n",
    "* Ödevler 1. ve 2. sorular için iki ayrı Octave dosyası olarak hazırlanıp, zip'lenerek tek dosya olarak gönderilecektir. Ödev dosyalarının adı `odev1_1.m` & `odev1_2.m` olacak, zip dosyasının adı ise `FIZ219_Odev1_GrupAdi.zip` biçiminde olacaktır.\n",
    "* Lütfen ödev kodlarınızın başına grubunuzun adını ve -hiçbir katkıda bulunmamış/ulaşılamamış olsa da- grup üyelerinin adlarını yorum satırı olarak yazın.\n",
    "* Ödevlerin son gönderim tarihi 15 Kasım Pazar gecesi (15/11/2020 23:59) olup, gönderim saatinden biraz (~ birkaç saat) sonrasında da gönderim mümkün olsa da, geç ödevlerden puan kırılacaktır. Bu süre de geçince ödev kabul edilmeyecektir.\n",
    "* Son gönderim tarihi geçtikten sonra ödevlerinizin değerlendirilmesi üç aşamadan oluşacaktır:\n",
    "  * Gönderilen ödevlerinizin notlandırılması\n",
    "  * Grup üyelerinin diğer grup üyelerinin katkılarını değerlendirmesi\n",
    "  * Sözlü sınav\n",
    "  \n",
    "(Değerlendirmenin matematiksel detayları dersin sayfasında bilahare (birkaç güne) açıklanacaktır)\n"
   ]
  }
 ],
 "metadata": {
  "kernelspec": {
   "display_name": "Octave",
   "language": "octave",
   "name": "octave"
  },
  "language_info": {
   "file_extension": ".m",
   "help_links": [
    {
     "text": "GNU Octave",
     "url": "https://www.gnu.org/software/octave/support.html"
    },
    {
     "text": "Octave Kernel",
     "url": "https://github.com/Calysto/octave_kernel"
    },
    {
     "text": "MetaKernel Magics",
     "url": "https://metakernel.readthedocs.io/en/latest/source/README.html"
    }
   ],
   "mimetype": "text/x-octave",
   "name": "octave",
   "version": "5.2.0"
  }
 },
 "nbformat": 4,
 "nbformat_minor": 4
}
