{
 "cells": [
  {
   "cell_type": "markdown",
   "metadata": {},
   "source": [
    "# Uygulama Notları: 6\n",
    "## FİZ219 - Bilgisayar Programlama I | 15/11/2019\n",
    "\n",
    "* 1. Ara Sınav Soru ve Çözümleri\n",
    "\n",
    "Emre S. Tasci <emre.tasci@hacettepe.edu.tr>\n"
   ]
  },
  {
   "cell_type": "markdown",
   "metadata": {},
   "source": [
    "**1. Soru:**\n",
    "\n",
    "**a)**  $\\begin{bmatrix} 1 & 2 & 3  & 4  & 5 \\\\6 & 7 & 8 & 9 & 10\\\\ 11 & 12 & 13 & 14  & 15 \\\\16 &  17 &  18 & 19 & 20\\end{bmatrix}$ ile verilen A matrisini Octave'da nasıl tanımlarsınız?"
   ]
  },
  {
   "cell_type": "code",
   "execution_count": 1,
   "metadata": {},
   "outputs": [
    {
     "name": "stdout",
     "output_type": "stream",
     "text": [
      "A =\n",
      "\n",
      "    1    2    3    4    5\n",
      "    6    7    8    9   10\n",
      "   11   12   13   14   15\n",
      "   16   17   18   19   20\n",
      "\n",
      "A =\n",
      "\n",
      "    1    2    3    4    5\n",
      "    6    7    8    9   10\n",
      "   11   12   13   14   15\n",
      "   16   17   18   19   20\n",
      "\n"
     ]
    }
   ],
   "source": [
    "A = [1:5; 6:10; 11:15; 16:20] % Güzel cevap\n",
    "\n",
    "A = [1:5\n",
    "6:10\n",
    "11:15\n",
    "16:20] % Eşdeğer güzellikte cevap"
   ]
  },
  {
   "cell_type": "code",
   "execution_count": 2,
   "metadata": {},
   "outputs": [
    {
     "name": "stdout",
     "output_type": "stream",
     "text": [
      "A =\r\n",
      "\r\n",
      "    1    2    3    4    5\r\n",
      "    6    7    8    9   10\r\n",
      "   11   12   13   14   15\r\n",
      "   16   17   18   19   20\r\n",
      "\r\n"
     ]
    }
   ],
   "source": [
    "A = [1 2 3 4 5\n",
    "6 7 8 9 10\n",
    "11 12 13 14 15\n",
    "16 17 18 19 20] % Bariz cevap"
   ]
  },
  {
   "cell_type": "code",
   "execution_count": 3,
   "metadata": {},
   "outputs": [
    {
     "name": "stdout",
     "output_type": "stream",
     "text": [
      "A =\r\n",
      "\r\n",
      "    1    2    3    4    5\r\n",
      "    6    7    8    9   10\r\n",
      "   11   12   13   14   15\r\n",
      "   16   17   18   19   20\r\n",
      "\r\n"
     ]
    }
   ],
   "source": [
    "A = [];\n",
    "for satir = 1:4\n",
    "    for sutun = 1:5\n",
    "        A(satir,sutun) = (satir-1)*5 + sutun;\n",
    "    endfor\n",
    "endfor\n",
    "A % İlginç cevap"
   ]
  },
  {
   "cell_type": "code",
   "execution_count": 4,
   "metadata": {},
   "outputs": [
    {
     "name": "stdout",
     "output_type": "stream",
     "text": [
      "A =\r\n",
      "\r\n",
      "    1    2    3    4    5\r\n",
      "    6    7    8    9   10\r\n",
      "   11   12   13   14   15\r\n",
      "   16   17   18   19   20\r\n",
      "\r\n"
     ]
    }
   ],
   "source": [
    "A = reshape(1:20,5,4)' % Henüz görmediğiniz bir cevap ;)"
   ]
  },
  {
   "cell_type": "markdown",
   "metadata": {},
   "source": [
    "**b)** Bu matrisin $\\begin{array}{cc} 8 & 9 \\\\ 18 & 19 \\end{array}$ 'luk kesimine karşılık gelen kısmını B matrisi olarak nasıl atarsınız?"
   ]
  },
  {
   "cell_type": "code",
   "execution_count": 5,
   "metadata": {},
   "outputs": [
    {
     "name": "stdout",
     "output_type": "stream",
     "text": [
      "B =\r\n",
      "\r\n",
      "    8    9\r\n",
      "   18   19\r\n",
      "\r\n"
     ]
    }
   ],
   "source": [
    "B = A([2,4],3:4) % Güzel cevap"
   ]
  },
  {
   "cell_type": "code",
   "execution_count": 6,
   "metadata": {},
   "outputs": [
    {
     "name": "stdout",
     "output_type": "stream",
     "text": [
      "B =\r\n",
      "\r\n",
      "    8    9\r\n",
      "   18   19\r\n",
      "\r\n"
     ]
    }
   ],
   "source": [
    "B = A([2,4],[3,4]) % Normal cevap"
   ]
  },
  {
   "cell_type": "code",
   "execution_count": 7,
   "metadata": {},
   "outputs": [
    {
     "name": "stdout",
     "output_type": "stream",
     "text": [
      "B =\r\n",
      "\r\n",
      "    8    9\r\n",
      "   18   19\r\n",
      "\r\n"
     ]
    }
   ],
   "source": [
    "B = [A(2,3) A(2,4); A(4,3) A(4,4)] % Zorlama cevap"
   ]
  },
  {
   "cell_type": "markdown",
   "metadata": {},
   "source": [
    "**2. Soru**\n",
    "\n",
    "Aşağıdaki satırlar sırası ile girildiğinde, her bir satırdan sonraki çıktıyı yazınız:"
   ]
  },
  {
   "cell_type": "code",
   "execution_count": 8,
   "metadata": {},
   "outputs": [
    {
     "name": "stdout",
     "output_type": "stream",
     "text": [
      "m =\r\n",
      "\r\n",
      "   1   2   3\r\n",
      "\r\n"
     ]
    }
   ],
   "source": [
    "m = 1:pi"
   ]
  },
  {
   "cell_type": "code",
   "execution_count": 9,
   "metadata": {},
   "outputs": [
    {
     "name": "stdout",
     "output_type": "stream",
     "text": [
      "ans =\r\n",
      "\r\n",
      "    2    8   18   32\r\n",
      "\r\n"
     ]
    }
   ],
   "source": [
    "[1:4].^2*2"
   ]
  },
  {
   "cell_type": "code",
   "execution_count": 10,
   "metadata": {},
   "outputs": [],
   "source": [
    "a = 2;"
   ]
  },
  {
   "cell_type": "code",
   "execution_count": 11,
   "metadata": {},
   "outputs": [],
   "source": [
    "% a = 5"
   ]
  },
  {
   "cell_type": "code",
   "execution_count": 12,
   "metadata": {},
   "outputs": [
    {
     "name": "stdout",
     "output_type": "stream",
     "text": [
      "b =  6\r\n"
     ]
    }
   ],
   "source": [
    "b = a + 4"
   ]
  },
  {
   "cell_type": "markdown",
   "metadata": {},
   "source": [
    "**3. Soru**\n",
    "\n",
    "$-\\pi\\le\\theta\\le3\\pi$ değer aralığında, en az 100 değer kullanarak $\\sin{(\\theta)}$ fonksiyonunun grafiğini çizdirin.\n",
    "\n",
    "**_Bonus:_** $\\sin{(\\theta)}$ ile birlikte aynı grafikte $\\cos{(\\theta)}$ fonksiyonunu da çizdirin.\n",
    "\n",
    "**_Bonusun bonusu:_** sin grafiğini sadece noktalı ve kırmızı; cos grafiğini ise kesikli çizgili ve mavi çizdirin."
   ]
  },
  {
   "cell_type": "code",
   "execution_count": 13,
   "metadata": {},
   "outputs": [
    {
     "data": {
      "image/png": "[encoded data removed]",
      "text/plain": [
       "<IPython.core.display.Image object>"
      ]
     },
     "metadata": {},
     "output_type": "display_data"
    }
   ],
   "source": [
    "%theta = -pi:0.125:3*pi; % Normal aralık tanımı\n",
    "theta = linspace(-pi,3*pi,100); % Güzel aralık tanımı\n",
    "sinler = sin(theta);\n",
    "plot(theta,sinler)"
   ]
  },
  {
   "cell_type": "code",
   "execution_count": 14,
   "metadata": {
    "scrolled": false
   },
   "outputs": [
    {
     "data": {
      "image/png": "[encoded data removed]",
      "text/plain": [
       "<IPython.core.display.Image object>"
      ]
     },
     "metadata": {},
     "output_type": "display_data"
    }
   ],
   "source": [
    "koslar = cos(theta);\n",
    "plot(theta,sinler,theta,koslar)"
   ]
  },
  {
   "cell_type": "code",
   "execution_count": 15,
   "metadata": {},
   "outputs": [
    {
     "data": {
      "image/png": "[encoded data removed]",
      "text/plain": [
       "<IPython.core.display.Image object>"
      ]
     },
     "metadata": {},
     "output_type": "display_data"
    }
   ],
   "source": [
    "plot(theta,sinler,\".r\",theta,koslar,\"--b\")"
   ]
  },
  {
   "cell_type": "markdown",
   "metadata": {},
   "source": [
    "**4. Soru:**\n",
    "\n",
    "Aşağıdaki program çalıştığında ekrana neler yazılacaktır?"
   ]
  },
  {
   "cell_type": "code",
   "execution_count": 16,
   "metadata": {},
   "outputs": [
    {
     "name": "stdout",
     "output_type": "stream",
     "text": [
      "y =  28\r\n"
     ]
    }
   ],
   "source": [
    "y = 0;\n",
    "k = 2;\n",
    "x = 19;\n",
    "if(k<5)\n",
    "    while(x<20)\n",
    "        x = 30 - k.^2;\n",
    "        y = x + 2;\n",
    "    endwhile\n",
    "else\n",
    "    y = 6;\n",
    "endif\n",
    "y"
   ]
  },
  {
   "cell_type": "markdown",
   "metadata": {},
   "source": [
    "**5. Soru:**\n",
    "\n",
    "[6, 30] (yani $6\\le x\\le30$) aralığındaki tam sayıları toplayan bir program yazın."
   ]
  },
  {
   "cell_type": "code",
   "execution_count": 17,
   "metadata": {},
   "outputs": [
    {
     "name": "stdout",
     "output_type": "stream",
     "text": [
      "s =  450\r\n"
     ]
    }
   ],
   "source": [
    "s = sum(6:30) % Güzel cevap"
   ]
  },
  {
   "cell_type": "code",
   "execution_count": 18,
   "metadata": {},
   "outputs": [
    {
     "name": "stdout",
     "output_type": "stream",
     "text": [
      "s =  450\r\n"
     ]
    }
   ],
   "source": [
    "s = 0;\n",
    "for x = 6:30\n",
    "    s = s + x;\n",
    "endfor\n",
    "s % Normal cevap"
   ]
  },
  {
   "cell_type": "code",
   "execution_count": 19,
   "metadata": {},
   "outputs": [
    {
     "name": "stdout",
     "output_type": "stream",
     "text": [
      "s =  450\r\n"
     ]
    }
   ],
   "source": [
    "s = 6+7+8+9+10+11+12+13+14+15+16+17+18+19+20+21+22+23+24+25+...\n",
    "26+27+28+29+30 % Korkunç cevap (!!!)"
   ]
  },
  {
   "cell_type": "markdown",
   "metadata": {},
   "source": [
    "**Bonus Soru:**\n",
    "\n",
    "$x_1 = 0$ ve $x_2 = 1$ ile başlayıp, sonraki elemanları $x_i = x_{i-2} + x_{i-1}$ şeklinde hesaplanan (0, 1, 1, 2, 3, 5, 8, 13, ...) sayı dizisine _Fibonacci dizisi_ denmekte olup, doğada bu örüntü (_pattern_) sık sık karşımıza çıkar. İlk 100 Fibonacci sayısını hesaplayıp, onları `fibonacci` adındaki bir listede toplayan bir program yazın."
   ]
  },
  {
   "cell_type": "code",
   "execution_count": 20,
   "metadata": {},
   "outputs": [
    {
     "name": "stdout",
     "output_type": "stream",
     "text": [
      "ans =\n",
      "\n",
      "    0    1    1    2    3    5    8   13   21   34\n",
      "\n",
      "ans =\n",
      "\n",
      "   8.3621e+19   1.3530e+20   2.1892e+20\n",
      "\n"
     ]
    }
   ],
   "source": [
    "fibonacci = [0 1];\n",
    "for i=3:100\n",
    "    fibonacci(i) = fibonacci(i-2) + fibonacci(i-1);\n",
    "endfor\n",
    "fibonacci(1:10) % ilk 10 terim\n",
    "fibonacci(98:100) % son 3 terim"
   ]
  },
  {
   "cell_type": "markdown",
   "metadata": {},
   "source": [
    "İlerki derslerde fonksiyonları görünce, bu diziyi çok daha ince, güzel ve zarif bir yolla (\"tekrarlı/rekürsif\") hesaplamayı öğreneceğiz. ;)"
   ]
  }
 ],
 "metadata": {
  "kernelspec": {
   "display_name": "Octave",
   "language": "octave",
   "name": "octave"
  },
  "language_info": {
   "file_extension": ".m",
   "help_links": [
    {
     "text": "GNU Octave",
     "url": "https://www.gnu.org/software/octave/support.html"
    },
    {
     "text": "Octave Kernel",
     "url": "https://github.com/Calysto/octave_kernel"
    },
    {
     "text": "MetaKernel Magics",
     "url": "https://metakernel.readthedocs.io/en/latest/source/README.html"
    }
   ],
   "mimetype": "text/x-octave",
   "name": "octave",
   "version": "4.0.0"
  }
 },
 "nbformat": 4,
 "nbformat_minor": 2
}
