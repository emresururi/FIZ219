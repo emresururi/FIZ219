{
 "cells": [
  {
   "cell_type": "markdown",
   "metadata": {},
   "source": [
    "# Uygulama Notları: 5\n",
    "## FİZ219 - Bilgisayar Programlama I | 10/11/2019\n",
    "\n",
    "* Döngü kullanarak, temel işlemlerle en küçük kareler yöntemi\n",
    "\n",
    "Emre S. Tasci <emre.tasci@hacettepe.edu.tr>\n"
   ]
  },
  {
   "cell_type": "markdown",
   "metadata": {},
   "source": [
    "Bir deneyde, kontrol parametremiz olan x'lere karşı y sonuçlarını şu şekilde elde etmiş olalım:"
   ]
  },
  {
   "cell_type": "code",
   "execution_count": 1,
   "metadata": {},
   "outputs": [
    {
     "name": "stdout",
     "output_type": "stream",
     "text": [
      "veriler =\r\n",
      "\r\n",
      "    1.0000    4.9142\r\n",
      "    2.0000    7.1201\r\n",
      "    3.0000    8.8456\r\n",
      "    4.0000   10.8113\r\n",
      "    5.0000   13.2231\r\n",
      "\r\n"
     ]
    }
   ],
   "source": [
    "veriler = [1 4.9142    \n",
    "2 7.1201    \n",
    "3 8.8456   \n",
    "4 10.8113   \n",
    "5 13.2231] % ilk sütun x, ikinci sütun y değerleri"
   ]
  },
  {
   "cell_type": "code",
   "execution_count": 2,
   "metadata": {},
   "outputs": [
    {
     "data": {
      "image/png": "[encoded data removed]",
      "text/plain": [
       "<IPython.core.display.Image object>"
      ]
     },
     "metadata": {},
     "output_type": "display_data"
    }
   ],
   "source": [
    "% Grafiğini çizdirirsek:\n",
    "plot(veriler(:,1),veriler(:,2),\"bo\")"
   ]
  },
  {
   "cell_type": "markdown",
   "metadata": {},
   "source": [
    "Epey doğrusal görünüyorlar. Amacımız bu noktalara en yakın geçen doğru denklemini hesaplamak. Doğru denklemi y=mx+n olduğundan, yapmamız gereken eğimi veren \"m\" değeri ile, doğrunun y-eksenin kestiği \"n\" değerini bulabilmek. \n",
    "\n",
    "_\"3. Uygulama Notları\"nda, for döngüsünü henüz öğrenmemiş olduğumuzdan dolayı, belirli sayıdaki veri için tek tek hesap yapmıştık, türevleri alırken de doğrudan elle alıp, o şekilde bulduğumuzdan ötürü, bir başka veri setine uyarlamak mümkün olmuyordu._"
   ]
  },
  {
   "cell_type": "markdown",
   "metadata": {},
   "source": [
    "## En küçük kareler yöntemi\n",
    "Bu yöntemde elimizde bir y=mx+n doğrusunun olduğu varsayımıyla başlarız. Bu doğrunun elimizdeki x değerlerine karşılık gelen değerlerinin (bu değerleri \"t\" ile gösterelim) deneyde bulduğumuz y değerleri arasındaki mesafeleri hesaplayıp, bu mesafeleri mümkün oldukça küçük yapacak m ve n değerlerini bulmaya çalışırız.\n",
    "\n",
    "Elimizdeki veriden x ve y değerlerini ayrı listelere alalım:"
   ]
  },
  {
   "cell_type": "code",
   "execution_count": 3,
   "metadata": {},
   "outputs": [
    {
     "name": "stdout",
     "output_type": "stream",
     "text": [
      "veriler =\n",
      "\n",
      "    1.0000    4.9142\n",
      "    2.0000    7.1201\n",
      "    3.0000    8.8456\n",
      "    4.0000   10.8113\n",
      "    5.0000   13.2231\n",
      "\n",
      "x =\n",
      "\n",
      "   1\n",
      "   2\n",
      "   3\n",
      "   4\n",
      "   5\n",
      "\n",
      "y =\n",
      "\n",
      "    4.9142\n",
      "    7.1201\n",
      "    8.8456\n",
      "   10.8113\n",
      "   13.2231\n",
      "\n"
     ]
    }
   ],
   "source": [
    "veriler = [1 4.9142    \n",
    "2 7.1201    \n",
    "3 8.8456   \n",
    "4 10.8113   \n",
    "5 13.2231] % ilk sütun x, ikinci sütun y değerleri\n",
    "x = veriler(:,1) % Tüm satırlar (\":\"), 1. sütun\n",
    "y = veriler(:,2) % Tüm satırlar (\":\"), 2. sütun"
   ]
  },
  {
   "cell_type": "markdown",
   "metadata": {},
   "source": [
    "Octave'da doğrudan sembolik hesap yapılmadığından (yani \"m\" ve \"n\" olarak bilinmeyenleri denklemlere sokamayacağımızdan), işlemlerimizi \"kağıt\" üzerinde açalım:\n",
    "\n",
    "Elimizde 5 adet veri ikilisi var. Bu ikililerin her birini x(i) ve y(i) ile gösterelim.\n",
    "\n",
    "Örneğin: \n",
    "\n",
    "    x(4) = 4.0\n",
    "    y(4) = 10.8113\n",
    "    \n",
    "Doğrunun denkleminde x(i)ye karşılık gelen değeri t(i) ile gösterecek olursak, $t_i = mx_i+n$ olur (örneğin, t(4) = m*(4.0) + n).\n",
    "\n",
    "Doğru denkleminden bulduğumuz değer ile deneyde bulduğumuz değer arasındaki mesafe:\n",
    "\n",
    "\\begin{equation*}\n",
    "\\mid{t_i - y_i}\\mid = \\sqrt{{(t_i - y_i)}^2}\n",
    "\\end{equation*}\n",
    "\n",
    "olarak tanımlanır. Biz bu değerin kendisinden çok, bu değeri minimum yapmakla, yani doğruyu noktaya mümkün olduğunca yakın geçirmekle ilgilendiğimizden dolayı hem işlemden tasarruf sağlamak (karenin kökü yerine sadece kare alma işlemi), hem de minimize ederken türev almak gerekliliğinden dolayı (mutlak değer fonksiyonunun 0 noktasında türevi tanımlı değildir) aralarındaki mesafenin karesini minimize edeceğiz (mesafenin karesi minimize olduğunda, mesafenin kendisi de minimize olmuş olur ne de olsa).\n",
    "\n",
    "Bu durumda, doğrunun üzerindeki nokta ile deneyde okunan değerin aralarındaki farkın karesine \"s\" diyelim:\n",
    "\n",
    "\\begin{equation*}\n",
    "s_i = (y_i - (m x_i + n))^2\n",
    "\\end{equation*}\n",
    "\n",
    "ve parentezi açınca da:\n",
    "\n",
    "\\begin{align}\n",
    "s_i &= (y_i - (m x_i + n))^2 = y_i^2 - 2 y_i(mx_i+n) + (mx_i+n)^2\\\\\n",
    "s_i &= y_i^2 - 2m x_i y_i -2n y_i +m^2 x_i^2 +2 m n x_i + n^2\n",
    "\\end{align}\n",
    "\n",
    "Toplam hata her bir veri çiftinden gelen hataların (farkların) toplamına eşit olacak ($S = \\sum_{i=1}^N s_i$). \n",
    "\n",
    "Toplam hatayı denklem cinsinden yazacak olursak:\n",
    "\n",
    "\\begin{align}\n",
    "S = \\sum_{i=1}^N s_i = \\sum_{i=1}^N (y_i^2 - 2m x_i y_i -2n y_i +m^2 x_i^2 +2 m n x_i + n^2)\n",
    "\\end{align}\n",
    "\n",
    "Toplam hatanın iki tane parametresi (ve bizim için bilinmeyeni) var: m & n. Denklemi minimize edecek m & n değerlerini bulabilmek için her birine göre türev alıp, sıfıra eşitleriz:\n",
    "\n",
    "\\begin{align}\n",
    "\\frac{\\partial S}{\\partial m} &= \\sum_{i=1}^N \\frac{\\partial s_i}{\\partial m} = \\sum_{i=1}^N (-2 x_i y_i + 2 m x_i^2 + 2 n x_i) = 0\\\\\n",
    "\\frac{\\partial S}{\\partial n} &= \\sum_{i=1}^N \\frac{\\partial s_i}{\\partial n} = \\sum_{i=1}^N (-2 y_i + 2 m x_i + 2 n) = 0\n",
    "\\end{align}\n",
    "\n",
    "işimiz bitmedi ama az kaldı... 8) \n",
    "\n",
    "Elimizde iki adet, iki bilinmeyenli eşitlik var (hataların m ve n'ye göre türevleri ve onların sıfıra eşit oluşları). Denklemleri m ve n'nin çarpanları olacak şekilde düzenlersek:\n",
    "\n",
    "\\begin{align}\n",
    "(\\sum_{i=1}^N 2x_i^2)m + (\\sum_{i=1}^N 2x_i)n &= (\\sum_{i=1}^N  2x_i y_i)\\\\\n",
    "(\\sum_{i=1}^N 2x_i)m + (\\sum_{i=1}^N 2)n &= (\\sum_{i=1}^N 2 y_i)\n",
    "\\end{align}\n",
    "\n",
    "Parantez içindeki bütün terimleri x(i) ve y(i)leri bildiğimizden dolayı döngü üzerinden hesaplatabiliriz. \n",
    "\n",
    "Kolay anlaşılması açısından:\n",
    "\n",
    "\\begin{equation*}\n",
    "A_{11} = \\sum_{i=1}^N 2x_i^2 ,\\quad A_{12} = A_{21} = \\sum_{i=1}^N 2x_i,\\quad A_{22} = \\sum_{i=1}^N 2\\\\\n",
    "B_{11} = \\sum_{i=1}^N  2x_i y_i,\\quad B_{12} = \\sum_{i=1}^N 2 y_i\n",
    "\\end{equation*}\n",
    "\n",
    "dersek, denklemlerimiz:\n",
    "\n",
    "\\begin{equation*}\n",
    "A_{11}m + A_{12}n = B_{11}\\\\\n",
    "A_{12}m + A_{22}n = B_{12}\n",
    "\\end{equation*}\n",
    "\n",
    "halini alırlar. İkinci denklemde n'yi m cinsinden yazarsak:\n",
    "\n",
    "\\begin{equation*}\n",
    "n = \\frac{B_{12} - A_{12}m }{A_{22}}\n",
    "\\end{equation*}\n",
    "\n",
    "bulunur; bunu da götürüp birinci denklemde n gördüğümüz yere yazdığımızda m'yi:\n",
    "\n",
    "\\begin{equation*}\n",
    "A_{11}m + A_{12} \\left(\\frac{B_{12} - A_{12}m }{A_{22}} \\right)  = B_{11}\\\\\n",
    "A_{11}m + \\frac{A_{12} B_{12}}{A_{22}} - \\frac{A_{12}^2 m}{A_{22}} = B_{11}\\\\\n",
    "\\left(A_{11} - \\frac{A_{12}^2 }{A_{22}}\\right)m + \\frac{A_{12} B_{12}}{A_{22}}  = B_{11}\\\\\n",
    "\\Rightarrow m = \\frac{\\left(B_{11} - \\frac{A_{12} B_{12}}{A_{22}}\\right)}{\\left(A_{11} - \\frac{A_{12}^2}{A_{22}}\\right)}\n",
    "\\end{equation*}\n",
    "\n",
    "olarak buluruz. \n",
    "\n",
    "Artık m'yi bildiğimize göre, n'nin tanımında yerine koyarak, n'yi de elde ederiz:\n",
    "\n",
    "\\begin{equation*}\n",
    "n = \\frac{B_{12} - A_{12}m }{A_{22}}\n",
    "\\end{equation*}\n",
    "\n",
    "Denklemlerin çıkarımı biraz karışık gelse bile, önemli olan sonuçlar, çıkarımlardan başınız ağrıdıysa, sadece son A ile B'lerin tanımları ve m ile n'in onlar cinsinden eşitliklerini bilin. Zira formüller artık elimizde olduğundan, birazdan aşağıda göreceğiniz gibi, her şeyi kolayca hesaplayacağız! 8)"
   ]
  },
  {
   "cell_type": "code",
   "execution_count": 3,
   "metadata": {},
   "outputs": [
    {
     "name": "stdout",
     "output_type": "stream",
     "text": [
      "veriler =\n",
      "\n",
      "    1.0000    4.9142\n",
      "    2.0000    7.1201\n",
      "    3.0000    8.8456\n",
      "    4.0000   10.8113\n",
      "    5.0000   13.2231\n",
      "\n",
      "m =  2.0309\n",
      "n =  2.8902\n"
     ]
    },
    {
     "data": {
      "image/png": "[encoded data removed]",
      "text/plain": [
       "<IPython.core.display.Image object>"
      ]
     },
     "metadata": {},
     "output_type": "display_data"
    }
   ],
   "source": [
    "veriler = [1 4.9142    \n",
    "2 7.1201    \n",
    "3 8.8456   \n",
    "4 10.8113   \n",
    "5 13.2231] % ilk sütun x, ikinci sütun y değerleri\n",
    "\n",
    "x = veriler(:,1); % Tüm satırlar (\":\"), 1. sütun\n",
    "y = veriler(:,2); % Tüm satırlar (\":\"), 2. sütun\n",
    "A11 = A12 = A22 = B11 = B12 = 0; % Hesaplanacak değerler\n",
    "N = rows(x); % Kaç adet verimiz olduğu\n",
    "for i = 1:N\n",
    "    A11 = A11 + 2*x(i)^2;\n",
    "    A12 = A12 + 2*x(i);\n",
    "    A22 = A22 + 2;\n",
    "    B11 = B11 + 2*x(i)*y(i);\n",
    "    B12 = B12 + 2*y(i);\n",
    "endfor\n",
    "\n",
    "% Toplamlar hesaplandı bile! 8)\n",
    "m = (B11 - (A12 * B12 / A22))  / (A11 - (A12^2 / A22))\n",
    "n = (B12 - A12 * m) / A22 \n",
    "\n",
    "% Artık verilerimize en yakın geçen \n",
    "% doğrunun denklemi elimizde olduğuna göre\n",
    "% hem doğruyu, hem de deney verilerini birlikte\n",
    "% çizdirelim\n",
    "\n",
    "xx = linspace(0,6,100);\n",
    "tt = m.*xx + n;\n",
    "plot(xx,tt,x,y,\"ro\")"
   ]
  },
  {
   "cell_type": "markdown",
   "metadata": {},
   "source": [
    "## Son birkaç not:\n",
    "* Yukarıda en son yazıp çalıştırdığımız kod, diğer verilerle de çalışacaktır (tek yapmanız gereken `veriler` matrisini kendi deney sonuçlarınıza göre değiştirmeniz).\n",
    "\n",
    "* Doğruyu çizdirmek için yatay aralığı [0,6] aldım (`xx = linspace(0,6,100);` -- çünkü elimizdeki en büyük x değeri 5'ti). Diyelim ki sizin deneyinizde x değerleriniz 15 ile 38 arasında olsun. Bu durumda en uygun aralık bence [14,39] olur yani `xx = linspace(14,39,100);` yapmak lazım gelir, ama her seferinde bunu tek tek değiştirmek yerine (\"deneyde kullandığımız en küçük x değeri\" - 1) ile (\"deneyde kullandığımız en büyük x değeri\" + 1) şeklinde otomatik ayarlamak için: `xx = linspace(min(x)-1,max(x)+1,100);` işimizi fazlasıyla görecektir.\n",
    "\n",
    "* $\\left(\\sum_{i=1}^N 2\\right) = 2N$ veya $\\left(\\sum_{i=1}^N 2x_i\\right) = 2\\left(\\sum_{i=1}^N x_i\\right)$ olduğunu ben de biliyorum, gelin görün ki, her şeyi en açık haliyle göstermek istedim. ;)\n",
    "\n",
    "* Normalde, N bilinmeyenli N denklemi bu şekilde kafa göz yara yara / göstere göstere çözmüyoruz. Bu işi en optimize şekliyle çözmek için yazılmış [komutlar](http://octave.org/doc/interpreter/Basic-Matrix-Functions.html#Basic-Matrix-Functions) (\"A * x = b\" şeklindeki lineer denklem setini çözmek için linsolve, 'A\\b' operatörü, haydi hiçbiri olmadı, körlemesine inv(A)\\*b) ve epey sağlam paketler (örn. [LAPACK](http://www.netlib.org/lapack/)) var, ama temelden çalıştığımız için açık açık çözdüm bu seferlik. 8)\n",
    "\n",
    "* Lineer denklem çözmeyi boşverin, elinizdeki fonksiyonu (bizim bu örneğimizde hatalar toplamı `S` fonksiyonunu) minimize edecek değerleri doğrudan hesaplayan ve yine süper optimize komutlar da mevcut (misal: [fminunc ve arkadaşları](https://octave.org/doc/v4.0.1/Minimizers.html)).\n",
    "\n",
    "_Yol uzun, hayat güzel, kod yazmak zevkli, önümüz bahar... 8)_"
   ]
  }
 ],
 "metadata": {
  "kernelspec": {
   "display_name": "Octave",
   "language": "octave",
   "name": "octave"
  },
  "language_info": {
   "file_extension": ".m",
   "help_links": [
    {
     "text": "GNU Octave",
     "url": "https://www.gnu.org/software/octave/support.html"
    },
    {
     "text": "Octave Kernel",
     "url": "https://github.com/Calysto/octave_kernel"
    },
    {
     "text": "MetaKernel Magics",
     "url": "https://metakernel.readthedocs.io/en/latest/source/README.html"
    }
   ],
   "mimetype": "text/x-octave",
   "name": "octave",
   "version": "5.1.0"
  }
 },
 "nbformat": 4,
 "nbformat_minor": 2
}
